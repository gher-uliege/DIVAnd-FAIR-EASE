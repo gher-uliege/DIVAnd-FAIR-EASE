{
 "cells": [
  {
   "cell_type": "markdown",
   "id": "613137dc-1a1d-473a-870a-b29046c41c11",
   "metadata": {},
   "source": [
    "# Testing the different formats..."
   ]
  },
  {
   "cell_type": "code",
   "execution_count": 1,
   "id": "8bd5765e-f620-436b-bd86-cc9a1ff569af",
   "metadata": {},
   "outputs": [
    {
     "name": "stderr",
     "output_type": "stream",
     "text": [
      "\u001b[36m\u001b[1m[ \u001b[22m\u001b[39m\u001b[36m\u001b[1mInfo: \u001b[22m\u001b[39mPrecompiling Parquet2 [98572fba-bba0-415d-956f-fa77e587d26d] \n",
      "\u001b[36m\u001b[1m[ \u001b[22m\u001b[39m\u001b[36m\u001b[1mInfo: \u001b[22m\u001b[39mPrecompiling CSV [336ed68f-0bac-5ca0-87d4-7b16caf5d00b] (cache misses: wrong dep version loaded (6), incompatible header (12))\n"
     ]
    },
    {
     "data": {
      "text/plain": [
       "1-element Vector{Function}:\n",
       " format_current_cell (generic function with 1 method)"
      ]
     },
     "execution_count": 1,
     "metadata": {},
     "output_type": "execute_result"
    }
   ],
   "source": [
    "using HTTP\n",
    "using JSON3\n",
    "using Dates\n",
    "using NCDatasets\n",
    "using JupyterFormatter\n",
    "using DIVAnd\n",
    "using Parquet2\n",
    "using Tables\n",
    "using DataFrames\n",
    "using CSV\n",
    "using BenchmarkTools\n",
    "include(\"./DIVAndFairEase.jl\")\n",
    "enable_autoformat()"
   ]
  },
  {
   "cell_type": "markdown",
   "id": "ce7ceb3c-7ec8-461c-8947-78c2636c1a51",
   "metadata": {},
   "source": [
    "<div class=\"alert alert-block alert-info\">\n",
    "Here the API token is stored as an environment variable.<br>\n",
    "It is also possible to store it in a local file.\n",
    "</div>"
   ]
  },
  {
   "cell_type": "code",
   "execution_count": 2,
   "id": "ca170d1d-1206-4673-8b4d-570a5abca366",
   "metadata": {},
   "outputs": [],
   "source": [
    "token = ENV[\"beaconAPItoken\"];"
   ]
  },
  {
   "cell_type": "markdown",
   "id": "5cbe991a-702e-4ed3-8eab-9ff0deeeef1b",
   "metadata": {},
   "source": [
    "## Configuration\n",
    "Set the region and the variable of interest.   \n",
    "The variable `datasourcelist` contains the `Beacon` instances that will be used for the data queries."
   ]
  },
  {
   "cell_type": "code",
   "execution_count": 3,
   "id": "27b6bb8c-6aa7-40bf-a2d9-aafda3ce9846",
   "metadata": {},
   "outputs": [
    {
     "data": {
      "text/plain": [
       "5-element Vector{String}:\n",
       " \"Euro-Argo\"\n",
       " \"CORA Profile\"\n",
       " \"CORA Timeseries\"\n",
       " \"World Ocean Database\"\n",
       " \"SeaDataNet CDI TS\""
      ]
     },
     "execution_count": 3,
     "metadata": {},
     "output_type": "execute_result"
    }
   ],
   "source": [
    "regionname = \"North_Adriatic\"\n",
    "varname = \"sea_water_temperature\"\n",
    "varname = \"sea_water_salinity\"\n",
    "doplot = true\n",
    "\n",
    "datasourcelist = [\n",
    "    \"Euro-Argo\",\n",
    "    \"CORA Profile\",\n",
    "    \"CORA Timeseries\",\n",
    "    \"World Ocean Database\",\n",
    "    \"SeaDataNet CDI TS\",\n",
    "]"
   ]
  },
  {
   "cell_type": "code",
   "execution_count": 4,
   "id": "26e37758-d741-4c7c-b14c-ec0834c2def2",
   "metadata": {},
   "outputs": [],
   "source": [
    "datadir = joinpath(\"../data/\", regionname)\n",
    "outputdir = joinpath(\"../output/\", regionname)\n",
    "figdir = joinpath(\"../figures/\", regionname)\n",
    "mkpath.([datadir, outputdir, figdir]);"
   ]
  },
  {
   "cell_type": "markdown",
   "id": "83fc2928-9bbd-48a2-a26a-3ff721cd27ef",
   "metadata": {},
   "source": [
    "### Spatial extent\n",
    "The bounding box is set according to the region name."
   ]
  },
  {
   "cell_type": "code",
   "execution_count": 5,
   "id": "4f8e74c4-6cba-446b-a641-6fc5ae6db48e",
   "metadata": {},
   "outputs": [],
   "source": [
    "domaininfo = Dict(\n",
    "    \"North_Adriatic\" => [12.0, 18.0, 43.0, 46.0],\n",
    "    \"Arctic_region\" => [-44.25, 70.0, 56.5, 83.0],\n",
    "    \"North_East_Atlantic\" => [-42.0, -0.1, 24.9, 48.0],\n",
    "    \"Baltic_Sea\" => [9.4, 30.9, 53.0, 65.9],\n",
    "    \"Black_Sea\" => [26.5, 41.95, 40.0, 47.95],\n",
    "    \"Mediterranean_Sea\" => [-7.0, 36.375, 30.0, 45.875],\n",
    "    \"North_Sea\" => [-100.0, 50.0, -80.0, 80.0],\n",
    "    \"Canary_Islands\" => [-20.0, -9.0, 25.0, 31.5],\n",
    "    \"World_Ocean\" => [-180.0, 180.0, -90.0, 90.0],\n",
    ");"
   ]
  },
  {
   "cell_type": "markdown",
   "id": "1dcc6a6b-45c4-49f7-904e-69017378b43f",
   "metadata": {},
   "source": [
    "### Depth and time ranges"
   ]
  },
  {
   "cell_type": "code",
   "execution_count": 6,
   "id": "b407ffae-9d54-4eb0-95ef-c98b6bc8a051",
   "metadata": {},
   "outputs": [
    {
     "data": {
      "text/plain": [
       "2024-12-31T00:00:00"
      ]
     },
     "execution_count": 6,
     "metadata": {},
     "output_type": "execute_result"
    }
   ],
   "source": [
    "mindepth = 0.0 #Minimum water depth\n",
    "maxdepth = 1000.0 #Maximum water depth\n",
    "datestart = DateTime(1960, 1, 1)\n",
    "dateend = DateTime(2024, 12, 31)"
   ]
  },
  {
   "cell_type": "markdown",
   "id": "91258223-0755-4576-accb-8dc5212f1bde",
   "metadata": {},
   "source": [
    "### Variable units"
   ]
  },
  {
   "cell_type": "code",
   "execution_count": 7,
   "id": "14068b57-1ed9-4e2a-a8ef-f9ad5bdb03a4",
   "metadata": {},
   "outputs": [],
   "source": [
    "variableunits = Dict(\n",
    "    \"sea_water_temperature\" => \"degree_Celsius\",\n",
    "    \"sea_water_salinity\" => \"psu\",\n",
    "    \"mass_concentration_of_chlorophyll_a_in_sea_water\" => \"mg/m3\",\n",
    "    \"moles_of_nitrate_per_unit_mass_in_sea_water\" => \"micromole/kg\",\n",
    ");"
   ]
  },
  {
   "cell_type": "markdown",
   "id": "9c777956-b632-4cca-84f2-dcfe6dcf0cdb",
   "metadata": {},
   "source": [
    "## Data query\n",
    "Different data queries will be performed to get the observations in the selected region.\n",
    "### Health check [optional]\n",
    "One can check of the `Beacon` instances are up and running."
   ]
  },
  {
   "cell_type": "code",
   "execution_count": 8,
   "id": "0d2ed8d7-dd94-459b-b923-e71396551cb1",
   "metadata": {},
   "outputs": [
    {
     "name": "stderr",
     "output_type": "stream",
     "text": [
      "\u001b[36m\u001b[1m[ \u001b[22m\u001b[39m\u001b[36m\u001b[1mInfo: \u001b[22m\u001b[39mEuro-Argo Beacon instance is working\n",
      "\u001b[36m\u001b[1m[ \u001b[22m\u001b[39m\u001b[36m\u001b[1mInfo: \u001b[22m\u001b[39mCORA Profile Beacon instance is working\n",
      "\u001b[36m\u001b[1m[ \u001b[22m\u001b[39m\u001b[36m\u001b[1mInfo: \u001b[22m\u001b[39mCORA Timeseries Beacon instance is working\n",
      "\u001b[36m\u001b[1m[ \u001b[22m\u001b[39m\u001b[36m\u001b[1mInfo: \u001b[22m\u001b[39mWorld Ocean Database Beacon instance is working\n",
      "\u001b[36m\u001b[1m[ \u001b[22m\u001b[39m\u001b[36m\u001b[1mInfo: \u001b[22m\u001b[39mSeaDataNet CDI TS Beacon instance is working\n"
     ]
    }
   ],
   "source": [
    "for datasource in datasourcelist\n",
    "    r = HTTP.get(\n",
    "        joinpath(DIVAndFairEase.beacon_services[datasource], \"api/health\"),\n",
    "        [\"Authorization\" => \"Bearer $(token)\"],\n",
    "    )\n",
    "    if r.status == 200\n",
    "        @info(\"$(datasource) Beacon instance is working\")\n",
    "    else\n",
    "        @warn(\"$(datasource) Beacon is down or not reachable.\")\n",
    "    end\n",
    "end"
   ]
  },
  {
   "cell_type": "markdown",
   "id": "cdc005e3-eb9d-4957-bb0c-accd2fd655a3",
   "metadata": {},
   "source": [
    "### Prepare queries and download data\n",
    "The observations are saved as netCDF files, so that they can be later re-used.\n",
    "<div class=\"alert alert-block alert-info\">\n",
    "It is also possible to get the data in <code>Parquet</code> format.\n",
    "</div>"
   ]
  },
  {
   "cell_type": "code",
   "execution_count": 9,
   "id": "54f2cc01-2aa9-4e39-a7ed-be0ffe8a4b38",
   "metadata": {},
   "outputs": [
    {
     "name": "stderr",
     "output_type": "stream",
     "text": [
      "\u001b[36m\u001b[1m[ \u001b[22m\u001b[39m\u001b[36m\u001b[1mInfo: \u001b[22m\u001b[39mWorking with file format parquet\n",
      "\u001b[36m\u001b[1m┌ \u001b[22m\u001b[39m\u001b[36m\u001b[1mInfo: \u001b[22m\u001b[39mData will be written in file:\n",
      "\u001b[36m\u001b[1m└ \u001b[22m\u001b[39m../data/North_Adriatic/North_Adriatic_Euro-Argo_sea_water_salinity_19600101-20241231_0-1000m.parquet\n",
      "\u001b[36m\u001b[1m[ \u001b[22m\u001b[39m\u001b[36m\u001b[1mInfo: \u001b[22m\u001b[39mFile already downloaded\n",
      "\u001b[36m\u001b[1m[ \u001b[22m\u001b[39m\u001b[36m\u001b[1mInfo: \u001b[22m\u001b[39mFile size: 0.1M\n",
      "\u001b[36m\u001b[1m[ \u001b[22m\u001b[39m\u001b[36m\u001b[1mInfo: \u001b[22m\u001b[39mWorking with file format netcdf\n",
      "\u001b[36m\u001b[1m┌ \u001b[22m\u001b[39m\u001b[36m\u001b[1mInfo: \u001b[22m\u001b[39mData will be written in file:\n",
      "\u001b[36m\u001b[1m└ \u001b[22m\u001b[39m../data/North_Adriatic/North_Adriatic_Euro-Argo_sea_water_salinity_19600101-20241231_0-1000m.netcdf\n",
      "\u001b[36m\u001b[1m[ \u001b[22m\u001b[39m\u001b[36m\u001b[1mInfo: \u001b[22m\u001b[39mFile already downloaded\n",
      "\u001b[36m\u001b[1m[ \u001b[22m\u001b[39m\u001b[36m\u001b[1mInfo: \u001b[22m\u001b[39mFile size: 3.0M\n",
      "\u001b[36m\u001b[1m[ \u001b[22m\u001b[39m\u001b[36m\u001b[1mInfo: \u001b[22m\u001b[39mWorking with file format csv\n",
      "\u001b[36m\u001b[1m┌ \u001b[22m\u001b[39m\u001b[36m\u001b[1mInfo: \u001b[22m\u001b[39mData will be written in file:\n",
      "\u001b[36m\u001b[1m└ \u001b[22m\u001b[39m../data/North_Adriatic/North_Adriatic_Euro-Argo_sea_water_salinity_19600101-20241231_0-1000m.csv\n",
      "\u001b[36m\u001b[1m[ \u001b[22m\u001b[39m\u001b[36m\u001b[1mInfo: \u001b[22m\u001b[39mFile already downloaded\n",
      "\u001b[36m\u001b[1m[ \u001b[22m\u001b[39m\u001b[36m\u001b[1mInfo: \u001b[22m\u001b[39mFile size: 2.4M\n",
      "\u001b[36m\u001b[1m[ \u001b[22m\u001b[39m\u001b[36m\u001b[1mInfo: \u001b[22m\u001b[39mWorking with file format ipc\n",
      "\u001b[36m\u001b[1m┌ \u001b[22m\u001b[39m\u001b[36m\u001b[1mInfo: \u001b[22m\u001b[39mData will be written in file:\n",
      "\u001b[36m\u001b[1m└ \u001b[22m\u001b[39m../data/North_Adriatic/North_Adriatic_Euro-Argo_sea_water_salinity_19600101-20241231_0-1000m.ipc\n",
      "\u001b[36m\u001b[1m[ \u001b[22m\u001b[39m\u001b[36m\u001b[1mInfo: \u001b[22m\u001b[39mFile already downloaded\n",
      "\u001b[36m\u001b[1m[ \u001b[22m\u001b[39m\u001b[36m\u001b[1mInfo: \u001b[22m\u001b[39mFile size: 0.3M\n"
     ]
    }
   ],
   "source": [
    "minlon = domaininfo[regionname][1]\n",
    "maxlon = domaininfo[regionname][2]\n",
    "minlat = domaininfo[regionname][3]\n",
    "maxlat = domaininfo[regionname][4]\n",
    "\n",
    "paramname = Dict(\n",
    "    \"World Ocean Database\" => \"Temperature\",\n",
    "    \"EMODnet Chemistry\" => \"ITS_90_water_temperature\",\n",
    "    \"SeaDataNet CDI TS\" => \"TEMPPR01\",\n",
    "    \"Euro-Argo\" => \"TEMP\",\n",
    "    \"CORA Profile\" => \"TEMP\",\n",
    "    \"CORA Timeseries\" => \"TEMP\",\n",
    ")\n",
    "\n",
    "vmin = 0.0\n",
    "vmax = 40.0\n",
    "datasource = datasourcelist[1]\n",
    "for dataformat in [\"parquet\", \"netcdf\", \"csv\", \"ipc\"]\n",
    "\n",
    "    @info(\"Working with file format $(dataformat)\")\n",
    "\n",
    "    parameter1 = \"TEMP\"\n",
    "\n",
    "\n",
    "    datasource_name = replace(datasource, \" \" => \"-\")\n",
    "\n",
    "    # Build query\n",
    "    query = DIVAndFairEase.prepare_query(\n",
    "        datasource,\n",
    "        \"TEMP\",\n",
    "        Dates.Date(datestart),\n",
    "        Dates.Date(dateend),\n",
    "        mindepth,\n",
    "        maxdepth,\n",
    "        minlon,\n",
    "        maxlon,\n",
    "        minlat,\n",
    "        maxlat,\n",
    "        vmin = vmin,\n",
    "        vmax = vmax,\n",
    "        outputformat = dataformat,\n",
    "    )\n",
    "\n",
    "    # Construct file and figure names\n",
    "    filename = joinpath(\n",
    "        datadir,\n",
    "        \"$(regionname)_$(datasource_name)_$(varname)_$(Dates.format(datestart, \"yyyymmdd\"))-$(Dates.format(dateend, \"yyyymmdd\"))_$(Int(mindepth))-$(Int(maxdepth))m.$(dataformat)\",\n",
    "    )\n",
    "\n",
    "    # Write the data in netCDF files\n",
    "    @info(\"Data will be written in file:\\n$(filename)\")\n",
    "    if isfile(filename)\n",
    "        @info(\"File already downloaded\")\n",
    "    else\n",
    "        @time open(filename, \"w\") do io\n",
    "            r = HTTP.request(\n",
    "                \"POST\",\n",
    "                joinpath(DIVAndFairEase.beacon_services[datasource], \"api/query\"),\n",
    "                [\n",
    "                    \"Content-type\" => \"application/json\",\n",
    "                    \"Authorization\" => \"Bearer $(token)\",\n",
    "                ],\n",
    "                query,\n",
    "                response_stream = io,\n",
    "            )\n",
    "            @info(r.status)\n",
    "        end\n",
    "    end\n",
    "    @info(\"File size: $(round(filesize(filename)/1000^2, digits=1))M\")\n",
    "\n",
    "end"
   ]
  },
  {
   "cell_type": "code",
   "execution_count": 10,
   "id": "9ce0a0f3-2b17-4fcf-b291-fe337561adc2",
   "metadata": {},
   "outputs": [],
   "source": [
    "function read_nc(datafile::String)\n",
    "    NCDataset(datafile, \"r\") do ds\n",
    "        lon = ds[\"LONGITUDE\"][:]\n",
    "        lat = ds[\"LATITUDE\"][:]\n",
    "        depth = ds[\"DEPTH\"][:]\n",
    "        dates = ds[\"datetime\"][:]\n",
    "        T = ds[\"TEMP\"][:]\n",
    "        return lon, lat, depth, dates, T\n",
    "    end\n",
    "end;"
   ]
  },
  {
   "cell_type": "code",
   "execution_count": 11,
   "id": "576fe169-065a-49d5-8512-8a60c4c4f526",
   "metadata": {},
   "outputs": [
    {
     "data": {
      "text/plain": [
       "BenchmarkTools.Trial: 1122 samples with 1 evaluation per sample.\n",
       " Range \u001b[90m(\u001b[39m\u001b[36m\u001b[1mmin\u001b[22m\u001b[39m … \u001b[35mmax\u001b[39m\u001b[90m):  \u001b[39m\u001b[36m\u001b[1m3.674 ms\u001b[22m\u001b[39m … \u001b[35m 10.142 ms\u001b[39m  \u001b[90m┊\u001b[39m GC \u001b[90m(\u001b[39mmin … max\u001b[90m): \u001b[39m0.00% … 44.81%\n",
       " Time  \u001b[90m(\u001b[39m\u001b[34m\u001b[1mmedian\u001b[22m\u001b[39m\u001b[90m):     \u001b[39m\u001b[34m\u001b[1m4.300 ms               \u001b[22m\u001b[39m\u001b[90m┊\u001b[39m GC \u001b[90m(\u001b[39mmedian\u001b[90m):    \u001b[39m0.00%\n",
       " Time  \u001b[90m(\u001b[39m\u001b[32m\u001b[1mmean\u001b[22m\u001b[39m ± \u001b[32mσ\u001b[39m\u001b[90m):   \u001b[39m\u001b[32m\u001b[1m4.433 ms\u001b[22m\u001b[39m ± \u001b[32m464.557 μs\u001b[39m  \u001b[90m┊\u001b[39m GC \u001b[90m(\u001b[39mmean ± σ\u001b[90m):  \u001b[39m2.26% ±  5.00%\n",
       "\n",
       "  \u001b[39m \u001b[39m \u001b[39m \u001b[39m \u001b[39m \u001b[39m \u001b[39m \u001b[39m \u001b[39m \u001b[39m \u001b[39m \u001b[39m \u001b[39m▁\u001b[39m▇\u001b[39m▁\u001b[39m▅\u001b[39m▅\u001b[34m█\u001b[39m\u001b[39m▃\u001b[39m \u001b[39m \u001b[32m \u001b[39m\u001b[39m \u001b[39m \u001b[39m \u001b[39m \u001b[39m \u001b[39m \u001b[39m \u001b[39m \u001b[39m \u001b[39m \u001b[39m \u001b[39m \u001b[39m \u001b[39m \u001b[39m \u001b[39m \u001b[39m \u001b[39m \u001b[39m \u001b[39m \u001b[39m \u001b[39m \u001b[39m \u001b[39m \u001b[39m \u001b[39m \u001b[39m \u001b[39m \u001b[39m \u001b[39m \u001b[39m \u001b[39m \u001b[39m \u001b[39m \u001b[39m \u001b[39m \u001b[39m \u001b[39m \u001b[39m \n",
       "  \u001b[39m▂\u001b[39m▁\u001b[39m▂\u001b[39m▂\u001b[39m▂\u001b[39m▂\u001b[39m▂\u001b[39m▂\u001b[39m▂\u001b[39m▃\u001b[39m▅\u001b[39m▅\u001b[39m█\u001b[39m█\u001b[39m█\u001b[39m█\u001b[39m█\u001b[34m█\u001b[39m\u001b[39m█\u001b[39m▆\u001b[39m▅\u001b[32m▄\u001b[39m\u001b[39m▄\u001b[39m▃\u001b[39m▃\u001b[39m▃\u001b[39m▁\u001b[39m▂\u001b[39m▃\u001b[39m▂\u001b[39m▂\u001b[39m▂\u001b[39m▂\u001b[39m▂\u001b[39m▃\u001b[39m▃\u001b[39m▃\u001b[39m▄\u001b[39m▃\u001b[39m▄\u001b[39m▄\u001b[39m▄\u001b[39m▃\u001b[39m▃\u001b[39m▃\u001b[39m▂\u001b[39m▃\u001b[39m▂\u001b[39m▂\u001b[39m▂\u001b[39m▂\u001b[39m▂\u001b[39m▁\u001b[39m▂\u001b[39m▂\u001b[39m▂\u001b[39m▁\u001b[39m▁\u001b[39m▂\u001b[39m \u001b[39m▃\n",
       "  3.67 ms\u001b[90m         Histogram: frequency by time\u001b[39m        5.86 ms \u001b[0m\u001b[1m<\u001b[22m\n",
       "\n",
       " Memory estimate\u001b[90m: \u001b[39m\u001b[33m2.07 MiB\u001b[39m, allocs estimate\u001b[90m: \u001b[39m\u001b[33m921\u001b[39m."
      ]
     },
     "execution_count": 11,
     "metadata": {},
     "output_type": "execute_result"
    }
   ],
   "source": [
    "@benchmark lon, lat, depth, dates, T = read_nc(\n",
    "    joinpath(\n",
    "        datadir,\n",
    "        \"North_Adriatic_Euro-Argo_sea_water_salinity_19600101-20241231_0-1000m.netcdf\",\n",
    "    ),\n",
    ")"
   ]
  },
  {
   "cell_type": "code",
   "execution_count": 12,
   "id": "16013e70-4780-4dfc-946b-a0342e177760",
   "metadata": {},
   "outputs": [
    {
     "data": {
      "text/plain": [
       "read_parquet (generic function with 1 method)"
      ]
     },
     "execution_count": 12,
     "metadata": {},
     "output_type": "execute_result"
    }
   ],
   "source": [
    "function read_parquet(datafile::String)\n",
    "    ds = Parquet2.Dataset(datafile)\n",
    "    T = Tables.getcolumn(ds, :TEMP)\n",
    "    dates = Tables.getcolumn(ds, :datetime)\n",
    "    # Note: dates (in this case) are expressed as unixtimestamp\n",
    "    lon = Tables.getcolumn(ds, :LONGITUDE)\n",
    "    lat = Tables.getcolumn(ds, :LATITUDE)\n",
    "    depth = Tables.getcolumn(ds, :DEPTH)\n",
    "    close(ds)\n",
    "    return lon, lat, depth, dates, T\n",
    "end"
   ]
  },
  {
   "cell_type": "code",
   "execution_count": 13,
   "id": "85d692a9-079c-46af-99b9-4ee1017ac69f",
   "metadata": {},
   "outputs": [
    {
     "data": {
      "text/plain": [
       "BenchmarkTools.Trial: 2028 samples with 1 evaluation per sample.\n",
       " Range \u001b[90m(\u001b[39m\u001b[36m\u001b[1mmin\u001b[22m\u001b[39m … \u001b[35mmax\u001b[39m\u001b[90m):  \u001b[39m\u001b[36m\u001b[1m1.983 ms\u001b[22m\u001b[39m … \u001b[35m 12.294 ms\u001b[39m  \u001b[90m┊\u001b[39m GC \u001b[90m(\u001b[39mmin … max\u001b[90m): \u001b[39m0.00% … 69.97%\n",
       " Time  \u001b[90m(\u001b[39m\u001b[34m\u001b[1mmedian\u001b[22m\u001b[39m\u001b[90m):     \u001b[39m\u001b[34m\u001b[1m2.252 ms               \u001b[22m\u001b[39m\u001b[90m┊\u001b[39m GC \u001b[90m(\u001b[39mmedian\u001b[90m):    \u001b[39m0.00%\n",
       " Time  \u001b[90m(\u001b[39m\u001b[32m\u001b[1mmean\u001b[22m\u001b[39m ± \u001b[32mσ\u001b[39m\u001b[90m):   \u001b[39m\u001b[32m\u001b[1m2.455 ms\u001b[22m\u001b[39m ± \u001b[32m712.596 μs\u001b[39m  \u001b[90m┊\u001b[39m GC \u001b[90m(\u001b[39mmean ± σ\u001b[90m):  \u001b[39m3.62% ±  8.52%\n",
       "\n",
       "  \u001b[39m \u001b[39m▁\u001b[39m \u001b[39m█\u001b[39m \u001b[39m \u001b[39m \u001b[34m▅\u001b[39m\u001b[39m \u001b[39m \u001b[39m \u001b[32m \u001b[39m\u001b[39m \u001b[39m \u001b[39m \u001b[39m \u001b[39m \u001b[39m \u001b[39m \u001b[39m \u001b[39m \u001b[39m \u001b[39m \u001b[39m \u001b[39m \u001b[39m \u001b[39m \u001b[39m \u001b[39m \u001b[39m \u001b[39m \u001b[39m \u001b[39m \u001b[39m \u001b[39m \u001b[39m \u001b[39m \u001b[39m \u001b[39m \u001b[39m \u001b[39m \u001b[39m \u001b[39m \u001b[39m \u001b[39m \u001b[39m \u001b[39m \u001b[39m \u001b[39m \u001b[39m \u001b[39m \u001b[39m \u001b[39m \u001b[39m \u001b[39m \u001b[39m \u001b[39m \u001b[39m \u001b[39m \u001b[39m \u001b[39m \n",
       "  \u001b[39m▇\u001b[39m█\u001b[39m▆\u001b[39m█\u001b[39m▇\u001b[39m▆\u001b[39m▇\u001b[34m█\u001b[39m\u001b[39m▇\u001b[39m▄\u001b[39m▄\u001b[32m▃\u001b[39m\u001b[39m▃\u001b[39m▃\u001b[39m▃\u001b[39m▂\u001b[39m▃\u001b[39m▃\u001b[39m▂\u001b[39m▂\u001b[39m▁\u001b[39m▂\u001b[39m▂\u001b[39m▁\u001b[39m▂\u001b[39m▁\u001b[39m▂\u001b[39m▂\u001b[39m▁\u001b[39m▂\u001b[39m▁\u001b[39m▁\u001b[39m▁\u001b[39m▁\u001b[39m▁\u001b[39m▁\u001b[39m▃\u001b[39m▄\u001b[39m▄\u001b[39m▃\u001b[39m▂\u001b[39m▂\u001b[39m▂\u001b[39m▂\u001b[39m▃\u001b[39m▂\u001b[39m▂\u001b[39m▂\u001b[39m▂\u001b[39m▂\u001b[39m▂\u001b[39m▂\u001b[39m▂\u001b[39m▁\u001b[39m▂\u001b[39m▁\u001b[39m▂\u001b[39m▁\u001b[39m▂\u001b[39m \u001b[39m▃\n",
       "  1.98 ms\u001b[90m         Histogram: frequency by time\u001b[39m        4.41 ms \u001b[0m\u001b[1m<\u001b[22m\n",
       "\n",
       " Memory estimate\u001b[90m: \u001b[39m\u001b[33m1.32 MiB\u001b[39m, allocs estimate\u001b[90m: \u001b[39m\u001b[33m8800\u001b[39m."
      ]
     },
     "execution_count": 13,
     "metadata": {},
     "output_type": "execute_result"
    }
   ],
   "source": [
    "@benchmark lon, lat, depth, dates, T = read_parquet(\n",
    "    joinpath(\n",
    "        datadir,\n",
    "        \"North_Adriatic_Euro-Argo_sea_water_salinity_19600101-20241231_0-1000m.parquet\",\n",
    "    ),\n",
    ")"
   ]
  },
  {
   "cell_type": "code",
   "execution_count": 14,
   "id": "c6d23a7c-281a-48ab-8b6a-18ffd8c765be",
   "metadata": {},
   "outputs": [
    {
     "data": {
      "text/plain": [
       "read_csv (generic function with 1 method)"
      ]
     },
     "execution_count": 14,
     "metadata": {},
     "output_type": "execute_result"
    }
   ],
   "source": [
    "function read_csv(datafile::String)\n",
    "    df = DataFrame(CSV.File(datafile))\n",
    "    lon = df.LONGITUDE\n",
    "    lat = df.LATITUDE\n",
    "    depth = df.DEPTH\n",
    "    dates = df.datetime\n",
    "    T = df.TEMP\n",
    "    return lon, lat, depth, dates, T\n",
    "end"
   ]
  },
  {
   "cell_type": "code",
   "execution_count": 15,
   "id": "b87a7f93-3677-41ab-920b-44534de107bc",
   "metadata": {},
   "outputs": [
    {
     "data": {
      "text/plain": [
       "BenchmarkTools.Trial: 200 samples with 1 evaluation per sample.\n",
       " Range \u001b[90m(\u001b[39m\u001b[36m\u001b[1mmin\u001b[22m\u001b[39m … \u001b[35mmax\u001b[39m\u001b[90m):  \u001b[39m\u001b[36m\u001b[1m23.857 ms\u001b[22m\u001b[39m … \u001b[35m30.570 ms\u001b[39m  \u001b[90m┊\u001b[39m GC \u001b[90m(\u001b[39mmin … max\u001b[90m): \u001b[39m0.00% … 4.85%\n",
       " Time  \u001b[90m(\u001b[39m\u001b[34m\u001b[1mmedian\u001b[22m\u001b[39m\u001b[90m):     \u001b[39m\u001b[34m\u001b[1m24.416 ms              \u001b[22m\u001b[39m\u001b[90m┊\u001b[39m GC \u001b[90m(\u001b[39mmedian\u001b[90m):    \u001b[39m0.00%\n",
       " Time  \u001b[90m(\u001b[39m\u001b[32m\u001b[1mmean\u001b[22m\u001b[39m ± \u001b[32mσ\u001b[39m\u001b[90m):   \u001b[39m\u001b[32m\u001b[1m25.000 ms\u001b[22m\u001b[39m ± \u001b[32m 1.139 ms\u001b[39m  \u001b[90m┊\u001b[39m GC \u001b[90m(\u001b[39mmean ± σ\u001b[90m):  \u001b[39m1.10% ± 2.53%\n",
       "\n",
       "  \u001b[39m \u001b[39m \u001b[39m█\u001b[39m█\u001b[39m▅\u001b[39m▂\u001b[34m \u001b[39m\u001b[39m \u001b[39m \u001b[39m \u001b[39m \u001b[39m \u001b[32m \u001b[39m\u001b[39m \u001b[39m \u001b[39m \u001b[39m \u001b[39m \u001b[39m \u001b[39m \u001b[39m \u001b[39m \u001b[39m \u001b[39m \u001b[39m \u001b[39m \u001b[39m \u001b[39m \u001b[39m \u001b[39m \u001b[39m \u001b[39m \u001b[39m \u001b[39m \u001b[39m \u001b[39m \u001b[39m \u001b[39m \u001b[39m \u001b[39m \u001b[39m \u001b[39m \u001b[39m \u001b[39m \u001b[39m \u001b[39m \u001b[39m \u001b[39m \u001b[39m \u001b[39m \u001b[39m \u001b[39m \u001b[39m \u001b[39m \u001b[39m \u001b[39m \u001b[39m \u001b[39m \u001b[39m \u001b[39m \u001b[39m \n",
       "  \u001b[39m▄\u001b[39m▆\u001b[39m█\u001b[39m█\u001b[39m█\u001b[39m█\u001b[34m▄\u001b[39m\u001b[39m▅\u001b[39m▆\u001b[39m▃\u001b[39m▃\u001b[39m▃\u001b[32m▄\u001b[39m\u001b[39m▄\u001b[39m▆\u001b[39m▃\u001b[39m▅\u001b[39m▅\u001b[39m▆\u001b[39m▅\u001b[39m▄\u001b[39m▅\u001b[39m▄\u001b[39m▃\u001b[39m▄\u001b[39m▄\u001b[39m▃\u001b[39m▃\u001b[39m▃\u001b[39m▁\u001b[39m▃\u001b[39m▃\u001b[39m▁\u001b[39m▁\u001b[39m▁\u001b[39m▃\u001b[39m▄\u001b[39m▃\u001b[39m▁\u001b[39m▁\u001b[39m▁\u001b[39m▁\u001b[39m▁\u001b[39m▁\u001b[39m▁\u001b[39m▁\u001b[39m▁\u001b[39m▁\u001b[39m▃\u001b[39m▁\u001b[39m▁\u001b[39m▁\u001b[39m▁\u001b[39m▁\u001b[39m▁\u001b[39m▁\u001b[39m▁\u001b[39m▁\u001b[39m▃\u001b[39m \u001b[39m▃\n",
       "  23.9 ms\u001b[90m         Histogram: frequency by time\u001b[39m        29.7 ms \u001b[0m\u001b[1m<\u001b[22m\n",
       "\n",
       " Memory estimate\u001b[90m: \u001b[39m\u001b[33m4.84 MiB\u001b[39m, allocs estimate\u001b[90m: \u001b[39m\u001b[33m94306\u001b[39m."
      ]
     },
     "execution_count": 15,
     "metadata": {},
     "output_type": "execute_result"
    }
   ],
   "source": [
    "@benchmark lon, lat, depth, dates, T = read_csv(\n",
    "    joinpath(\n",
    "        datadir,\n",
    "        \"North_Adriatic_Euro-Argo_sea_water_salinity_19600101-20241231_0-1000m.csv\",\n",
    "    ),\n",
    ")"
   ]
  },
  {
   "cell_type": "code",
   "execution_count": 16,
   "id": "87040911-9dd2-4992-93e1-531ae05dfcc3",
   "metadata": {},
   "outputs": [
    {
     "data": {
      "text/plain": [
       "true"
      ]
     },
     "execution_count": 16,
     "metadata": {},
     "output_type": "execute_result"
    }
   ],
   "source": [
    "using Arrow\n",
    "arrowfile = joinpath(\n",
    "    datadir,\n",
    "    \"North_Adriatic_Euro-Argo_sea_water_salinity_19600101-20241231_0-1000m.arrow\",\n",
    ")\n",
    "isfile(arrowfile)"
   ]
  },
  {
   "cell_type": "code",
   "execution_count": 17,
   "id": "0121c2bc-b5d1-4b8f-a31c-1d3f8ad6285a",
   "metadata": {},
   "outputs": [
    {
     "data": {
      "text/plain": [
       "BenchmarkTools.Trial: 10000 samples with 1 evaluation per sample.\n",
       " Range \u001b[90m(\u001b[39m\u001b[36m\u001b[1mmin\u001b[22m\u001b[39m … \u001b[35mmax\u001b[39m\u001b[90m):  \u001b[39m\u001b[36m\u001b[1m15.729 μs\u001b[22m\u001b[39m … \u001b[35m255.988 μs\u001b[39m  \u001b[90m┊\u001b[39m GC \u001b[90m(\u001b[39mmin … max\u001b[90m): \u001b[39m0.00% … 0.00%\n",
       " Time  \u001b[90m(\u001b[39m\u001b[34m\u001b[1mmedian\u001b[22m\u001b[39m\u001b[90m):     \u001b[39m\u001b[34m\u001b[1m17.813 μs               \u001b[22m\u001b[39m\u001b[90m┊\u001b[39m GC \u001b[90m(\u001b[39mmedian\u001b[90m):    \u001b[39m0.00%\n",
       " Time  \u001b[90m(\u001b[39m\u001b[32m\u001b[1mmean\u001b[22m\u001b[39m ± \u001b[32mσ\u001b[39m\u001b[90m):   \u001b[39m\u001b[32m\u001b[1m19.707 μs\u001b[22m\u001b[39m ± \u001b[32m 10.990 μs\u001b[39m  \u001b[90m┊\u001b[39m GC \u001b[90m(\u001b[39mmean ± σ\u001b[90m):  \u001b[39m0.00% ± 0.00%\n",
       "\n",
       "  \u001b[39m \u001b[39m█\u001b[39m▄\u001b[39m▁\u001b[34m \u001b[39m\u001b[39m \u001b[39m \u001b[32m \u001b[39m\u001b[39m \u001b[39m \u001b[39m \u001b[39m \u001b[39m \u001b[39m \u001b[39m \u001b[39m \u001b[39m \u001b[39m \u001b[39m \u001b[39m \u001b[39m \u001b[39m \u001b[39m \u001b[39m \u001b[39m \u001b[39m \u001b[39m \u001b[39m \u001b[39m \u001b[39m \u001b[39m \u001b[39m \u001b[39m \u001b[39m \u001b[39m \u001b[39m \u001b[39m \u001b[39m \u001b[39m \u001b[39m \u001b[39m \u001b[39m \u001b[39m \u001b[39m \u001b[39m \u001b[39m \u001b[39m \u001b[39m \u001b[39m \u001b[39m \u001b[39m \u001b[39m \u001b[39m \u001b[39m \u001b[39m \u001b[39m \u001b[39m \u001b[39m \u001b[39m \u001b[39m \u001b[39m \u001b[39m \n",
       "  \u001b[39m▄\u001b[39m█\u001b[39m█\u001b[39m█\u001b[34m▇\u001b[39m\u001b[39m▇\u001b[39m▆\u001b[32m▅\u001b[39m\u001b[39m▅\u001b[39m▄\u001b[39m▄\u001b[39m▃\u001b[39m▃\u001b[39m▃\u001b[39m▃\u001b[39m▃\u001b[39m▂\u001b[39m▂\u001b[39m▂\u001b[39m▂\u001b[39m▂\u001b[39m▂\u001b[39m▂\u001b[39m▂\u001b[39m▂\u001b[39m▂\u001b[39m▂\u001b[39m▂\u001b[39m▂\u001b[39m▂\u001b[39m▂\u001b[39m▂\u001b[39m▂\u001b[39m▂\u001b[39m▂\u001b[39m▁\u001b[39m▂\u001b[39m▂\u001b[39m▂\u001b[39m▂\u001b[39m▂\u001b[39m▂\u001b[39m▂\u001b[39m▂\u001b[39m▂\u001b[39m▂\u001b[39m▂\u001b[39m▂\u001b[39m▂\u001b[39m▁\u001b[39m▂\u001b[39m▂\u001b[39m▂\u001b[39m▂\u001b[39m▂\u001b[39m▂\u001b[39m▁\u001b[39m▂\u001b[39m▂\u001b[39m▂\u001b[39m \u001b[39m▃\n",
       "  15.7 μs\u001b[90m         Histogram: frequency by time\u001b[39m         49.5 μs \u001b[0m\u001b[1m<\u001b[22m\n",
       "\n",
       " Memory estimate\u001b[90m: \u001b[39m\u001b[33m3.12 KiB\u001b[39m, allocs estimate\u001b[90m: \u001b[39m\u001b[33m57\u001b[39m."
      ]
     },
     "execution_count": 17,
     "metadata": {},
     "output_type": "execute_result"
    }
   ],
   "source": [
    "@benchmark table = Arrow.Table(arrowfile)"
   ]
  },
  {
   "cell_type": "code",
   "execution_count": 18,
   "id": "374f26a0-7909-4702-9d4b-64ba8390048d",
   "metadata": {},
   "outputs": [
    {
     "data": {
      "text/plain": [
       "Arrow.Table with 30968 rows, 2 columns, and schema:\n",
       " :LONGITUDE  Union{Missing, Float64}\n",
       " :LATITUDE   Union{Missing, Float64}\n",
       "\n",
       "with metadata given by a Base.ImmutableDict{String, String} with 1 entry:\n",
       "  \"pandas\" => \"{\\\"index_columns\\\": [{\\\"kind\\\": \\\"range\\\", \\\"name\\\": null, \\\"sta…"
      ]
     },
     "execution_count": 18,
     "metadata": {},
     "output_type": "execute_result"
    }
   ],
   "source": [
    "table1 = Arrow.Table(\"../data/North_Adriatic/my_data.arrow\")"
   ]
  },
  {
   "cell_type": "code",
   "execution_count": 19,
   "id": "6a8b015a-bbaa-4d9a-85ae-e33d5a0d9c97",
   "metadata": {},
   "outputs": [
    {
     "data": {
      "text/plain": [
       "Dict{String, Dict{String, Any}} with 1 entry:\n",
       "  \"odv\" => Dict(\"time_column\"=>Dict(\"column_name\"=>\"JULD\"), \"depth_column\"=>Dic…"
      ]
     },
     "execution_count": 19,
     "metadata": {},
     "output_type": "execute_result"
    }
   ],
   "source": [
    "outputformatODV = Dict(\n",
    "    \"odv\" => Dict(\n",
    "        \"longitude_column\" => Dict(\"column_name\" => \"LONGITUDE\"),\n",
    "        \"latitude_column\" => Dict(\"column_name\" => \"LATITUDE\"),\n",
    "        \"time_column\" => Dict(\"column_name\" => \"JULD\"),\n",
    "        \"depth_column\" => Dict(\"column_name\" => \"PRES\"),\n",
    "        \"data_columns\" => [Dict(\"column_name\" => \"TEMP\")],\n",
    "    ),\n",
    ")"
   ]
  },
  {
   "cell_type": "code",
   "execution_count": 20,
   "id": "cd3dad32-f58a-47f9-a2b0-929447d4ea03",
   "metadata": {},
   "outputs": [
    {
     "name": "stderr",
     "output_type": "stream",
     "text": [
      "\u001b[36m\u001b[1m┌ \u001b[22m\u001b[39m\u001b[36m\u001b[1mInfo: \u001b[22m\u001b[39mData will be written in file:\n",
      "\u001b[36m\u001b[1m└ \u001b[22m\u001b[39m../data/North_Adriatic/North_Adriatic_Euro-Argo_sea_water_salinity_19600101-20241231_0-1000m.odv\n",
      "\u001b[36m\u001b[1m[ \u001b[22m\u001b[39m\u001b[36m\u001b[1mInfo: \u001b[22m\u001b[39mFile already downloaded\n"
     ]
    },
    {
     "ename": "LoadError",
     "evalue": "HTTP.Exceptions.StatusError(422, \"POST\", \"/api/query\", HTTP.Messages.Response:\n\"\"\"\nHTTP/1.1 422 Unprocessable Entity\r\nContent-Type: text/plain; charset=utf-8\r\nX-Powered-By: ARR/3.0\r\nDate: Tue, 10 Jun 2025 13:15:55 GMT\r\nContent-Length: 394\r\n\r\n[Message Body was streamed]\"\"\")",
     "output_type": "error",
     "traceback": [
      "HTTP.Exceptions.StatusError(422, \"POST\", \"/api/query\", HTTP.Messages.Response:\n\"\"\"\nHTTP/1.1 422 Unprocessable Entity\r\nContent-Type: text/plain; charset=utf-8\r\nX-Powered-By: ARR/3.0\r\nDate: Tue, 10 Jun 2025 13:15:55 GMT\r\nContent-Length: 394\r\n\r\n[Message Body was streamed]\"\"\")",
      "",
      "Stacktrace:",
      "  [1] \u001b[0m\u001b[1m(::HTTP.ConnectionRequest.var\"#connections#4\"{HTTP.ConnectionRequest.var\"#connections#1#5\"{HTTP.TimeoutRequest.var\"#timeouts#3\"{HTTP.TimeoutRequest.var\"#timeouts#1#4\"{HTTP.ExceptionRequest.var\"#exceptions#2\"{HTTP.ExceptionRequest.var\"#exceptions#1#3\"{typeof(HTTP.StreamRequest.streamlayer)}}}}}})\u001b[22m\u001b[0m\u001b[1m(\u001b[22m\u001b[90mreq\u001b[39m::\u001b[0mHTTP.Messages.Request; \u001b[90mproxy\u001b[39m::\u001b[0mNothing, \u001b[90msocket_type\u001b[39m::\u001b[0mType, \u001b[90msocket_type_tls\u001b[39m::\u001b[0mNothing, \u001b[90mreadtimeout\u001b[39m::\u001b[0mInt64, \u001b[90mconnect_timeout\u001b[39m::\u001b[0mInt64, \u001b[90mlogerrors\u001b[39m::\u001b[0mBool, \u001b[90mlogtag\u001b[39m::\u001b[0mNothing, \u001b[90mcloseimmediately\u001b[39m::\u001b[0mBool, \u001b[90mkw\u001b[39m::\u001b[0m@Kwargs\u001b[90m{iofunction::Nothing, decompress::Nothing, verbose::Int64}\u001b[39m\u001b[0m\u001b[1m)\u001b[22m",
      "\u001b[90m    @\u001b[39m \u001b[35mHTTP.ConnectionRequest\u001b[39m \u001b[90m~/.julia/packages/HTTP/MIUdD/src/clientlayers/\u001b[39m\u001b[90m\u001b[4mConnectionRequest.jl:144\u001b[24m\u001b[39m",
      "  [2] \u001b[0m\u001b[1mconnections\u001b[22m",
      "\u001b[90m    @\u001b[39m \u001b[90m~/.julia/packages/HTTP/MIUdD/src/clientlayers/\u001b[39m\u001b[90m\u001b[4mConnectionRequest.jl:60\u001b[24m\u001b[39m\u001b[90m [inlined]\u001b[39m",
      "  [3] \u001b[0m\u001b[1m(::Base.var\"#106#108\"{Base.var\"#106#107#109\"{ExponentialBackOff, HTTP.RetryRequest.var\"#2#5\"{Int64, typeof(HTTP.RetryRequest.FALSE), HTTP.Messages.Request, Base.RefValue{Int64}}, HTTP.ConnectionRequest.var\"#connections#4\"{HTTP.ConnectionRequest.var\"#connections#1#5\"{HTTP.TimeoutRequest.var\"#timeouts#3\"{HTTP.TimeoutRequest.var\"#timeouts#1#4\"{HTTP.ExceptionRequest.var\"#exceptions#2\"{HTTP.ExceptionRequest.var\"#exceptions#1#3\"{typeof(HTTP.StreamRequest.streamlayer)}}}}}}}})\u001b[22m\u001b[0m\u001b[1m(\u001b[22m\u001b[90margs\u001b[39m::\u001b[0mHTTP.Messages.Request; \u001b[90mkwargs\u001b[39m::\u001b[0m@Kwargs\u001b[90m{iofunction::Nothing, decompress::Nothing, verbose::Int64}\u001b[39m\u001b[0m\u001b[1m)\u001b[22m",
      "\u001b[90m    @\u001b[39m \u001b[90mBase\u001b[39m \u001b[90m./\u001b[39m\u001b[90m\u001b[4merror.jl:300\u001b[24m\u001b[39m",
      "  [4] \u001b[0m\u001b[1m(::HTTP.RetryRequest.var\"#manageretries#3\"{HTTP.RetryRequest.var\"#manageretries#1#4\"{HTTP.ConnectionRequest.var\"#connections#4\"{HTTP.ConnectionRequest.var\"#connections#1#5\"{HTTP.TimeoutRequest.var\"#timeouts#3\"{HTTP.TimeoutRequest.var\"#timeouts#1#4\"{HTTP.ExceptionRequest.var\"#exceptions#2\"{HTTP.ExceptionRequest.var\"#exceptions#1#3\"{typeof(HTTP.StreamRequest.streamlayer)}}}}}}}})\u001b[22m\u001b[0m\u001b[1m(\u001b[22m\u001b[90mreq\u001b[39m::\u001b[0mHTTP.Messages.Request; \u001b[90mretry\u001b[39m::\u001b[0mBool, \u001b[90mretries\u001b[39m::\u001b[0mInt64, \u001b[90mretry_delays\u001b[39m::\u001b[0mExponentialBackOff, \u001b[90mretry_check\u001b[39m::\u001b[0mFunction, \u001b[90mretry_non_idempotent\u001b[39m::\u001b[0mBool, \u001b[90mkw\u001b[39m::\u001b[0m@Kwargs\u001b[90m{iofunction::Nothing, decompress::Nothing, verbose::Int64}\u001b[39m\u001b[0m\u001b[1m)\u001b[22m",
      "\u001b[90m    @\u001b[39m \u001b[35mHTTP.RetryRequest\u001b[39m \u001b[90m~/.julia/packages/HTTP/MIUdD/src/clientlayers/\u001b[39m\u001b[90m\u001b[4mRetryRequest.jl:75\u001b[24m\u001b[39m",
      "  [5] \u001b[0m\u001b[1mmanageretries\u001b[22m",
      "\u001b[90m    @\u001b[39m \u001b[90m~/.julia/packages/HTTP/MIUdD/src/clientlayers/\u001b[39m\u001b[90m\u001b[4mRetryRequest.jl:30\u001b[24m\u001b[39m\u001b[90m [inlined]\u001b[39m",
      "  [6] \u001b[0m\u001b[1m(::HTTP.CookieRequest.var\"#managecookies#4\"{HTTP.CookieRequest.var\"#managecookies#1#5\"{HTTP.RetryRequest.var\"#manageretries#3\"{HTTP.RetryRequest.var\"#manageretries#1#4\"{HTTP.ConnectionRequest.var\"#connections#4\"{HTTP.ConnectionRequest.var\"#connections#1#5\"{HTTP.TimeoutRequest.var\"#timeouts#3\"{HTTP.TimeoutRequest.var\"#timeouts#1#4\"{HTTP.ExceptionRequest.var\"#exceptions#2\"{HTTP.ExceptionRequest.var\"#exceptions#1#3\"{typeof(HTTP.StreamRequest.streamlayer)}}}}}}}}}})\u001b[22m\u001b[0m\u001b[1m(\u001b[22m\u001b[90mreq\u001b[39m::\u001b[0mHTTP.Messages.Request; \u001b[90mcookies\u001b[39m::\u001b[0mBool, \u001b[90mcookiejar\u001b[39m::\u001b[0mHTTP.Cookies.CookieJar, \u001b[90mkw\u001b[39m::\u001b[0m@Kwargs\u001b[90m{iofunction::Nothing, decompress::Nothing, verbose::Int64}\u001b[39m\u001b[0m\u001b[1m)\u001b[22m",
      "\u001b[90m    @\u001b[39m \u001b[35mHTTP.CookieRequest\u001b[39m \u001b[90m~/.julia/packages/HTTP/MIUdD/src/clientlayers/\u001b[39m\u001b[90m\u001b[4mCookieRequest.jl:42\u001b[24m\u001b[39m",
      "  [7] \u001b[0m\u001b[1mmanagecookies\u001b[22m",
      "\u001b[90m    @\u001b[39m \u001b[90m~/.julia/packages/HTTP/MIUdD/src/clientlayers/\u001b[39m\u001b[90m\u001b[4mCookieRequest.jl:19\u001b[24m\u001b[39m\u001b[90m [inlined]\u001b[39m",
      "  [8] \u001b[0m\u001b[1m(::HTTP.HeadersRequest.var\"#defaultheaders#2\"{HTTP.HeadersRequest.var\"#defaultheaders#1#3\"{HTTP.CookieRequest.var\"#managecookies#4\"{HTTP.CookieRequest.var\"#managecookies#1#5\"{HTTP.RetryRequest.var\"#manageretries#3\"{HTTP.RetryRequest.var\"#manageretries#1#4\"{HTTP.ConnectionRequest.var\"#connections#4\"{HTTP.ConnectionRequest.var\"#connections#1#5\"{HTTP.TimeoutRequest.var\"#timeouts#3\"{HTTP.TimeoutRequest.var\"#timeouts#1#4\"{HTTP.ExceptionRequest.var\"#exceptions#2\"{HTTP.ExceptionRequest.var\"#exceptions#1#3\"{typeof(HTTP.StreamRequest.streamlayer)}}}}}}}}}}}})\u001b[22m\u001b[0m\u001b[1m(\u001b[22m\u001b[90mreq\u001b[39m::\u001b[0mHTTP.Messages.Request; \u001b[90miofunction\u001b[39m::\u001b[0mNothing, \u001b[90mdecompress\u001b[39m::\u001b[0mNothing, \u001b[90mbasicauth\u001b[39m::\u001b[0mBool, \u001b[90mdetect_content_type\u001b[39m::\u001b[0mBool, \u001b[90mcanonicalize_headers\u001b[39m::\u001b[0mBool, \u001b[90mkw\u001b[39m::\u001b[0m@Kwargs\u001b[90m{verbose::Int64}\u001b[39m\u001b[0m\u001b[1m)\u001b[22m",
      "\u001b[90m    @\u001b[39m \u001b[35mHTTP.HeadersRequest\u001b[39m \u001b[90m~/.julia/packages/HTTP/MIUdD/src/clientlayers/\u001b[39m\u001b[90m\u001b[4mHeadersRequest.jl:71\u001b[24m\u001b[39m",
      "  [9] \u001b[0m\u001b[1mdefaultheaders\u001b[22m",
      "\u001b[90m    @\u001b[39m \u001b[90m~/.julia/packages/HTTP/MIUdD/src/clientlayers/\u001b[39m\u001b[90m\u001b[4mHeadersRequest.jl:14\u001b[24m\u001b[39m\u001b[90m [inlined]\u001b[39m",
      " [10] \u001b[0m\u001b[1m(::HTTP.RedirectRequest.var\"#redirects#3\"{HTTP.RedirectRequest.var\"#redirects#1#4\"{HTTP.HeadersRequest.var\"#defaultheaders#2\"{HTTP.HeadersRequest.var\"#defaultheaders#1#3\"{HTTP.CookieRequest.var\"#managecookies#4\"{HTTP.CookieRequest.var\"#managecookies#1#5\"{HTTP.RetryRequest.var\"#manageretries#3\"{HTTP.RetryRequest.var\"#manageretries#1#4\"{HTTP.ConnectionRequest.var\"#connections#4\"{HTTP.ConnectionRequest.var\"#connections#1#5\"{HTTP.TimeoutRequest.var\"#timeouts#3\"{HTTP.TimeoutRequest.var\"#timeouts#1#4\"{HTTP.ExceptionRequest.var\"#exceptions#2\"{HTTP.ExceptionRequest.var\"#exceptions#1#3\"{typeof(HTTP.StreamRequest.streamlayer)}}}}}}}}}}}}}})\u001b[22m\u001b[0m\u001b[1m(\u001b[22m\u001b[90mreq\u001b[39m::\u001b[0mHTTP.Messages.Request; \u001b[90mredirect\u001b[39m::\u001b[0mBool, \u001b[90mredirect_limit\u001b[39m::\u001b[0mInt64, \u001b[90mredirect_method\u001b[39m::\u001b[0mNothing, \u001b[90mforwardheaders\u001b[39m::\u001b[0mBool, \u001b[90mresponse_stream\u001b[39m::\u001b[0mIOStream, \u001b[90mkw\u001b[39m::\u001b[0m@Kwargs\u001b[90m{verbose::Int64}\u001b[39m\u001b[0m\u001b[1m)\u001b[22m",
      "\u001b[90m    @\u001b[39m \u001b[35mHTTP.RedirectRequest\u001b[39m \u001b[90m~/.julia/packages/HTTP/MIUdD/src/clientlayers/\u001b[39m\u001b[90m\u001b[4mRedirectRequest.jl:25\u001b[24m\u001b[39m",
      " [11] \u001b[0m\u001b[1mredirects\u001b[22m",
      "\u001b[90m    @\u001b[39m \u001b[90m~/.julia/packages/HTTP/MIUdD/src/clientlayers/\u001b[39m\u001b[90m\u001b[4mRedirectRequest.jl:14\u001b[24m\u001b[39m\u001b[90m [inlined]\u001b[39m",
      " [12] \u001b[0m\u001b[1m(::HTTP.MessageRequest.var\"#makerequest#3\"{HTTP.MessageRequest.var\"#makerequest#1#4\"{HTTP.RedirectRequest.var\"#redirects#3\"{HTTP.RedirectRequest.var\"#redirects#1#4\"{HTTP.HeadersRequest.var\"#defaultheaders#2\"{HTTP.HeadersRequest.var\"#defaultheaders#1#3\"{HTTP.CookieRequest.var\"#managecookies#4\"{HTTP.CookieRequest.var\"#managecookies#1#5\"{HTTP.RetryRequest.var\"#manageretries#3\"{HTTP.RetryRequest.var\"#manageretries#1#4\"{HTTP.ConnectionRequest.var\"#connections#4\"{HTTP.ConnectionRequest.var\"#connections#1#5\"{HTTP.TimeoutRequest.var\"#timeouts#3\"{HTTP.TimeoutRequest.var\"#timeouts#1#4\"{HTTP.ExceptionRequest.var\"#exceptions#2\"{HTTP.ExceptionRequest.var\"#exceptions#1#3\"{typeof(HTTP.StreamRequest.streamlayer)}}}}}}}}}}}}}}}})\u001b[22m\u001b[0m\u001b[1m(\u001b[22m\u001b[90mmethod\u001b[39m::\u001b[0mString, \u001b[90murl\u001b[39m::\u001b[0mURIs.URI, \u001b[90mheaders\u001b[39m::\u001b[0mVector\u001b[90m{Pair{String, String}}\u001b[39m, \u001b[90mbody\u001b[39m::\u001b[0mString; \u001b[90mcopyheaders\u001b[39m::\u001b[0mBool, \u001b[90mresponse_stream\u001b[39m::\u001b[0mIOStream, \u001b[90mhttp_version\u001b[39m::\u001b[0mHTTP.Strings.HTTPVersion, \u001b[90mverbose\u001b[39m::\u001b[0mInt64, \u001b[90mkw\u001b[39m::\u001b[0m@Kwargs\u001b[90m{}\u001b[39m\u001b[0m\u001b[1m)\u001b[22m",
      "\u001b[90m    @\u001b[39m \u001b[35mHTTP.MessageRequest\u001b[39m \u001b[90m~/.julia/packages/HTTP/MIUdD/src/clientlayers/\u001b[39m\u001b[90m\u001b[4mMessageRequest.jl:35\u001b[24m\u001b[39m",
      " [13] \u001b[0m\u001b[1mmakerequest\u001b[22m",
      "\u001b[90m    @\u001b[39m \u001b[90m~/.julia/packages/HTTP/MIUdD/src/clientlayers/\u001b[39m\u001b[90m\u001b[4mMessageRequest.jl:24\u001b[24m\u001b[39m\u001b[90m [inlined]\u001b[39m",
      " [14] \u001b[0m\u001b[1mrequest\u001b[22m\u001b[0m\u001b[1m(\u001b[22m\u001b[90mstack\u001b[39m::\u001b[0mHTTP.MessageRequest.var\"#makerequest#3\"\u001b[90m{HTTP.MessageRequest.var\"#makerequest#1#4\"{HTTP.RedirectRequest.var\"#redirects#3\"{HTTP.RedirectRequest.var\"#redirects#1#4\"{HTTP.HeadersRequest.var\"#defaultheaders#2\"{HTTP.HeadersRequest.var\"#defaultheaders#1#3\"{HTTP.CookieRequest.var\"#managecookies#4\"{HTTP.CookieRequest.var\"#managecookies#1#5\"{HTTP.RetryRequest.var\"#manageretries#3\"{HTTP.RetryRequest.var\"#manageretries#1#4\"{HTTP.ConnectionRequest.var\"#connections#4\"{HTTP.ConnectionRequest.var\"#connections#1#5\"{HTTP.TimeoutRequest.var\"#timeouts#3\"{HTTP.TimeoutRequest.var\"#timeouts#1#4\"{HTTP.ExceptionRequest.var\"#exceptions#2\"{HTTP.ExceptionRequest.var\"#exceptions#1#3\"{typeof(HTTP.StreamRequest.streamlayer)}}}}}}}}}}}}}}}}\u001b[39m, \u001b[90mmethod\u001b[39m::\u001b[0mString, \u001b[90murl\u001b[39m::\u001b[0mString, \u001b[90mh\u001b[39m::\u001b[0mVector\u001b[90m{Pair{String, String}}\u001b[39m, \u001b[90mb\u001b[39m::\u001b[0mString, \u001b[90mq\u001b[39m::\u001b[0mNothing; \u001b[90mheaders\u001b[39m::\u001b[0mVector\u001b[90m{Pair{String, String}}\u001b[39m, \u001b[90mbody\u001b[39m::\u001b[0mString, \u001b[90mquery\u001b[39m::\u001b[0mNothing, \u001b[90mkw\u001b[39m::\u001b[0m@Kwargs\u001b[90m{response_stream::IOStream}\u001b[39m\u001b[0m\u001b[1m)\u001b[22m",
      "\u001b[90m    @\u001b[39m \u001b[35mHTTP\u001b[39m \u001b[90m~/.julia/packages/HTTP/MIUdD/src/\u001b[39m\u001b[90m\u001b[4mHTTP.jl:457\u001b[24m\u001b[39m",
      " [15] \u001b[0m\u001b[1m#request#20\u001b[22m",
      "\u001b[90m    @\u001b[39m \u001b[90m~/.julia/packages/HTTP/MIUdD/src/\u001b[39m\u001b[90m\u001b[4mHTTP.jl:315\u001b[24m\u001b[39m\u001b[90m [inlined]\u001b[39m",
      " [16] \u001b[0m\u001b[1m(::var\"#5#6\")\u001b[22m\u001b[0m\u001b[1m(\u001b[22m\u001b[90mio\u001b[39m::\u001b[0mIOStream\u001b[0m\u001b[1m)\u001b[22m",
      "\u001b[90m    @\u001b[39m \u001b[36mMain\u001b[39m \u001b[90m./\u001b[39m\u001b[90m\u001b[4mIn[20]:34\u001b[24m\u001b[39m",
      " [17] \u001b[0m\u001b[1mopen\u001b[22m\u001b[0m\u001b[1m(\u001b[22m::\u001b[0mvar\"#5#6\", ::\u001b[0mString, ::\u001b[0mVararg\u001b[90m{String}\u001b[39m; \u001b[90mkwargs\u001b[39m::\u001b[0m@Kwargs\u001b[90m{}\u001b[39m\u001b[0m\u001b[1m)\u001b[22m",
      "\u001b[90m    @\u001b[39m \u001b[90mBase\u001b[39m \u001b[90m./\u001b[39m\u001b[90m\u001b[4mio.jl:410\u001b[24m\u001b[39m",
      " [18] \u001b[0m\u001b[1mopen\u001b[22m\u001b[0m\u001b[1m(\u001b[22m::\u001b[0mFunction, ::\u001b[0mString, ::\u001b[0mString\u001b[0m\u001b[1m)\u001b[22m",
      "\u001b[90m    @\u001b[39m \u001b[90mBase\u001b[39m \u001b[90m./\u001b[39m\u001b[90m\u001b[4mio.jl:407\u001b[24m\u001b[39m",
      " [19] \u001b[0m\u001b[1mmacro expansion\u001b[22m",
      "\u001b[90m    @\u001b[39m \u001b[90m./\u001b[39m\u001b[90m\u001b[4mtiming.jl:581\u001b[24m\u001b[39m\u001b[90m [inlined]\u001b[39m",
      " [20] top-level scope",
      "\u001b[90m    @\u001b[39m \u001b[90m./\u001b[39m\u001b[90m\u001b[4mIn[20]:33\u001b[24m\u001b[39m"
     ]
    }
   ],
   "source": [
    "datasource = datasourcelist[1]\n",
    "datasource_name = replace(datasource, \" \" => \"-\")\n",
    "\n",
    "query = DIVAndFairEase.prepare_query(\n",
    "    datasource,\n",
    "    \"TEMP\",\n",
    "    Dates.Date(datestart),\n",
    "    Dates.Date(dateend),\n",
    "    mindepth,\n",
    "    maxdepth,\n",
    "    minlon,\n",
    "    maxlon,\n",
    "    minlat,\n",
    "    maxlat,\n",
    "    vmin = vmin,\n",
    "    vmax = vmax,\n",
    "    outputformat = JSON3.write(outputformatODV),\n",
    ")\n",
    "\n",
    "# Construct file and figure names\n",
    "filename = joinpath(\n",
    "    datadir,\n",
    "    \"$(regionname)_$(datasource_name)_$(varname)_$(Dates.format(datestart, \"yyyymmdd\"))-$(Dates.format(dateend, \"yyyymmdd\"))_$(Int(mindepth))-$(Int(maxdepth))m.odv\",\n",
    ")\n",
    "\n",
    "# Write the data in netCDF files\n",
    "@info(\"Data will be written in file:\\n$(filename)\")\n",
    "if isfile(filename)\n",
    "    @info(\"File already downloaded\")\n",
    "    rm(filename)\n",
    "end\n",
    "\n",
    "@time open(filename, \"w\") do io\n",
    "    r = HTTP.request(\n",
    "        \"POST\",\n",
    "        joinpath(DIVAndFairEase.beacon_services[datasource], \"api/query\"),\n",
    "        [\"Content-type\" => \"application/json\", \"Authorization\" => \"Bearer $(token)\"],\n",
    "        query,\n",
    "        response_stream = io,\n",
    "    )\n",
    "    @info(r.status)\n",
    "end\n",
    "@info(\"File size: $(round(filesize(filename)/1000^2, digits=1))M\")"
   ]
  },
  {
   "cell_type": "code",
   "execution_count": 21,
   "id": "4c6e1af0-8aa1-4380-9083-e06021b4c35d",
   "metadata": {},
   "outputs": [
    {
     "data": {
      "text/plain": [
       "\"{\\\"odv\\\":{\\\"time_column\\\":{\\\"column_name\\\":\\\"JULD\\\"},\\\"depth_column\\\":{\\\"column_name\\\":\\\"PRES\\\"},\\\"data_columns\\\":[{\\\"column_name\\\":\\\"TEMP\\\"}],\\\"longitude_column\\\":{\\\"column_name\\\":\\\"LONGITUDE\\\"},\\\"latitude_column\\\":{\\\"column_name\\\":\\\"LATITUDE\\\"}}}\""
      ]
     },
     "execution_count": 21,
     "metadata": {},
     "output_type": "execute_result"
    }
   ],
   "source": [
    "JSON3.write(outputformatODV)"
   ]
  },
  {
   "cell_type": "code",
   "execution_count": 22,
   "id": "55fcbc45-ffe9-4896-968f-2f4b97fdd2fc",
   "metadata": {},
   "outputs": [
    {
     "data": {
      "text/plain": [
       "40.0"
      ]
     },
     "execution_count": 22,
     "metadata": {},
     "output_type": "execute_result"
    }
   ],
   "source": [
    "vmin = 0.0\n",
    "vmax = 40.0"
   ]
  }
 ],
 "metadata": {
  "kernelspec": {
   "display_name": "Julia 1.11.5",
   "language": "julia",
   "name": "julia-1.11"
  },
  "language_info": {
   "file_extension": ".jl",
   "mimetype": "application/julia",
   "name": "julia",
   "version": "1.11.5"
  }
 },
 "nbformat": 4,
 "nbformat_minor": 5
}
