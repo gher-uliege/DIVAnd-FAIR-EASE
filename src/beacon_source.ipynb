{
 "cells": [
  {
   "cell_type": "code",
   "execution_count": 82,
   "id": "a10cf53e",
   "metadata": {},
   "outputs": [
    {
     "name": "stderr",
     "output_type": "stream",
     "text": [
      "WARNING: replacing module ArgoFairEase.\n"
     ]
    }
   ],
   "source": [
    "using HTTP\n",
    "using JSON\n",
    "using JSON3\n",
    "using Dates\n",
    "using OrderedCollections\n",
    "include(\"./ArgoFairEase.jl\")\n",
    "token = ENV[\"beaconAPItoken\"];"
   ]
  },
  {
   "cell_type": "code",
   "execution_count": 83,
   "id": "38047554",
   "metadata": {},
   "outputs": [
    {
     "data": {
      "text/plain": [
       "2-element Vector{String}:\n",
       " \"../data\"\n",
       " \"./Footprint\""
      ]
     },
     "execution_count": 83,
     "metadata": {},
     "output_type": "execute_result"
    }
   ],
   "source": [
    "datadir = \"../data/\"\n",
    "footprintdir = \"./Footprint\"\n",
    "mkpath.([datadir, footprintdir])"
   ]
  },
  {
   "cell_type": "code",
   "execution_count": 77,
   "id": "ff3636ed",
   "metadata": {},
   "outputs": [
    {
     "name": "stderr",
     "output_type": "stream",
     "text": [
      "WARNING: redefinition of constant Main.beacon_services. This may fail, cause incorrect answers, or produce other errors.\n"
     ]
    }
   ],
   "source": [
    "const beacon_services = OrderedDict(\n",
    "    \"Euro-Argo\" => \"https://beacon-argo.maris.nl\",\n",
    "    \"CORA Profile\" => \"https://databeacon-cora-pr.maris.nl\",\n",
    "    \"CORA Timeseries\" => \"https://beacon-cora-ts.maris.nl\",\n",
    "    \"EMODnet Chemistry\" => \"https://databeacon-emod-chem.maris.nl\",\n",
    "    \"World Ocean Database\" => \"https://beacon-wod.maris.nl\",\n",
    "    \"SeaDataNet CDI TS\" => \"https://beacon-cdi-ts.maris.nl\",\n",
    "    \"CMEMS BGC\" => \"https://beacon-cmems.maris.nl\",\n",
    ");"
   ]
  },
  {
   "cell_type": "code",
   "execution_count": 97,
   "id": "23d88992",
   "metadata": {},
   "outputs": [
    {
     "name": "stderr",
     "output_type": "stream",
     "text": [
      "\u001b[36m\u001b[1m┌ \u001b[22m\u001b[39m\u001b[36m\u001b[1mInfo: \u001b[22m\u001b[39m2000-01-01\n",
      "\u001b[36m\u001b[1m└ \u001b[22m\u001b[39m  dateend = 2010-12-31\n"
     ]
    }
   ],
   "source": [
    "datasource = \"World Ocean Database\"\n",
    "domain = [26.5, 41.95, 40.0, 47.95]\n",
    "parameter1 = \"TEMP\"\n",
    "if datasource == \"World Ocean Database\"\n",
    "    parameter1 = \"Temperature\"\n",
    "end\n",
    "parameter2 = \"PSAL\"\n",
    "minlon = domain[1]\n",
    "maxlon = domain[2]\n",
    "minlat = domain[3]\n",
    "maxlat = domain[4]\n",
    "mindepth = 0.\n",
    "maxdepth = 20.\n",
    "dateref = Dates.Date(1950, 1, 1) #Days since 1950\n",
    "mintemporal = (mintemp - dateref).value #Days since 1950\n",
    "maxtemporal = (maxtemp - dateref).value #Days since 1950\n",
    "regionname = \"BlackSea\"\n",
    "datestart = Dates.Date(2000, 1, 1)\n",
    "dateend = Dates.Date(2010, 12, 31)\n",
    "@info(datestart, dateend)"
   ]
  },
  {
   "cell_type": "code",
   "execution_count": 98,
   "id": "b9fb8e8d",
   "metadata": {},
   "outputs": [
    {
     "name": "stderr",
     "output_type": "stream",
     "text": [
      "\u001b[36m\u001b[1m[ \u001b[22m\u001b[39m\u001b[36m\u001b[1mInfo: \u001b[22m\u001b[39mFootprint endpoint: https://beacon-wod.maris.nl/api/datasets/footprint\n",
      "\u001b[36m\u001b[1m[ \u001b[22m\u001b[39m\u001b[36m\u001b[1mInfo: \u001b[22m\u001b[39mFootprint file: ./Footprint/Footprint_World_Ocean_Database.json\n"
     ]
    }
   ],
   "source": [
    "# datasource = \"Euro-Argo\"\n",
    "beaconURL = beacon_services[datasource]\n",
    "footprintURL = joinpath(beaconURL, \"api/datasets/footprint\")\n",
    "datasource_name = replace(datasource, \" \" => \"_\")\n",
    "footprintfile = joinpath(footprintdir, \"Footprint_$(datasource_name).json\")\n",
    "@info(\"Footprint endpoint: $(footprintURL)\")\n",
    "@info(\"Footprint file: $(footprintfile)\")"
   ]
  },
  {
   "cell_type": "code",
   "execution_count": 87,
   "id": "b1dd39e2",
   "metadata": {},
   "outputs": [
    {
     "name": "stderr",
     "output_type": "stream",
     "text": [
      "\u001b[36m\u001b[1m[ \u001b[22m\u001b[39m\u001b[36m\u001b[1mInfo: \u001b[22m\u001b[39mWriting Footprint file\n",
      "\u001b[36m\u001b[1m[ \u001b[22m\u001b[39m\u001b[36m\u001b[1mInfo: \u001b[22m\u001b[39m200\n"
     ]
    }
   ],
   "source": [
    "if isfile(footprintfile)\n",
    "    @info(\"Footprint file already downloaded\")\n",
    "else\n",
    "    @info(\"Writing Footprint file\")\n",
    "    open(footprintfile, \"w\") do io\n",
    "        r = HTTP.request(\"GET\", footprintURL, \n",
    "            headers = [\"Authorization\" => \"Bearer $(token)\"],\n",
    "            response_stream=io)\n",
    "        @info(r.status)\n",
    "    end\n",
    "end"
   ]
  },
  {
   "cell_type": "code",
   "execution_count": 94,
   "id": "36f00eed",
   "metadata": {},
   "outputs": [],
   "source": [
    "# Note 1: the JSON file is 193M, just to get the list of variables?"
   ]
  },
  {
   "cell_type": "code",
   "execution_count": 88,
   "id": "3714211b",
   "metadata": {},
   "outputs": [
    {
     "data": {
      "text/plain": [
       "(false, false)"
      ]
     },
     "execution_count": 88,
     "metadata": {},
     "output_type": "execute_result"
    }
   ],
   "source": [
    "data = JSON.parsefile(footprintfile);\n",
    "attributes = data[\"unique_column_attributes\"]\n",
    "params = sort(collect(keys(attributes)));\n",
    "\"TEMP\" in params, \"PSAL\" in params"
   ]
  },
  {
   "cell_type": "code",
   "execution_count": 99,
   "id": "c3a37db3",
   "metadata": {},
   "outputs": [
    {
     "data": {
      "text/plain": [
       "true"
      ]
     },
     "execution_count": 99,
     "metadata": {},
     "output_type": "execute_result"
    }
   ],
   "source": [
    "parameter1 in params"
   ]
  },
  {
   "cell_type": "code",
   "execution_count": 100,
   "id": "08dbe983",
   "metadata": {},
   "outputs": [
    {
     "data": {
      "text/plain": [
       "\"{\\\"query_parameters\\\":[{\\\"column_name\\\":\\\"Temperature\\\",\\\"alias\\\":\\\"Temperature\\\"},{\\\"column_name\\\":\\\"time\\\",\\\"alias\\\":\\\"TIME\\\"},{\\\"column_name\\\":\\\"z\\\",\\\"alias\\\":\\\"DEPTH\\\"},{\\\"column_name\\\":\\\"lon\\\",\\\"alias\\\":\\\"LONGITUDE\\\"},{\\\"column_name\\\":\\\"lat\\\",\\\"alias\\\":\\\"LATITUDE\\\"},{\\\"column_name\\\":\\\"dataset\\\",\\\"alias\\\":\\\"DATASET\"\u001b[93m\u001b[1m ⋯ 283 bytes ⋯ \u001b[22m\u001b[39m\"e}],\\\"filters\\\":[{\\\"for_query_parameter\\\":\\\"TIME\\\",\\\"min\\\":18262,\\\"max\\\":22279},{\\\"for_query_parameter\\\":\\\"DEPTH\\\",\\\"min\\\":0.0,\\\"max\\\":20.0},{\\\"for_query_parameter\\\":\\\"LONGITUDE\\\",\\\"min\\\":26.5,\\\"max\\\":41.95},{\\\"for_query_parameter\\\":\\\"LATITUDE\\\",\\\"min\\\":40.0,\\\"max\\\":47.95}],\\\"output\\\":{\\\"format\\\":\\\"netcdf\\\"}}\""
      ]
     },
     "execution_count": 100,
     "metadata": {},
     "output_type": "execute_result"
    }
   ],
   "source": [
    "query = ArgoFairEase.prepare_query_new(datasource, parameter1, parameter2, datestart, dateend, \n",
    "    mindepth, maxdepth, minlon, maxlon, minlat, maxlat)"
   ]
  },
  {
   "cell_type": "code",
   "execution_count": 94,
   "id": "d179a5c0",
   "metadata": {},
   "outputs": [],
   "source": [
    "# Note 2: cannot work with such a long list of parameters!!"
   ]
  },
  {
   "cell_type": "code",
   "execution_count": 101,
   "id": "6738f946",
   "metadata": {},
   "outputs": [
    {
     "data": {
      "text/plain": [
       "\"../data/World_Ocean_Database_TEMP_BlackSea_20000101-20101231_0-20m.nc\""
      ]
     },
     "execution_count": 101,
     "metadata": {},
     "output_type": "execute_result"
    }
   ],
   "source": [
    "filename = joinpath(datadir, \"$(datasource_name)_$(parameter)_$(regionname)_$(Dates.format(datestart, \"yyyymmdd\"))-$(Dates.format(dateend, \"yyyymmdd\"))_$(Int(mindepth))-$(Int(maxdepth))m.nc\");\n",
    "filename"
   ]
  },
  {
   "cell_type": "code",
   "execution_count": 102,
   "id": "d40015d6",
   "metadata": {},
   "outputs": [
    {
     "name": "stderr",
     "output_type": "stream",
     "text": [
      "\u001b[36m\u001b[1m┌ \u001b[22m\u001b[39m\u001b[36m\u001b[1mInfo: \u001b[22m\u001b[39mData will be written in file:\n",
      "\u001b[36m\u001b[1m└ \u001b[22m\u001b[39m../data/World_Ocean_Database_TEMP_BlackSea_20000101-20101231_0-20m.nc\n"
     ]
    },
    {
     "name": "stdout",
     "output_type": "stream",
     "text": [
      "  0.683875 seconds (16.76 k allocations: 1.158 MiB, 3.13% compilation time)\n"
     ]
    },
    {
     "name": "stderr",
     "output_type": "stream",
     "text": [
      "\u001b[36m\u001b[1m[ \u001b[22m\u001b[39m\u001b[36m\u001b[1mInfo: \u001b[22m\u001b[39m204\n",
      "\u001b[36m\u001b[1m[ \u001b[22m\u001b[39m\u001b[36m\u001b[1mInfo: \u001b[22m\u001b[39mNetCDF file size: 0.0M\n"
     ]
    }
   ],
   "source": [
    "@info(\"Data will be written in file:\\n$(filename)\")\n",
    "\n",
    "if isfile(filename)\n",
    "    @info(\"File already downloaded\")\n",
    "    rm(filename)\n",
    "end\n",
    "begin\n",
    "    @time open(filename, \"w\") do io\n",
    "        r = HTTP.request(\"POST\", joinpath(beaconURL, \"api/query\"),\n",
    "            [\"Authorization\" => \"Bearer $(token)\", \n",
    "                \"Content-Type\" => \"application/json\",\n",
    "            ],\n",
    "            query,\n",
    "            response_stream=io);\n",
    "        @info(r.status)\n",
    "    end\n",
    "end;\n",
    "\n",
    "@info(\"NetCDF file size: $(round(filesize(filename)/1000^2, digits=1))M\")"
   ]
  },
  {
   "cell_type": "code",
   "execution_count": null,
   "id": "c54b4746",
   "metadata": {},
   "outputs": [],
   "source": []
  }
 ],
 "metadata": {
  "kernelspec": {
   "display_name": "Julia 1.10.4",
   "language": "julia",
   "name": "julia-1.10"
  },
  "language_info": {
   "file_extension": ".jl",
   "mimetype": "application/julia",
   "name": "julia",
   "version": "1.10.4"
  },
  "toc": {
   "base_numbering": 1,
   "nav_menu": {},
   "number_sections": true,
   "sideBar": true,
   "skip_h1_title": false,
   "title_cell": "Table of Contents",
   "title_sidebar": "Contents",
   "toc_cell": false,
   "toc_position": {},
   "toc_section_display": true,
   "toc_window_display": false
  }
 },
 "nbformat": 4,
 "nbformat_minor": 5
}
