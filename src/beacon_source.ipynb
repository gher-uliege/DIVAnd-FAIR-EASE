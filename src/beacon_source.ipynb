{
 "cells": [
  {
   "cell_type": "code",
   "execution_count": 1,
   "id": "a10cf53e",
   "metadata": {},
   "outputs": [
    {
     "name": "stderr",
     "output_type": "stream",
     "text": [
      "\u001b[32m\u001b[1m  Activating\u001b[22m\u001b[39m project at `~/Projects/DIVAnd-FAIR-EASE`\n"
     ]
    }
   ],
   "source": [
    "using Pkg\n",
    "Pkg.activate(\"../\")\n",
    "using HTTP\n",
    "using JSON\n",
    "using JSON3\n",
    "using Dates\n",
    "using OrderedCollections\n",
    "include(\"./DIVAndFairEase.jl\")\n",
    "token = ENV[\"beaconAPItoken\"];"
   ]
  },
  {
   "cell_type": "code",
   "execution_count": 2,
   "id": "38047554",
   "metadata": {},
   "outputs": [
    {
     "data": {
      "text/plain": [
       "2-element Vector{String}:\n",
       " \"../data\"\n",
       " \"../Footprint\""
      ]
     },
     "execution_count": 2,
     "metadata": {},
     "output_type": "execute_result"
    }
   ],
   "source": [
    "datadir = \"../data/\"\n",
    "footprintdir = \"../Footprint\"\n",
    "mkpath.([datadir, footprintdir])"
   ]
  },
  {
   "cell_type": "code",
   "execution_count": 3,
   "id": "ff3636ed",
   "metadata": {},
   "outputs": [],
   "source": [
    "const beacon_services = OrderedDict(\n",
    "    \"Euro-Argo\" => \"https://beacon-argo.maris.nl\",\n",
    "    \"CORA Profile\" => \"https://beacon-cora-pr.maris.nl\",\n",
    "    \"CORA Timeseries\" => \"https://beacon-cora-ts.maris.nl\",\n",
    "    \"EMODnet Chemistry\" => \"https://beacon-emod-chem.maris.nl\",\n",
    "    \"World Ocean Database\" => \"https://beacon-wod.maris.nl\",\n",
    "    \"SeaDataNet CDI TS\" => \"https://beacon-cdi-ts.maris.nl\",\n",
    "    \"CMEMS BGC\" => \"https://beacon-cmems.maris.nl\",\n",
    ");"
   ]
  },
  {
   "cell_type": "code",
   "execution_count": 11,
   "id": "23d88992",
   "metadata": {},
   "outputs": [
    {
     "name": "stderr",
     "output_type": "stream",
     "text": [
      "\u001b[36m\u001b[1m[ \u001b[22m\u001b[39m\u001b[36m\u001b[1mInfo: \u001b[22m\u001b[39m1950-01-01 → 2024-01-01, TEMP\n"
     ]
    }
   ],
   "source": [
    "datasource = \"Euro-Argo\"\n",
    "domain = [12., 18., 43., 46.]\n",
    "parameter1 = \"TEMP\"\n",
    "if datasource == \"World Ocean Database\"\n",
    "    parameter1 = \"Temperature\"\n",
    "elseif datasource == \"EMODnet Chemistry\"  \n",
    "    parameter1 = \"ITS_90_water_temperature\"\n",
    "elseif datasource == \"SeaDataNet CDI TS\"\n",
    "    parameter1 = \"ITS-90 water temperature\"\n",
    "end\n",
    "parameter2 = \"PSAL\"\n",
    "datestart = Dates.Date(1950, 1, 1)\n",
    "dateend = Dates.Date(2024, 1, 1)\n",
    "minlon = domain[1]\n",
    "maxlon = domain[2]\n",
    "minlat = domain[3]\n",
    "maxlat = domain[4]\n",
    "mindepth = 0.\n",
    "maxdepth = 10.\n",
    "regionname = \"NorthAdriaticSea\"\n",
    "@info(\"$(datestart) → $(dateend), $(parameter1)\")"
   ]
  },
  {
   "cell_type": "code",
   "execution_count": 7,
   "id": "b9fb8e8d",
   "metadata": {},
   "outputs": [
    {
     "name": "stderr",
     "output_type": "stream",
     "text": [
      "\u001b[36m\u001b[1m[ \u001b[22m\u001b[39m\u001b[36m\u001b[1mInfo: \u001b[22m\u001b[39mFootprint endpoint: https://beacon-argo.maris.nl/api/datasets/footprint\n",
      "\u001b[36m\u001b[1m[ \u001b[22m\u001b[39m\u001b[36m\u001b[1mInfo: \u001b[22m\u001b[39mFootprint file: ../Footprint/Footprint_Euro-Argo.json\n"
     ]
    }
   ],
   "source": [
    "beaconURL = beacon_services[datasource]\n",
    "footprintURL = joinpath(beaconURL, \"api/datasets/footprint\")\n",
    "datasource_name = replace(datasource, \" \" => \"_\")\n",
    "footprintfile = joinpath(footprintdir, \"Footprint_$(datasource_name).json\")\n",
    "@info(\"Footprint endpoint: $(footprintURL)\")\n",
    "@info(\"Footprint file: $(footprintfile)\")"
   ]
  },
  {
   "cell_type": "code",
   "execution_count": 8,
   "id": "b1dd39e2",
   "metadata": {},
   "outputs": [
    {
     "name": "stderr",
     "output_type": "stream",
     "text": [
      "\u001b[36m\u001b[1m[ \u001b[22m\u001b[39m\u001b[36m\u001b[1mInfo: \u001b[22m\u001b[39mWriting Footprint file\n",
      "\u001b[36m\u001b[1m[ \u001b[22m\u001b[39m\u001b[36m\u001b[1mInfo: \u001b[22m\u001b[39m200\n"
     ]
    }
   ],
   "source": [
    "if isfile(footprintfile)\n",
    "    @info(\"Footprint file already downloaded\")\n",
    "else\n",
    "    @info(\"Writing Footprint file\")\n",
    "    open(footprintfile, \"w\") do io\n",
    "        r = HTTP.request(\"GET\", footprintURL, \n",
    "            [\"Authorization\" => \"Bearer $(token)\"],\n",
    "            response_stream=io)\n",
    "        @info(r.status)\n",
    "    end\n",
    "end"
   ]
  },
  {
   "cell_type": "code",
   "execution_count": 9,
   "id": "36f00eed",
   "metadata": {},
   "outputs": [],
   "source": [
    "# Note 1: the JSON file is 193M, just to get the list of variables?"
   ]
  },
  {
   "cell_type": "code",
   "execution_count": 10,
   "id": "74a06722",
   "metadata": {},
   "outputs": [
    {
     "name": "stdout",
     "output_type": "stream",
     "text": [
      "params = [\"BBP470\", \"BBP470_ADJUSTED\", \"BBP470_ADJUSTED_ERROR\", \"BBP470_ADJUSTED_QC\", \"BBP470_QC\", \"BBP470_dPRES\", \"BBP532\", \"BBP532_ADJUSTED\", \"BBP532_ADJUSTED_ERROR\", \"BBP532_ADJUSTED_QC\", \"BBP532_QC\", \"BBP532_dPRES\", \"BBP700\", \"BBP700_2\", \"BBP700_2_ADJUSTED\", \"BBP700_2_ADJUSTED_ERROR\", \"BBP700_2_ADJUSTED_QC\", \"BBP700_2_QC\", \"BBP700_2_dPRES\", \"BBP700_ADJUSTED\", \"BBP700_ADJUSTED_ERROR\", \"BBP700_ADJUSTED_QC\", \"BBP700_QC\", \"BBP700_dPRES\", \"BETA_BACKSCATTERING470\", \"BETA_BACKSCATTERING470_QC\", \"BETA_BACKSCATTERING532\", \"BETA_BACKSCATTERING532_MED\", \"BETA_BACKSCATTERING532_MED_QC\", \"BETA_BACKSCATTERING532_QC\", \"BETA_BACKSCATTERING532_STD\", \"BETA_BACKSCATTERING532_STD_QC\", \"BETA_BACKSCATTERING700\", \"BETA_BACKSCATTERING700_2\", \"BETA_BACKSCATTERING700_2_QC\", \"BETA_BACKSCATTERING700_MED\", \"BETA_BACKSCATTERING700_MED_QC\", \"BETA_BACKSCATTERING700_QC\", \"BETA_BACKSCATTERING700_STD\", \"BETA_BACKSCATTERING700_STD_QC\", \"BISULFIDE\", \"BISULFIDE_ADJUSTED\", \"BISULFIDE_ADJUSTED_ERROR\", \"BISULFIDE_ADJUSTED_QC\", \"BISULFIDE_QC\", \"BISULFIDE_dPRES\", \"BPHASE_DOXY\", \"BPHASE_DOXY2\", \"BPHASE_DOXY2_ADJUSTED\", \"BPHASE_DOXY2_ADJUSTED_ERROR\", \"BPHASE_DOXY2_ADJUSTED_QC\", \"BPHASE_DOXY2_QC\", \"BPHASE_DOXY_ADJUSTED\", \"BPHASE_DOXY_ADJUSTED_ERROR\", \"BPHASE_DOXY_ADJUSTED_QC\", \"BPHASE_DOXY_QC\", \"C1PHASE_DOXY\", \"C1PHASE_DOXY_ADJUSTED\", \"C1PHASE_DOXY_ADJUSTED_ERROR\", \"C1PHASE_DOXY_ADJUSTED_QC\", \"C1PHASE_DOXY_MED\", \"C1PHASE_DOXY_MED_QC\", \"C1PHASE_DOXY_QC\", \"C1PHASE_DOXY_STD\", \"C1PHASE_DOXY_STD_QC\", \"C2PHASE_DOXY\", \"C2PHASE_DOXY_ADJUSTED\", \"C2PHASE_DOXY_ADJUSTED_ERROR\", \"C2PHASE_DOXY_ADJUSTED_QC\", \"C2PHASE_DOXY_MED\", \"C2PHASE_DOXY_MED_QC\", \"C2PHASE_DOXY_QC\", \"C2PHASE_DOXY_STD\", \"C2PHASE_DOXY_STD_QC\", \"CALIBRATION_DATE\", \"CDOM\", \"CDOM_ADJUSTED\", \"CDOM_ADJUSTED_ERROR\", \"CDOM_ADJUSTED_QC\", \"CDOM_QC\", \"CDOM_dPRES\", \"CHLA\", \"CHLA_ADJUSTED\", \"CHLA_ADJUSTED_ERROR\", \"CHLA_ADJUSTED_QC\", \"CHLA_FLUORESCENCE\", \"CHLA_FLUORESCENCE_ADJUSTED\", \"CHLA_FLUORESCENCE_ADJUSTED_ERROR\", \"CHLA_FLUORESCENCE_ADJUSTED_QC\", \"CHLA_FLUORESCENCE_QC\", \"CHLA_FLUORESCENCE_dPRES\", \"CHLA_QC\", \"CHLA_dPRES\", \"CNDC\", \"CNDC_ADJUSTED\", \"CNDC_ADJUSTED_ERROR\", \"CNDC_ADJUSTED_QC\", \"CNDC_QC\", \"CNDC_dPRES\", \"CONFIG_MISSION_NUMBER\", \"COUNT_DOXY\", \"COUNT_DOXY_QC\", \"CP660\", \"CP660_ADJUSTED\", \"CP660_ADJUSTED_ERROR\", \"CP660_ADJUSTED_QC\", \"CP660_MED\", \"CP660_MED_QC\", \"CP660_QC\", \"CP660_STD\", \"CP660_STD_QC\", \"CP660_dPRES\", \"CYCLE_NUMBER\", \"DATA_CENTRE\", \"DATA_MODE\", \"DATA_STATE_INDICATOR\", \"DATA_TYPE\", \"DATE_CREATION\", \"DATE_UPDATE\", \"DC_REFERENCE\", \"DIRECTION\", \"DOWNWELLING_PAR\", \"DOWNWELLING_PAR_ADJUSTED\", \"DOWNWELLING_PAR_ADJUSTED_ERROR\", \"DOWNWELLING_PAR_ADJUSTED_QC\", \"DOWNWELLING_PAR_QC\", \"DOWNWELLING_PAR_dPRES\", \"DOWN_IRRADIANCE380\", \"DOWN_IRRADIANCE380_ADJUSTED\", \"DOWN_IRRADIANCE380_ADJUSTED_ERROR\", \"DOWN_IRRADIANCE380_ADJUSTED_QC\", \"DOWN_IRRADIANCE380_QC\", \"DOWN_IRRADIANCE380_dPRES\", \"DOWN_IRRADIANCE412\", \"DOWN_IRRADIANCE412_ADJUSTED\", \"DOWN_IRRADIANCE412_ADJUSTED_ERROR\", \"DOWN_IRRADIANCE412_ADJUSTED_QC\", \"DOWN_IRRADIANCE412_QC\", \"DOWN_IRRADIANCE412_dPRES\", \"DOWN_IRRADIANCE443\", \"DOWN_IRRADIANCE443_ADJUSTED\", \"DOWN_IRRADIANCE443_ADJUSTED_ERROR\", \"DOWN_IRRADIANCE443_ADJUSTED_QC\", \"DOWN_IRRADIANCE443_QC\", \"DOWN_IRRADIANCE443_dPRES\", \"DOWN_IRRADIANCE490\", \"DOWN_IRRADIANCE490_ADJUSTED\", \"DOWN_IRRADIANCE490_ADJUSTED_ERROR\", \"DOWN_IRRADIANCE490_ADJUSTED_QC\", \"DOWN_IRRADIANCE490_QC\", \"DOWN_IRRADIANCE490_dPRES\", \"DOWN_IRRADIANCE555\", \"DOWN_IRRADIANCE555_ADJUSTED\", \"DOWN_IRRADIANCE555_ADJUSTED_ERROR\", \"DOWN_IRRADIANCE555_ADJUSTED_QC\", \"DOWN_IRRADIANCE555_QC\", \"DOWN_IRRADIANCE555_dPRES\", \"DOWN_IRRADIANCE665\", \"DOWN_IRRADIANCE665_ADJUSTED\", \"DOWN_IRRADIANCE665_ADJUSTED_ERROR\", \"DOWN_IRRADIANCE665_ADJUSTED_QC\", \"DOWN_IRRADIANCE665_QC\", \"DOWN_IRRADIANCE665_dPRES\", \"DOWN_IRRADIANCE670\", \"DOWN_IRRADIANCE670_ADJUSTED\", \"DOWN_IRRADIANCE670_ADJUSTED_ERROR\", \"DOWN_IRRADIANCE670_ADJUSTED_QC\", \"DOWN_IRRADIANCE670_QC\", \"DOWN_IRRADIANCE670_dPRES\", \"DOXY\", \"DOXY2\", \"DOXY2_ADJUSTED\", \"DOXY2_ADJUSTED_ERROR\", \"DOXY2_ADJUSTED_QC\", \"DOXY2_QC\", \"DOXY2_dPRES\", \"DOXY3\", \"DOXY3_ADJUSTED\", \"DOXY3_ADJUSTED_ERROR\", \"DOXY3_ADJUSTED_QC\", \"DOXY3_QC\", \"DOXY3_dPRES\", \"DOXY_ADJUSTED\", \"DOXY_ADJUSTED_ERROR\", \"DOXY_ADJUSTED_QC\", \"DOXY_QC\", \"DOXY_dPRES\", \"DPHASE_DOXY\", \"DPHASE_DOXY_QC\", \"FIRMWARE_VERSION\", \"FIT_ERROR_NITRATE\", \"FIT_ERROR_NITRATE_QC\", \"FLOAT_SERIAL_NO\", \"FLUORESCENCE_CDOM\", \"FLUORESCENCE_CDOM_MED\", \"FLUORESCENCE_CDOM_MED_QC\", \"FLUORESCENCE_CDOM_QC\", \"FLUORESCENCE_CDOM_STD\", \"FLUORESCENCE_CDOM_STD_QC\", \"FLUORESCENCE_CHLA\", \"FLUORESCENCE_CHLA_MED\", \"FLUORESCENCE_CHLA_MED_QC\", \"FLUORESCENCE_CHLA_QC\", \"FLUORESCENCE_CHLA_STD\", \"FLUORESCENCE_CHLA_STD_QC\", \"FORMAT_VERSION\", \"FREQUENCY_DOXY\", \"FREQUENCY_DOXY_ADJUSTED\", \"FREQUENCY_DOXY_ADJUSTED_ERROR\", \"FREQUENCY_DOXY_ADJUSTED_QC\", \"FREQUENCY_DOXY_QC\", \"HANDBOOK_VERSION\", \"HISTORY_ACTION\", \"HISTORY_DATE\", \"HISTORY_INSTITUTION\", \"HISTORY_PARAMETER\", \"HISTORY_PREVIOUS_VALUE\", \"HISTORY_QCTEST\", \"HISTORY_REFERENCE\", \"HISTORY_SOFTWARE\", \"HISTORY_SOFTWARE_RELEASE\", \"HISTORY_START_PRES\", \"HISTORY_STEP\", \"HISTORY_STOP_PRES\", \"HUMIDITY_NITRATE\", \"HUMIDITY_NITRATE_QC\", \"IB_PH\", \"IB_PH_QC\", \"IK_PH\", \"IK_PH_QC\", \"INST_REFERENCE\", \"JULD\", \"JULD_LOCATION\", \"JULD_QC\", \"LATITUDE\", \"LED_FLASHING_COUNT_DOXY\", \"LED_FLASHING_COUNT_DOXY_QC\", \"LONGITUDE\", \"MOLAR_DOXY\", \"MOLAR_DOXY_ADJUSTED\", \"MOLAR_DOXY_ADJUSTED_ERROR\", \"MOLAR_DOXY_ADJUSTED_QC\", \"MOLAR_DOXY_QC\", \"MOLAR_NITRATE\", \"MOLAR_NITRATE_QC\", \"MTIME\", \"MTIME_ADJUSTED\", \"MTIME_ADJUSTED_ERROR\", \"MTIME_ADJUSTED_QC\", \"MTIME_QC\", \"NB_SAMPLE_CTD\", \"NB_SAMPLE_CTD_QC\", \"NB_SAMPLE_SFET\", \"NB_SAMPLE_SFET_QC\", \"NITRATE\", \"NITRATE_ADJUSTED\", \"NITRATE_ADJUSTED_ERROR\", \"NITRATE_ADJUSTED_QC\", \"NITRATE_QC\", \"NITRATE_dPRES\", \"PARAMETER\", \"PARAMETER_DATA_MODE\", \"PHASE_DELAY_DOXY\", \"PHASE_DELAY_DOXY2\", \"PHASE_DELAY_DOXY2_ADJUSTED\", \"PHASE_DELAY_DOXY2_ADJUSTED_ERROR\", \"PHASE_DELAY_DOXY2_ADJUSTED_QC\", \"PHASE_DELAY_DOXY2_QC\", \"PHASE_DELAY_DOXY_ADJUSTED\", \"PHASE_DELAY_DOXY_ADJUSTED_ERROR\", \"PHASE_DELAY_DOXY_ADJUSTED_QC\", \"PHASE_DELAY_DOXY_QC\", \"PH_IN_SITU_FREE\", \"PH_IN_SITU_FREE_QC\", \"PH_IN_SITU_TOTAL\", \"PH_IN_SITU_TOTAL_ADJUSTED\", \"PH_IN_SITU_TOTAL_ADJUSTED_ERROR\", \"PH_IN_SITU_TOTAL_ADJUSTED_QC\", \"PH_IN_SITU_TOTAL_QC\", \"PH_IN_SITU_TOTAL_dPRES\", \"PI_NAME\", \"PLATFORM_NUMBER\", \"PLATFORM_TYPE\", \"POSITIONING_SYSTEM\", \"POSITION_QC\", \"PPOX_DOXY\", \"PPOX_DOXY_ADJUSTED\", \"PPOX_DOXY_ADJUSTED_ERROR\", \"PPOX_DOXY_ADJUSTED_QC\", \"PPOX_DOXY_QC\", \"PRES\", \"PRES_ADJUSTED\", \"PRES_ADJUSTED_ERROR\", \"PRES_ADJUSTED_QC\", \"PRES_MED\", \"PRES_MED_QC\", \"PRES_QC\", \"PROFILE_BBP470_QC\", \"PROFILE_BBP532_QC\", \"PROFILE_BBP700_2_QC\", \"PROFILE_BBP700_QC\", \"PROFILE_BETA_BACKSCATTERING470_QC\", \"PROFILE_BETA_BACKSCATTERING532_MED_QC\", \"PROFILE_BETA_BACKSCATTERING532_QC\", \"PROFILE_BETA_BACKSCATTERING532_STD_QC\", \"PROFILE_BETA_BACKSCATTERING700_2_QC\", \"PROFILE_BETA_BACKSCATTERING700_MED_QC\", \"PROFILE_BETA_BACKSCATTERING700_QC\", \"PROFILE_BETA_BACKSCATTERING700_STD_QC\", \"PROFILE_BISULFIDE_QC\", \"PROFILE_BPHASE_DOXY2_QC\", \"PROFILE_BPHASE_DOXY_QC\", \"PROFILE_C1PHASE_DOXY_MED_QC\", \"PROFILE_C1PHASE_DOXY_QC\", \"PROFILE_C1PHASE_DOXY_STD_QC\", \"PROFILE_C2PHASE_DOXY_MED_QC\", \"PROFILE_C2PHASE_DOXY_QC\", \"PROFILE_C2PHASE_DOXY_STD_QC\", \"PROFILE_CDOM_QC\", \"PROFILE_CHLA_FLUORESCENCE_QC\", \"PROFILE_CHLA_QC\", \"PROFILE_CNDC_QC\", \"PROFILE_COUNT_DOXY_QC\", \"PROFILE_CP660_MED_QC\", \"PROFILE_CP660_QC\", \"PROFILE_CP660_STD_QC\", \"PROFILE_DOWNWELLING_PAR_QC\", \"PROFILE_DOWN_IRRADIANCE380_QC\", \"PROFILE_DOWN_IRRADIANCE412_QC\", \"PROFILE_DOWN_IRRADIANCE443_QC\", \"PROFILE_DOWN_IRRADIANCE490_QC\", \"PROFILE_DOWN_IRRADIANCE555_QC\", \"PROFILE_DOWN_IRRADIANCE665_QC\", \"PROFILE_DOWN_IRRADIANCE670_QC\", \"PROFILE_DOXY2_QC\", \"PROFILE_DOXY3_QC\", \"PROFILE_DOXY_QC\", \"PROFILE_DPHASE_DOXY_QC\", \"PROFILE_FIT_ERROR_NITRATE_QC\", \"PROFILE_FLUORESCENCE_CDOM_MED_QC\", \"PROFILE_FLUORESCENCE_CDOM_QC\", \"PROFILE_FLUORESCENCE_CDOM_STD_QC\", \"PROFILE_FLUORESCENCE_CHLA_MED_QC\", \"PROFILE_FLUORESCENCE_CHLA_QC\", \"PROFILE_FLUORESCENCE_CHLA_STD_QC\", \"PROFILE_FREQUENCY_DOXY_QC\", \"PROFILE_HUMIDITY_NITRATE_QC\", \"PROFILE_IB_PH_QC\", \"PROFILE_IK_PH_QC\", \"PROFILE_LED_FLASHING_COUNT_DOXY_QC\", \"PROFILE_MOLAR_DOXY_QC\", \"PROFILE_MOLAR_NITRATE_QC\", \"PROFILE_MTIME_QC\", \"PROFILE_NB_SAMPLE_CTD_QC\", \"PROFILE_NB_SAMPLE_SFET_QC\", \"PROFILE_NITRATE_QC\", \"PROFILE_PHASE_DELAY_DOXY2_QC\", \"PROFILE_PHASE_DELAY_DOXY_QC\", \"PROFILE_PH_IN_SITU_FREE_QC\", \"PROFILE_PH_IN_SITU_TOTAL_QC\", \"PROFILE_PPOX_DOXY_QC\", \"PROFILE_PRES_MED_QC\", \"PROFILE_PRES_QC\", \"PROFILE_PSAL_MED_QC\", \"PROFILE_PSAL_QC\", \"PROFILE_PSAL_STD_QC\", \"PROFILE_RAW_DOWNWELLING_IRRADIANCE380_MED_QC\", \"PROFILE_RAW_DOWNWELLING_IRRADIANCE380_QC\", \"PROFILE_RAW_DOWNWELLING_IRRADIANCE380_STD_QC\", \"PROFILE_RAW_DOWNWELLING_IRRADIANCE412_MED_QC\", \"PROFILE_RAW_DOWNWELLING_IRRADIANCE412_QC\", \"PROFILE_RAW_DOWNWELLING_IRRADIANCE412_STD_QC\", \"PROFILE_RAW_DOWNWELLING_IRRADIANCE443_MED_QC\", \"PROFILE_RAW_DOWNWELLING_IRRADIANCE443_QC\", \"PROFILE_RAW_DOWNWELLING_IRRADIANCE443_STD_QC\", \"PROFILE_RAW_DOWNWELLING_IRRADIANCE490_MED_QC\", \"PROFILE_RAW_DOWNWELLING_IRRADIANCE490_QC\", \"PROFILE_RAW_DOWNWELLING_IRRADIANCE490_STD_QC\", \"PROFILE_RAW_DOWNWELLING_IRRADIANCE555_MED_QC\", \"PROFILE_RAW_DOWNWELLING_IRRADIANCE555_QC\", \"PROFILE_RAW_DOWNWELLING_IRRADIANCE555_STD_QC\", \"PROFILE_RAW_DOWNWELLING_IRRADIANCE665_MED_QC\", \"PROFILE_RAW_DOWNWELLING_IRRADIANCE665_QC\", \"PROFILE_RAW_DOWNWELLING_IRRADIANCE665_STD_QC\", \"PROFILE_RAW_DOWNWELLING_PAR_MED_QC\", \"PROFILE_RAW_DOWNWELLING_PAR_QC\", \"PROFILE_RAW_DOWNWELLING_PAR_STD_QC\", \"PROFILE_RAW_UPWELLING_RADIANCE412_QC\", \"PROFILE_RAW_UPWELLING_RADIANCE443_QC\", \"PROFILE_RAW_UPWELLING_RADIANCE490_QC\", \"PROFILE_RAW_UPWELLING_RADIANCE555_QC\", \"PROFILE_RPHASE_DOXY2_QC\", \"PROFILE_RPHASE_DOXY_QC\", \"PROFILE_SIDE_SCATTERING_TURBIDITY_QC\", \"PROFILE_TEMP_CNDC_QC\", \"PROFILE_TEMP_COUNT_DOXY_QC\", \"PROFILE_TEMP_CPU_CHLA_QC\", \"PROFILE_TEMP_DOXY2_QC\", \"PROFILE_TEMP_DOXY3_QC\", \"PROFILE_TEMP_DOXY_MED_QC\", \"PROFILE_TEMP_DOXY_QC\", \"PROFILE_TEMP_DOXY_STD_QC\", \"PROFILE_TEMP_MED_QC\", \"PROFILE_TEMP_NITRATE_QC\", \"PROFILE_TEMP_PH_QC\", \"PROFILE_TEMP_QC\", \"PROFILE_TEMP_SPECTROPHOTOMETER_NITRATE_QC\", \"PROFILE_TEMP_STD_QC\", \"PROFILE_TEMP_VOLTAGE_DOXY_QC\", \"PROFILE_TILT_QC\", \"PROFILE_TILT_STD_QC\", \"PROFILE_TPHASE_DOXY2_QC\", \"PROFILE_TPHASE_DOXY3_QC\", \"PROFILE_TPHASE_DOXY_QC\", \"PROFILE_TRANSMITTANCE_PARTICLE_BEAM_ATTENUATION660_MED_QC\", \"PROFILE_TRANSMITTANCE_PARTICLE_BEAM_ATTENUATION660_QC\", \"PROFILE_TRANSMITTANCE_PARTICLE_BEAM_ATTENUATION660_STD_QC\", \"PROFILE_TURBIDITY_QC\", \"PROFILE_UP_RADIANCE412_QC\", \"PROFILE_UP_RADIANCE443_QC\", \"PROFILE_UP_RADIANCE490_QC\", \"PROFILE_UP_RADIANCE555_QC\", \"PROFILE_UV_INTENSITY_DARK_NITRATE_QC\", \"PROFILE_UV_INTENSITY_DARK_NITRATE_STD_QC\", \"PROFILE_UV_INTENSITY_DARK_SEAWATER_NITRATE_QC\", \"PROFILE_UV_INTENSITY_NITRATE_QC\", \"PROFILE_VK_PH_QC\", \"PROFILE_VRS_PH_MED_QC\", \"PROFILE_VRS_PH_QC\", \"PROFILE_VRS_PH_STD_QC\", \"PROJECT_NAME\", \"PSAL\", \"PSAL_ADJUSTED\", \"PSAL_ADJUSTED_ERROR\", \"PSAL_ADJUSTED_QC\", \"PSAL_MED\", \"PSAL_MED_QC\", \"PSAL_QC\", \"PSAL_STD\", \"PSAL_STD_QC\", \"PSAL_dPRES\", \"RAW_DOWNWELLING_IRRADIANCE380\", \"RAW_DOWNWELLING_IRRADIANCE380_MED\", \"RAW_DOWNWELLING_IRRADIANCE380_MED_QC\", \"RAW_DOWNWELLING_IRRADIANCE380_QC\", \"RAW_DOWNWELLING_IRRADIANCE380_STD\", \"RAW_DOWNWELLING_IRRADIANCE380_STD_QC\", \"RAW_DOWNWELLING_IRRADIANCE412\", \"RAW_DOWNWELLING_IRRADIANCE412_MED\", \"RAW_DOWNWELLING_IRRADIANCE412_MED_QC\", \"RAW_DOWNWELLING_IRRADIANCE412_QC\", \"RAW_DOWNWELLING_IRRADIANCE412_STD\", \"RAW_DOWNWELLING_IRRADIANCE412_STD_QC\", \"RAW_DOWNWELLING_IRRADIANCE443\", \"RAW_DOWNWELLING_IRRADIANCE443_MED\", \"RAW_DOWNWELLING_IRRADIANCE443_MED_QC\", \"RAW_DOWNWELLING_IRRADIANCE443_QC\", \"RAW_DOWNWELLING_IRRADIANCE443_STD\", \"RAW_DOWNWELLING_IRRADIANCE443_STD_QC\", \"RAW_DOWNWELLING_IRRADIANCE490\", \"RAW_DOWNWELLING_IRRADIANCE490_MED\", \"RAW_DOWNWELLING_IRRADIANCE490_MED_QC\", \"RAW_DOWNWELLING_IRRADIANCE490_QC\", \"RAW_DOWNWELLING_IRRADIANCE490_STD\", \"RAW_DOWNWELLING_IRRADIANCE490_STD_QC\", \"RAW_DOWNWELLING_IRRADIANCE555\", \"RAW_DOWNWELLING_IRRADIANCE555_MED\", \"RAW_DOWNWELLING_IRRADIANCE555_MED_QC\", \"RAW_DOWNWELLING_IRRADIANCE555_QC\", \"RAW_DOWNWELLING_IRRADIANCE555_STD\", \"RAW_DOWNWELLING_IRRADIANCE555_STD_QC\", \"RAW_DOWNWELLING_IRRADIANCE665\", \"RAW_DOWNWELLING_IRRADIANCE665_MED\", \"RAW_DOWNWELLING_IRRADIANCE665_MED_QC\", \"RAW_DOWNWELLING_IRRADIANCE665_QC\", \"RAW_DOWNWELLING_IRRADIANCE665_STD\", \"RAW_DOWNWELLING_IRRADIANCE665_STD_QC\", \"RAW_DOWNWELLING_PAR\", \"RAW_DOWNWELLING_PAR_MED\", \"RAW_DOWNWELLING_PAR_MED_QC\", \"RAW_DOWNWELLING_PAR_QC\", \"RAW_DOWNWELLING_PAR_STD\", \"RAW_DOWNWELLING_PAR_STD_QC\", \"RAW_UPWELLING_RADIANCE412\", \"RAW_UPWELLING_RADIANCE412_QC\", \"RAW_UPWELLING_RADIANCE443\", \"RAW_UPWELLING_RADIANCE443_QC\", \"RAW_UPWELLING_RADIANCE490\", \"RAW_UPWELLING_RADIANCE490_QC\", \"RAW_UPWELLING_RADIANCE555\", \"RAW_UPWELLING_RADIANCE555_QC\", \"REFERENCE_DATE_TIME\", \"RPHASE_DOXY\", \"RPHASE_DOXY2\", \"RPHASE_DOXY2_ADJUSTED\", \"RPHASE_DOXY2_ADJUSTED_ERROR\", \"RPHASE_DOXY2_ADJUSTED_QC\", \"RPHASE_DOXY2_QC\", \"RPHASE_DOXY_ADJUSTED\", \"RPHASE_DOXY_ADJUSTED_ERROR\", \"RPHASE_DOXY_ADJUSTED_QC\", \"RPHASE_DOXY_QC\", \"SCIENTIFIC_CALIB_COEFFICIENT\", \"SCIENTIFIC_CALIB_COMMENT\", \"SCIENTIFIC_CALIB_DATE\", \"SCIENTIFIC_CALIB_EQUATION\", \"SIDE_SCATTERING_TURBIDITY\", \"SIDE_SCATTERING_TURBIDITY_QC\", \"STATION_PARAMETERS\", \"TEMP\", \"TEMP_ADJUSTED\", \"TEMP_ADJUSTED_ERROR\", \"TEMP_ADJUSTED_QC\", \"TEMP_CNDC\", \"TEMP_CNDC_ADJUSTED\", \"TEMP_CNDC_ADJUSTED_ERROR\", \"TEMP_CNDC_ADJUSTED_QC\", \"TEMP_CNDC_QC\", \"TEMP_COUNT_DOXY\", \"TEMP_COUNT_DOXY_QC\", \"TEMP_CPU_CHLA\", \"TEMP_CPU_CHLA_QC\", \"TEMP_DOXY\", \"TEMP_DOXY2\", \"TEMP_DOXY2_ADJUSTED\", \"TEMP_DOXY2_ADJUSTED_ERROR\", \"TEMP_DOXY2_ADJUSTED_QC\", \"TEMP_DOXY2_QC\", \"TEMP_DOXY3\", \"TEMP_DOXY3_ADJUSTED\", \"TEMP_DOXY3_ADJUSTED_ERROR\", \"TEMP_DOXY3_ADJUSTED_QC\", \"TEMP_DOXY3_QC\", \"TEMP_DOXY_ADJUSTED\", \"TEMP_DOXY_ADJUSTED_ERROR\", \"TEMP_DOXY_ADJUSTED_QC\", \"TEMP_DOXY_MED\", \"TEMP_DOXY_MED_QC\", \"TEMP_DOXY_QC\", \"TEMP_DOXY_STD\", \"TEMP_DOXY_STD_QC\", \"TEMP_MED\", \"TEMP_MED_QC\", \"TEMP_NITRATE\", \"TEMP_NITRATE_QC\", \"TEMP_PH\", \"TEMP_PH_QC\", \"TEMP_QC\", \"TEMP_SPECTROPHOTOMETER_NITRATE\", \"TEMP_SPECTROPHOTOMETER_NITRATE_QC\", \"TEMP_STD\", \"TEMP_STD_QC\", \"TEMP_VOLTAGE_DOXY\", \"TEMP_VOLTAGE_DOXY_QC\", \"TEMP_dPRES\", \"TILT\", \"TILT_ADJUSTED\", \"TILT_ADJUSTED_ERROR\", \"TILT_ADJUSTED_QC\", \"TILT_QC\", \"TILT_STD\", \"TILT_STD_QC\", \"TPHASE_DOXY\", \"TPHASE_DOXY2\", \"TPHASE_DOXY2_ADJUSTED\", \"TPHASE_DOXY2_ADJUSTED_ERROR\", \"TPHASE_DOXY2_ADJUSTED_QC\", \"TPHASE_DOXY2_QC\", \"TPHASE_DOXY3\", \"TPHASE_DOXY3_ADJUSTED\", \"TPHASE_DOXY3_ADJUSTED_ERROR\", \"TPHASE_DOXY3_ADJUSTED_QC\", \"TPHASE_DOXY3_QC\", \"TPHASE_DOXY_ADJUSTED\", \"TPHASE_DOXY_ADJUSTED_ERROR\", \"TPHASE_DOXY_ADJUSTED_QC\", \"TPHASE_DOXY_QC\", \"TRANSMITTANCE_PARTICLE_BEAM_ATTENUATION660\", \"TRANSMITTANCE_PARTICLE_BEAM_ATTENUATION660_MED\", \"TRANSMITTANCE_PARTICLE_BEAM_ATTENUATION660_MED_QC\", \"TRANSMITTANCE_PARTICLE_BEAM_ATTENUATION660_QC\", \"TRANSMITTANCE_PARTICLE_BEAM_ATTENUATION660_STD\", \"TRANSMITTANCE_PARTICLE_BEAM_ATTENUATION660_STD_QC\", \"TURBIDITY\", \"TURBIDITY_ADJUSTED\", \"TURBIDITY_ADJUSTED_ERROR\", \"TURBIDITY_ADJUSTED_QC\", \"TURBIDITY_QC\", \"TURBIDITY_dPRES\", \"UP_RADIANCE412\", \"UP_RADIANCE412_ADJUSTED\", \"UP_RADIANCE412_ADJUSTED_ERROR\", \"UP_RADIANCE412_ADJUSTED_QC\", \"UP_RADIANCE412_QC\", \"UP_RADIANCE412_dPRES\", \"UP_RADIANCE443\", \"UP_RADIANCE443_ADJUSTED\", \"UP_RADIANCE443_ADJUSTED_ERROR\", \"UP_RADIANCE443_ADJUSTED_QC\", \"UP_RADIANCE443_QC\", \"UP_RADIANCE443_dPRES\", \"UP_RADIANCE490\", \"UP_RADIANCE490_ADJUSTED\", \"UP_RADIANCE490_ADJUSTED_ERROR\", \"UP_RADIANCE490_ADJUSTED_QC\", \"UP_RADIANCE490_QC\", \"UP_RADIANCE490_dPRES\", \"UP_RADIANCE555\", \"UP_RADIANCE555_ADJUSTED\", \"UP_RADIANCE555_ADJUSTED_ERROR\", \"UP_RADIANCE555_ADJUSTED_QC\", \"UP_RADIANCE555_QC\", \"UP_RADIANCE555_dPRES\", \"UV_INTENSITY_DARK_NITRATE\", \"UV_INTENSITY_DARK_NITRATE_QC\", \"UV_INTENSITY_DARK_NITRATE_STD\", \"UV_INTENSITY_DARK_NITRATE_STD_QC\", \"UV_INTENSITY_DARK_SEAWATER_NITRATE\", \"UV_INTENSITY_DARK_SEAWATER_NITRATE_QC\", \"UV_INTENSITY_NITRATE\", \"UV_INTENSITY_NITRATE_QC\", \"VERTICAL_SAMPLING_SCHEME\", \"VK_PH\", \"VK_PH_QC\", \"VRS_PH\", \"VRS_PH_MED\", \"VRS_PH_MED_QC\", \"VRS_PH_QC\", \"VRS_PH_STD\", \"VRS_PH_STD_QC\", \"WMO_INST_TYPE\"]"
     ]
    },
    {
     "name": "stdout",
     "output_type": "stream",
     "text": [
      "\n"
     ]
    },
    {
     "data": {
      "text/plain": [
       "631-element Vector{String}:\n",
       " \"BBP470\"\n",
       " \"BBP470_ADJUSTED\"\n",
       " \"BBP470_ADJUSTED_ERROR\"\n",
       " \"BBP470_ADJUSTED_QC\"\n",
       " \"BBP470_QC\"\n",
       " \"BBP470_dPRES\"\n",
       " \"BBP532\"\n",
       " \"BBP532_ADJUSTED\"\n",
       " \"BBP532_ADJUSTED_ERROR\"\n",
       " \"BBP532_ADJUSTED_QC\"\n",
       " \"BBP532_QC\"\n",
       " \"BBP532_dPRES\"\n",
       " \"BBP700\"\n",
       " ⋮\n",
       " \"UV_INTENSITY_NITRATE\"\n",
       " \"UV_INTENSITY_NITRATE_QC\"\n",
       " \"VERTICAL_SAMPLING_SCHEME\"\n",
       " \"VK_PH\"\n",
       " \"VK_PH_QC\"\n",
       " \"VRS_PH\"\n",
       " \"VRS_PH_MED\"\n",
       " \"VRS_PH_MED_QC\"\n",
       " \"VRS_PH_QC\"\n",
       " \"VRS_PH_STD\"\n",
       " \"VRS_PH_STD_QC\"\n",
       " \"WMO_INST_TYPE\""
      ]
     },
     "execution_count": 10,
     "metadata": {},
     "output_type": "execute_result"
    }
   ],
   "source": [
    "data = JSON.parsefile(footprintfile);\n",
    "attributes = data[\"unique_column_attributes\"]\n",
    "params = sort(collect(keys(attributes)));\n",
    "parameter1 in params\n",
    "@show(params);"
   ]
  },
  {
   "cell_type": "code",
   "execution_count": 16,
   "id": "08dbe983",
   "metadata": {},
   "outputs": [
    {
     "data": {
      "text/plain": [
       "\"{\\\"query_parameters\\\":[{\\\"column_name\\\":\\\"TEMP\\\",\\\"alias\\\":\\\"TEMP\\\",\\\"optional\\\":false},{\\\"column_name\\\":\\\"PSAL\\\",\\\"alias\\\":\\\"PSAL\\\",\\\"optional\\\":true},{\\\"column_name\\\":\\\"JULD\\\",\\\"alias\\\":\\\"TIME\\\"},{\\\"column_name\\\":\\\"PRES\\\",\\\"alias\\\":\\\"DEPTH\\\"},{\\\"column_name\\\":\\\"LONGITUDE\\\",\\\"alias\\\":\\\"LONGITUDE\\\"},{\\\"column_name\\\":\\\"\"\u001b[93m\u001b[1m ⋯ 20 bytes ⋯ \u001b[22m\u001b[39m\"ATITUDE\\\"}],\\\"filters\\\":[{\\\"for_query_parameter\\\":\\\"TIME\\\",\\\"min\\\":0,\\\"max\\\":27028},{\\\"for_query_parameter\\\":\\\"DEPTH\\\",\\\"min\\\":0.0,\\\"max\\\":10.0},{\\\"for_query_parameter\\\":\\\"LONGITUDE\\\",\\\"min\\\":12.0,\\\"max\\\":18.0},{\\\"for_query_parameter\\\":\\\"LATITUDE\\\",\\\"min\\\":43.0,\\\"max\\\":46.0}],\\\"output\\\":{\\\"format\\\":\\\"netcdf\\\"}}\""
      ]
     },
     "execution_count": 16,
     "metadata": {},
     "output_type": "execute_result"
    }
   ],
   "source": [
    "query = DIVAndFairEase.prepare_query_new(datasource, parameter1, parameter2, datestart, dateend, \n",
    "    mindepth, maxdepth, minlon, maxlon, minlat, maxlat)"
   ]
  },
  {
   "cell_type": "code",
   "execution_count": 157,
   "id": "d179a5c0",
   "metadata": {},
   "outputs": [],
   "source": [
    "# Note 2: cannot work with such a long list of parameters!!"
   ]
  },
  {
   "cell_type": "code",
   "execution_count": 14,
   "id": "6738f946",
   "metadata": {},
   "outputs": [
    {
     "data": {
      "text/plain": [
       "\"../data/NorthAdriaticSea_Euro-Argo_TEMP_19500101-20240101_0-10m.nc\""
      ]
     },
     "execution_count": 14,
     "metadata": {},
     "output_type": "execute_result"
    }
   ],
   "source": [
    "filename = joinpath(datadir, \"$(regionname)_$(datasource_name)_$(replace(parameter1, \" \"=>\"_\"))_$(Dates.format(datestart, \"yyyymmdd\"))-$(Dates.format(dateend, \"yyyymmdd\"))_$(Int(mindepth))-$(Int(maxdepth))m.nc\");\n",
    "filename"
   ]
  },
  {
   "cell_type": "code",
   "execution_count": 17,
   "id": "d40015d6",
   "metadata": {},
   "outputs": [
    {
     "name": "stderr",
     "output_type": "stream",
     "text": [
      "\u001b[36m\u001b[1m┌ \u001b[22m\u001b[39m\u001b[36m\u001b[1mInfo: \u001b[22m\u001b[39mData will be written in file:\n",
      "\u001b[36m\u001b[1m└ \u001b[22m\u001b[39m../data/NorthAdriaticSea_Euro-Argo_TEMP_19500101-20240101_0-10m.nc\n",
      "\u001b[36m\u001b[1m[ \u001b[22m\u001b[39m\u001b[36m\u001b[1mInfo: \u001b[22m\u001b[39mFile already downloaded\n",
      "\u001b[36m\u001b[1m[ \u001b[22m\u001b[39m\u001b[36m\u001b[1mInfo: \u001b[22m\u001b[39m200\n"
     ]
    },
    {
     "name": "stdout",
     "output_type": "stream",
     "text": [
      "  1.086903 seconds (78.35 k allocations: 5.869 MiB, 9.19% compilation time)\n"
     ]
    },
    {
     "name": "stderr",
     "output_type": "stream",
     "text": [
      "\u001b[36m\u001b[1m[ \u001b[22m\u001b[39m\u001b[36m\u001b[1mInfo: \u001b[22m\u001b[39mNetCDF file size: 0.3M\n"
     ]
    }
   ],
   "source": [
    "@info(\"Data will be written in file:\\n$(filename)\")\n",
    "\n",
    "if isfile(filename)\n",
    "    @info(\"File already downloaded\")\n",
    "    rm(filename)\n",
    "end\n",
    "@time open(filename, \"w\") do io\n",
    "    r = HTTP.request(\"POST\", joinpath(beaconURL, \"api/query\"), \n",
    "        [\"Content-type\"=> \"application/json\",\n",
    "         \"Authorization\" => \"Bearer $(token)\"\n",
    "        ],\n",
    "        query, \n",
    "        response_stream=io);\n",
    "    @info(r.status)\n",
    "end\n",
    "\n",
    "@info(\"NetCDF file size: $(round(filesize(filename)/1000^2, digits=1))M\")"
   ]
  },
  {
   "cell_type": "code",
   "execution_count": 44,
   "id": "0987ac3a",
   "metadata": {},
   "outputs": [
    {
     "data": {
      "text/plain": [
       "\"{\\\"query_parameters\\\":[{\\\"column_name\\\":\\\"TEMP\\\",\\\"alias\\\":\\\"TEMP\\\"},{\\\"column_name\\\":\\\"JULD\\\",\\\"alias\\\":\\\"TIME\\\"},{\\\"column_name\\\":\\\"DEPH\\\",\\\"alias\\\":\\\"DEPTH\\\"},{\\\"column_name\\\":\\\"LONGITUDE\\\",\\\"alias\\\":\\\"LONGITUDE\\\"},{\\\"column_name\\\":\\\"LATITUDE\\\",\\\"alias\\\":\\\"LATITUDE\\\"}],\\\"filters\\\":[{\\\"for_query_parameter\\\":\\\"TIME\\\",\\\"min\\\":21915,\\\"max\\\":22645},{\\\"for_query_parameter\\\":\\\"DEPTH\\\",\\\"min\\\":0.0,\\\"max\\\":10.0},{\\\"for_query_parameter\\\":\\\"LONGITUDE\\\",\\\"min\\\":12.0,\\\"max\\\":18.0},{\\\"for_query_parameter\\\":\\\"LATITUDE\\\",\\\"min\\\":43.0,\\\"max\\\":46.0},{\\\"for_query_parameter\\\":\\\"TEMP\\\",\\\"min\\\":-2.0,\\\"max\\\":30.0}],\\\"output\\\":{\\\"format\\\":\\\"netcdf\\\"}}\""
      ]
     },
     "execution_count": 44,
     "metadata": {},
     "output_type": "execute_result"
    }
   ],
   "source": [
    "query"
   ]
  },
  {
   "cell_type": "code",
   "execution_count": null,
   "id": "a75d80fe",
   "metadata": {},
   "outputs": [],
   "source": []
  }
 ],
 "metadata": {
  "kernelspec": {
   "display_name": "Julia 1.10.5",
   "language": "julia",
   "name": "julia-1.10"
  },
  "language_info": {
   "file_extension": ".jl",
   "mimetype": "application/julia",
   "name": "julia",
   "version": "1.10.5"
  },
  "toc": {
   "base_numbering": 1,
   "nav_menu": {},
   "number_sections": true,
   "sideBar": true,
   "skip_h1_title": false,
   "title_cell": "Table of Contents",
   "title_sidebar": "Contents",
   "toc_cell": false,
   "toc_position": {},
   "toc_section_display": true,
   "toc_window_display": false
  }
 },
 "nbformat": 4,
 "nbformat_minor": 5
}
