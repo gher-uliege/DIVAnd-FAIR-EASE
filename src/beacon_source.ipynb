{
 "cells": [
  {
   "cell_type": "markdown",
   "id": "f2f30cd1",
   "metadata": {},
   "source": [
    "# Download data in the region of interest using `Beacon"
   ]
  },
  {
   "cell_type": "code",
   "execution_count": 6,
   "id": "a10cf53e",
   "metadata": {},
   "outputs": [
    {
     "name": "stderr",
     "output_type": "stream",
     "text": [
      "\u001b[32m\u001b[1m  Activating\u001b[22m\u001b[39m project at `~/Projects/DIVAnd-FAIR-EASE`\n"
     ]
    }
   ],
   "source": [
    "using Pkg\n",
    "Pkg.activate(\"../\")\n",
    "using HTTP\n",
    "using JSON\n",
    "using JSON3\n",
    "using Dates\n",
    "using PyPlot\n",
    "const plt = PyPlot\n",
    "using NCDatasets\n",
    "using OrderedCollections\n",
    "include(\"./DIVAndFairEase.jl\")\n",
    "token = ENV[\"beaconAPItoken\"];"
   ]
  },
  {
   "cell_type": "markdown",
   "id": "5f7b9f4a",
   "metadata": {},
   "source": [
    "## Map configuration (`cartopy` and directory)"
   ]
  },
  {
   "cell_type": "code",
   "execution_count": 7,
   "id": "5b31208c-edc2-430f-99d0-c237e6a76c6a",
   "metadata": {},
   "outputs": [
    {
     "name": "stderr",
     "output_type": "stream",
     "text": [
      "\u001b[36m\u001b[1m[ \u001b[22m\u001b[39m\u001b[36m\u001b[1mInfo: \u001b[22m\u001b[39mRunning `conda install -y cartopy` in root environment\n"
     ]
    },
    {
     "name": "stdout",
     "output_type": "stream",
     "text": [
      "Collecting package metadata (current_repodata.json): ...working... done\n",
      "Solving environment: ...working... done\n",
      "\n",
      "# All requested packages already installed.\n",
      "\n"
     ]
    },
    {
     "name": "stderr",
     "output_type": "stream",
     "text": [
      "\n",
      "\n",
      "==> WARNING: A newer version of conda exists. <==\n",
      "  current version: 23.7.4\n",
      "  latest version: 24.9.1\n",
      "\n",
      "Please update conda by running\n",
      "\n",
      "    $ conda update -n base -c conda-forge conda\n",
      "\n",
      "Or to minimize the number of packages updated during conda update use\n",
      "\n",
      "     conda install conda=24.9.1\n",
      "\n",
      "\n"
     ]
    },
    {
     "data": {
      "text/plain": [
       "\"../figures/NorthAdriatic\""
      ]
     },
     "execution_count": 7,
     "metadata": {},
     "output_type": "execute_result"
    }
   ],
   "source": [
    "using Conda\n",
    "Conda.add(\"cartopy\")\n",
    "using PyCall\n",
    "ccrs = pyimport(\"cartopy.crs\")\n",
    "cfeature = pyimport(\"cartopy.feature\")\n",
    "mpl = pyimport(\"matplotlib\")\n",
    "mpl.style.use(\"./fairease.mplstyle\")\n",
    "coast = cfeature.GSHHSFeature(scale=\"h\")\n",
    "datacrs = ccrs.PlateCarree();\n",
    "figdir = \"../figures/NorthAdriatic\"\n",
    "mkpath(figdir)"
   ]
  },
  {
   "cell_type": "code",
   "execution_count": 8,
   "id": "38047554",
   "metadata": {},
   "outputs": [
    {
     "data": {
      "text/plain": [
       "2-element Vector{String}:\n",
       " \"../data\"\n",
       " \"../Footprint\""
      ]
     },
     "execution_count": 8,
     "metadata": {},
     "output_type": "execute_result"
    }
   ],
   "source": [
    "datadir = \"../data/\"\n",
    "footprintdir = \"../Footprint\"\n",
    "mkpath.([datadir, footprintdir])"
   ]
  },
  {
   "cell_type": "code",
   "execution_count": 9,
   "id": "ff3636ed",
   "metadata": {},
   "outputs": [],
   "source": [
    "const beacon_services = OrderedDict(\n",
    "    \"Euro-Argo\" => \"https://beacon-argo.maris.nl\",\n",
    "    \"CORA Profile\" => \"https://beacon-cora-pr.maris.nl\",\n",
    "    \"CORA Timeseries\" => \"https://beacon-cora-ts.maris.nl\",\n",
    "    \"EMODnet Chemistry\" => \"https://beacon-emod-chem.maris.nl\",\n",
    "    \"World Ocean Database\" => \"https://beacon-wod.maris.nl\",\n",
    "    \"SeaDataNet CDI TS\" => \"https://beacon-cdi-ts.maris.nl\",\n",
    "    \"CMEMS BGC\" => \"https://beacon-cmems.maris.nl\",\n",
    ");"
   ]
  },
  {
   "cell_type": "code",
   "execution_count": 10,
   "id": "23d88992",
   "metadata": {},
   "outputs": [
    {
     "name": "stderr",
     "output_type": "stream",
     "text": [
      "\u001b[36m\u001b[1m[ \u001b[22m\u001b[39m\u001b[36m\u001b[1mInfo: \u001b[22m\u001b[39mWorking on 5 data sources\n"
     ]
    },
    {
     "data": {
      "text/plain": [
       "\"NorthAdriaticSea\""
      ]
     },
     "execution_count": 10,
     "metadata": {},
     "output_type": "execute_result"
    }
   ],
   "source": [
    "datasourcelist = [\"Euro-Argo\", \"World Ocean Database\", \"SeaDataNet CDI TS\", \"CORA Profile\", \"CORA Timeseries\"]\n",
    "@info(\"Working on $(length(datasourcelist)) data sources\")\n",
    "domain = [12., 18., 43., 46.]\n",
    "datestart = Dates.Date(1950, 1, 1)\n",
    "dateend = Dates.Date(2024, 1, 1)\n",
    "minlon = domain[1]\n",
    "maxlon = domain[2]\n",
    "minlat = domain[3]\n",
    "maxlat = domain[4]\n",
    "mindepth = 0.\n",
    "maxdepth = 500.\n",
    "regionname = \"NorthAdriaticSea\""
   ]
  },
  {
   "cell_type": "markdown",
   "id": "7eab7090",
   "metadata": {},
   "source": [
    "## Loop on the data sources"
   ]
  },
  {
   "cell_type": "code",
   "execution_count": 11,
   "id": "f2cc68f0",
   "metadata": {},
   "outputs": [
    {
     "name": "stderr",
     "output_type": "stream",
     "text": [
      "\u001b[36m\u001b[1m[ \u001b[22m\u001b[39m\u001b[36m\u001b[1mInfo: \u001b[22m\u001b[39mWorking on Euro-Argo\n",
      "\u001b[36m\u001b[1m[ \u001b[22m\u001b[39m\u001b[36m\u001b[1mInfo: \u001b[22m\u001b[39m1950-01-01 → 2024-01-01, TEMP\n",
      "\u001b[36m\u001b[1m[ \u001b[22m\u001b[39m\u001b[36m\u001b[1mInfo: \u001b[22m\u001b[39mFootprint endpoint: https://beacon-argo.maris.nl/api/datasets/footprint\n",
      "\u001b[36m\u001b[1m[ \u001b[22m\u001b[39m\u001b[36m\u001b[1mInfo: \u001b[22m\u001b[39mFootprint file: ../Footprint/Footprint_Euro-Argo.json\n",
      "\u001b[36m\u001b[1m[ \u001b[22m\u001b[39m\u001b[36m\u001b[1mInfo: \u001b[22m\u001b[39mFootprint file already downloaded\n",
      "\u001b[36m\u001b[1m[ \u001b[22m\u001b[39m\u001b[36m\u001b[1mInfo: \u001b[22m\u001b[39mParameter available\n",
      "\u001b[36m\u001b[1m┌ \u001b[22m\u001b[39m\u001b[36m\u001b[1mInfo: \u001b[22m\u001b[39mData will be written in file:\n",
      "\u001b[36m\u001b[1m└ \u001b[22m\u001b[39m../data/NorthAdriaticSea_Euro-Argo_TEMP_19500101-20240101_0-500m.nc\n"
     ]
    },
    {
     "name": "stdout",
     "output_type": "stream",
     "text": [
      "  1.471442 seconds (77.42 k allocations: 8.200 MiB, 5.73% compilation time)\n"
     ]
    },
    {
     "name": "stderr",
     "output_type": "stream",
     "text": [
      "\u001b[36m\u001b[1m[ \u001b[22m\u001b[39m\u001b[36m\u001b[1mInfo: \u001b[22m\u001b[39m200\n",
      "\u001b[36m\u001b[1m[ \u001b[22m\u001b[39m\u001b[36m\u001b[1mInfo: \u001b[22m\u001b[39mNetCDF file size: 2.0M\n",
      "\u001b[36m\u001b[1m[ \u001b[22m\u001b[39m\u001b[36m\u001b[1mInfo: \u001b[22m\u001b[39mWorking on World Ocean Database\n",
      "\u001b[36m\u001b[1m[ \u001b[22m\u001b[39m\u001b[36m\u001b[1mInfo: \u001b[22m\u001b[39m1950-01-01 → 2024-01-01, Temperature\n",
      "\u001b[36m\u001b[1m[ \u001b[22m\u001b[39m\u001b[36m\u001b[1mInfo: \u001b[22m\u001b[39mFootprint endpoint: https://beacon-wod.maris.nl/api/datasets/footprint\n",
      "\u001b[36m\u001b[1m[ \u001b[22m\u001b[39m\u001b[36m\u001b[1mInfo: \u001b[22m\u001b[39mFootprint file: ../Footprint/Footprint_World_Ocean_Database.json\n",
      "\u001b[36m\u001b[1m[ \u001b[22m\u001b[39m\u001b[36m\u001b[1mInfo: \u001b[22m\u001b[39mFootprint file already downloaded\n",
      "\u001b[36m\u001b[1m[ \u001b[22m\u001b[39m\u001b[36m\u001b[1mInfo: \u001b[22m\u001b[39mParameter available\n",
      "\u001b[36m\u001b[1m┌ \u001b[22m\u001b[39m\u001b[36m\u001b[1mInfo: \u001b[22m\u001b[39mData will be written in file:\n",
      "\u001b[36m\u001b[1m└ \u001b[22m\u001b[39m../data/NorthAdriaticSea_World_Ocean_Database_Temperature_19500101-20240101_0-500m.nc\n"
     ]
    },
    {
     "name": "stdout",
     "output_type": "stream",
     "text": [
      " 25.303499 seconds (81.19 k allocations: 48.092 MiB, 0.05% compilation time)\n"
     ]
    },
    {
     "name": "stderr",
     "output_type": "stream",
     "text": [
      "\u001b[36m\u001b[1m[ \u001b[22m\u001b[39m\u001b[36m\u001b[1mInfo: \u001b[22m\u001b[39m200\n",
      "\u001b[36m\u001b[1m[ \u001b[22m\u001b[39m\u001b[36m\u001b[1mInfo: \u001b[22m\u001b[39mNetCDF file size: 45.8M\n",
      "\u001b[36m\u001b[1m[ \u001b[22m\u001b[39m\u001b[36m\u001b[1mInfo: \u001b[22m\u001b[39mWorking on SeaDataNet CDI TS\n",
      "\u001b[36m\u001b[1m[ \u001b[22m\u001b[39m\u001b[36m\u001b[1mInfo: \u001b[22m\u001b[39m1950-01-01 → 2024-01-01, ITS-90 water temperature\n",
      "\u001b[36m\u001b[1m[ \u001b[22m\u001b[39m\u001b[36m\u001b[1mInfo: \u001b[22m\u001b[39mFootprint endpoint: https://beacon-cdi-ts.maris.nl/api/datasets/footprint\n",
      "\u001b[36m\u001b[1m[ \u001b[22m\u001b[39m\u001b[36m\u001b[1mInfo: \u001b[22m\u001b[39mFootprint file: ../Footprint/Footprint_SeaDataNet_CDI_TS.json\n",
      "\u001b[36m\u001b[1m[ \u001b[22m\u001b[39m\u001b[36m\u001b[1mInfo: \u001b[22m\u001b[39mFootprint file already downloaded\n",
      "\u001b[36m\u001b[1m[ \u001b[22m\u001b[39m\u001b[36m\u001b[1mInfo: \u001b[22m\u001b[39mParameter available\n",
      "\u001b[36m\u001b[1m┌ \u001b[22m\u001b[39m\u001b[36m\u001b[1mInfo: \u001b[22m\u001b[39mData will be written in file:\n",
      "\u001b[36m\u001b[1m└ \u001b[22m\u001b[39m../data/NorthAdriaticSea_SeaDataNet_CDI_TS_ITS-90_water_temperature_19500101-20240101_0-500m.nc\n"
     ]
    },
    {
     "name": "stdout",
     "output_type": "stream",
     "text": [
      " 28.973981 seconds (89.75 k allocations: 53.397 MiB)\n"
     ]
    },
    {
     "name": "stderr",
     "output_type": "stream",
     "text": [
      "\u001b[36m\u001b[1m[ \u001b[22m\u001b[39m\u001b[36m\u001b[1mInfo: \u001b[22m\u001b[39m200\n",
      "\u001b[36m\u001b[1m[ \u001b[22m\u001b[39m\u001b[36m\u001b[1mInfo: \u001b[22m\u001b[39mNetCDF file size: 50.2M\n",
      "\u001b[36m\u001b[1m[ \u001b[22m\u001b[39m\u001b[36m\u001b[1mInfo: \u001b[22m\u001b[39mWorking on CORA Profile\n",
      "\u001b[36m\u001b[1m[ \u001b[22m\u001b[39m\u001b[36m\u001b[1mInfo: \u001b[22m\u001b[39m1950-01-01 → 2024-01-01, TEMP\n",
      "\u001b[36m\u001b[1m[ \u001b[22m\u001b[39m\u001b[36m\u001b[1mInfo: \u001b[22m\u001b[39mFootprint endpoint: https://beacon-cora-pr.maris.nl/api/datasets/footprint\n",
      "\u001b[36m\u001b[1m[ \u001b[22m\u001b[39m\u001b[36m\u001b[1mInfo: \u001b[22m\u001b[39mFootprint file: ../Footprint/Footprint_CORA_Profile.json\n",
      "\u001b[36m\u001b[1m[ \u001b[22m\u001b[39m\u001b[36m\u001b[1mInfo: \u001b[22m\u001b[39mFootprint file already downloaded\n",
      "\u001b[36m\u001b[1m[ \u001b[22m\u001b[39m\u001b[36m\u001b[1mInfo: \u001b[22m\u001b[39mParameter available\n",
      "\u001b[36m\u001b[1m[ \u001b[22m\u001b[39m\u001b[36m\u001b[1mInfo: \u001b[22m\u001b[39mWorking with CORA dataset\n",
      "\u001b[36m\u001b[1m┌ \u001b[22m\u001b[39m\u001b[36m\u001b[1mInfo: \u001b[22m\u001b[39mData will be written in file:\n",
      "\u001b[36m\u001b[1m└ \u001b[22m\u001b[39m../data/NorthAdriaticSea_CORA_Profile_TEMP_19500101-20240101_0-500m.nc\n"
     ]
    },
    {
     "name": "stdout",
     "output_type": "stream",
     "text": [
      "  6.019789 seconds (22.47 k allocations: 16.864 MiB)\n"
     ]
    },
    {
     "name": "stderr",
     "output_type": "stream",
     "text": [
      "\u001b[36m\u001b[1m[ \u001b[22m\u001b[39m\u001b[36m\u001b[1mInfo: \u001b[22m\u001b[39m200\n",
      "\u001b[36m\u001b[1m[ \u001b[22m\u001b[39m\u001b[36m\u001b[1mInfo: \u001b[22m\u001b[39mNetCDF file size: 14.4M\n",
      "\u001b[36m\u001b[1m[ \u001b[22m\u001b[39m\u001b[36m\u001b[1mInfo: \u001b[22m\u001b[39mWorking on CORA Timeseries\n",
      "\u001b[36m\u001b[1m[ \u001b[22m\u001b[39m\u001b[36m\u001b[1mInfo: \u001b[22m\u001b[39m1950-01-01 → 2024-01-01, TEMP\n",
      "\u001b[36m\u001b[1m[ \u001b[22m\u001b[39m\u001b[36m\u001b[1mInfo: \u001b[22m\u001b[39mFootprint endpoint: https://beacon-cora-ts.maris.nl/api/datasets/footprint\n",
      "\u001b[36m\u001b[1m[ \u001b[22m\u001b[39m\u001b[36m\u001b[1mInfo: \u001b[22m\u001b[39mFootprint file: ../Footprint/Footprint_CORA_Timeseries.json\n",
      "\u001b[36m\u001b[1m[ \u001b[22m\u001b[39m\u001b[36m\u001b[1mInfo: \u001b[22m\u001b[39mFootprint file already downloaded\n",
      "\u001b[36m\u001b[1m[ \u001b[22m\u001b[39m\u001b[36m\u001b[1mInfo: \u001b[22m\u001b[39mParameter available\n",
      "\u001b[36m\u001b[1m[ \u001b[22m\u001b[39m\u001b[36m\u001b[1mInfo: \u001b[22m\u001b[39mWorking with CORA dataset\n",
      "\u001b[36m\u001b[1m┌ \u001b[22m\u001b[39m\u001b[36m\u001b[1mInfo: \u001b[22m\u001b[39mData will be written in file:\n",
      "\u001b[36m\u001b[1m└ \u001b[22m\u001b[39m../data/NorthAdriaticSea_CORA_Timeseries_TEMP_19500101-20240101_0-500m.nc\n"
     ]
    },
    {
     "ename": "LoadError",
     "evalue": "HTTP.Exceptions.StatusError(400, \"POST\", \"/api/query\", HTTP.Messages.Response:\n\"\"\"\nHTTP/1.1 400 Bad Request\r\nContent-Type: application/json\r\nVary: Access-Control-Request-Headers\r\nx-beacon-query-id: 937c63aa-6e7a-41b3-9da2-41846d9e118d\r\nX-Powered-By: ARR/3.0\r\nDate: Thu, 26 Sep 2024 16:17:26 GMT\r\nContent-Length: 94\r\nSet-Cookie: ******\r\n\r\n[Message Body was streamed]\"\"\")",
     "output_type": "error",
     "traceback": [
      "HTTP.Exceptions.StatusError(400, \"POST\", \"/api/query\", HTTP.Messages.Response:\n\"\"\"\nHTTP/1.1 400 Bad Request\r\nContent-Type: application/json\r\nVary: Access-Control-Request-Headers\r\nx-beacon-query-id: 937c63aa-6e7a-41b3-9da2-41846d9e118d\r\nX-Powered-By: ARR/3.0\r\nDate: Thu, 26 Sep 2024 16:17:26 GMT\r\nContent-Length: 94\r\nSet-Cookie: ******\r\n\r\n[Message Body was streamed]\"\"\")",
      "",
      "Stacktrace:",
      "  [1] (::HTTP.ConnectionRequest.var\"#connections#4\"{HTTP.ConnectionRequest.var\"#connections#1#5\"{HTTP.TimeoutRequest.var\"#timeouts#3\"{HTTP.TimeoutRequest.var\"#timeouts#1#4\"{HTTP.ExceptionRequest.var\"#exceptions#2\"{HTTP.ExceptionRequest.var\"#exceptions#1#3\"{typeof(HTTP.StreamRequest.streamlayer)}}}}}})(req::HTTP.Messages.Request; proxy::Nothing, socket_type::Type, socket_type_tls::Nothing, readtimeout::Int64, connect_timeout::Int64, logerrors::Bool, logtag::Nothing, closeimmediately::Bool, kw::@Kwargs{iofunction::Nothing, decompress::Nothing, verbose::Int64})",
      "    @ HTTP.ConnectionRequest ~/.julia/packages/HTTP/sJD5V/src/clientlayers/ConnectionRequest.jl:144",
      "  [2] connections",
      "    @ ~/.julia/packages/HTTP/sJD5V/src/clientlayers/ConnectionRequest.jl:60 [inlined]",
      "  [3] (::Base.var\"#96#98\"{Base.var\"#96#97#99\"{ExponentialBackOff, HTTP.RetryRequest.var\"#2#5\"{Int64, typeof(HTTP.RetryRequest.FALSE), HTTP.Messages.Request, Base.RefValue{Int64}}, HTTP.ConnectionRequest.var\"#connections#4\"{HTTP.ConnectionRequest.var\"#connections#1#5\"{HTTP.TimeoutRequest.var\"#timeouts#3\"{HTTP.TimeoutRequest.var\"#timeouts#1#4\"{HTTP.ExceptionRequest.var\"#exceptions#2\"{HTTP.ExceptionRequest.var\"#exceptions#1#3\"{typeof(HTTP.StreamRequest.streamlayer)}}}}}}}})(args::HTTP.Messages.Request; kwargs::@Kwargs{iofunction::Nothing, decompress::Nothing, verbose::Int64})",
      "    @ Base ./error.jl:296",
      "  [4] (::HTTP.RetryRequest.var\"#manageretries#3\"{HTTP.RetryRequest.var\"#manageretries#1#4\"{HTTP.ConnectionRequest.var\"#connections#4\"{HTTP.ConnectionRequest.var\"#connections#1#5\"{HTTP.TimeoutRequest.var\"#timeouts#3\"{HTTP.TimeoutRequest.var\"#timeouts#1#4\"{HTTP.ExceptionRequest.var\"#exceptions#2\"{HTTP.ExceptionRequest.var\"#exceptions#1#3\"{typeof(HTTP.StreamRequest.streamlayer)}}}}}}}})(req::HTTP.Messages.Request; retry::Bool, retries::Int64, retry_delays::ExponentialBackOff, retry_check::Function, retry_non_idempotent::Bool, kw::@Kwargs{iofunction::Nothing, decompress::Nothing, verbose::Int64})",
      "    @ HTTP.RetryRequest ~/.julia/packages/HTTP/sJD5V/src/clientlayers/RetryRequest.jl:75",
      "  [5] manageretries",
      "    @ ~/.julia/packages/HTTP/sJD5V/src/clientlayers/RetryRequest.jl:30 [inlined]",
      "  [6] (::HTTP.CookieRequest.var\"#managecookies#4\"{HTTP.CookieRequest.var\"#managecookies#1#5\"{HTTP.RetryRequest.var\"#manageretries#3\"{HTTP.RetryRequest.var\"#manageretries#1#4\"{HTTP.ConnectionRequest.var\"#connections#4\"{HTTP.ConnectionRequest.var\"#connections#1#5\"{HTTP.TimeoutRequest.var\"#timeouts#3\"{HTTP.TimeoutRequest.var\"#timeouts#1#4\"{HTTP.ExceptionRequest.var\"#exceptions#2\"{HTTP.ExceptionRequest.var\"#exceptions#1#3\"{typeof(HTTP.StreamRequest.streamlayer)}}}}}}}}}})(req::HTTP.Messages.Request; cookies::Bool, cookiejar::HTTP.Cookies.CookieJar, kw::@Kwargs{iofunction::Nothing, decompress::Nothing, verbose::Int64})",
      "    @ HTTP.CookieRequest ~/.julia/packages/HTTP/sJD5V/src/clientlayers/CookieRequest.jl:42",
      "  [7] managecookies",
      "    @ ~/.julia/packages/HTTP/sJD5V/src/clientlayers/CookieRequest.jl:19 [inlined]",
      "  [8] (::HTTP.HeadersRequest.var\"#defaultheaders#2\"{HTTP.HeadersRequest.var\"#defaultheaders#1#3\"{HTTP.CookieRequest.var\"#managecookies#4\"{HTTP.CookieRequest.var\"#managecookies#1#5\"{HTTP.RetryRequest.var\"#manageretries#3\"{HTTP.RetryRequest.var\"#manageretries#1#4\"{HTTP.ConnectionRequest.var\"#connections#4\"{HTTP.ConnectionRequest.var\"#connections#1#5\"{HTTP.TimeoutRequest.var\"#timeouts#3\"{HTTP.TimeoutRequest.var\"#timeouts#1#4\"{HTTP.ExceptionRequest.var\"#exceptions#2\"{HTTP.ExceptionRequest.var\"#exceptions#1#3\"{typeof(HTTP.StreamRequest.streamlayer)}}}}}}}}}}}})(req::HTTP.Messages.Request; iofunction::Nothing, decompress::Nothing, basicauth::Bool, detect_content_type::Bool, canonicalize_headers::Bool, kw::@Kwargs{verbose::Int64})",
      "    @ HTTP.HeadersRequest ~/.julia/packages/HTTP/sJD5V/src/clientlayers/HeadersRequest.jl:71",
      "  [9] defaultheaders",
      "    @ ~/.julia/packages/HTTP/sJD5V/src/clientlayers/HeadersRequest.jl:14 [inlined]",
      " [10] (::HTTP.RedirectRequest.var\"#redirects#3\"{HTTP.RedirectRequest.var\"#redirects#1#4\"{HTTP.HeadersRequest.var\"#defaultheaders#2\"{HTTP.HeadersRequest.var\"#defaultheaders#1#3\"{HTTP.CookieRequest.var\"#managecookies#4\"{HTTP.CookieRequest.var\"#managecookies#1#5\"{HTTP.RetryRequest.var\"#manageretries#3\"{HTTP.RetryRequest.var\"#manageretries#1#4\"{HTTP.ConnectionRequest.var\"#connections#4\"{HTTP.ConnectionRequest.var\"#connections#1#5\"{HTTP.TimeoutRequest.var\"#timeouts#3\"{HTTP.TimeoutRequest.var\"#timeouts#1#4\"{HTTP.ExceptionRequest.var\"#exceptions#2\"{HTTP.ExceptionRequest.var\"#exceptions#1#3\"{typeof(HTTP.StreamRequest.streamlayer)}}}}}}}}}}}}}})(req::HTTP.Messages.Request; redirect::Bool, redirect_limit::Int64, redirect_method::Nothing, forwardheaders::Bool, response_stream::IOStream, kw::@Kwargs{verbose::Int64})",
      "    @ HTTP.RedirectRequest ~/.julia/packages/HTTP/sJD5V/src/clientlayers/RedirectRequest.jl:25",
      " [11] redirects",
      "    @ ~/.julia/packages/HTTP/sJD5V/src/clientlayers/RedirectRequest.jl:14 [inlined]",
      " [12] (::HTTP.MessageRequest.var\"#makerequest#3\"{HTTP.MessageRequest.var\"#makerequest#1#4\"{HTTP.RedirectRequest.var\"#redirects#3\"{HTTP.RedirectRequest.var\"#redirects#1#4\"{HTTP.HeadersRequest.var\"#defaultheaders#2\"{HTTP.HeadersRequest.var\"#defaultheaders#1#3\"{HTTP.CookieRequest.var\"#managecookies#4\"{HTTP.CookieRequest.var\"#managecookies#1#5\"{HTTP.RetryRequest.var\"#manageretries#3\"{HTTP.RetryRequest.var\"#manageretries#1#4\"{HTTP.ConnectionRequest.var\"#connections#4\"{HTTP.ConnectionRequest.var\"#connections#1#5\"{HTTP.TimeoutRequest.var\"#timeouts#3\"{HTTP.TimeoutRequest.var\"#timeouts#1#4\"{HTTP.ExceptionRequest.var\"#exceptions#2\"{HTTP.ExceptionRequest.var\"#exceptions#1#3\"{typeof(HTTP.StreamRequest.streamlayer)}}}}}}}}}}}}}}}})(method::String, url::URIs.URI, headers::Vector{Pair{String, String}}, body::String; copyheaders::Bool, response_stream::IOStream, http_version::HTTP.Strings.HTTPVersion, verbose::Int64, kw::@Kwargs{})",
      "    @ HTTP.MessageRequest ~/.julia/packages/HTTP/sJD5V/src/clientlayers/MessageRequest.jl:35",
      " [13] makerequest",
      "    @ ~/.julia/packages/HTTP/sJD5V/src/clientlayers/MessageRequest.jl:24 [inlined]",
      " [14] request(stack::HTTP.MessageRequest.var\"#makerequest#3\"{HTTP.MessageRequest.var\"#makerequest#1#4\"{HTTP.RedirectRequest.var\"#redirects#3\"{HTTP.RedirectRequest.var\"#redirects#1#4\"{HTTP.HeadersRequest.var\"#defaultheaders#2\"{HTTP.HeadersRequest.var\"#defaultheaders#1#3\"{HTTP.CookieRequest.var\"#managecookies#4\"{HTTP.CookieRequest.var\"#managecookies#1#5\"{HTTP.RetryRequest.var\"#manageretries#3\"{HTTP.RetryRequest.var\"#manageretries#1#4\"{HTTP.ConnectionRequest.var\"#connections#4\"{HTTP.ConnectionRequest.var\"#connections#1#5\"{HTTP.TimeoutRequest.var\"#timeouts#3\"{HTTP.TimeoutRequest.var\"#timeouts#1#4\"{HTTP.ExceptionRequest.var\"#exceptions#2\"{HTTP.ExceptionRequest.var\"#exceptions#1#3\"{typeof(HTTP.StreamRequest.streamlayer)}}}}}}}}}}}}}}}}, method::String, url::String, h::Vector{Pair{String, String}}, b::String, q::Nothing; headers::Vector{Pair{String, String}}, body::String, query::Nothing, kw::@Kwargs{response_stream::IOStream})",
      "    @ HTTP ~/.julia/packages/HTTP/sJD5V/src/HTTP.jl:457",
      " [15] #request#20",
      "    @ ~/.julia/packages/HTTP/sJD5V/src/HTTP.jl:315 [inlined]",
      " [16] request",
      "    @ ~/.julia/packages/HTTP/sJD5V/src/HTTP.jl:313 [inlined]",
      " [17] (::var\"#8#10\"{String, String})(io::IOStream)",
      "    @ Main ./In[11]:60",
      " [18] open(::var\"#8#10\"{String, String}, ::String, ::Vararg{String}; kwargs::@Kwargs{})",
      "    @ Base ./io.jl:396",
      " [19] open(::Function, ::String, ::String)",
      "    @ Base ./io.jl:393",
      " [20] macro expansion",
      "    @ ./timing.jl:279 [inlined]",
      " [21] top-level scope",
      "    @ ./In[11]:59"
     ]
    }
   ],
   "source": [
    "for datasource in datasourcelist\n",
    "    \n",
    "    @info(\"Working on $(datasource)\")\n",
    "\n",
    "    parameter1 = \"TEMP\"\n",
    "    if datasource == \"World Ocean Database\"\n",
    "        parameter1 = \"Temperature\"\n",
    "    elseif datasource == \"EMODnet Chemistry\"  \n",
    "        parameter1 = \"ITS_90_water_temperature\"\n",
    "    elseif datasource == \"SeaDataNet CDI TS\"\n",
    "        parameter1 = \"ITS-90 water temperature\"\n",
    "    end\n",
    "    parameter2 = \"PSAL\"\n",
    "    \n",
    "    @info(\"$(datestart) → $(dateend), $(parameter1)\")\n",
    "    \n",
    "    # Download the \"footprint\"\n",
    "    beaconURL = beacon_services[datasource]\n",
    "    footprintURL = joinpath(beaconURL, \"api/datasets/footprint\")\n",
    "    datasource_name = replace(datasource, \" \" => \"_\")\n",
    "    footprintfile = joinpath(footprintdir, \"Footprint_$(datasource_name).json\")\n",
    "    @info(\"Footprint endpoint: $(footprintURL)\")\n",
    "    @info(\"Footprint file: $(footprintfile)\")\n",
    "    \n",
    "    if isfile(footprintfile)\n",
    "        @info(\"Footprint file already downloaded\")\n",
    "    else\n",
    "        @info(\"Writing Footprint file\")\n",
    "        open(footprintfile, \"w\") do io\n",
    "            r = HTTP.request(\"GET\", footprintURL, \n",
    "                [\"Authorization\" => \"Bearer $(token)\"],\n",
    "                response_stream=io)\n",
    "            @info(r.status)\n",
    "        end\n",
    "    end\n",
    "    \n",
    "    data = JSON.parsefile(footprintfile);\n",
    "    attributes = data[\"unique_column_attributes\"]\n",
    "    params = sort(collect(keys(attributes)));\n",
    "    \n",
    "    # Check if the parameters is in the list\n",
    "    parameter1 in params ? @info(\"Parameter available\") : @warn(\"Parameter not available\")\n",
    "    # @show(params);\n",
    "    \n",
    "    # Build query\n",
    "    query = DIVAndFairEase.prepare_query_new(datasource, parameter1, parameter2, datestart, dateend, \n",
    "        mindepth, maxdepth, minlon, maxlon, minlat, maxlat)\n",
    "    \n",
    "    # Construct file and figure names\n",
    "    filename = joinpath(datadir, \"$(regionname)_$(datasource_name)_$(replace(parameter1, \" \"=>\"_\"))_$(Dates.format(datestart, \"yyyymmdd\"))-$(Dates.format(dateend, \"yyyymmdd\"))_$(Int(mindepth))-$(Int(maxdepth))m.nc\");\n",
    "    figname = \"$(regionname)_$(datasource_name)_$(replace(parameter1, \" \"=>\"_\"))_$(Dates.format(datestart, \"yyyymmdd\"))-$(Dates.format(dateend, \"yyyymmdd\"))_$(Int(mindepth))-$(Int(maxdepth))m.jpg\"\n",
    "\n",
    "    # Write the data in netCDF files\n",
    "    @info(\"Data will be written in file:\\n$(filename)\")\n",
    "    if isfile(filename)\n",
    "        @info(\"File already downloaded\")\n",
    "        rm(filename)\n",
    "    end\n",
    "    @time open(filename, \"w\") do io\n",
    "        r = HTTP.request(\"POST\", joinpath(beaconURL, \"api/query\"), \n",
    "            [\"Content-type\"=> \"application/json\",\n",
    "             \"Authorization\" => \"Bearer $(token)\"\n",
    "            ],\n",
    "            query, \n",
    "            response_stream=io);\n",
    "        @info(r.status)\n",
    "    end\n",
    "\n",
    "    @info(\"NetCDF file size: $(round(filesize(filename)/1000^2, digits=1))M\")\n",
    "    \n",
    "    # Create plot\n",
    "    plot_positions(filename, figname, datasource)\n",
    "end   "
   ]
  },
  {
   "cell_type": "code",
   "execution_count": 7,
   "id": "bb01ac08-057c-40a5-883f-b3e3d66b1d85",
   "metadata": {},
   "outputs": [
    {
     "data": {
      "text/plain": [
       "plot_positions (generic function with 1 method)"
      ]
     },
     "execution_count": 7,
     "metadata": {},
     "output_type": "execute_result"
    }
   ],
   "source": [
    "function plot_positions(filename::String, figname::String, datasource::String)\n",
    "    NCDataset(filename, \"r\") do nc\n",
    "        # print(nc)\n",
    "        lon = nc[\"LONGITUDE\"][:]\n",
    "        lat = nc[\"LATITUDE\"][:]\n",
    "\n",
    "        fig = plt.figure()\n",
    "        ax = plt.subplot(111, projection=ccrs.EuroPP())\n",
    "        ax.plot(lon, lat, \"go\", ms=.5, transform=datacrs)\n",
    "        ax.set_extent(domain)\n",
    "        ax.add_feature(coast, lw=.25, color=\".25\")\n",
    "        gl = ax.gridlines(crs=datacrs, draw_labels=true,\n",
    "            linewidth=.5, color=\".25\", linestyle=\"--\", zorder=2)\n",
    "        gl.top_labels = false\n",
    "        gl.right_labels = false\n",
    "        ax.set_title(\"Temperature observations ($(length(lon))) in $(datasource)\")\n",
    "        plt.savefig(joinpath(figdir, figname))\n",
    "        plt.close()\n",
    "\n",
    "    end\n",
    "    return nothing\n",
    "end"
   ]
  },
  {
   "cell_type": "code",
   "execution_count": 8,
   "id": "b57d59d5-42c8-46c0-8302-a93bae2ee77d",
   "metadata": {},
   "outputs": [
    {
     "name": "stderr",
     "output_type": "stream",
     "text": [
      "\u001b[36m\u001b[1m[ \u001b[22m\u001b[39m\u001b[36m\u001b[1mInfo: \u001b[22m\u001b[39mWorking on CORA Timeseries\n",
      "\u001b[36m\u001b[1m[ \u001b[22m\u001b[39m\u001b[36m\u001b[1mInfo: \u001b[22m\u001b[39mWorking with CORA dataset\n",
      "\u001b[36m\u001b[1m┌ \u001b[22m\u001b[39m\u001b[36m\u001b[1mInfo: \u001b[22m\u001b[39mData will be written in file:\n",
      "\u001b[36m\u001b[1m└ \u001b[22m\u001b[39m../data/NorthAdriaticSea_CORA_Timeseries_TEMP_19500101-20240101_0-500m.nc\n",
      "\u001b[36m\u001b[1m[ \u001b[22m\u001b[39m\u001b[36m\u001b[1mInfo: \u001b[22m\u001b[39mFile already downloaded\n"
     ]
    },
    {
     "ename": "LoadError",
     "evalue": "HTTP.Exceptions.StatusError(400, \"POST\", \"/api/query\", HTTP.Messages.Response:\n\"\"\"\nHTTP/1.1 400 Bad Request\r\nContent-Type: application/json\r\nVary: Access-Control-Request-Headers\r\nx-beacon-query-id: 1ea1fe5d-b511-423a-94ea-7b43e7d632e6\r\nX-Powered-By: ARR/3.0\r\nDate: Thu, 26 Sep 2024 19:02:32 GMT\r\nContent-Length: 94\r\nSet-Cookie: ******\r\n\r\n[Message Body was streamed]\"\"\")",
     "output_type": "error",
     "traceback": [
      "HTTP.Exceptions.StatusError(400, \"POST\", \"/api/query\", HTTP.Messages.Response:\n\"\"\"\nHTTP/1.1 400 Bad Request\r\nContent-Type: application/json\r\nVary: Access-Control-Request-Headers\r\nx-beacon-query-id: 1ea1fe5d-b511-423a-94ea-7b43e7d632e6\r\nX-Powered-By: ARR/3.0\r\nDate: Thu, 26 Sep 2024 19:02:32 GMT\r\nContent-Length: 94\r\nSet-Cookie: ******\r\n\r\n[Message Body was streamed]\"\"\")",
      "",
      "Stacktrace:",
      "  [1] (::HTTP.ConnectionRequest.var\"#connections#4\"{HTTP.ConnectionRequest.var\"#connections#1#5\"{HTTP.TimeoutRequest.var\"#timeouts#3\"{HTTP.TimeoutRequest.var\"#timeouts#1#4\"{HTTP.ExceptionRequest.var\"#exceptions#2\"{HTTP.ExceptionRequest.var\"#exceptions#1#3\"{typeof(HTTP.StreamRequest.streamlayer)}}}}}})(req::HTTP.Messages.Request; proxy::Nothing, socket_type::Type, socket_type_tls::Nothing, readtimeout::Int64, connect_timeout::Int64, logerrors::Bool, logtag::Nothing, closeimmediately::Bool, kw::@Kwargs{iofunction::Nothing, decompress::Nothing, verbose::Int64})",
      "    @ HTTP.ConnectionRequest ~/.julia/packages/HTTP/sJD5V/src/clientlayers/ConnectionRequest.jl:144",
      "  [2] connections",
      "    @ ~/.julia/packages/HTTP/sJD5V/src/clientlayers/ConnectionRequest.jl:60 [inlined]",
      "  [3] (::Base.var\"#96#98\"{Base.var\"#96#97#99\"{ExponentialBackOff, HTTP.RetryRequest.var\"#2#5\"{Int64, typeof(HTTP.RetryRequest.FALSE), HTTP.Messages.Request, Base.RefValue{Int64}}, HTTP.ConnectionRequest.var\"#connections#4\"{HTTP.ConnectionRequest.var\"#connections#1#5\"{HTTP.TimeoutRequest.var\"#timeouts#3\"{HTTP.TimeoutRequest.var\"#timeouts#1#4\"{HTTP.ExceptionRequest.var\"#exceptions#2\"{HTTP.ExceptionRequest.var\"#exceptions#1#3\"{typeof(HTTP.StreamRequest.streamlayer)}}}}}}}})(args::HTTP.Messages.Request; kwargs::@Kwargs{iofunction::Nothing, decompress::Nothing, verbose::Int64})",
      "    @ Base ./error.jl:296",
      "  [4] (::HTTP.RetryRequest.var\"#manageretries#3\"{HTTP.RetryRequest.var\"#manageretries#1#4\"{HTTP.ConnectionRequest.var\"#connections#4\"{HTTP.ConnectionRequest.var\"#connections#1#5\"{HTTP.TimeoutRequest.var\"#timeouts#3\"{HTTP.TimeoutRequest.var\"#timeouts#1#4\"{HTTP.ExceptionRequest.var\"#exceptions#2\"{HTTP.ExceptionRequest.var\"#exceptions#1#3\"{typeof(HTTP.StreamRequest.streamlayer)}}}}}}}})(req::HTTP.Messages.Request; retry::Bool, retries::Int64, retry_delays::ExponentialBackOff, retry_check::Function, retry_non_idempotent::Bool, kw::@Kwargs{iofunction::Nothing, decompress::Nothing, verbose::Int64})",
      "    @ HTTP.RetryRequest ~/.julia/packages/HTTP/sJD5V/src/clientlayers/RetryRequest.jl:75",
      "  [5] manageretries",
      "    @ ~/.julia/packages/HTTP/sJD5V/src/clientlayers/RetryRequest.jl:30 [inlined]",
      "  [6] (::HTTP.CookieRequest.var\"#managecookies#4\"{HTTP.CookieRequest.var\"#managecookies#1#5\"{HTTP.RetryRequest.var\"#manageretries#3\"{HTTP.RetryRequest.var\"#manageretries#1#4\"{HTTP.ConnectionRequest.var\"#connections#4\"{HTTP.ConnectionRequest.var\"#connections#1#5\"{HTTP.TimeoutRequest.var\"#timeouts#3\"{HTTP.TimeoutRequest.var\"#timeouts#1#4\"{HTTP.ExceptionRequest.var\"#exceptions#2\"{HTTP.ExceptionRequest.var\"#exceptions#1#3\"{typeof(HTTP.StreamRequest.streamlayer)}}}}}}}}}})(req::HTTP.Messages.Request; cookies::Bool, cookiejar::HTTP.Cookies.CookieJar, kw::@Kwargs{iofunction::Nothing, decompress::Nothing, verbose::Int64})",
      "    @ HTTP.CookieRequest ~/.julia/packages/HTTP/sJD5V/src/clientlayers/CookieRequest.jl:42",
      "  [7] managecookies",
      "    @ ~/.julia/packages/HTTP/sJD5V/src/clientlayers/CookieRequest.jl:19 [inlined]",
      "  [8] (::HTTP.HeadersRequest.var\"#defaultheaders#2\"{HTTP.HeadersRequest.var\"#defaultheaders#1#3\"{HTTP.CookieRequest.var\"#managecookies#4\"{HTTP.CookieRequest.var\"#managecookies#1#5\"{HTTP.RetryRequest.var\"#manageretries#3\"{HTTP.RetryRequest.var\"#manageretries#1#4\"{HTTP.ConnectionRequest.var\"#connections#4\"{HTTP.ConnectionRequest.var\"#connections#1#5\"{HTTP.TimeoutRequest.var\"#timeouts#3\"{HTTP.TimeoutRequest.var\"#timeouts#1#4\"{HTTP.ExceptionRequest.var\"#exceptions#2\"{HTTP.ExceptionRequest.var\"#exceptions#1#3\"{typeof(HTTP.StreamRequest.streamlayer)}}}}}}}}}}}})(req::HTTP.Messages.Request; iofunction::Nothing, decompress::Nothing, basicauth::Bool, detect_content_type::Bool, canonicalize_headers::Bool, kw::@Kwargs{verbose::Int64})",
      "    @ HTTP.HeadersRequest ~/.julia/packages/HTTP/sJD5V/src/clientlayers/HeadersRequest.jl:71",
      "  [9] defaultheaders",
      "    @ ~/.julia/packages/HTTP/sJD5V/src/clientlayers/HeadersRequest.jl:14 [inlined]",
      " [10] (::HTTP.RedirectRequest.var\"#redirects#3\"{HTTP.RedirectRequest.var\"#redirects#1#4\"{HTTP.HeadersRequest.var\"#defaultheaders#2\"{HTTP.HeadersRequest.var\"#defaultheaders#1#3\"{HTTP.CookieRequest.var\"#managecookies#4\"{HTTP.CookieRequest.var\"#managecookies#1#5\"{HTTP.RetryRequest.var\"#manageretries#3\"{HTTP.RetryRequest.var\"#manageretries#1#4\"{HTTP.ConnectionRequest.var\"#connections#4\"{HTTP.ConnectionRequest.var\"#connections#1#5\"{HTTP.TimeoutRequest.var\"#timeouts#3\"{HTTP.TimeoutRequest.var\"#timeouts#1#4\"{HTTP.ExceptionRequest.var\"#exceptions#2\"{HTTP.ExceptionRequest.var\"#exceptions#1#3\"{typeof(HTTP.StreamRequest.streamlayer)}}}}}}}}}}}}}})(req::HTTP.Messages.Request; redirect::Bool, redirect_limit::Int64, redirect_method::Nothing, forwardheaders::Bool, response_stream::IOStream, kw::@Kwargs{verbose::Int64})",
      "    @ HTTP.RedirectRequest ~/.julia/packages/HTTP/sJD5V/src/clientlayers/RedirectRequest.jl:25",
      " [11] redirects",
      "    @ ~/.julia/packages/HTTP/sJD5V/src/clientlayers/RedirectRequest.jl:14 [inlined]",
      " [12] (::HTTP.MessageRequest.var\"#makerequest#3\"{HTTP.MessageRequest.var\"#makerequest#1#4\"{HTTP.RedirectRequest.var\"#redirects#3\"{HTTP.RedirectRequest.var\"#redirects#1#4\"{HTTP.HeadersRequest.var\"#defaultheaders#2\"{HTTP.HeadersRequest.var\"#defaultheaders#1#3\"{HTTP.CookieRequest.var\"#managecookies#4\"{HTTP.CookieRequest.var\"#managecookies#1#5\"{HTTP.RetryRequest.var\"#manageretries#3\"{HTTP.RetryRequest.var\"#manageretries#1#4\"{HTTP.ConnectionRequest.var\"#connections#4\"{HTTP.ConnectionRequest.var\"#connections#1#5\"{HTTP.TimeoutRequest.var\"#timeouts#3\"{HTTP.TimeoutRequest.var\"#timeouts#1#4\"{HTTP.ExceptionRequest.var\"#exceptions#2\"{HTTP.ExceptionRequest.var\"#exceptions#1#3\"{typeof(HTTP.StreamRequest.streamlayer)}}}}}}}}}}}}}}}})(method::String, url::URIs.URI, headers::Vector{Pair{String, String}}, body::String; copyheaders::Bool, response_stream::IOStream, http_version::HTTP.Strings.HTTPVersion, verbose::Int64, kw::@Kwargs{})",
      "    @ HTTP.MessageRequest ~/.julia/packages/HTTP/sJD5V/src/clientlayers/MessageRequest.jl:35",
      " [13] makerequest",
      "    @ ~/.julia/packages/HTTP/sJD5V/src/clientlayers/MessageRequest.jl:24 [inlined]",
      " [14] request(stack::HTTP.MessageRequest.var\"#makerequest#3\"{HTTP.MessageRequest.var\"#makerequest#1#4\"{HTTP.RedirectRequest.var\"#redirects#3\"{HTTP.RedirectRequest.var\"#redirects#1#4\"{HTTP.HeadersRequest.var\"#defaultheaders#2\"{HTTP.HeadersRequest.var\"#defaultheaders#1#3\"{HTTP.CookieRequest.var\"#managecookies#4\"{HTTP.CookieRequest.var\"#managecookies#1#5\"{HTTP.RetryRequest.var\"#manageretries#3\"{HTTP.RetryRequest.var\"#manageretries#1#4\"{HTTP.ConnectionRequest.var\"#connections#4\"{HTTP.ConnectionRequest.var\"#connections#1#5\"{HTTP.TimeoutRequest.var\"#timeouts#3\"{HTTP.TimeoutRequest.var\"#timeouts#1#4\"{HTTP.ExceptionRequest.var\"#exceptions#2\"{HTTP.ExceptionRequest.var\"#exceptions#1#3\"{typeof(HTTP.StreamRequest.streamlayer)}}}}}}}}}}}}}}}}, method::String, url::String, h::Vector{Pair{String, String}}, b::String, q::Nothing; headers::Vector{Pair{String, String}}, body::String, query::Nothing, kw::@Kwargs{response_stream::IOStream})",
      "    @ HTTP ~/.julia/packages/HTTP/sJD5V/src/HTTP.jl:457",
      " [15] #request#20",
      "    @ ~/.julia/packages/HTTP/sJD5V/src/HTTP.jl:315 [inlined]",
      " [16] (::var\"#3#4\")(io::IOStream)",
      "    @ Main ./In[8]:26",
      " [17] open(::var\"#3#4\", ::String, ::Vararg{String}; kwargs::@Kwargs{})",
      "    @ Base ./io.jl:396",
      " [18] open(::Function, ::String, ::String)",
      "    @ Base ./io.jl:393",
      " [19] macro expansion",
      "    @ ./timing.jl:279 [inlined]",
      " [20] top-level scope",
      "    @ ./In[8]:25"
     ]
    }
   ],
   "source": [
    "datasource = \"CORA Timeseries\"\n",
    "datasource_name = replace(datasource, \" \" => \"_\")\n",
    "\n",
    "@info(\"Working on $(datasource)\")\n",
    "\n",
    "parameter1 = \"TEMP\"\n",
    "parameter2 = \"PSAL\"\n",
    "    \n",
    "    \n",
    "beaconURL = beacon_services[datasource]\n",
    "    \n",
    "# Build query\n",
    "query = DIVAndFairEase.prepare_query_new(datasource, parameter1, parameter2, datestart, dateend, \n",
    "        mindepth, maxdepth, minlon, maxlon, minlat, maxlat)\n",
    "    \n",
    "filename = joinpath(datadir, \"$(regionname)_$(datasource_name)_$(replace(parameter1, \" \"=>\"_\"))_$(Dates.format(datestart, \"yyyymmdd\"))-$(Dates.format(dateend, \"yyyymmdd\"))_$(Int(mindepth))-$(Int(maxdepth))m.nc\");\n",
    "figname = \"$(regionname)_$(datasource_name)_$(replace(parameter1, \" \"=>\"_\"))_$(Dates.format(datestart, \"yyyymmdd\"))-$(Dates.format(dateend, \"yyyymmdd\"))_$(Int(mindepth))-$(Int(maxdepth))m.jpg\"\n",
    "\n",
    "# Write the data in netCDF files\n",
    "@info(\"Data will be written in file:\\n$(filename)\")\n",
    "if isfile(filename)\n",
    "    @info(\"File already downloaded\")\n",
    "    rm(filename)\n",
    "end\n",
    "@time open(filename, \"w\") do io\n",
    "    r = HTTP.request(\"POST\", joinpath(beaconURL, \"api/query\"), \n",
    "        [\"Content-type\"=> \"application/json\",\n",
    "        \"Authorization\" => \"Bearer $(token)\"\n",
    "        ],\n",
    "        query, \n",
    "        response_stream=io);\n",
    "    @info(r.status)\n",
    "end"
   ]
  }
 ],
 "metadata": {
  "kernelspec": {
   "display_name": "Julia 1.10.5",
   "language": "julia",
   "name": "julia-1.10"
  },
  "language_info": {
   "file_extension": ".jl",
   "mimetype": "application/julia",
   "name": "julia",
   "version": "1.10.5"
  },
  "toc": {
   "base_numbering": 1,
   "nav_menu": {},
   "number_sections": true,
   "sideBar": true,
   "skip_h1_title": false,
   "title_cell": "Table of Contents",
   "title_sidebar": "Contents",
   "toc_cell": false,
   "toc_position": {},
   "toc_section_display": true,
   "toc_window_display": false
  }
 },
 "nbformat": 4,
 "nbformat_minor": 5
}
