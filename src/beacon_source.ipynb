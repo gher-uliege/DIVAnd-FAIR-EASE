{
 "cells": [
  {
   "cell_type": "code",
   "execution_count": 114,
   "id": "a10cf53e",
   "metadata": {},
   "outputs": [
    {
     "name": "stderr",
     "output_type": "stream",
     "text": [
      "\u001b[32m\u001b[1m  Activating\u001b[22m\u001b[39m project at `~/Projects/DIVAnd-FAIR-EASE`\n",
      "WARNING: replacing module DIVAndFairEase.\n"
     ]
    }
   ],
   "source": [
    "using Pkg\n",
    "Pkg.activate(\"../\")\n",
    "using HTTP\n",
    "using JSON\n",
    "using JSON3\n",
    "using Dates\n",
    "using OrderedCollections\n",
    "include(\"./DIVAndFairEase.jl\")\n",
    "token = ENV[\"beaconAPItoken\"];"
   ]
  },
  {
   "cell_type": "code",
   "execution_count": 59,
   "id": "38047554",
   "metadata": {},
   "outputs": [
    {
     "data": {
      "text/plain": [
       "2-element Vector{String}:\n",
       " \"../data\"\n",
       " \"../Footprint\""
      ]
     },
     "execution_count": 59,
     "metadata": {},
     "output_type": "execute_result"
    }
   ],
   "source": [
    "datadir = \"../data/\"\n",
    "footprintdir = \"../Footprint\"\n",
    "mkpath.([datadir, footprintdir])"
   ]
  },
  {
   "cell_type": "code",
   "execution_count": 3,
   "id": "ff3636ed",
   "metadata": {},
   "outputs": [],
   "source": [
    "const beacon_services = OrderedDict(\n",
    "    \"Euro-Argo\" => \"https://beacon-argo.maris.nl\",\n",
    "    \"CORA Profile\" => \"https://beacon-cora-pr.maris.nl\",\n",
    "    \"CORA Timeseries\" => \"https://beacon-cora-ts.maris.nl\",\n",
    "    \"EMODnet Chemistry\" => \"https://beacon-emod-chem.maris.nl\",\n",
    "    \"World Ocean Database\" => \"https://beacon-wod.maris.nl\",\n",
    "    \"SeaDataNet CDI TS\" => \"https://beacon-cdi-ts.maris.nl\",\n",
    "    \"CMEMS BGC\" => \"https://beacon-cmems.maris.nl\",\n",
    ");"
   ]
  },
  {
   "cell_type": "code",
   "execution_count": 69,
   "id": "23d88992",
   "metadata": {},
   "outputs": [
    {
     "name": "stderr",
     "output_type": "stream",
     "text": [
      "\u001b[36m\u001b[1m[ \u001b[22m\u001b[39m\u001b[36m\u001b[1mInfo: \u001b[22m\u001b[39m2010-01-01 → 2020-01-01\n"
     ]
    }
   ],
   "source": [
    "datasource = \"CMEMS BGC\"\n",
    "domain = [12., 18., 43., 46.]\n",
    "parameter1 = \"TEMP\"\n",
    "if datasource == \"World Ocean Database\"\n",
    "    parameter1 = \"Temperature\"\n",
    "elseif datasource == \"SeaDataNet CDI TS\"\n",
    "    parameter1 = \"ITS-90 water temperature\"\n",
    "end\n",
    "parameter2 = \"TEMP\"\n",
    "datestart = Dates.Date(2010, 1, 1)\n",
    "dateend = Dates.Date(2020, 1, 1)\n",
    "minlon = domain[1]\n",
    "maxlon = domain[2]\n",
    "minlat = domain[3]\n",
    "maxlat = domain[4]\n",
    "mindepth = 0.\n",
    "maxdepth = 10.\n",
    "dateref = Dates.Date(1950, 1, 1) #Days since 1950\n",
    "mintemporal = (datestart - dateref).value #Days since 1950\n",
    "maxtemporal = (dateend - dateref).value #Days since 1950\n",
    "regionname = \"BlackSea\"\n",
    "\n",
    "@info(\"$(datestart) → $(dateend)\")"
   ]
  },
  {
   "cell_type": "code",
   "execution_count": 61,
   "id": "b9fb8e8d",
   "metadata": {},
   "outputs": [
    {
     "name": "stderr",
     "output_type": "stream",
     "text": [
      "\u001b[36m\u001b[1m[ \u001b[22m\u001b[39m\u001b[36m\u001b[1mInfo: \u001b[22m\u001b[39mFootprint endpoint: https://beacon-cmems.maris.nl/api/datasets/footprint\n",
      "\u001b[36m\u001b[1m[ \u001b[22m\u001b[39m\u001b[36m\u001b[1mInfo: \u001b[22m\u001b[39mFootprint file: ../Footprint/Footprint_CMEMS_BGC.json\n"
     ]
    }
   ],
   "source": [
    "beaconURL = beacon_services[datasource]\n",
    "footprintURL = joinpath(beaconURL, \"api/datasets/footprint\")\n",
    "datasource_name = replace(datasource, \" \" => \"_\")\n",
    "footprintfile = joinpath(footprintdir, \"Footprint_$(datasource_name).json\")\n",
    "@info(\"Footprint endpoint: $(footprintURL)\")\n",
    "@info(\"Footprint file: $(footprintfile)\")"
   ]
  },
  {
   "cell_type": "code",
   "execution_count": 116,
   "id": "08bf8d92",
   "metadata": {},
   "outputs": [
    {
     "data": {
      "text/plain": [
       "8-element Vector{Any}:\n",
       " \"PHTX\"\n",
       " \"TEMP_DOXY\"\n",
       " \"TEMP_ADJUSTED_ERROR\"\n",
       " \"TEMP_ADJUSTED\"\n",
       " \"POTENTIAL_TEMP\"\n",
       " \"TEMP_ERROR\"\n",
       " \"TEMP\"\n",
       " \"TEMP_CNDC\""
      ]
     },
     "execution_count": 116,
     "metadata": {},
     "output_type": "execute_result"
    }
   ],
   "source": [
    "DIVAndFairEase.varbyunits(footprintfile, [\"degree_Celsius\", \"degrees_C\"])"
   ]
  },
  {
   "cell_type": "code",
   "execution_count": 62,
   "id": "b1dd39e2",
   "metadata": {},
   "outputs": [
    {
     "name": "stderr",
     "output_type": "stream",
     "text": [
      "\u001b[36m\u001b[1m[ \u001b[22m\u001b[39m\u001b[36m\u001b[1mInfo: \u001b[22m\u001b[39mWriting Footprint file\n",
      "\u001b[36m\u001b[1m[ \u001b[22m\u001b[39m\u001b[36m\u001b[1mInfo: \u001b[22m\u001b[39m200\n"
     ]
    }
   ],
   "source": [
    "if isfile(footprintfile)\n",
    "    @info(\"Footprint file already downloaded\")\n",
    "else\n",
    "    @info(\"Writing Footprint file\")\n",
    "    open(footprintfile, \"w\") do io\n",
    "        r = HTTP.request(\"GET\", footprintURL, \n",
    "            [\"Authorization\" => \"Bearer $(token)\"],\n",
    "            response_stream=io)\n",
    "        @info(r.status)\n",
    "    end\n",
    "end"
   ]
  },
  {
   "cell_type": "code",
   "execution_count": 63,
   "id": "36f00eed",
   "metadata": {},
   "outputs": [],
   "source": [
    "# Note 1: the JSON file is 193M, just to get the list of variables?"
   ]
  },
  {
   "cell_type": "code",
   "execution_count": 64,
   "id": "74a06722",
   "metadata": {},
   "outputs": [
    {
     "data": {
      "text/plain": [
       "true"
      ]
     },
     "execution_count": 64,
     "metadata": {},
     "output_type": "execute_result"
    }
   ],
   "source": [
    "data = JSON.parsefile(footprintfile);\n",
    "attributes = data[\"unique_column_attributes\"]\n",
    "params = sort(collect(keys(attributes)));\n",
    "parameter1 in params"
   ]
  },
  {
   "cell_type": "code",
   "execution_count": 108,
   "id": "a36ba6ee",
   "metadata": {},
   "outputs": [
    {
     "data": {
      "text/plain": [
       "varbyunits (generic function with 2 methods)"
      ]
     },
     "execution_count": 108,
     "metadata": {},
     "output_type": "execute_result"
    }
   ],
   "source": []
  },
  {
   "cell_type": "code",
   "execution_count": 109,
   "id": "76cdcd0c",
   "metadata": {},
   "outputs": [
    {
     "data": {
      "text/plain": [
       "8-element Vector{Any}:\n",
       " \"PHTX\"\n",
       " \"TEMP_DOXY\"\n",
       " \"TEMP_ADJUSTED_ERROR\"\n",
       " \"TEMP_ADJUSTED\"\n",
       " \"POTENTIAL_TEMP\"\n",
       " \"TEMP_ERROR\"\n",
       " \"TEMP\"\n",
       " \"TEMP_CNDC\""
      ]
     },
     "execution_count": 109,
     "metadata": {},
     "output_type": "execute_result"
    }
   ],
   "source": [
    "varlist = varbyunits(data)"
   ]
  },
  {
   "cell_type": "code",
   "execution_count": 70,
   "id": "08dbe983",
   "metadata": {},
   "outputs": [
    {
     "name": "stderr",
     "output_type": "stream",
     "text": [
      "\u001b[36m\u001b[1m[ \u001b[22m\u001b[39m\u001b[36m\u001b[1mInfo: \u001b[22m\u001b[39mWorking with CMEMS BGC dataset\n"
     ]
    },
    {
     "data": {
      "text/plain": [
       "\"{\\\"query_parameters\\\":[{\\\"column_name\\\":\\\"TEMP\\\",\\\"alias\\\":\\\"TEMP\\\"},{\\\"column_name\\\":\\\"TEMP\\\",\\\"column_attribute\\\":\\\"scale_factor\\\",\\\"alias\\\":\\\"scale_factor\\\"},{\\\"column_name\\\":\\\"JULD\\\",\\\"alias\\\":\\\"TIME\\\"},{\\\"column_name\\\":\\\"DEPH\\\",\\\"alias\\\":\\\"DEPTH\\\"},{\\\"column_name\\\":\\\"LONGITUDE\\\",\\\"alias\\\":\\\"LONGITUDE\\\"},{\\\"colum\"\u001b[93m\u001b[1m ⋯ 33 bytes ⋯ \u001b[22m\u001b[39m\"UDE\\\"}],\\\"filters\\\":[{\\\"for_query_parameter\\\":\\\"TIME\\\",\\\"min\\\":21915,\\\"max\\\":25567},{\\\"for_query_parameter\\\":\\\"DEPTH\\\",\\\"min\\\":0.0,\\\"max\\\":10.0},{\\\"for_query_parameter\\\":\\\"LONGITUDE\\\",\\\"min\\\":12.0,\\\"max\\\":18.0},{\\\"for_query_parameter\\\":\\\"LATITUDE\\\",\\\"min\\\":43.0,\\\"max\\\":46.0}],\\\"output\\\":{\\\"format\\\":\\\"netcdf\\\"}}\""
      ]
     },
     "execution_count": 70,
     "metadata": {},
     "output_type": "execute_result"
    }
   ],
   "source": [
    "query = DIVAndFairEase.prepare_query_new(datasource, parameter1, parameter2, datestart, dateend, \n",
    "    mindepth, maxdepth, minlon, maxlon, minlat, maxlat)"
   ]
  },
  {
   "cell_type": "code",
   "execution_count": 71,
   "id": "d179a5c0",
   "metadata": {},
   "outputs": [],
   "source": [
    "# Note 2: cannot work with such a long list of parameters!!"
   ]
  },
  {
   "cell_type": "code",
   "execution_count": 72,
   "id": "6738f946",
   "metadata": {},
   "outputs": [
    {
     "data": {
      "text/plain": [
       "\"../data/CMEMS_BGC_TEMP_BlackSea_20100101-20200101_0-10m.nc\""
      ]
     },
     "execution_count": 72,
     "metadata": {},
     "output_type": "execute_result"
    }
   ],
   "source": [
    "filename = joinpath(datadir, \"$(datasource_name)_$(replace(parameter1, \" \"=>\"_\"))_$(regionname)_$(Dates.format(datestart, \"yyyymmdd\"))-$(Dates.format(dateend, \"yyyymmdd\"))_$(Int(mindepth))-$(Int(maxdepth))m.nc\");\n",
    "filename"
   ]
  },
  {
   "cell_type": "code",
   "execution_count": 73,
   "id": "d40015d6",
   "metadata": {},
   "outputs": [
    {
     "name": "stderr",
     "output_type": "stream",
     "text": [
      "\u001b[36m\u001b[1m┌ \u001b[22m\u001b[39m\u001b[36m\u001b[1mInfo: \u001b[22m\u001b[39mData will be written in file:\n",
      "\u001b[36m\u001b[1m└ \u001b[22m\u001b[39m../data/CMEMS_BGC_TEMP_BlackSea_20100101-20200101_0-10m.nc\n"
     ]
    },
    {
     "name": "stdout",
     "output_type": "stream",
     "text": [
      "  1.514356 seconds (24.29 k allocations: 1.267 MiB, 2 lock conflicts, 1.86% compilation time)\n"
     ]
    },
    {
     "name": "stderr",
     "output_type": "stream",
     "text": [
      "\u001b[36m\u001b[1m[ \u001b[22m\u001b[39m\u001b[36m\u001b[1mInfo: \u001b[22m\u001b[39m204\n",
      "\u001b[36m\u001b[1m[ \u001b[22m\u001b[39m\u001b[36m\u001b[1mInfo: \u001b[22m\u001b[39mNetCDF file size: 0.0M\n"
     ]
    }
   ],
   "source": [
    "@info(\"Data will be written in file:\\n$(filename)\")\n",
    "\n",
    "if isfile(filename)\n",
    "    @info(\"File already downloaded\")\n",
    "    rm(filename)\n",
    "end\n",
    "@time open(filename, \"w\") do io\n",
    "    r = HTTP.request(\"POST\", joinpath(beaconURL, \"api/query\"), \n",
    "        [\"Content-type\"=> \"application/json\",\n",
    "         \"Authorization\" => \"Bearer $(token)\"\n",
    "        ],\n",
    "        query, \n",
    "        response_stream=io);\n",
    "    @info(r.status)\n",
    "end\n",
    "\n",
    "@info(\"NetCDF file size: $(round(filesize(filename)/1000^2, digits=1))M\")"
   ]
  },
  {
   "cell_type": "code",
   "execution_count": 44,
   "id": "0987ac3a",
   "metadata": {},
   "outputs": [
    {
     "data": {
      "text/plain": [
       "\"{\\\"query_parameters\\\":[{\\\"column_name\\\":\\\"TEMP\\\",\\\"alias\\\":\\\"TEMP\\\"},{\\\"column_name\\\":\\\"JULD\\\",\\\"alias\\\":\\\"TIME\\\"},{\\\"column_name\\\":\\\"DEPH\\\",\\\"alias\\\":\\\"DEPTH\\\"},{\\\"column_name\\\":\\\"LONGITUDE\\\",\\\"alias\\\":\\\"LONGITUDE\\\"},{\\\"column_name\\\":\\\"LATITUDE\\\",\\\"alias\\\":\\\"LATITUDE\\\"}],\\\"filters\\\":[{\\\"for_query_parameter\\\":\\\"TIME\\\",\\\"min\\\":21915,\\\"max\\\":22645},{\\\"for_query_parameter\\\":\\\"DEPTH\\\",\\\"min\\\":0.0,\\\"max\\\":10.0},{\\\"for_query_parameter\\\":\\\"LONGITUDE\\\",\\\"min\\\":12.0,\\\"max\\\":18.0},{\\\"for_query_parameter\\\":\\\"LATITUDE\\\",\\\"min\\\":43.0,\\\"max\\\":46.0},{\\\"for_query_parameter\\\":\\\"TEMP\\\",\\\"min\\\":-2.0,\\\"max\\\":30.0}],\\\"output\\\":{\\\"format\\\":\\\"netcdf\\\"}}\""
      ]
     },
     "execution_count": 44,
     "metadata": {},
     "output_type": "execute_result"
    }
   ],
   "source": [
    "query"
   ]
  },
  {
   "cell_type": "code",
   "execution_count": null,
   "id": "a75d80fe",
   "metadata": {},
   "outputs": [],
   "source": []
  }
 ],
 "metadata": {
  "kernelspec": {
   "display_name": "Julia 1.11.0-rc3",
   "language": "julia",
   "name": "julia-1.11"
  },
  "language_info": {
   "file_extension": ".jl",
   "mimetype": "application/julia",
   "name": "julia",
   "version": "1.11.0"
  },
  "toc": {
   "base_numbering": 1,
   "nav_menu": {},
   "number_sections": true,
   "sideBar": true,
   "skip_h1_title": false,
   "title_cell": "Table of Contents",
   "title_sidebar": "Contents",
   "toc_cell": false,
   "toc_position": {},
   "toc_section_display": true,
   "toc_window_display": false
  }
 },
 "nbformat": 4,
 "nbformat_minor": 5
}
