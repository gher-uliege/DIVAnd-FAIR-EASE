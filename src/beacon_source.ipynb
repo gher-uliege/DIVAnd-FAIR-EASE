{
 "cells": [
  {
   "cell_type": "markdown",
   "id": "f2f30cd1",
   "metadata": {},
   "source": [
    "# Download data in the region of interest using `Beacon`\n",
    "\n",
    "__Notes:__\n",
    "1. When getting data from Argo, we need to be sure that we have depth instead of pressure!7\n",
    "2. We get more data when using `Beacon` than when using `pyargo`. Why is that?"
   ]
  },
  {
   "cell_type": "code",
   "execution_count": 1,
   "id": "a10cf53e",
   "metadata": {},
   "outputs": [
    {
     "name": "stderr",
     "output_type": "stream",
     "text": [
      "\u001b[32m\u001b[1m  Activating\u001b[22m\u001b[39m project at `~/Projects/DIVAnd-FAIR-EASE`\n"
     ]
    }
   ],
   "source": [
    "using Pkg\n",
    "Pkg.activate(\"../\")\n",
    "using HTTP\n",
    "using JSON\n",
    "using JSON3\n",
    "using Dates\n",
    "# using Makie, CairoMakie, GeoMakie\n",
    "using NCDatasets\n",
    "using OrderedCollections\n",
    "include(\"./DIVAndFairEase.jl\")\n",
    "token = ENV[\"beaconAPItoken\"];"
   ]
  },
  {
   "cell_type": "code",
   "execution_count": 2,
   "id": "5b31208c-edc2-430f-99d0-c237e6a76c6a",
   "metadata": {},
   "outputs": [
    {
     "data": {
      "text/plain": [
       "3-element Vector{String}:\n",
       " \"../data\"\n",
       " \"../figures/NorthAdriatic\"\n",
       " \"../Footprint\""
      ]
     },
     "execution_count": 2,
     "metadata": {},
     "output_type": "execute_result"
    }
   ],
   "source": [
    "figdir = \"../figures/NorthAdriatic\"\n",
    "datadir = \"../data/\"\n",
    "footprintdir = \"../Footprint\"\n",
    "mkpath.([datadir, figdir, footprintdir])"
   ]
  },
  {
   "cell_type": "markdown",
   "id": "f7947313",
   "metadata": {},
   "source": [
    "## Beacon services"
   ]
  },
  {
   "cell_type": "code",
   "execution_count": 3,
   "id": "ff3636ed",
   "metadata": {},
   "outputs": [
    {
     "data": {
      "text/plain": [
       "OrderedDict{String, String} with 7 entries:\n",
       "  \"Euro-Argo\"            => \"https://beacon-argo.maris.nl\"\n",
       "  \"CORA Profile\"         => \"https://beacon-cora-pr.maris.nl\"\n",
       "  \"CORA Timeseries\"      => \"https://beacon-cora-ts.maris.nl\"\n",
       "  \"EMODnet Chemistry\"    => \"https://beacon-emod-chem.maris.nl\"\n",
       "  \"World Ocean Database\" => \"https://beacon-wod.maris.nl\"\n",
       "  \"SeaDataNet CDI TS\"    => \"https://beacon-cdi-ts.maris.nl\"\n",
       "  \"CMEMS BGC\"            => \"https://beacon-cmems.maris.nl\""
      ]
     },
     "execution_count": 3,
     "metadata": {},
     "output_type": "execute_result"
    }
   ],
   "source": [
    "beacon_services = OrderedDict(\n",
    "    \"Euro-Argo\" => \"https://beacon-argo.maris.nl\",\n",
    "    \"CORA Profile\" => \"https://beacon-cora-pr.maris.nl\",\n",
    "    \"CORA Timeseries\" => \"https://beacon-cora-ts.maris.nl\",\n",
    "    \"EMODnet Chemistry\" => \"https://beacon-emod-chem.maris.nl\",\n",
    "    \"World Ocean Database\" => \"https://beacon-wod.maris.nl\",\n",
    "    \"SeaDataNet CDI TS\" => \"https://beacon-cdi-ts.maris.nl\",\n",
    "    \"CMEMS BGC\" => \"https://beacon-cmems.maris.nl\",\n",
    ")"
   ]
  },
  {
   "cell_type": "code",
   "execution_count": 4,
   "id": "23d88992",
   "metadata": {},
   "outputs": [
    {
     "name": "stderr",
     "output_type": "stream",
     "text": [
      "\u001b[36m\u001b[1m[ \u001b[22m\u001b[39m\u001b[36m\u001b[1mInfo: \u001b[22m\u001b[39mWorking on 5 data sources\n"
     ]
    },
    {
     "data": {
      "text/plain": [
       "\"NorthAdriaticSea\""
      ]
     },
     "execution_count": 4,
     "metadata": {},
     "output_type": "execute_result"
    }
   ],
   "source": [
    "datasourcelist = [\"Euro-Argo\", \"World Ocean Database\", \"SeaDataNet CDI TS\", \"CORA Profile\", \"CORA Timeseries\"]\n",
    "@info(\"Working on $(length(datasourcelist)) data sources\")\n",
    "domain = [12., 18., 43., 46.]\n",
    "datestart = Dates.Date(1950, 1, 1)\n",
    "dateend = Dates.Date(2024, 1, 1)\n",
    "minlon = domain[1]\n",
    "maxlon = domain[2]\n",
    "minlat = domain[3]\n",
    "maxlat = domain[4]\n",
    "mindepth = 0.\n",
    "maxdepth = 500.\n",
    "regionname = \"NorthAdriaticSea\""
   ]
  },
  {
   "cell_type": "code",
   "execution_count": 5,
   "id": "5fab0974",
   "metadata": {},
   "outputs": [
    {
     "data": {
      "text/plain": [
       "5-element Vector{String}:\n",
       " \"Euro-Argo\"\n",
       " \"World Ocean Database\"\n",
       " \"SeaDataNet CDI TS\"\n",
       " \"CORA Profile\"\n",
       " \"CORA Timeseries\""
      ]
     },
     "execution_count": 5,
     "metadata": {},
     "output_type": "execute_result"
    }
   ],
   "source": [
    "datasourcelist"
   ]
  },
  {
   "cell_type": "markdown",
   "id": "7eab7090",
   "metadata": {},
   "source": [
    "## Loop on the data sources"
   ]
  },
  {
   "cell_type": "code",
   "execution_count": 6,
   "id": "f2cc68f0",
   "metadata": {},
   "outputs": [
    {
     "name": "stderr",
     "output_type": "stream",
     "text": [
      "WARNING: replacing module DIVAndFairEase.\n",
      "\u001b[36m\u001b[1m[ \u001b[22m\u001b[39m\u001b[36m\u001b[1mInfo: \u001b[22m\u001b[39mWorking on SeaDataNet CDI TS\n",
      "\u001b[36m\u001b[1m[ \u001b[22m\u001b[39m\u001b[36m\u001b[1mInfo: \u001b[22m\u001b[39m1950-01-01 → 2024-01-01, ITS-90 water temperature\n"
     ]
    },
    {
     "name": "stdout",
     "output_type": "stream",
     "text": [
      "query = \"{\\\"query_parameters\\\":[{\\\"column_name\\\":\\\"ITS-90 water temperature\\\",\\\"alias\\\":\\\"ITS-90 water temperature\\\"},{\\\"column_name\\\":\\\"yyyy-mm-ddThh:mm:ss.sss\\\",\\\"alias\\\":\\\"TIME\\\"},{\\\"column_name\\\":\\\"Depth\\\",\\\"alias\\\":\\\"DEPTH\\\"},{\\\"column_name\\\":\\\"Longitude\\\",\\\"alias\\\":\\\"LONGITUDE\\\"},{\\\"column_name\\\":\\\"Latitude\\\",\\\"alias\\\":\\\"LATITUDE\\\"}],\\\"filters\\\":[{\\\"for_query_parameter\\\":\\\"TIME\\\",\\\"min\\\":\\\"19500101T00:00:00\\\",\\\"max\\\":\\\"20240101T00:00:00\\\"},{\\\"for_query_parameter\\\":\\\"DEPTH\\\",\\\"min\\\":0.0,\\\"max\\\":500.0},{\\\"for_query_parameter\\\":\\\"LONGITUDE\\\",\\\"min\\\":12.0,\\\"max\\\":18.0},{\\\"for_query_parameter\\\":\\\"LATITUDE\\\",\\\"min\\\":43.0,\\\"max\\\":46.0}],\\\"output\\\":{\\\"format\\\":\\\"netcdf\\\"}}\"\n"
     ]
    },
    {
     "name": "stderr",
     "output_type": "stream",
     "text": [
      "\u001b[36m\u001b[1m┌ \u001b[22m\u001b[39m\u001b[36m\u001b[1mInfo: \u001b[22m\u001b[39mData will be written in file:\n",
      "\u001b[36m\u001b[1m└ \u001b[22m\u001b[39m../data/NorthAdriaticSea_SeaDataNet_CDI_TS_ITS-90_water_temperature_19500101-20240101_0-500m.nc\n",
      "\u001b[36m\u001b[1m[ \u001b[22m\u001b[39m\u001b[36m\u001b[1mInfo: \u001b[22m\u001b[39mFile already downloaded\n"
     ]
    },
    {
     "ename": "LoadError",
     "evalue": "HTTP.Exceptions.StatusError(400, \"POST\", \"/api/query\", HTTP.Messages.Response:\n\"\"\"\nHTTP/1.1 400 Bad Request\r\nContent-Type: application/json\r\nVary: Access-Control-Request-Headers\r\nx-beacon-query-id: 97130d37-6172-4a0c-b513-1a21368a8cae\r\nX-Powered-By: ARR/3.0\r\nDate: Wed, 11 Dec 2024 08:20:07 GMT\r\nContent-Length: 76\r\nSet-Cookie: ******\r\n\r\n[Message Body was streamed]\"\"\")",
     "output_type": "error",
     "traceback": [
      "HTTP.Exceptions.StatusError(400, \"POST\", \"/api/query\", HTTP.Messages.Response:\n\"\"\"\nHTTP/1.1 400 Bad Request\r\nContent-Type: application/json\r\nVary: Access-Control-Request-Headers\r\nx-beacon-query-id: 97130d37-6172-4a0c-b513-1a21368a8cae\r\nX-Powered-By: ARR/3.0\r\nDate: Wed, 11 Dec 2024 08:20:07 GMT\r\nContent-Length: 76\r\nSet-Cookie: ******\r\n\r\n[Message Body was streamed]\"\"\")",
      "",
      "Stacktrace:",
      "  [1] (::HTTP.ConnectionRequest.var\"#connections#4\"{HTTP.ConnectionRequest.var\"#connections#1#5\"{HTTP.TimeoutRequest.var\"#timeouts#3\"{HTTP.TimeoutRequest.var\"#timeouts#1#4\"{HTTP.ExceptionRequest.var\"#exceptions#2\"{HTTP.ExceptionRequest.var\"#exceptions#1#3\"{typeof(HTTP.StreamRequest.streamlayer)}}}}}})(req::HTTP.Messages.Request; proxy::Nothing, socket_type::Type, socket_type_tls::Nothing, readtimeout::Int64, connect_timeout::Int64, logerrors::Bool, logtag::Nothing, closeimmediately::Bool, kw::@Kwargs{iofunction::Nothing, decompress::Nothing, verbose::Int64})",
      "    @ HTTP.ConnectionRequest ~/.julia/packages/HTTP/sUvTn/src/clientlayers/ConnectionRequest.jl:144",
      "  [2] connections",
      "    @ ~/.julia/packages/HTTP/sUvTn/src/clientlayers/ConnectionRequest.jl:60 [inlined]",
      "  [3] (::Base.var\"#106#108\"{Base.var\"#106#107#109\"{ExponentialBackOff, HTTP.RetryRequest.var\"#2#5\"{Int64, typeof(HTTP.RetryRequest.FALSE), HTTP.Messages.Request, Base.RefValue{Int64}}, HTTP.ConnectionRequest.var\"#connections#4\"{HTTP.ConnectionRequest.var\"#connections#1#5\"{HTTP.TimeoutRequest.var\"#timeouts#3\"{HTTP.TimeoutRequest.var\"#timeouts#1#4\"{HTTP.ExceptionRequest.var\"#exceptions#2\"{HTTP.ExceptionRequest.var\"#exceptions#1#3\"{typeof(HTTP.StreamRequest.streamlayer)}}}}}}}})(args::HTTP.Messages.Request; kwargs::@Kwargs{iofunction::Nothing, decompress::Nothing, verbose::Int64})",
      "    @ Base ./error.jl:300",
      "  [4] (::HTTP.RetryRequest.var\"#manageretries#3\"{HTTP.RetryRequest.var\"#manageretries#1#4\"{HTTP.ConnectionRequest.var\"#connections#4\"{HTTP.ConnectionRequest.var\"#connections#1#5\"{HTTP.TimeoutRequest.var\"#timeouts#3\"{HTTP.TimeoutRequest.var\"#timeouts#1#4\"{HTTP.ExceptionRequest.var\"#exceptions#2\"{HTTP.ExceptionRequest.var\"#exceptions#1#3\"{typeof(HTTP.StreamRequest.streamlayer)}}}}}}}})(req::HTTP.Messages.Request; retry::Bool, retries::Int64, retry_delays::ExponentialBackOff, retry_check::Function, retry_non_idempotent::Bool, kw::@Kwargs{iofunction::Nothing, decompress::Nothing, verbose::Int64})",
      "    @ HTTP.RetryRequest ~/.julia/packages/HTTP/sUvTn/src/clientlayers/RetryRequest.jl:75",
      "  [5] manageretries",
      "    @ ~/.julia/packages/HTTP/sUvTn/src/clientlayers/RetryRequest.jl:30 [inlined]",
      "  [6] (::HTTP.CookieRequest.var\"#managecookies#4\"{HTTP.CookieRequest.var\"#managecookies#1#5\"{HTTP.RetryRequest.var\"#manageretries#3\"{HTTP.RetryRequest.var\"#manageretries#1#4\"{HTTP.ConnectionRequest.var\"#connections#4\"{HTTP.ConnectionRequest.var\"#connections#1#5\"{HTTP.TimeoutRequest.var\"#timeouts#3\"{HTTP.TimeoutRequest.var\"#timeouts#1#4\"{HTTP.ExceptionRequest.var\"#exceptions#2\"{HTTP.ExceptionRequest.var\"#exceptions#1#3\"{typeof(HTTP.StreamRequest.streamlayer)}}}}}}}}}})(req::HTTP.Messages.Request; cookies::Bool, cookiejar::HTTP.Cookies.CookieJar, kw::@Kwargs{iofunction::Nothing, decompress::Nothing, verbose::Int64})",
      "    @ HTTP.CookieRequest ~/.julia/packages/HTTP/sUvTn/src/clientlayers/CookieRequest.jl:42",
      "  [7] managecookies",
      "    @ ~/.julia/packages/HTTP/sUvTn/src/clientlayers/CookieRequest.jl:19 [inlined]",
      "  [8] (::HTTP.HeadersRequest.var\"#defaultheaders#2\"{HTTP.HeadersRequest.var\"#defaultheaders#1#3\"{HTTP.CookieRequest.var\"#managecookies#4\"{HTTP.CookieRequest.var\"#managecookies#1#5\"{HTTP.RetryRequest.var\"#manageretries#3\"{HTTP.RetryRequest.var\"#manageretries#1#4\"{HTTP.ConnectionRequest.var\"#connections#4\"{HTTP.ConnectionRequest.var\"#connections#1#5\"{HTTP.TimeoutRequest.var\"#timeouts#3\"{HTTP.TimeoutRequest.var\"#timeouts#1#4\"{HTTP.ExceptionRequest.var\"#exceptions#2\"{HTTP.ExceptionRequest.var\"#exceptions#1#3\"{typeof(HTTP.StreamRequest.streamlayer)}}}}}}}}}}}})(req::HTTP.Messages.Request; iofunction::Nothing, decompress::Nothing, basicauth::Bool, detect_content_type::Bool, canonicalize_headers::Bool, kw::@Kwargs{verbose::Int64})",
      "    @ HTTP.HeadersRequest ~/.julia/packages/HTTP/sUvTn/src/clientlayers/HeadersRequest.jl:71",
      "  [9] defaultheaders",
      "    @ ~/.julia/packages/HTTP/sUvTn/src/clientlayers/HeadersRequest.jl:14 [inlined]",
      " [10] (::HTTP.RedirectRequest.var\"#redirects#3\"{HTTP.RedirectRequest.var\"#redirects#1#4\"{HTTP.HeadersRequest.var\"#defaultheaders#2\"{HTTP.HeadersRequest.var\"#defaultheaders#1#3\"{HTTP.CookieRequest.var\"#managecookies#4\"{HTTP.CookieRequest.var\"#managecookies#1#5\"{HTTP.RetryRequest.var\"#manageretries#3\"{HTTP.RetryRequest.var\"#manageretries#1#4\"{HTTP.ConnectionRequest.var\"#connections#4\"{HTTP.ConnectionRequest.var\"#connections#1#5\"{HTTP.TimeoutRequest.var\"#timeouts#3\"{HTTP.TimeoutRequest.var\"#timeouts#1#4\"{HTTP.ExceptionRequest.var\"#exceptions#2\"{HTTP.ExceptionRequest.var\"#exceptions#1#3\"{typeof(HTTP.StreamRequest.streamlayer)}}}}}}}}}}}}}})(req::HTTP.Messages.Request; redirect::Bool, redirect_limit::Int64, redirect_method::Nothing, forwardheaders::Bool, response_stream::IOStream, kw::@Kwargs{verbose::Int64})",
      "    @ HTTP.RedirectRequest ~/.julia/packages/HTTP/sUvTn/src/clientlayers/RedirectRequest.jl:25",
      " [11] redirects",
      "    @ ~/.julia/packages/HTTP/sUvTn/src/clientlayers/RedirectRequest.jl:14 [inlined]",
      " [12] (::HTTP.MessageRequest.var\"#makerequest#3\"{HTTP.MessageRequest.var\"#makerequest#1#4\"{HTTP.RedirectRequest.var\"#redirects#3\"{HTTP.RedirectRequest.var\"#redirects#1#4\"{HTTP.HeadersRequest.var\"#defaultheaders#2\"{HTTP.HeadersRequest.var\"#defaultheaders#1#3\"{HTTP.CookieRequest.var\"#managecookies#4\"{HTTP.CookieRequest.var\"#managecookies#1#5\"{HTTP.RetryRequest.var\"#manageretries#3\"{HTTP.RetryRequest.var\"#manageretries#1#4\"{HTTP.ConnectionRequest.var\"#connections#4\"{HTTP.ConnectionRequest.var\"#connections#1#5\"{HTTP.TimeoutRequest.var\"#timeouts#3\"{HTTP.TimeoutRequest.var\"#timeouts#1#4\"{HTTP.ExceptionRequest.var\"#exceptions#2\"{HTTP.ExceptionRequest.var\"#exceptions#1#3\"{typeof(HTTP.StreamRequest.streamlayer)}}}}}}}}}}}}}}}})(method::String, url::URIs.URI, headers::Vector{Pair{String, String}}, body::String; copyheaders::Bool, response_stream::IOStream, http_version::HTTP.Strings.HTTPVersion, verbose::Int64, kw::@Kwargs{})",
      "    @ HTTP.MessageRequest ~/.julia/packages/HTTP/sUvTn/src/clientlayers/MessageRequest.jl:35",
      " [13] makerequest",
      "    @ ~/.julia/packages/HTTP/sUvTn/src/clientlayers/MessageRequest.jl:24 [inlined]",
      " [14] request(stack::HTTP.MessageRequest.var\"#makerequest#3\"{HTTP.MessageRequest.var\"#makerequest#1#4\"{HTTP.RedirectRequest.var\"#redirects#3\"{HTTP.RedirectRequest.var\"#redirects#1#4\"{HTTP.HeadersRequest.var\"#defaultheaders#2\"{HTTP.HeadersRequest.var\"#defaultheaders#1#3\"{HTTP.CookieRequest.var\"#managecookies#4\"{HTTP.CookieRequest.var\"#managecookies#1#5\"{HTTP.RetryRequest.var\"#manageretries#3\"{HTTP.RetryRequest.var\"#manageretries#1#4\"{HTTP.ConnectionRequest.var\"#connections#4\"{HTTP.ConnectionRequest.var\"#connections#1#5\"{HTTP.TimeoutRequest.var\"#timeouts#3\"{HTTP.TimeoutRequest.var\"#timeouts#1#4\"{HTTP.ExceptionRequest.var\"#exceptions#2\"{HTTP.ExceptionRequest.var\"#exceptions#1#3\"{typeof(HTTP.StreamRequest.streamlayer)}}}}}}}}}}}}}}}}, method::String, url::String, h::Vector{Pair{String, String}}, b::String, q::Nothing; headers::Vector{Pair{String, String}}, body::String, query::Nothing, kw::@Kwargs{response_stream::IOStream})",
      "    @ HTTP ~/.julia/packages/HTTP/sUvTn/src/HTTP.jl:457",
      " [15] #request#20",
      "    @ ~/.julia/packages/HTTP/sUvTn/src/HTTP.jl:315 [inlined]",
      " [16] (::var\"#1#2\")(io::IOStream)",
      "    @ Main ./In[6]:39",
      " [17] open(::var\"#1#2\", ::String, ::Vararg{String}; kwargs::@Kwargs{})",
      "    @ Base ./io.jl:410",
      " [18] open(::Function, ::String, ::String)",
      "    @ Base ./io.jl:407",
      " [19] macro expansion",
      "    @ ./timing.jl:581 [inlined]",
      " [20] top-level scope",
      "    @ ./In[6]:38"
     ]
    }
   ],
   "source": [
    "include(\"./DIVAndFairEase.jl\")\n",
    "#for datasource in datasourcelist[3:3]\n",
    "datasource = datasourcelist[3]    \n",
    "@info(\"Working on $(datasource)\")\n",
    "\n",
    "parameter1 = \"TEMP\"\n",
    "if datasource == \"World Ocean Database\"\n",
    "    parameter1 = \"Temperature\"\n",
    "elseif datasource == \"EMODnet Chemistry\"  \n",
    "    parameter1 = \"ITS_90_water_temperature\"\n",
    "elseif datasource == \"SeaDataNet CDI TS\"\n",
    "    parameter1 = \"ITS-90 water temperature\"\n",
    "end\n",
    "parameter2 = \"PSAL\"\n",
    "\n",
    "@info(\"$(datestart) → $(dateend), $(parameter1)\")\n",
    "\n",
    "# Download the \"footprint\"\n",
    "beaconURL = beacon_services[datasource]\n",
    "datasource_name = replace(datasource, \" \" => \"_\")\n",
    "\n",
    "# Build query\n",
    "query = DIVAndFairEase.prepare_query(datasource, parameter1, parameter2, Dates.Date(datestart), \n",
    "    Dates.Date(dateend), mindepth, maxdepth, minlon, maxlon, minlat, maxlat)\n",
    "\n",
    "# Construct file and figure names\n",
    "filename = joinpath(datadir, \"$(regionname)_$(datasource_name)_$(replace(parameter1, \" \"=>\"_\"))_$(Dates.format(datestart, \"yyyymmdd\"))-$(Dates.format(dateend, \"yyyymmdd\"))_$(Int(mindepth))-$(Int(maxdepth))m.nc\");\n",
    "figname = \"$(regionname)_$(datasource_name)_$(replace(parameter1, \" \"=>\"_\"))_$(Dates.format(datestart, \"yyyymmdd\"))-$(Dates.format(dateend, \"yyyymmdd\"))_$(Int(mindepth))-$(Int(maxdepth))m.jpg\"\n",
    "\n",
    "# Write the data in netCDF files\n",
    "@info(\"Data will be written in file:\\n$(filename)\")\n",
    "if isfile(filename)\n",
    "    @info(\"File already downloaded\")\n",
    "    rm(filename)\n",
    "end\n",
    "\n",
    "@show(query)\n",
    "@time open(filename, \"w\") do io\n",
    "    r = HTTP.request(\"POST\", joinpath(beaconURL, \"api/query\"), \n",
    "        [\"Content-type\"=> \"application/json\",\n",
    "         \"Authorization\" => \"Bearer $(token)\"\n",
    "        ],\n",
    "        query, \n",
    "        response_stream=io);\n",
    "    @info(r.status)\n",
    "end\n",
    "\n",
    "@info(\"NetCDF file size: $(round(filesize(filename)/1000^2, digits=1))M\")\n",
    "\n",
    "    # Create plot\n",
    "# end   "
   ]
  }
 ],
 "metadata": {
  "kernelspec": {
   "display_name": "Julia 1.11.2",
   "language": "julia",
   "name": "julia-1.11"
  },
  "language_info": {
   "file_extension": ".jl",
   "mimetype": "application/julia",
   "name": "julia",
   "version": "1.11.2"
  },
  "toc": {
   "base_numbering": 1,
   "nav_menu": {},
   "number_sections": true,
   "sideBar": true,
   "skip_h1_title": false,
   "title_cell": "Table of Contents",
   "title_sidebar": "Contents",
   "toc_cell": false,
   "toc_position": {},
   "toc_section_display": true,
   "toc_window_display": false
  }
 },
 "nbformat": 4,
 "nbformat_minor": 5
}
