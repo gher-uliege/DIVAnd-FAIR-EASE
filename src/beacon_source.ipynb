{
 "cells": [
  {
   "cell_type": "code",
   "execution_count": 119,
   "id": "a10cf53e",
   "metadata": {},
   "outputs": [
    {
     "name": "stderr",
     "output_type": "stream",
     "text": [
      "\u001b[32m\u001b[1m  Activating\u001b[22m\u001b[39m project at `~/Projects/DIVAnd-FAIR-EASE`\n",
      "WARNING: replacing module DIVAndFairEase.\n"
     ]
    }
   ],
   "source": [
    "using Pkg\n",
    "Pkg.activate(\"../\")\n",
    "using HTTP\n",
    "using JSON\n",
    "using JSON3\n",
    "using Dates\n",
    "using OrderedCollections\n",
    "include(\"./DIVAndFairEase.jl\")\n",
    "token = ENV[\"beaconAPItoken\"];"
   ]
  },
  {
   "cell_type": "code",
   "execution_count": 120,
   "id": "38047554",
   "metadata": {},
   "outputs": [
    {
     "data": {
      "text/plain": [
       "2-element Vector{String}:\n",
       " \"../data\"\n",
       " \"../Footprint\""
      ]
     },
     "execution_count": 120,
     "metadata": {},
     "output_type": "execute_result"
    }
   ],
   "source": [
    "datadir = \"../data/\"\n",
    "footprintdir = \"../Footprint\"\n",
    "mkpath.([datadir, footprintdir])"
   ]
  },
  {
   "cell_type": "code",
   "execution_count": 121,
   "id": "ff3636ed",
   "metadata": {},
   "outputs": [
    {
     "name": "stderr",
     "output_type": "stream",
     "text": [
      "WARNING: redefinition of constant Main.beacon_services. This may fail, cause incorrect answers, or produce other errors.\n"
     ]
    }
   ],
   "source": [
    "const beacon_services = OrderedDict(\n",
    "    \"Euro-Argo\" => \"https://beacon-argo.maris.nl\",\n",
    "    \"CORA Profile\" => \"https://beacon-cora-pr.maris.nl\",\n",
    "    \"CORA Timeseries\" => \"https://beacon-cora-ts.maris.nl\",\n",
    "    \"EMODnet Chemistry\" => \"https://beacon-emod-chem.maris.nl\",\n",
    "    \"World Ocean Database\" => \"https://beacon-wod.maris.nl\",\n",
    "    \"SeaDataNet CDI TS\" => \"https://beacon-cdi-ts.maris.nl\",\n",
    "    \"CMEMS BGC\" => \"https://beacon-cmems.maris.nl\",\n",
    ");"
   ]
  },
  {
   "cell_type": "code",
   "execution_count": 140,
   "id": "23d88992",
   "metadata": {},
   "outputs": [
    {
     "name": "stderr",
     "output_type": "stream",
     "text": [
      "\u001b[36m\u001b[1m┌ \u001b[22m\u001b[39m\u001b[36m\u001b[1mInfo: \u001b[22m\u001b[39m2010-01-01\n",
      "\u001b[36m\u001b[1m└ \u001b[22m\u001b[39m  dateend = 2015-01-01\n"
     ]
    }
   ],
   "source": [
    "datasource = \"CORA Timeseries\"\n",
    "domain = [12., 18., 43., 46.]\n",
    "parameter1 = \"TEMP\"\n",
    "if datasource == \"World Ocean Database\"\n",
    "    parameter1 = \"Temperature\"\n",
    "elseif datasource == \"SeaDataNet CDI TS\"\n",
    "    parameter1 = \"ITS-90 water temperature\"\n",
    "end\n",
    "parameter2 = \"TEMP\"\n",
    "datestart = Dates.Date(2010, 1, 1)\n",
    "dateend = Dates.Date(2015, 1, 1)\n",
    "minlon = domain[1]\n",
    "maxlon = domain[2]\n",
    "minlat = domain[3]\n",
    "maxlat = domain[4]\n",
    "mindepth = 0.\n",
    "maxdepth = 10.\n",
    "dateref = Dates.Date(1950, 1, 1) #Days since 1950\n",
    "mintemporal = (datestart - dateref).value #Days since 1950\n",
    "maxtemporal = (dateend - dateref).value #Days since 1950\n",
    "regionname = \"BlackSea\"\n",
    "\n",
    "@info(datestart, dateend)"
   ]
  },
  {
   "cell_type": "code",
   "execution_count": 141,
   "id": "b9fb8e8d",
   "metadata": {},
   "outputs": [
    {
     "name": "stderr",
     "output_type": "stream",
     "text": [
      "\u001b[36m\u001b[1m[ \u001b[22m\u001b[39m\u001b[36m\u001b[1mInfo: \u001b[22m\u001b[39mFootprint endpoint: https://beacon-cora-ts.maris.nl/api/datasets/footprint\n",
      "\u001b[36m\u001b[1m[ \u001b[22m\u001b[39m\u001b[36m\u001b[1mInfo: \u001b[22m\u001b[39mFootprint file: ../Footprint/Footprint_CORA_Timeseries.json\n"
     ]
    }
   ],
   "source": [
    "beaconURL = beacon_services[datasource]\n",
    "footprintURL = joinpath(beaconURL, \"api/datasets/footprint\")\n",
    "datasource_name = replace(datasource, \" \" => \"_\")\n",
    "footprintfile = joinpath(footprintdir, \"Footprint_$(datasource_name).json\")\n",
    "@info(\"Footprint endpoint: $(footprintURL)\")\n",
    "@info(\"Footprint file: $(footprintfile)\")"
   ]
  },
  {
   "cell_type": "code",
   "execution_count": 142,
   "id": "b1dd39e2",
   "metadata": {},
   "outputs": [
    {
     "name": "stderr",
     "output_type": "stream",
     "text": [
      "\u001b[36m\u001b[1m[ \u001b[22m\u001b[39m\u001b[36m\u001b[1mInfo: \u001b[22m\u001b[39mFootprint file already downloaded\n"
     ]
    }
   ],
   "source": [
    "if isfile(footprintfile)\n",
    "    @info(\"Footprint file already downloaded\")\n",
    "else\n",
    "    @info(\"Writing Footprint file\")\n",
    "    open(footprintfile, \"w\") do io\n",
    "        r = HTTP.request(\"GET\", footprintURL, \n",
    "            [\"Authorization\" => \"Bearer $(token)\"],\n",
    "            response_stream=io)\n",
    "        @info(r.status)\n",
    "    end\n",
    "end"
   ]
  },
  {
   "cell_type": "code",
   "execution_count": 143,
   "id": "36f00eed",
   "metadata": {},
   "outputs": [],
   "source": [
    "# Note 1: the JSON file is 193M, just to get the list of variables?"
   ]
  },
  {
   "cell_type": "code",
   "execution_count": 144,
   "id": "74a06722",
   "metadata": {},
   "outputs": [
    {
     "data": {
      "text/plain": [
       "true"
      ]
     },
     "execution_count": 144,
     "metadata": {},
     "output_type": "execute_result"
    }
   ],
   "source": [
    "data = JSON.parsefile(footprintfile);\n",
    "attributes = data[\"unique_column_attributes\"]\n",
    "params = sort(collect(keys(attributes)));\n",
    "parameter1 in params"
   ]
  },
  {
   "cell_type": "code",
   "execution_count": 145,
   "id": "08dbe983",
   "metadata": {},
   "outputs": [
    {
     "name": "stderr",
     "output_type": "stream",
     "text": [
      "\u001b[36m\u001b[1m[ \u001b[22m\u001b[39m\u001b[36m\u001b[1mInfo: \u001b[22m\u001b[39mWorking with CORA dataset\n",
      "\u001b[36m\u001b[1m[ \u001b[22m\u001b[39m\u001b[36m\u001b[1mInfo: \u001b[22m\u001b[39mWorking with CORA dataset\n"
     ]
    },
    {
     "data": {
      "text/plain": [
       "\"{\\\"query_parameters\\\":[{\\\"column_name\\\":\\\"TEMP\\\",\\\"alias\\\":\\\"TEMP\\\"},{\\\"column_name\\\":\\\"JULD\\\",\\\"alias\\\":\\\"TIME\\\"},{\\\"column_name\\\":\\\"DEPH\\\",\\\"alias\\\":\\\"DEPTH\\\"},{\\\"column_name\\\":\\\"LONGITUDE\\\",\\\"alias\\\":\\\"LONGITUDE\\\"},{\\\"column_name\\\":\\\"LATITUDE\\\",\\\"alias\\\":\\\"LATITUDE\\\"}],\\\"filters\\\":[{\\\"for_query_parameter\\\":\\\"TIME\\\",\\\"min\\\":21915,\\\"max\\\":23741},{\\\"for_query_parameter\\\":\\\"DEPTH\\\",\\\"min\\\":0.0,\\\"max\\\":10.0},{\\\"for_query_parameter\\\":\\\"LONGITUDE\\\",\\\"min\\\":12.0,\\\"max\\\":18.0},{\\\"for_query_parameter\\\":\\\"LATITUDE\\\",\\\"min\\\":43.0,\\\"max\\\":46.0},{\\\"for_query_parameter\\\":\\\"TEMP\\\",\\\"min\\\":-2.0,\\\"max\\\":30.0}],\\\"output\\\":{\\\"format\\\":\\\"netcdf\\\"}}\""
      ]
     },
     "execution_count": 145,
     "metadata": {},
     "output_type": "execute_result"
    }
   ],
   "source": [
    "query = DIVAndFairEase.prepare_query_new(datasource, parameter1, parameter2, datestart, dateend, \n",
    "    mindepth, maxdepth, minlon, maxlon, minlat, maxlat)"
   ]
  },
  {
   "cell_type": "code",
   "execution_count": 146,
   "id": "d179a5c0",
   "metadata": {},
   "outputs": [],
   "source": [
    "# Note 2: cannot work with such a long list of parameters!!"
   ]
  },
  {
   "cell_type": "code",
   "execution_count": 147,
   "id": "6738f946",
   "metadata": {},
   "outputs": [
    {
     "data": {
      "text/plain": [
       "\"../data/CORA_Timeseries_TEMP_BlackSea_20100101-20150101_0-10m.nc\""
      ]
     },
     "execution_count": 147,
     "metadata": {},
     "output_type": "execute_result"
    }
   ],
   "source": [
    "filename = joinpath(datadir, \"$(datasource_name)_$(replace(parameter1, \" \"=>\"_\"))_$(regionname)_$(Dates.format(datestart, \"yyyymmdd\"))-$(Dates.format(dateend, \"yyyymmdd\"))_$(Int(mindepth))-$(Int(maxdepth))m.nc\");\n",
    "filename"
   ]
  },
  {
   "cell_type": "code",
   "execution_count": 153,
   "id": "d40015d6",
   "metadata": {},
   "outputs": [
    {
     "name": "stderr",
     "output_type": "stream",
     "text": [
      "\u001b[36m\u001b[1m┌ \u001b[22m\u001b[39m\u001b[36m\u001b[1mInfo: \u001b[22m\u001b[39mData will be written in file:\n",
      "\u001b[36m\u001b[1m└ \u001b[22m\u001b[39m../data/CORA_Timeseries_TEMP_BlackSea_20100101-20150101_0-10m.nc\n",
      "\u001b[36m\u001b[1m[ \u001b[22m\u001b[39m\u001b[36m\u001b[1mInfo: \u001b[22m\u001b[39mFile already downloaded\n"
     ]
    },
    {
     "ename": "LoadError",
     "evalue": "HTTP.Exceptions.StatusError(400, \"POST\", \"/api/query\", HTTP.Messages.Response:\n\"\"\"\nHTTP/1.1 400 Bad Request\r\nContent-Type: application/json\r\nVary: Access-Control-Request-Headers\r\nx-beacon-query-id: c4ef5eb1-2a3a-431f-8f65-ca57e8a80ff8\r\nX-Powered-By: ARR/3.0\r\nDate: Fri, 06 Sep 2024 14:29:30 GMT\r\nContent-Length: 94\r\n\r\n[Message Body was streamed]\"\"\")",
     "output_type": "error",
     "traceback": [
      "HTTP.Exceptions.StatusError(400, \"POST\", \"/api/query\", HTTP.Messages.Response:\n\"\"\"\nHTTP/1.1 400 Bad Request\r\nContent-Type: application/json\r\nVary: Access-Control-Request-Headers\r\nx-beacon-query-id: c4ef5eb1-2a3a-431f-8f65-ca57e8a80ff8\r\nX-Powered-By: ARR/3.0\r\nDate: Fri, 06 Sep 2024 14:29:30 GMT\r\nContent-Length: 94\r\n\r\n[Message Body was streamed]\"\"\")",
      "",
      "Stacktrace:",
      "  [1] (::HTTP.ConnectionRequest.var\"#connections#4\"{HTTP.ConnectionRequest.var\"#connections#1#5\"{HTTP.TimeoutRequest.var\"#timeouts#3\"{HTTP.TimeoutRequest.var\"#timeouts#1#4\"{HTTP.ExceptionRequest.var\"#exceptions#2\"{HTTP.ExceptionRequest.var\"#exceptions#1#3\"{typeof(HTTP.StreamRequest.streamlayer)}}}}}})(req::HTTP.Messages.Request; proxy::Nothing, socket_type::Type, socket_type_tls::Nothing, readtimeout::Int64, connect_timeout::Int64, logerrors::Bool, logtag::Nothing, closeimmediately::Bool, kw::@Kwargs{iofunction::Nothing, decompress::Nothing, verbose::Int64})",
      "    @ HTTP.ConnectionRequest ~/.julia/packages/HTTP/sJD5V/src/clientlayers/ConnectionRequest.jl:144",
      "  [2] connections",
      "    @ ~/.julia/packages/HTTP/sJD5V/src/clientlayers/ConnectionRequest.jl:60 [inlined]",
      "  [3] (::Base.var\"#96#98\"{Base.var\"#96#97#99\"{ExponentialBackOff, HTTP.RetryRequest.var\"#2#5\"{Int64, typeof(HTTP.RetryRequest.FALSE), HTTP.Messages.Request, Base.RefValue{Int64}}, HTTP.ConnectionRequest.var\"#connections#4\"{HTTP.ConnectionRequest.var\"#connections#1#5\"{HTTP.TimeoutRequest.var\"#timeouts#3\"{HTTP.TimeoutRequest.var\"#timeouts#1#4\"{HTTP.ExceptionRequest.var\"#exceptions#2\"{HTTP.ExceptionRequest.var\"#exceptions#1#3\"{typeof(HTTP.StreamRequest.streamlayer)}}}}}}}})(args::HTTP.Messages.Request; kwargs::@Kwargs{iofunction::Nothing, decompress::Nothing, verbose::Int64})",
      "    @ Base ./error.jl:296",
      "  [4] (::HTTP.RetryRequest.var\"#manageretries#3\"{HTTP.RetryRequest.var\"#manageretries#1#4\"{HTTP.ConnectionRequest.var\"#connections#4\"{HTTP.ConnectionRequest.var\"#connections#1#5\"{HTTP.TimeoutRequest.var\"#timeouts#3\"{HTTP.TimeoutRequest.var\"#timeouts#1#4\"{HTTP.ExceptionRequest.var\"#exceptions#2\"{HTTP.ExceptionRequest.var\"#exceptions#1#3\"{typeof(HTTP.StreamRequest.streamlayer)}}}}}}}})(req::HTTP.Messages.Request; retry::Bool, retries::Int64, retry_delays::ExponentialBackOff, retry_check::Function, retry_non_idempotent::Bool, kw::@Kwargs{iofunction::Nothing, decompress::Nothing, verbose::Int64})",
      "    @ HTTP.RetryRequest ~/.julia/packages/HTTP/sJD5V/src/clientlayers/RetryRequest.jl:75",
      "  [5] manageretries",
      "    @ ~/.julia/packages/HTTP/sJD5V/src/clientlayers/RetryRequest.jl:30 [inlined]",
      "  [6] (::HTTP.CookieRequest.var\"#managecookies#4\"{HTTP.CookieRequest.var\"#managecookies#1#5\"{HTTP.RetryRequest.var\"#manageretries#3\"{HTTP.RetryRequest.var\"#manageretries#1#4\"{HTTP.ConnectionRequest.var\"#connections#4\"{HTTP.ConnectionRequest.var\"#connections#1#5\"{HTTP.TimeoutRequest.var\"#timeouts#3\"{HTTP.TimeoutRequest.var\"#timeouts#1#4\"{HTTP.ExceptionRequest.var\"#exceptions#2\"{HTTP.ExceptionRequest.var\"#exceptions#1#3\"{typeof(HTTP.StreamRequest.streamlayer)}}}}}}}}}})(req::HTTP.Messages.Request; cookies::Bool, cookiejar::HTTP.Cookies.CookieJar, kw::@Kwargs{iofunction::Nothing, decompress::Nothing, verbose::Int64})",
      "    @ HTTP.CookieRequest ~/.julia/packages/HTTP/sJD5V/src/clientlayers/CookieRequest.jl:42",
      "  [7] managecookies",
      "    @ ~/.julia/packages/HTTP/sJD5V/src/clientlayers/CookieRequest.jl:19 [inlined]",
      "  [8] (::HTTP.HeadersRequest.var\"#defaultheaders#2\"{HTTP.HeadersRequest.var\"#defaultheaders#1#3\"{HTTP.CookieRequest.var\"#managecookies#4\"{HTTP.CookieRequest.var\"#managecookies#1#5\"{HTTP.RetryRequest.var\"#manageretries#3\"{HTTP.RetryRequest.var\"#manageretries#1#4\"{HTTP.ConnectionRequest.var\"#connections#4\"{HTTP.ConnectionRequest.var\"#connections#1#5\"{HTTP.TimeoutRequest.var\"#timeouts#3\"{HTTP.TimeoutRequest.var\"#timeouts#1#4\"{HTTP.ExceptionRequest.var\"#exceptions#2\"{HTTP.ExceptionRequest.var\"#exceptions#1#3\"{typeof(HTTP.StreamRequest.streamlayer)}}}}}}}}}}}})(req::HTTP.Messages.Request; iofunction::Nothing, decompress::Nothing, basicauth::Bool, detect_content_type::Bool, canonicalize_headers::Bool, kw::@Kwargs{verbose::Int64})",
      "    @ HTTP.HeadersRequest ~/.julia/packages/HTTP/sJD5V/src/clientlayers/HeadersRequest.jl:71",
      "  [9] defaultheaders",
      "    @ ~/.julia/packages/HTTP/sJD5V/src/clientlayers/HeadersRequest.jl:14 [inlined]",
      " [10] (::HTTP.RedirectRequest.var\"#redirects#3\"{HTTP.RedirectRequest.var\"#redirects#1#4\"{HTTP.HeadersRequest.var\"#defaultheaders#2\"{HTTP.HeadersRequest.var\"#defaultheaders#1#3\"{HTTP.CookieRequest.var\"#managecookies#4\"{HTTP.CookieRequest.var\"#managecookies#1#5\"{HTTP.RetryRequest.var\"#manageretries#3\"{HTTP.RetryRequest.var\"#manageretries#1#4\"{HTTP.ConnectionRequest.var\"#connections#4\"{HTTP.ConnectionRequest.var\"#connections#1#5\"{HTTP.TimeoutRequest.var\"#timeouts#3\"{HTTP.TimeoutRequest.var\"#timeouts#1#4\"{HTTP.ExceptionRequest.var\"#exceptions#2\"{HTTP.ExceptionRequest.var\"#exceptions#1#3\"{typeof(HTTP.StreamRequest.streamlayer)}}}}}}}}}}}}}})(req::HTTP.Messages.Request; redirect::Bool, redirect_limit::Int64, redirect_method::Nothing, forwardheaders::Bool, response_stream::IOStream, kw::@Kwargs{verbose::Int64})",
      "    @ HTTP.RedirectRequest ~/.julia/packages/HTTP/sJD5V/src/clientlayers/RedirectRequest.jl:25",
      " [11] redirects",
      "    @ ~/.julia/packages/HTTP/sJD5V/src/clientlayers/RedirectRequest.jl:14 [inlined]",
      " [12] (::HTTP.MessageRequest.var\"#makerequest#3\"{HTTP.MessageRequest.var\"#makerequest#1#4\"{HTTP.RedirectRequest.var\"#redirects#3\"{HTTP.RedirectRequest.var\"#redirects#1#4\"{HTTP.HeadersRequest.var\"#defaultheaders#2\"{HTTP.HeadersRequest.var\"#defaultheaders#1#3\"{HTTP.CookieRequest.var\"#managecookies#4\"{HTTP.CookieRequest.var\"#managecookies#1#5\"{HTTP.RetryRequest.var\"#manageretries#3\"{HTTP.RetryRequest.var\"#manageretries#1#4\"{HTTP.ConnectionRequest.var\"#connections#4\"{HTTP.ConnectionRequest.var\"#connections#1#5\"{HTTP.TimeoutRequest.var\"#timeouts#3\"{HTTP.TimeoutRequest.var\"#timeouts#1#4\"{HTTP.ExceptionRequest.var\"#exceptions#2\"{HTTP.ExceptionRequest.var\"#exceptions#1#3\"{typeof(HTTP.StreamRequest.streamlayer)}}}}}}}}}}}}}}}})(method::String, url::URIs.URI, headers::Vector{Pair{String, String}}, body::String; copyheaders::Bool, response_stream::IOStream, http_version::HTTP.Strings.HTTPVersion, verbose::Int64, kw::@Kwargs{})",
      "    @ HTTP.MessageRequest ~/.julia/packages/HTTP/sJD5V/src/clientlayers/MessageRequest.jl:35",
      " [13] makerequest",
      "    @ ~/.julia/packages/HTTP/sJD5V/src/clientlayers/MessageRequest.jl:24 [inlined]",
      " [14] request(stack::HTTP.MessageRequest.var\"#makerequest#3\"{HTTP.MessageRequest.var\"#makerequest#1#4\"{HTTP.RedirectRequest.var\"#redirects#3\"{HTTP.RedirectRequest.var\"#redirects#1#4\"{HTTP.HeadersRequest.var\"#defaultheaders#2\"{HTTP.HeadersRequest.var\"#defaultheaders#1#3\"{HTTP.CookieRequest.var\"#managecookies#4\"{HTTP.CookieRequest.var\"#managecookies#1#5\"{HTTP.RetryRequest.var\"#manageretries#3\"{HTTP.RetryRequest.var\"#manageretries#1#4\"{HTTP.ConnectionRequest.var\"#connections#4\"{HTTP.ConnectionRequest.var\"#connections#1#5\"{HTTP.TimeoutRequest.var\"#timeouts#3\"{HTTP.TimeoutRequest.var\"#timeouts#1#4\"{HTTP.ExceptionRequest.var\"#exceptions#2\"{HTTP.ExceptionRequest.var\"#exceptions#1#3\"{typeof(HTTP.StreamRequest.streamlayer)}}}}}}}}}}}}}}}}, method::String, url::String, h::Vector{Pair{String, String}}, b::String, q::Nothing; headers::Vector{Pair{String, String}}, body::String, query::Nothing, kw::@Kwargs{response_stream::IOStream})",
      "    @ HTTP ~/.julia/packages/HTTP/sJD5V/src/HTTP.jl:457",
      " [15] #request#20",
      "    @ ~/.julia/packages/HTTP/sJD5V/src/HTTP.jl:315 [inlined]",
      " [16] (::var\"#55#56\")(io::IOStream)",
      "    @ Main ./In[153]:8",
      " [17] open(::var\"#55#56\", ::String, ::Vararg{String}; kwargs::@Kwargs{})",
      "    @ Base ./io.jl:396",
      " [18] open(::Function, ::String, ::String)",
      "    @ Base ./io.jl:393",
      " [19] macro expansion",
      "    @ ./timing.jl:279 [inlined]",
      " [20] top-level scope",
      "    @ ./In[153]:7"
     ]
    }
   ],
   "source": [
    "@info(\"Data will be written in file:\\n$(filename)\")\n",
    "\n",
    "if isfile(filename)\n",
    "    @info(\"File already downloaded\")\n",
    "    rm(filename)\n",
    "end\n",
    "@time open(filename, \"w\") do io\n",
    "    r = HTTP.request(\"POST\", joinpath(beaconURL, \"api/query\"), \n",
    "        [\"Content-Type\" => \"application/json\",\n",
    "         \"Authorization\" => \"Bearer $(token)\"\n",
    "        ],\n",
    "        query, \n",
    "        response_stream=io);\n",
    "    @info(r.status)\n",
    "end\n",
    "\n",
    "@info(\"NetCDF file size: $(round(filesize(filename)/1000^2, digits=1))M\")"
   ]
  },
  {
   "cell_type": "code",
   "execution_count": 149,
   "id": "14cf9059",
   "metadata": {},
   "outputs": [
    {
     "name": "stderr",
     "output_type": "stream",
     "text": [
      "\u001b[36m\u001b[1m[ \u001b[22m\u001b[39m\u001b[36m\u001b[1mInfo: \u001b[22m\u001b[39m200\n"
     ]
    }
   ],
   "source": [
    "r = HTTP.request(\"POST\", joinpath(beaconURL, \"api/query\"), \n",
    "    [\"Authorization\" => \"Bearer $(token)\", \"Content-Type\" => \"application/\"],\n",
    "    query)\n",
    "@info(r.status)"
   ]
  },
  {
   "cell_type": "code",
   "execution_count": 150,
   "id": "c1574945",
   "metadata": {},
   "outputs": [
    {
     "data": {
      "text/plain": [
       "UInt8[]"
      ]
     },
     "execution_count": 150,
     "metadata": {},
     "output_type": "execute_result"
    }
   ],
   "source": [
    "r.body"
   ]
  },
  {
   "cell_type": "code",
   "execution_count": 132,
   "id": "0987ac3a",
   "metadata": {},
   "outputs": [
    {
     "data": {
      "text/plain": [
       "\"{\\\"query_parameters\\\":[{\\\"column_name\\\":\\\"TEMP\\\",\\\"alias\\\":\\\"TEMP\\\"},{\\\"column_name\\\":\\\"JULD\\\",\\\"alias\\\":\\\"TIME\\\"},{\\\"column_name\\\":\\\"DEPH\\\",\\\"alias\\\":\\\"DEPTH\\\"},{\\\"column_name\\\":\\\"LONGITUDE\\\",\\\"alias\\\":\\\"LONGITUDE\\\"},{\\\"column_name\\\":\\\"LATITUDE\\\",\\\"alias\\\":\\\"LATITUDE\\\"}],\\\"filters\\\":[{\\\"for_query_parameter\\\":\\\"TIME\\\",\\\"min\\\":23376,\\\"max\\\":23741},{\\\"for_query_parameter\\\":\\\"DEPTH\\\",\\\"min\\\":0.0,\\\"max\\\":10.0},{\\\"for_query_parameter\\\":\\\"LONGITUDE\\\",\\\"min\\\":12.0,\\\"max\\\":18.0},{\\\"for_query_parameter\\\":\\\"LATITUDE\\\",\\\"min\\\":43.0,\\\"max\\\":46.0},{\\\"for_query_parameter\\\":\\\"TEMP\\\",\\\"min\\\":-2.0,\\\"max\\\":30.0}],\\\"output\\\":{\\\"format\\\":\\\"netcdf\\\"}}\""
      ]
     },
     "execution_count": 132,
     "metadata": {},
     "output_type": "execute_result"
    }
   ],
   "source": [
    "query"
   ]
  },
  {
   "cell_type": "code",
   "execution_count": null,
   "id": "a75d80fe",
   "metadata": {},
   "outputs": [],
   "source": []
  }
 ],
 "metadata": {
  "kernelspec": {
   "display_name": "Julia 1.10.5",
   "language": "julia",
   "name": "julia-1.10"
  },
  "language_info": {
   "file_extension": ".jl",
   "mimetype": "application/julia",
   "name": "julia",
   "version": "1.10.5"
  },
  "toc": {
   "base_numbering": 1,
   "nav_menu": {},
   "number_sections": true,
   "sideBar": true,
   "skip_h1_title": false,
   "title_cell": "Table of Contents",
   "title_sidebar": "Contents",
   "toc_cell": false,
   "toc_position": {},
   "toc_section_display": true,
   "toc_window_display": false
  }
 },
 "nbformat": 4,
 "nbformat_minor": 5
}
