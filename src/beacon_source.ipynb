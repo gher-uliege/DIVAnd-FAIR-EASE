{
 "cells": [
  {
   "cell_type": "code",
   "execution_count": 144,
   "id": "a10cf53e",
   "metadata": {},
   "outputs": [
    {
     "name": "stderr",
     "output_type": "stream",
     "text": [
      "\u001b[32m\u001b[1m  Activating\u001b[22m\u001b[39m project at `~/Projects/DIVAnd-FAIR-EASE`\n",
      "WARNING: replacing module DIVAndFairEase.\n"
     ]
    }
   ],
   "source": [
    "using Pkg\n",
    "Pkg.activate(\"../\")\n",
    "using HTTP\n",
    "using JSON\n",
    "using JSON3\n",
    "using Dates\n",
    "using OrderedCollections\n",
    "include(\"./DIVAndFairEase.jl\")\n",
    "token = ENV[\"beaconAPItoken\"];"
   ]
  },
  {
   "cell_type": "code",
   "execution_count": 118,
   "id": "38047554",
   "metadata": {},
   "outputs": [
    {
     "data": {
      "text/plain": [
       "2-element Vector{String}:\n",
       " \"../data\"\n",
       " \"../Footprint\""
      ]
     },
     "execution_count": 118,
     "metadata": {},
     "output_type": "execute_result"
    }
   ],
   "source": [
    "datadir = \"../data/\"\n",
    "footprintdir = \"../Footprint\"\n",
    "mkpath.([datadir, footprintdir])"
   ]
  },
  {
   "cell_type": "code",
   "execution_count": 119,
   "id": "ff3636ed",
   "metadata": {},
   "outputs": [
    {
     "name": "stderr",
     "output_type": "stream",
     "text": [
      "WARNING: redefinition of constant Main.beacon_services. This may fail, cause incorrect answers, or produce other errors.\n"
     ]
    }
   ],
   "source": [
    "const beacon_services = OrderedDict(\n",
    "    \"Euro-Argo\" => \"https://beacon-argo.maris.nl\",\n",
    "    \"CORA Profile\" => \"https://beacon-cora-pr.maris.nl\",\n",
    "    \"CORA Timeseries\" => \"https://beacon-cora-ts.maris.nl\",\n",
    "    \"EMODnet Chemistry\" => \"https://beacon-emod-chem.maris.nl\",\n",
    "    \"World Ocean Database\" => \"https://beacon-wod.maris.nl\",\n",
    "    \"SeaDataNet CDI TS\" => \"https://beacon-cdi-ts.maris.nl\",\n",
    "    \"CMEMS BGC\" => \"https://beacon-cmems.maris.nl\",\n",
    ");"
   ]
  },
  {
   "cell_type": "code",
   "execution_count": 155,
   "id": "23d88992",
   "metadata": {},
   "outputs": [
    {
     "name": "stderr",
     "output_type": "stream",
     "text": [
      "\u001b[36m\u001b[1m[ \u001b[22m\u001b[39m\u001b[36m\u001b[1mInfo: \u001b[22m\u001b[39m1980-01-01 → 2020-01-01, Water_body_phosphate\n"
     ]
    }
   ],
   "source": [
    "datasource = \"EMODnet Chemistry\"\n",
    "domain = [12., 18., 43., 46.]\n",
    "parameter1 = \"TEMP\"\n",
    "if datasource == \"World Ocean Database\"\n",
    "    parameter1 = \"Temperature\"\n",
    "elseif datasource == \"EMODnet Chemistry\"  \n",
    "    parameter1 = \"ITS_90_water_temperature\"\n",
    "elseif datasource == \"SeaDataNet CDI TS\"\n",
    "    parameter1 = \"ITS-90 water temperature\"\n",
    "end\n",
    "parameter1 = \"Water_body_phosphate\"\n",
    "parameter2 = \"TEMP\"\n",
    "datestart = Dates.Date(1980, 1, 1)\n",
    "dateend = Dates.Date(2020, 1, 1)\n",
    "minlon = domain[1]\n",
    "maxlon = domain[2]\n",
    "minlat = domain[3]\n",
    "maxlat = domain[4]\n",
    "mindepth = 0.\n",
    "maxdepth = 10.\n",
    "regionname = \"BlackSea\"\n",
    "@info(\"$(datestart) → $(dateend), $(parameter1)\")"
   ]
  },
  {
   "cell_type": "code",
   "execution_count": 150,
   "id": "b9fb8e8d",
   "metadata": {},
   "outputs": [
    {
     "name": "stderr",
     "output_type": "stream",
     "text": [
      "\u001b[36m\u001b[1m[ \u001b[22m\u001b[39m\u001b[36m\u001b[1mInfo: \u001b[22m\u001b[39mFootprint endpoint: https://beacon-emod-chem.maris.nl/api/datasets/footprint\n",
      "\u001b[36m\u001b[1m[ \u001b[22m\u001b[39m\u001b[36m\u001b[1mInfo: \u001b[22m\u001b[39mFootprint file: ../Footprint/Footprint_EMODnet_Chemistry.json\n"
     ]
    }
   ],
   "source": [
    "beaconURL = beacon_services[datasource]\n",
    "footprintURL = joinpath(beaconURL, \"api/datasets/footprint\")\n",
    "datasource_name = replace(datasource, \" \" => \"_\")\n",
    "footprintfile = joinpath(footprintdir, \"Footprint_$(datasource_name).json\")\n",
    "@info(\"Footprint endpoint: $(footprintURL)\")\n",
    "@info(\"Footprint file: $(footprintfile)\")"
   ]
  },
  {
   "cell_type": "code",
   "execution_count": 139,
   "id": "b1dd39e2",
   "metadata": {},
   "outputs": [
    {
     "name": "stderr",
     "output_type": "stream",
     "text": [
      "\u001b[36m\u001b[1m[ \u001b[22m\u001b[39m\u001b[36m\u001b[1mInfo: \u001b[22m\u001b[39mFootprint file already downloaded\n"
     ]
    }
   ],
   "source": [
    "if isfile(footprintfile)\n",
    "    @info(\"Footprint file already downloaded\")\n",
    "else\n",
    "    @info(\"Writing Footprint file\")\n",
    "    open(footprintfile, \"w\") do io\n",
    "        r = HTTP.request(\"GET\", footprintURL, \n",
    "            [\"Authorization\" => \"Bearer $(token)\"],\n",
    "            response_stream=io)\n",
    "        @info(r.status)\n",
    "    end\n",
    "end"
   ]
  },
  {
   "cell_type": "code",
   "execution_count": 140,
   "id": "36f00eed",
   "metadata": {},
   "outputs": [],
   "source": [
    "# Note 1: the JSON file is 193M, just to get the list of variables?"
   ]
  },
  {
   "cell_type": "code",
   "execution_count": 148,
   "id": "74a06722",
   "metadata": {},
   "outputs": [
    {
     "name": "stdout",
     "output_type": "stream",
     "text": [
      "params = [\"Access_ordering_of_data\", \"Access_restriction\", \"Alternative_cruise_name\", \"Alternative_station_name\", \"Bot_Depth\", \"Bottle\", \"Bottle_qc\", \"C22_flag\", \"C22_flag_qc\", \"CDI_partner\", \"CDI_record_creation_date\", \"CDI_record_id\", \"CSR_platform_code\", \"CSR_platform_name\", \"CSR_references\", \"Category\", \"Codes_in_Originator_File\", \"Comments\", \"Cruise_name\", \"Cruise_start_date\", \"Data_Distributor\", \"Data_Holding_centre\", \"Data_format\", \"Data_format_version\", \"Data_set_creation_date\", \"Data_set_name\", \"Data_size\", \"Database_reference\", \"Datum\", \"Depth\", \"Depth_qc\", \"Depth_reference\", \"Discipline\", \"EDMED_references\", \"EDMO_code\", \"End_date\", \"End_time\", \"FireSeqNo\", \"FireSeqNo_qc\", \"Frequency\", \"Frequency_unit\", \"ITS_90_water_temperature\", \"ITS_90_water_temperature_qc\", \"Instrument_Info\", \"Instrument_gear_type\", \"LOCAL_CDI_ID\", \"Maximum_instrument_depth\", \"Measuring_area_type\", \"Minimum_instrument_depth\", \"Originator\", \"P35_Contributor_Codes\", \"Platform_type\", \"Pressure\", \"Pressure_qc\", \"Project_name\", \"Project_type\", \"Publication_references\", \"Record_No\", \"Record_No_qc\", \"References\", \"RosPos\", \"RosPos_qc\", \"SampRef\", \"SampRef_qc\", \"Start_date\", \"Start_time\", \"Station_name\", \"Station_start_date\", \"Temp_pH_measured_SD\", \"Temp_pH_measured_SD_qc\", \"Track_resolution\", \"Track_resolution_unit\", \"Variables_measured\", \"Vertical_resolution\", \"Vertical_resolution_unit\", \"Water_body_ammonium\", \"Water_body_ammonium_qc\", \"Water_body_chlorophyll_a\", \"Water_body_chlorophyll_a_qc\", \"Water_body_chlorophyll_b\", \"Water_body_chlorophyll_b_qc\", \"Water_body_dissolved_inorganic_carbon\", \"Water_body_dissolved_inorganic_carbon_qc\", \"Water_body_dissolved_inorganic_nitrogen_DIN_\", \"Water_body_dissolved_inorganic_nitrogen_DIN__qc\", \"Water_body_dissolved_nitrogen\", \"Water_body_dissolved_nitrogen_qc\", \"Water_body_dissolved_oxygen_concentration\", \"Water_body_dissolved_oxygen_concentration_qc\", \"Water_body_dissolved_oxygen_saturation\", \"Water_body_dissolved_oxygen_saturation_qc\", \"Water_body_dissolved_phosphorus\", \"Water_body_dissolved_phosphorus_qc\", \"Water_body_nitrate\", \"Water_body_nitrate_plus_nitrite\", \"Water_body_nitrate_plus_nitrite_origin\", \"Water_body_nitrate_plus_nitrite_origin_qc\", \"Water_body_nitrate_plus_nitrite_qc\", \"Water_body_nitrate_qc\", \"Water_body_nitrite\", \"Water_body_nitrite_qc\", \"Water_body_pH\", \"Water_body_pH_qc\", \"Water_body_particulate_nitrogen\", \"Water_body_particulate_nitrogen_qc\", \"Water_body_phaeopigments\", \"Water_body_phaeopigments_qc\", \"Water_body_phosphate\", \"Water_body_phosphate_qc\", \"Water_body_salinity\", \"Water_body_salinity_qc\", \"Water_body_silicate\", \"Water_body_silicate_qc\", \"Water_body_total_alkalinity\", \"Water_body_total_alkalinity_qc\", \"Water_body_total_nitrogen\", \"Water_body_total_nitrogen_qc\", \"Water_body_total_phosphorus\", \"Water_body_total_phosphorus_qc\", \"Water_body_urea\", \"Water_body_urea_qc\", \"Water_depth\", \"cruise_id\", \"date_time\", \"latitude\", \"longitude\", \"pHT\", \"pHT_qc\", \"ph_total_SD_water_measured\", \"ph_total_SD_water_measured_qc\", \"station_id\", \"station_type\"]\n"
     ]
    },
    {
     "data": {
      "text/plain": [
       "132-element Vector{String}:\n",
       " \"Access_ordering_of_data\"\n",
       " \"Access_restriction\"\n",
       " \"Alternative_cruise_name\"\n",
       " \"Alternative_station_name\"\n",
       " \"Bot_Depth\"\n",
       " \"Bottle\"\n",
       " \"Bottle_qc\"\n",
       " \"C22_flag\"\n",
       " \"C22_flag_qc\"\n",
       " \"CDI_partner\"\n",
       " \"CDI_record_creation_date\"\n",
       " \"CDI_record_id\"\n",
       " \"CSR_platform_code\"\n",
       " ⋮\n",
       " \"Water_body_urea_qc\"\n",
       " \"Water_depth\"\n",
       " \"cruise_id\"\n",
       " \"date_time\"\n",
       " \"latitude\"\n",
       " \"longitude\"\n",
       " \"pHT\"\n",
       " \"pHT_qc\"\n",
       " \"ph_total_SD_water_measured\"\n",
       " \"ph_total_SD_water_measured_qc\"\n",
       " \"station_id\"\n",
       " \"station_type\""
      ]
     },
     "execution_count": 148,
     "metadata": {},
     "output_type": "execute_result"
    }
   ],
   "source": [
    "data = JSON.parsefile(footprintfile);\n",
    "attributes = data[\"unique_column_attributes\"]\n",
    "params = sort(collect(keys(attributes)));\n",
    "parameter1 in params\n",
    "@show(params)"
   ]
  },
  {
   "cell_type": "code",
   "execution_count": 156,
   "id": "08dbe983",
   "metadata": {},
   "outputs": [
    {
     "data": {
      "text/plain": [
       "\"{\\\"query_parameters\\\":[{\\\"column_name\\\":\\\"Water_body_phosphate\\\",\\\"alias\\\":\\\"Water_body_phosphate\\\"},{\\\"column_name\\\":\\\"date_time\\\",\\\"alias\\\":\\\"TIME\\\"},{\\\"column_name\\\":\\\"Depth\\\",\\\"alias\\\":\\\"DEPTH\\\"},{\\\"column_name\\\":\\\"longitude\\\",\\\"alias\\\":\\\"LONGITUDE\\\"},{\\\"column_name\\\":\\\"latitude\\\",\\\"alias\\\":\\\"LATITUDE\\\"}],\\\"filters\\\":[{\\\"for_query_parameter\\\":\\\"TIME\\\",\\\"min\\\":21549,\\\"max\\\":36159},{\\\"for_query_parameter\\\":\\\"DEPTH\\\",\\\"min\\\":0.0,\\\"max\\\":10.0},{\\\"for_query_parameter\\\":\\\"LONGITUDE\\\",\\\"min\\\":12.0,\\\"max\\\":18.0},{\\\"for_query_parameter\\\":\\\"LATITUDE\\\",\\\"min\\\":43.0,\\\"max\\\":46.0}],\\\"output\\\":{\\\"format\\\":\\\"netcdf\\\"}}\""
      ]
     },
     "execution_count": 156,
     "metadata": {},
     "output_type": "execute_result"
    }
   ],
   "source": [
    "query = DIVAndFairEase.prepare_query_new(datasource, parameter1, parameter2, datestart, dateend, \n",
    "    mindepth, maxdepth, minlon, maxlon, minlat, maxlat)"
   ]
  },
  {
   "cell_type": "code",
   "execution_count": 157,
   "id": "d179a5c0",
   "metadata": {},
   "outputs": [],
   "source": [
    "# Note 2: cannot work with such a long list of parameters!!"
   ]
  },
  {
   "cell_type": "code",
   "execution_count": 158,
   "id": "6738f946",
   "metadata": {},
   "outputs": [
    {
     "data": {
      "text/plain": [
       "\"../data/EMODnet_Chemistry_Water_body_phosphate_BlackSea_19800101-20200101_0-10m.nc\""
      ]
     },
     "execution_count": 158,
     "metadata": {},
     "output_type": "execute_result"
    }
   ],
   "source": [
    "filename = joinpath(datadir, \"$(datasource_name)_$(replace(parameter1, \" \"=>\"_\"))_$(regionname)_$(Dates.format(datestart, \"yyyymmdd\"))-$(Dates.format(dateend, \"yyyymmdd\"))_$(Int(mindepth))-$(Int(maxdepth))m.nc\");\n",
    "filename"
   ]
  },
  {
   "cell_type": "code",
   "execution_count": 159,
   "id": "d40015d6",
   "metadata": {},
   "outputs": [
    {
     "name": "stderr",
     "output_type": "stream",
     "text": [
      "\u001b[36m\u001b[1m┌ \u001b[22m\u001b[39m\u001b[36m\u001b[1mInfo: \u001b[22m\u001b[39mData will be written in file:\n",
      "\u001b[36m\u001b[1m└ \u001b[22m\u001b[39m../data/EMODnet_Chemistry_Water_body_phosphate_BlackSea_19800101-20200101_0-10m.nc\n"
     ]
    },
    {
     "name": "stdout",
     "output_type": "stream",
     "text": [
      "  0.163361 seconds (24.26 k allocations: 1.268 MiB, 2 lock conflicts, 16.61% compilation time)\n"
     ]
    },
    {
     "name": "stderr",
     "output_type": "stream",
     "text": [
      "\u001b[36m\u001b[1m[ \u001b[22m\u001b[39m\u001b[36m\u001b[1mInfo: \u001b[22m\u001b[39m204\n",
      "\u001b[36m\u001b[1m[ \u001b[22m\u001b[39m\u001b[36m\u001b[1mInfo: \u001b[22m\u001b[39mNetCDF file size: 0.0M\n"
     ]
    }
   ],
   "source": [
    "@info(\"Data will be written in file:\\n$(filename)\")\n",
    "\n",
    "if isfile(filename)\n",
    "    @info(\"File already downloaded\")\n",
    "    rm(filename)\n",
    "end\n",
    "@time open(filename, \"w\") do io\n",
    "    r = HTTP.request(\"POST\", joinpath(beaconURL, \"api/query\"), \n",
    "        [\"Content-type\"=> \"application/json\",\n",
    "         \"Authorization\" => \"Bearer $(token)\"\n",
    "        ],\n",
    "        query, \n",
    "        response_stream=io);\n",
    "    @info(r.status)\n",
    "end\n",
    "\n",
    "@info(\"NetCDF file size: $(round(filesize(filename)/1000^2, digits=1))M\")"
   ]
  },
  {
   "cell_type": "code",
   "execution_count": 44,
   "id": "0987ac3a",
   "metadata": {},
   "outputs": [
    {
     "data": {
      "text/plain": [
       "\"{\\\"query_parameters\\\":[{\\\"column_name\\\":\\\"TEMP\\\",\\\"alias\\\":\\\"TEMP\\\"},{\\\"column_name\\\":\\\"JULD\\\",\\\"alias\\\":\\\"TIME\\\"},{\\\"column_name\\\":\\\"DEPH\\\",\\\"alias\\\":\\\"DEPTH\\\"},{\\\"column_name\\\":\\\"LONGITUDE\\\",\\\"alias\\\":\\\"LONGITUDE\\\"},{\\\"column_name\\\":\\\"LATITUDE\\\",\\\"alias\\\":\\\"LATITUDE\\\"}],\\\"filters\\\":[{\\\"for_query_parameter\\\":\\\"TIME\\\",\\\"min\\\":21915,\\\"max\\\":22645},{\\\"for_query_parameter\\\":\\\"DEPTH\\\",\\\"min\\\":0.0,\\\"max\\\":10.0},{\\\"for_query_parameter\\\":\\\"LONGITUDE\\\",\\\"min\\\":12.0,\\\"max\\\":18.0},{\\\"for_query_parameter\\\":\\\"LATITUDE\\\",\\\"min\\\":43.0,\\\"max\\\":46.0},{\\\"for_query_parameter\\\":\\\"TEMP\\\",\\\"min\\\":-2.0,\\\"max\\\":30.0}],\\\"output\\\":{\\\"format\\\":\\\"netcdf\\\"}}\""
      ]
     },
     "execution_count": 44,
     "metadata": {},
     "output_type": "execute_result"
    }
   ],
   "source": [
    "query"
   ]
  },
  {
   "cell_type": "code",
   "execution_count": null,
   "id": "a75d80fe",
   "metadata": {},
   "outputs": [],
   "source": []
  }
 ],
 "metadata": {
  "kernelspec": {
   "display_name": "Julia 1.11.0-rc3",
   "language": "julia",
   "name": "julia-1.11"
  },
  "language_info": {
   "file_extension": ".jl",
   "mimetype": "application/julia",
   "name": "julia",
   "version": "1.11.0"
  },
  "toc": {
   "base_numbering": 1,
   "nav_menu": {},
   "number_sections": true,
   "sideBar": true,
   "skip_h1_title": false,
   "title_cell": "Table of Contents",
   "title_sidebar": "Contents",
   "toc_cell": false,
   "toc_position": {},
   "toc_section_display": true,
   "toc_window_display": false
  }
 },
 "nbformat": 4,
 "nbformat_minor": 5
}
