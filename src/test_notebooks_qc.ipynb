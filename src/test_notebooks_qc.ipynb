{
 "cells": [
  {
   "cell_type": "code",
   "execution_count": 23,
   "id": "879aa02d-1a28-4ce3-80ae-48b047a36a8f",
   "metadata": {},
   "outputs": [
    {
     "name": "stderr",
     "output_type": "stream",
     "text": [
      "WARNING: replacing module DIVAndFairEase.\n"
     ]
    },
    {
     "data": {
      "text/plain": [
       "Main.DIVAndFairEase"
      ]
     },
     "execution_count": 23,
     "metadata": {},
     "output_type": "execute_result"
    }
   ],
   "source": [
    "using NCDatasets\n",
    "using DIVAnd\n",
    "using JupyterFormatter\n",
    "enable_autoformat()\n",
    "using Dates\n",
    "using JSON3\n",
    "using HTTP\n",
    "using OrderedCollections\n",
    "using CairoMakie, Makie\n",
    "include(\"./DIVAndFairEase.jl\")"
   ]
  },
  {
   "cell_type": "code",
   "execution_count": 2,
   "id": "b1fd77a2-2a38-4039-9244-869eb1239b87",
   "metadata": {},
   "outputs": [],
   "source": [
    "token = ENV[\"beaconAPItoken\"];"
   ]
  },
  {
   "cell_type": "code",
   "execution_count": 19,
   "id": "f072f9a5-dd87-462c-b55e-218e1dbbcc19",
   "metadata": {},
   "outputs": [],
   "source": [
    "regionname = \"North_Adriatic\"\n",
    "varname = \"sea_water_temperature\"\n",
    "# varname = \"sea_water_salinity\"\n",
    "doplot = true\n",
    "outputdir = \"../data/testQC\"\n",
    "mkpath(outputdir)\n",
    "\n",
    "datasourcelist = [\n",
    "    \"Euro-Argo\",\n",
    "    \"CORA Profile\",\n",
    "    \"CORA Timeseries\",\n",
    "    \"World Ocean Database\",\n",
    "    \"SeaDataNet CDI TS\",\n",
    "];"
   ]
  },
  {
   "cell_type": "code",
   "execution_count": 5,
   "id": "e8eeb574-8c3d-42f0-a8f1-debe271a8061",
   "metadata": {},
   "outputs": [],
   "source": [
    "domaininfo = Dict(\n",
    "    \"North_Adriatic\" => [12.0, 18.0, 43.0, 46.0],\n",
    "    \"Arctic_region\" => [-44.25, 70.0, 56.5, 83.0],\n",
    "    \"North_East_Atlantic\" => [-42.0, -0.1, 24.9, 48.0],\n",
    "    \"Baltic_Sea\" => [9.4, 30.9, 53.0, 65.9],\n",
    "    \"Black_Sea\" => [26.5, 41.95, 40.0, 47.95],\n",
    "    \"Mediterranean_Sea\" => [-7.0, 36.375, 30.0, 45.875],\n",
    "    \"North_Sea\" => [-100.0, 50.0, -80.0, 80.0],\n",
    "    \"Canary_Islands\" => [-20.0, -9.0, 25.0, 31.5],\n",
    "    \"World_Ocean\" => [-180.0, 180.0, -90.0, 90.0],\n",
    ");"
   ]
  },
  {
   "cell_type": "code",
   "execution_count": 6,
   "id": "0d82d6af-924f-43e7-bc29-cf7106e19fae",
   "metadata": {},
   "outputs": [
    {
     "data": {
      "text/plain": [
       "2024-12-31T00:00:00"
      ]
     },
     "execution_count": 6,
     "metadata": {},
     "output_type": "execute_result"
    }
   ],
   "source": [
    "mindepth = 0.0 #Minimum water depth\n",
    "maxdepth = 1000.0 #Maximum water depth\n",
    "datestart = DateTime(1960, 1, 1)\n",
    "dateend = DateTime(2024, 12, 31)"
   ]
  },
  {
   "cell_type": "code",
   "execution_count": 7,
   "id": "61cb256b-2880-402a-a875-a3d95ba3eb49",
   "metadata": {},
   "outputs": [
    {
     "data": {
      "text/plain": [
       "46.0"
      ]
     },
     "execution_count": 7,
     "metadata": {},
     "output_type": "execute_result"
    }
   ],
   "source": [
    "minlon = domaininfo[regionname][1]\n",
    "maxlon = domaininfo[regionname][2]\n",
    "minlat = domaininfo[regionname][3]\n",
    "maxlat = domaininfo[regionname][4]"
   ]
  },
  {
   "cell_type": "code",
   "execution_count": null,
   "id": "6607cc8f-0782-4178-a0ee-c3321df618b5",
   "metadata": {},
   "outputs": [],
   "source": []
  },
  {
   "cell_type": "markdown",
   "id": "65e73624-6a4e-4e4c-b44d-416840c81183",
   "metadata": {},
   "source": [
    "## Argo"
   ]
  },
  {
   "cell_type": "code",
   "execution_count": 21,
   "id": "340fe181-b8c8-46fb-aa32-0725b228bd5f",
   "metadata": {},
   "outputs": [],
   "source": [
    "datasource = \"Euro-Argo\"\n",
    "queryparams = [\n",
    "    OrderedDict(\n",
    "        \"column_name\" => \"TEMP_ADJUSTED\",\n",
    "        \"alias\" => \"Temperature\",\n",
    "        \"skip_fill_values\" => true,\n",
    "    ),\n",
    "    OrderedDict(\"column_name\" => \"TEMP_ADJUSTED_QC\"),\n",
    "    OrderedDict(\"column_name\" => \"TEMP_ADJUSTED_QC.long_name\"),\n",
    "    OrderedDict(\"column_name\" => \"TEMP_ADJUSTED_QC.conventions\"),\n",
    "    OrderedDict(\"column_name\" => \"JULD\", \"alias\" => \"datetime\"),\n",
    "    OrderedDict(\"column_name\" => \"PRES\", \"alias\" => \"DEPTH\"),\n",
    "    OrderedDict(\"column_name\" => \"LONGITUDE\", \"alias\" => \"LONGITUDE\"),\n",
    "    OrderedDict(\"column_name\" => \"LATITUDE\", \"alias\" => \"LATITUDE\"),\n",
    "]\n",
    "\n",
    "filters = [\n",
    "    OrderedDict(\n",
    "        \"for_query_parameter\" => \"datetime\",\n",
    "        \"min\" => Dates.format(datestart, \"yyyy-mm-ddT00:00:00\"),\n",
    "        \"max\" => Dates.format(dateend, \"yyyy-mm-ddT00:00:00\"),\n",
    "    ),\n",
    "    OrderedDict(\"for_query_parameter\" => \"DEPTH\", \"min\" => mindepth, \"max\" => maxdepth),\n",
    "    OrderedDict(\"for_query_parameter\" => \"LONGITUDE\", \"min\" => minlon, \"max\" => maxlon),\n",
    "    OrderedDict(\"for_query_parameter\" => \"LATITUDE\", \"min\" => minlat, \"max\" => maxlat),\n",
    "    OrderedDict(\"for_query_parameter\" => \"Temperature\", \"min\" => 0, \"max\" => 40.0),\n",
    "]\n",
    "\n",
    "paramdict = OrderedDict(\n",
    "    \"query_parameters\" => queryparams,\n",
    "    \"filters\" => filters,\n",
    "    \"output\" => Dict(\"format\" => \"netcdf\"),\n",
    ")\n",
    "query = JSON3.write(paramdict);"
   ]
  },
  {
   "cell_type": "code",
   "execution_count": 22,
   "id": "0355cffa-dec1-4f7c-a72b-c1d75d2b2a6f",
   "metadata": {},
   "outputs": [
    {
     "ename": "LoadError",
     "evalue": "UndefVarError: `HTTP` not defined in `Main`\nSuggestion: check for spelling errors or missing imports.\nHint: HTTP is loaded but not imported in the active module Main.",
     "output_type": "error",
     "traceback": [
      "UndefVarError: `HTTP` not defined in `Main`\nSuggestion: check for spelling errors or missing imports.\nHint: HTTP is loaded but not imported in the active module Main.",
      "",
      "Stacktrace:",
      " [1] \u001b[0m\u001b[1m(::var\"#1#2\")\u001b[22m\u001b[0m\u001b[1m(\u001b[22m\u001b[90mio\u001b[39m::\u001b[0mIOStream\u001b[0m\u001b[1m)\u001b[22m",
      "\u001b[90m   @\u001b[39m \u001b[33mMain\u001b[39m \u001b[90m./\u001b[39m\u001b[90m\u001b[4mIn[22]:4\u001b[24m\u001b[39m",
      " [2] \u001b[0m\u001b[1mopen\u001b[22m\u001b[0m\u001b[1m(\u001b[22m::\u001b[0mvar\"#1#2\", ::\u001b[0mString, ::\u001b[0mVararg\u001b[90m{String}\u001b[39m; \u001b[90mkwargs\u001b[39m::\u001b[0m@Kwargs\u001b[90m{}\u001b[39m\u001b[0m\u001b[1m)\u001b[22m",
      "\u001b[90m   @\u001b[39m \u001b[90mBase\u001b[39m \u001b[90m./\u001b[39m\u001b[90m\u001b[4mio.jl:410\u001b[24m\u001b[39m",
      " [3] \u001b[0m\u001b[1mopen\u001b[22m\u001b[0m\u001b[1m(\u001b[22m::\u001b[0mFunction, ::\u001b[0mString, ::\u001b[0mString\u001b[0m\u001b[1m)\u001b[22m",
      "\u001b[90m   @\u001b[39m \u001b[90mBase\u001b[39m \u001b[90m./\u001b[39m\u001b[90m\u001b[4mio.jl:407\u001b[24m\u001b[39m",
      " [4] \u001b[0m\u001b[1mmacro expansion\u001b[22m",
      "\u001b[90m   @\u001b[39m \u001b[90m./\u001b[39m\u001b[90m\u001b[4mtiming.jl:581\u001b[24m\u001b[39m\u001b[90m [inlined]\u001b[39m",
      " [5] top-level scope",
      "\u001b[90m   @\u001b[39m \u001b[90m./\u001b[39m\u001b[90m\u001b[4mIn[22]:3\u001b[24m\u001b[39m"
     ]
    }
   ],
   "source": [
    "filename = joinpath(outputdir, \"$(datasource).nc\")\n",
    "\n",
    "@time open(filename, \"w\") do io\n",
    "    r = HTTP.request(\n",
    "        \"POST\",\n",
    "        joinpath(DIVAndFairEase.beacon_services[datasource], \"api/query\"),\n",
    "        [\n",
    "            \"Content-type\" => \"application/json\",\n",
    "            \"Authorization\" => \"Bearer $(token)\",\n",
    "        ],\n",
    "        query,\n",
    "        response_stream = io,\n",
    "    )\n",
    "    @info(r.status)\n",
    "end"
   ]
  },
  {
   "cell_type": "code",
   "execution_count": null,
   "id": "1aa1d337-eccf-4432-b3b1-d8d2141314c5",
   "metadata": {},
   "outputs": [],
   "source": []
  }
 ],
 "metadata": {
  "kernelspec": {
   "display_name": "Julia 1.11.5",
   "language": "julia",
   "name": "julia-1.11"
  },
  "language_info": {
   "file_extension": ".jl",
   "mimetype": "application/julia",
   "name": "julia",
   "version": "1.11.5"
  }
 },
 "nbformat": 4,
 "nbformat_minor": 5
}
