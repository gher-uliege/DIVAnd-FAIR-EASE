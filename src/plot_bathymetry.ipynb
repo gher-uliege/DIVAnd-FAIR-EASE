{
 "cells": [
  {
   "cell_type": "code",
   "execution_count": 11,
   "id": "afef0eb0",
   "metadata": {},
   "outputs": [
    {
     "data": {
      "text/plain": [
       "PyObject <module 'cmocean' from '/home/ctroupin/.julia/conda/3/x86_64/lib/python3.12/site-packages/cmocean/__init__.py'>"
      ]
     },
     "execution_count": 11,
     "metadata": {},
     "output_type": "execute_result"
    }
   ],
   "source": [
    "using NCDatasets\n",
    "using PyPlot\n",
    "using PyCall\n",
    "const plt = PyPlot\n",
    "ccrs = pyimport(\"cartopy.crs\")\n",
    "cfeature = pyimport(\"cartopy.feature\")\n",
    "coast = cfeature.GSHHSFeature(scale=\"i\")\n",
    "mpl = pyimport(\"matplotlib\")\n",
    "mpl.style.use(\"./fairease.mplstyle\")\n",
    "cmocean = pyimport(\"cmocean\")"
   ]
  },
  {
   "cell_type": "code",
   "execution_count": 12,
   "id": "2b4049ea-b92e-4fb8-8343-92c537ff58e1",
   "metadata": {},
   "outputs": [
    {
     "name": "stderr",
     "output_type": "stream",
     "text": [
      "\u001b[36m\u001b[1m[ \u001b[22m\u001b[39m\u001b[36m\u001b[1mInfo: \u001b[22m\u001b[39mRunning `conda install -y cmocean` in root environment\n"
     ]
    },
    {
     "name": "stdout",
     "output_type": "stream",
     "text": [
      "Channels:\n",
      " - conda-forge\n",
      "Platform: linux-64\n",
      "Collecting package metadata (repodata.json): ...working... done\n",
      "Solving environment: ...working... done\n",
      "\n",
      "# All requested packages already installed.\n",
      "\n"
     ]
    }
   ],
   "source": [
    "using Conda\n",
    "Conda.add(\"cmocean\")"
   ]
  },
  {
   "cell_type": "code",
   "execution_count": 13,
   "id": "abe69fd5",
   "metadata": {},
   "outputs": [
    {
     "data": {
      "text/plain": [
       "PyObject <Projected CRS: +proj=eqc +ellps=WGS84 +a=6378137.0 +lon_0=0.0 +to ...>\n",
       "Name: unknown\n",
       "Axis Info [cartesian]:\n",
       "- E[east]: Easting (unknown)\n",
       "- N[north]: Northing (unknown)\n",
       "- h[up]: Ellipsoidal height (metre)\n",
       "Area of Use:\n",
       "- undefined\n",
       "Coordinate Operation:\n",
       "- name: unknown\n",
       "- method: Equidistant Cylindrical\n",
       "Datum: Unknown based on WGS 84 ellipsoid\n",
       "- Ellipsoid: WGS 84\n",
       "- Prime Meridian: Greenwich\n"
      ]
     },
     "execution_count": 13,
     "metadata": {},
     "output_type": "execute_result"
    },
    {
     "name": "stderr",
     "output_type": "stream",
     "text": [
      "/home/ctroupin/.julia/conda/3/x86_64/lib/python3.12/site-packages/cartopy/io/__init__.py:241: DownloadWarning: Downloading: https://naturalearth.s3.amazonaws.com/110m_physical/ne_110m_coastline.zip\n",
      "  warnings.warn(f'Downloading: {url}', DownloadWarning)\n"
     ]
    }
   ],
   "source": [
    "theproj = ccrs.EuroPP()\n",
    "datacrs = ccrs.PlateCarree()"
   ]
  },
  {
   "cell_type": "code",
   "execution_count": 15,
   "id": "8ffa93e6",
   "metadata": {},
   "outputs": [
    {
     "data": {
      "text/plain": [
       "closed Dataset"
      ]
     },
     "execution_count": 15,
     "metadata": {},
     "output_type": "execute_result"
    }
   ],
   "source": [
    "nc = NCDataset(\"../data/NorthAdriatic_bathy.nc\", \"r\")\n",
    "lonb = nc[\"lon\"][:]\n",
    "latb = nc[\"lat\"][:]\n",
    "bathy = nc[\"bat\"][:,:]\n",
    "close(nc)"
   ]
  },
  {
   "cell_type": "code",
   "execution_count": 20,
   "id": "cc256a90",
   "metadata": {},
   "outputs": [],
   "source": [
    "bathy2plot1 = copy(bathy);\n",
    "bathy2plot2 = copy(bathy);\n",
    "\n",
    "bathy2plot1[bathy2plot1.>=0] .= 0;\n",
    "bathy2plot2[bathy2plot1.<0] .= 0;\n",
    "\n",
    "mpl = pyimport(\"matplotlib\")\n",
    "ls = mpl.colors.LightSource(azdeg=315, altdeg=45)\n",
    "cmap = plt.cm.Greys\n",
    "shadedtopo = ls.shade(bathy2plot2, cmap=cmap, blend_mode=\"soft\", vert_exag=0.1)\n",
    "shadedtopo = permutedims(shadedtopo, [2, 1, 3]);"
   ]
  },
  {
   "cell_type": "code",
   "execution_count": 22,
   "id": "8abaee2b",
   "metadata": {},
   "outputs": [
    {
     "ename": "LoadError",
     "evalue": "PyError ($(Expr(:escape, :(ccall(#= /home/ctroupin/.julia/packages/PyCall/1gn3u/src/pyfncall.jl:43 =# @pysym(:PyObject_Call), PyPtr, (PyPtr, PyPtr, PyPtr), o, pyargsptr, kw))))) <class 'ImportError'>\nImportError('Using image transforms requires either pykdtree or scipy.')\n  File \"/home/ctroupin/.julia/conda/3/x86_64/lib/python3.12/site-packages/cartopy/mpl/geoaxes.py\", line 307, in wrapper\n    return func(self, *args, **kwargs)\n           ^^^^^^^^^^^^^^^^^^^^^^^^^^^\n  File \"/home/ctroupin/.julia/conda/3/x86_64/lib/python3.12/site-packages/cartopy/mpl/geoaxes.py\", line 1312, in imshow\n    from cartopy.img_transform import warp_array\n  File \"/home/ctroupin/.julia/conda/3/x86_64/lib/python3.12/site-packages/cartopy/img_transform.py\", line 20, in <module>\n    raise ImportError(\"Using image transforms requires either \"\n",
     "output_type": "error",
     "traceback": [
      "PyError ($(Expr(:escape, :(ccall(#= /home/ctroupin/.julia/packages/PyCall/1gn3u/src/pyfncall.jl:43 =# @pysym(:PyObject_Call), PyPtr, (PyPtr, PyPtr, PyPtr), o, pyargsptr, kw))))) <class 'ImportError'>\nImportError('Using image transforms requires either pykdtree or scipy.')\n  File \"/home/ctroupin/.julia/conda/3/x86_64/lib/python3.12/site-packages/cartopy/mpl/geoaxes.py\", line 307, in wrapper\n    return func(self, *args, **kwargs)\n           ^^^^^^^^^^^^^^^^^^^^^^^^^^^\n  File \"/home/ctroupin/.julia/conda/3/x86_64/lib/python3.12/site-packages/cartopy/mpl/geoaxes.py\", line 1312, in imshow\n    from cartopy.img_transform import warp_array\n  File \"/home/ctroupin/.julia/conda/3/x86_64/lib/python3.12/site-packages/cartopy/img_transform.py\", line 20, in <module>\n    raise ImportError(\"Using image transforms requires either \"\n",
      "",
      "Stacktrace:",
      "  [1] pyerr_check",
      "    @ ~/.julia/packages/PyCall/1gn3u/src/exception.jl:75 [inlined]",
      "  [2] pyerr_check",
      "    @ ~/.julia/packages/PyCall/1gn3u/src/exception.jl:79 [inlined]",
      "  [3] _handle_error(msg::String)",
      "    @ PyCall ~/.julia/packages/PyCall/1gn3u/src/exception.jl:96",
      "  [4] macro expansion",
      "    @ ~/.julia/packages/PyCall/1gn3u/src/exception.jl:110 [inlined]",
      "  [5] #107",
      "    @ ~/.julia/packages/PyCall/1gn3u/src/pyfncall.jl:43 [inlined]",
      "  [6] disable_sigint",
      "    @ ./c.jl:473 [inlined]",
      "  [7] __pycall!",
      "    @ ~/.julia/packages/PyCall/1gn3u/src/pyfncall.jl:42 [inlined]",
      "  [8] _pycall!(ret::PyObject, o::PyObject, args::Tuple{Array{Float64, 3}}, nargs::Int64, kw::PyObject)",
      "    @ PyCall ~/.julia/packages/PyCall/1gn3u/src/pyfncall.jl:29",
      "  [9] _pycall!(ret::PyObject, o::PyObject, args::Tuple{Array{Float64, 3}}, kwargs::@Kwargs{extent::Vector{Float64}, transform::PyObject, zorder::Int64})",
      "    @ PyCall ~/.julia/packages/PyCall/1gn3u/src/pyfncall.jl:11",
      " [10] #_#114",
      "    @ ~/.julia/packages/PyCall/1gn3u/src/pyfncall.jl:86 [inlined]",
      " [11] top-level scope",
      "    @ In[22]:7"
     ]
    }
   ],
   "source": [
    "fig = plt.figure()\n",
    "ax = plt.subplot(111, projection=theproj)\n",
    "pcm = ax.pcolormesh(lonb, latb, bathy2plot1', transform=datacrs, cmap=cmocean.cm.deep_r)\n",
    "cb = plt.colorbar(pcm)\n",
    "cb.set_label(\"Depth (m)\", rotation=0, ha=\"left\")\n",
    "gl = ax.gridlines(draw_labels=true, linewidth=.5, color=\".25\", linestyle=\"-.\", zorder=2)\n",
    "ax.imshow(shadedtopo, extent=[minimum(lonb), maximum(lonb), minimum(latb), maximum(latb)], \n",
    "transform=datacrs, zorder=5)\n",
    "gl.top_labels = false\n",
    "gl.right_labels = false\n",
    "#ax.add_feature(coast, linewidth=0.25, facecolor=\".65\", zorder=3)\n",
    "ax.set_title(\"EMODnet Bathymetry\")"
   ]
  },
  {
   "cell_type": "code",
   "execution_count": 23,
   "id": "84839cdd-55ba-46f6-910f-47f72635a47a",
   "metadata": {},
   "outputs": [
    {
     "data": {
      "text/plain": [
       "(-264, 2135)"
      ]
     },
     "execution_count": 23,
     "metadata": {},
     "output_type": "execute_result"
    }
   ],
   "source": [
    "extrema(bathy)"
   ]
  },
  {
   "cell_type": "code",
   "execution_count": null,
   "id": "d55d162f-c7c9-4983-9b45-6edaec4feac3",
   "metadata": {},
   "outputs": [],
   "source": []
  }
 ],
 "metadata": {
  "kernelspec": {
   "display_name": "Julia 1.10.5",
   "language": "julia",
   "name": "julia-1.10"
  },
  "language_info": {
   "file_extension": ".jl",
   "mimetype": "application/julia",
   "name": "julia",
   "version": "1.10.5"
  },
  "toc": {
   "base_numbering": 1,
   "nav_menu": {},
   "number_sections": true,
   "sideBar": true,
   "skip_h1_title": false,
   "title_cell": "Table of Contents",
   "title_sidebar": "Contents",
   "toc_cell": false,
   "toc_position": {},
   "toc_section_display": true,
   "toc_window_display": false
  }
 },
 "nbformat": 4,
 "nbformat_minor": 5
}
