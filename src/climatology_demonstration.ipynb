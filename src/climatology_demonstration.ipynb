{
 "cells": [
  {
   "cell_type": "code",
   "execution_count": 32,
   "id": "8bd5765e-f620-436b-bd86-cc9a1ff569af",
   "metadata": {},
   "outputs": [
    {
     "name": "stderr",
     "output_type": "stream",
     "text": [
      "WARNING: replacing module DIVAndFairEase.\n"
     ]
    },
    {
     "data": {
      "text/plain": [
       "2-element Vector{Function}:\n",
       " format_current_cell (generic function with 1 method)\n",
       " format_current_cell (generic function with 1 method)"
      ]
     },
     "execution_count": 32,
     "metadata": {},
     "output_type": "execute_result"
    }
   ],
   "source": [
    "using HTTP\n",
    "using JSON3\n",
    "using JSON\n",
    "using Dates\n",
    "using NCDatasets\n",
    "using OrderedCollections\n",
    "using Colors\n",
    "using Makie\n",
    "using CairoMakie\n",
    "using GeoMakie\n",
    "using DIVAnd\n",
    "using Random\n",
    "include(\"./DIVAndFairEase.jl\")\n",
    "using JupyterFormatter\n",
    "enable_autoformat()"
   ]
  },
  {
   "cell_type": "code",
   "execution_count": 2,
   "id": "afe99ece-3463-4c5c-bde1-c053599048e1",
   "metadata": {},
   "outputs": [
    {
     "data": {
      "text/plain": [
       "5-element Vector{String}:\n",
       " \"Euro-Argo\"\n",
       " \"CORA Profile\"\n",
       " \"CORA Timeseries\"\n",
       " \"World Ocean Database\"\n",
       " \"SeaDataNet CDI TS\""
      ]
     },
     "execution_count": 2,
     "metadata": {},
     "output_type": "execute_result"
    }
   ],
   "source": [
    "token = ENV[\"beaconAPItoken\"];\n",
    "regionname = \"North_Adriatic\"\n",
    "varname = \"sea_water_temperature\"\n",
    "doplot = false\n",
    "\n",
    "datasourcelist = [\n",
    "    \"Euro-Argo\",\n",
    "    \"CORA Profile\",\n",
    "    \"CORA Timeseries\",\n",
    "    \"World Ocean Database\",\n",
    "    \"SeaDataNet CDI TS\",\n",
    "]"
   ]
  },
  {
   "cell_type": "code",
   "execution_count": 3,
   "id": "26e37758-d741-4c7c-b14c-ec0834c2def2",
   "metadata": {},
   "outputs": [],
   "source": [
    "datadir = joinpath(\"../data/\", regionname)\n",
    "outputdir = joinpath(\"../output/\", regionname)\n",
    "figdir = joinpath(\"../figures/\", regionname)\n",
    "mkpath.([datadir, outputdir, figdir]);"
   ]
  },
  {
   "cell_type": "code",
   "execution_count": null,
   "id": "4b40d715-ead6-45c7-b21f-32b5ce448350",
   "metadata": {},
   "outputs": [],
   "source": []
  },
  {
   "cell_type": "code",
   "execution_count": null,
   "id": "f834acec-21eb-4cd3-a5a6-bf4959b9f430",
   "metadata": {},
   "outputs": [],
   "source": []
  },
  {
   "cell_type": "code",
   "execution_count": 4,
   "id": "4f8e74c4-6cba-446b-a641-6fc5ae6db48e",
   "metadata": {},
   "outputs": [],
   "source": [
    "domaininfo = OrderedDict(\n",
    "    \"North_Adriatic\" => [12.0, 18.0, 43.0, 46.0],\n",
    "    \"Arctic_region\" => [-44.25, 70.0, 56.5, 83.0],\n",
    "    \"North_East_Atlantic\" => [-42.0, -0.1, 24.9, 48.0],\n",
    "    \"Baltic_Sea\" => [9.4, 30.9, 53.0, 65.9],\n",
    "    \"Black_Sea\" => [26.5, 41.95, 40.0, 47.95],\n",
    "    \"Mediterranean_Sea\" => [-7.0, 36.375, 30.0, 45.875],\n",
    "    \"North_Sea\" => [-100.0, 50.0, -80.0, 80.0],\n",
    "    \"Canary_Islands\" => [-20.0, -9.0, 25.0, 31.5],\n",
    "    \"World_Ocean\" => [-180.0, 180.0, -90.0, 90.0],\n",
    ");"
   ]
  },
  {
   "cell_type": "code",
   "execution_count": 5,
   "id": "b407ffae-9d54-4eb0-95ef-c98b6bc8a051",
   "metadata": {},
   "outputs": [
    {
     "data": {
      "text/plain": [
       "2024-12-31T00:00:00"
      ]
     },
     "execution_count": 5,
     "metadata": {},
     "output_type": "execute_result"
    }
   ],
   "source": [
    "begin\n",
    "    mindepth = 0.0 #Minimum water depth\n",
    "    maxdepth = 1000.0 #Maximum water depth\n",
    "    datestart = DateTime(1960, 1, 1)\n",
    "    dateend = DateTime(2024, 12, 31)\n",
    "end"
   ]
  },
  {
   "cell_type": "code",
   "execution_count": 6,
   "id": "14068b57-1ed9-4e2a-a8ef-f9ad5bdb03a4",
   "metadata": {},
   "outputs": [],
   "source": [
    "variableunits = Dict(\n",
    "    \"sea_water_temperature\" => \"degree_Celsius\",\n",
    "    \"sea_water_salinity\" => \"psu\",\n",
    "    \"mass_concentration_of_chlorophyll_a_in_sea_water\" => \"mg/m3\",\n",
    "    \"moles_of_nitrate_per_unit_mass_in_sea_water\" => \"micromole/kg\",\n",
    ");"
   ]
  },
  {
   "cell_type": "markdown",
   "id": "9c777956-b632-4cca-84f2-dcfe6dcf0cdb",
   "metadata": {},
   "source": [
    "## Health check"
   ]
  },
  {
   "cell_type": "code",
   "execution_count": 7,
   "id": "0d2ed8d7-dd94-459b-b923-e71396551cb1",
   "metadata": {},
   "outputs": [
    {
     "name": "stderr",
     "output_type": "stream",
     "text": [
      "\u001b[36m\u001b[1m[ \u001b[22m\u001b[39m\u001b[36m\u001b[1mInfo: \u001b[22m\u001b[39mEuro-Argo Beacon instance is working\n",
      "\u001b[36m\u001b[1m[ \u001b[22m\u001b[39m\u001b[36m\u001b[1mInfo: \u001b[22m\u001b[39mCORA Profile Beacon instance is working\n",
      "\u001b[36m\u001b[1m[ \u001b[22m\u001b[39m\u001b[36m\u001b[1mInfo: \u001b[22m\u001b[39mCORA Timeseries Beacon instance is working\n",
      "\u001b[36m\u001b[1m[ \u001b[22m\u001b[39m\u001b[36m\u001b[1mInfo: \u001b[22m\u001b[39mWorld Ocean Database Beacon instance is working\n",
      "\u001b[36m\u001b[1m[ \u001b[22m\u001b[39m\u001b[36m\u001b[1mInfo: \u001b[22m\u001b[39mSeaDataNet CDI TS Beacon instance is working\n"
     ]
    }
   ],
   "source": [
    "for datasource in datasourcelist\n",
    "    r = HTTP.get(\n",
    "        joinpath(DIVAndFairEase.beacon_services[datasource], \"api/health\"),\n",
    "        [\"Authorization\" => \"Bearer $(token)\"],\n",
    "    )\n",
    "    if r.status == 200\n",
    "        @info(\"$(datasource) Beacon instance is working\")\n",
    "    else\n",
    "        @warn(\"$(datasource) Beacon is down or not reachable.\")\n",
    "    end\n",
    "\n",
    "end"
   ]
  },
  {
   "cell_type": "code",
   "execution_count": 8,
   "id": "54f2cc01-2aa9-4e39-a7ed-be0ffe8a4b38",
   "metadata": {},
   "outputs": [
    {
     "name": "stderr",
     "output_type": "stream",
     "text": [
      "\u001b[36m\u001b[1m[ \u001b[22m\u001b[39m\u001b[36m\u001b[1mInfo: \u001b[22m\u001b[39mWorking on Euro-Argo\n",
      "\u001b[36m\u001b[1m┌ \u001b[22m\u001b[39m\u001b[36m\u001b[1mInfo: \u001b[22m\u001b[39mData will be written in file:\n",
      "\u001b[36m\u001b[1m└ \u001b[22m\u001b[39m../data/North_Adriatic/North_Adriatic_Euro-Argo_TEMP_19600101-20241231_0-1000m.nc\n",
      "\u001b[36m\u001b[1m[ \u001b[22m\u001b[39m\u001b[36m\u001b[1mInfo: \u001b[22m\u001b[39mFile already downloaded\n",
      "\u001b[36m\u001b[1m[ \u001b[22m\u001b[39m\u001b[36m\u001b[1mInfo: \u001b[22m\u001b[39mNetCDF file size: 3.0M\n",
      "\u001b[36m\u001b[1m[ \u001b[22m\u001b[39m\u001b[36m\u001b[1mInfo: \u001b[22m\u001b[39mWorking on CORA Profile\n",
      "\u001b[36m\u001b[1m[ \u001b[22m\u001b[39m\u001b[36m\u001b[1mInfo: \u001b[22m\u001b[39mWorking with CORA dataset\n",
      "\u001b[36m\u001b[1m┌ \u001b[22m\u001b[39m\u001b[36m\u001b[1mInfo: \u001b[22m\u001b[39mData will be written in file:\n",
      "\u001b[36m\u001b[1m└ \u001b[22m\u001b[39m../data/North_Adriatic/North_Adriatic_CORA-Profile_TEMP_19600101-20241231_0-1000m.nc\n",
      "\u001b[36m\u001b[1m[ \u001b[22m\u001b[39m\u001b[36m\u001b[1mInfo: \u001b[22m\u001b[39mFile already downloaded\n",
      "\u001b[36m\u001b[1m[ \u001b[22m\u001b[39m\u001b[36m\u001b[1mInfo: \u001b[22m\u001b[39mNetCDF file size: 14.2M\n",
      "\u001b[36m\u001b[1m[ \u001b[22m\u001b[39m\u001b[36m\u001b[1mInfo: \u001b[22m\u001b[39mWorking on CORA Timeseries\n",
      "\u001b[36m\u001b[1m[ \u001b[22m\u001b[39m\u001b[36m\u001b[1mInfo: \u001b[22m\u001b[39mWorking with CORA dataset\n",
      "\u001b[36m\u001b[1m┌ \u001b[22m\u001b[39m\u001b[36m\u001b[1mInfo: \u001b[22m\u001b[39mData will be written in file:\n",
      "\u001b[36m\u001b[1m└ \u001b[22m\u001b[39m../data/North_Adriatic/North_Adriatic_CORA-Timeseries_TEMP_19600101-20241231_0-1000m.nc\n",
      "\u001b[36m\u001b[1m[ \u001b[22m\u001b[39m\u001b[36m\u001b[1mInfo: \u001b[22m\u001b[39mFile already downloaded\n",
      "\u001b[36m\u001b[1m[ \u001b[22m\u001b[39m\u001b[36m\u001b[1mInfo: \u001b[22m\u001b[39mNetCDF file size: 53.4M\n",
      "\u001b[36m\u001b[1m[ \u001b[22m\u001b[39m\u001b[36m\u001b[1mInfo: \u001b[22m\u001b[39mWorking on World Ocean Database\n",
      "\u001b[36m\u001b[1m┌ \u001b[22m\u001b[39m\u001b[36m\u001b[1mInfo: \u001b[22m\u001b[39mData will be written in file:\n",
      "\u001b[36m\u001b[1m└ \u001b[22m\u001b[39m../data/North_Adriatic/North_Adriatic_World-Ocean-Database_Temperature_19600101-20241231_0-1000m.nc\n",
      "\u001b[36m\u001b[1m[ \u001b[22m\u001b[39m\u001b[36m\u001b[1mInfo: \u001b[22m\u001b[39mFile already downloaded\n",
      "\u001b[36m\u001b[1m[ \u001b[22m\u001b[39m\u001b[36m\u001b[1mInfo: \u001b[22m\u001b[39mNetCDF file size: 71.4M\n",
      "\u001b[36m\u001b[1m[ \u001b[22m\u001b[39m\u001b[36m\u001b[1mInfo: \u001b[22m\u001b[39mWorking on SeaDataNet CDI TS\n",
      "\u001b[36m\u001b[1m┌ \u001b[22m\u001b[39m\u001b[36m\u001b[1mInfo: \u001b[22m\u001b[39mData will be written in file:\n",
      "\u001b[36m\u001b[1m└ \u001b[22m\u001b[39m../data/North_Adriatic/North_Adriatic_SeaDataNet-CDI-TS_TEMPPR01_19600101-20241231_0-1000m.nc\n",
      "\u001b[36m\u001b[1m[ \u001b[22m\u001b[39m\u001b[36m\u001b[1mInfo: \u001b[22m\u001b[39mFile already downloaded\n",
      "\u001b[36m\u001b[1m[ \u001b[22m\u001b[39m\u001b[36m\u001b[1mInfo: \u001b[22m\u001b[39mNetCDF file size: 580.9M\n"
     ]
    }
   ],
   "source": [
    "minlon = domaininfo[regionname][1]\n",
    "maxlon = domaininfo[regionname][2]\n",
    "minlat = domaininfo[regionname][3]\n",
    "maxlat = domaininfo[regionname][4]\n",
    "\n",
    "outputfilelist = []\n",
    "for datasource in datasourcelist\n",
    "\n",
    "    @info(\"Working on $(datasource)\")\n",
    "\n",
    "    parameter1 = \"TEMP\"\n",
    "    if datasource == \"World Ocean Database\"\n",
    "        parameter1 = \"Temperature\"\n",
    "    elseif datasource == \"EMODnet Chemistry\"\n",
    "        parameter1 = \"ITS_90_water_temperature\"\n",
    "    elseif datasource == \"SeaDataNet CDI TS\"\n",
    "        parameter1 = \"TEMPPR01\"\n",
    "    end\n",
    "    parameter2 = \"PSAL\"\n",
    "\n",
    "    datasource_name = replace(datasource, \" \" => \"-\")\n",
    "\n",
    "    # Build query\n",
    "    query = DIVAndFairEase.prepare_query(\n",
    "        datasource,\n",
    "        parameter1,\n",
    "        Dates.Date(datestart),\n",
    "        Dates.Date(dateend),\n",
    "        mindepth,\n",
    "        maxdepth,\n",
    "        minlon,\n",
    "        maxlon,\n",
    "        minlat,\n",
    "        maxlat,\n",
    "    )\n",
    "\n",
    "    # Construct file and figure names\n",
    "    filename = joinpath(\n",
    "        datadir,\n",
    "        \"$(regionname)_$(datasource_name)_$(replace(parameter1, \" \"=>\"_\"))_$(Dates.format(datestart, \"yyyymmdd\"))-$(Dates.format(dateend, \"yyyymmdd\"))_$(Int(mindepth))-$(Int(maxdepth))m.nc\",\n",
    "    )\n",
    "\n",
    "    # Write the data in netCDF files\n",
    "    @info(\"Data will be written in file:\\n$(filename)\")\n",
    "    if isfile(filename)\n",
    "        @info(\"File already downloaded\")\n",
    "\n",
    "    else\n",
    "        @time open(filename, \"w\") do io\n",
    "            r = HTTP.request(\n",
    "                \"POST\",\n",
    "                joinpath(DIVAndFairEase.beacon_services[datasource], \"api/query\"),\n",
    "                [\n",
    "                    \"Content-type\" => \"application/json\",\n",
    "                    \"Authorization\" => \"Bearer $(token)\",\n",
    "                ],\n",
    "                query,\n",
    "                response_stream = io,\n",
    "            )\n",
    "            @info(r.status)\n",
    "        end\n",
    "\n",
    "        NCDataset(filename, \"a\") do ds\n",
    "            ds.attrib[\"data_source\"] = datasource\n",
    "            ds.attrib[\"date_created\"] = Dates.format(Dates.now(), \"yyyy-mm-ddTHH:MM:SS\")\n",
    "            # Maybe add other attributes\n",
    "        end\n",
    "    end\n",
    "    @info(\"NetCDF file size: $(round(filesize(filename)/1000^2, digits=1))M\")\n",
    "    push!(outputfilelist, filename)\n",
    "\n",
    "end"
   ]
  },
  {
   "cell_type": "markdown",
   "id": "9cbf3757-9165-452f-9a50-6cbddd735ded",
   "metadata": {},
   "source": [
    "### Make plot"
   ]
  },
  {
   "cell_type": "code",
   "execution_count": 9,
   "id": "999d40a6-4c06-4d52-88cb-a0d1774c58de",
   "metadata": {},
   "outputs": [],
   "source": [
    "if doplot\n",
    "    if length(outputfilelist) > 0\n",
    "        colorlist = [:red, :blue, :green, :orange, :seagreen1, :aqua, :magenta]\n",
    "\n",
    "        fig = Figure(size = (800, 500))\n",
    "        ga = GeoAxis(\n",
    "            fig[1, 1];\n",
    "            dest = \"+proj=merc\",\n",
    "            title = \"$(regionname) observations\\n($(Dates.Date(datestart)) - $(Dates.Date(dateend)))\",\n",
    "        )\n",
    "\n",
    "        for (iii, outputfile) in enumerate(outputfilelist)\n",
    "            NCDataset(outputfile, \"r\") do ds\n",
    "                datasource = ds.attrib[\"data_source\"]\n",
    "                lon = ds[\"LONGITUDE\"][:]\n",
    "                lat = ds[\"LATITUDE\"][:]\n",
    "                plot!(\n",
    "                    ga,\n",
    "                    lon,\n",
    "                    lat,\n",
    "                    color = colorlist[iii],\n",
    "                    markersize = 2,\n",
    "                    label = \"$(datasource) ($(length(lon)) obs.)\",\n",
    "                )\n",
    "            end\n",
    "\n",
    "        end\n",
    "        lines!(ga, GeoMakie.coastlines(10), color = :black)\n",
    "        # poly!(ga, land, color=:grey)\n",
    "        xlims!(ga, minlon, maxlon)\n",
    "        ylims!(ga, minlat, maxlat)\n",
    "        fig[1, 2] = Legend(fig, ga, \"Data source\")\n",
    "\n",
    "        figname1 = joinpath(\n",
    "            figdir,\n",
    "            \"$(regionname)_$(replace(varname, \" \"=>\"_\"))_$(Dates.format(datestart, \"yyyymmdd\"))-$(Dates.format(dateend, \"yyyymmdd\"))_$(Int(mindepth))-$(Int(maxdepth))m.png\",\n",
    "        )\n",
    "        Makie.save(figname1, fig)\n",
    "\n",
    "        fig\n",
    "    else\n",
    "        @warn(\"No file has been written, hence no plot will be produced\")\n",
    "    end\n",
    "end"
   ]
  },
  {
   "cell_type": "code",
   "execution_count": null,
   "id": "58096525-ae0b-4689-b8b7-6cbf4c3688f7",
   "metadata": {},
   "outputs": [],
   "source": []
  },
  {
   "cell_type": "code",
   "execution_count": 62,
   "id": "ce76972d-909e-468f-9c29-6a4c1444897e",
   "metadata": {},
   "outputs": [],
   "source": [
    "if true\n",
    "    for (iii, outputfile) in enumerate(outputfilelist)\n",
    "        NCDataset(outputfile, \"r\") do ds\n",
    "            datasource = ds.attrib[\"data_source\"]\n",
    "            lon = ds[\"LONGITUDE\"][:]\n",
    "            lat = ds[\"LATITUDE\"][:]\n",
    "            obsvalues = coalesce.(ds[keys(ds)[1]][:], NaN)\n",
    "            thevar = ds[keys(ds)[1]][:]\n",
    "            goodvalues = findall(.!(ismissing.(thevar)))\n",
    "            lonall[iii] = ds[\"LONGITUDE\"][goodvalues]\n",
    "            latall[iii] = ds[\"LATITUDE\"][goodvalues]\n",
    "            depthall[iii] = ds[\"DEPTH\"][goodvalues]\n",
    "            timesall[iii] = coalesce.(ds[\"datetime\"][goodvalues], NaN)\n",
    "\n",
    "            if typeof(thevar[goodvalues]) <: Vector{Union{Missing,String}}\n",
    "                obsvalues = parse.(Float64, thevar[goodvalues])\n",
    "            else\n",
    "                obsvalues = thevar[goodvalues]\n",
    "            end\n",
    "\n",
    "            fig = Figure(size = (800, 500))\n",
    "            ax = Axis(\n",
    "                fig[1, 1],\n",
    "                title = \"$(regionname) observation histogram\\n($(Dates.Date(datestart)) - $(Dates.Date(dateend)))\",\n",
    "            )\n",
    "            hist!(ax, obsvalues)\n",
    "\n",
    "            figname1 = joinpath(\n",
    "                figdir,\n",
    "                \"histogram_$(regionname)_$(replace(varname, \" \"=>\"_\"))_$(datasource)_$(Dates.format(datestart, \"yyyymmdd\"))-$(Dates.format(dateend, \"yyyymmdd\"))_$(Int(mindepth))-$(Int(maxdepth))m.png\",\n",
    "            )\n",
    "            Makie.save(figname1, fig)\n",
    "            fig\n",
    "        end\n",
    "    end\n",
    "end"
   ]
  },
  {
   "cell_type": "code",
   "execution_count": 10,
   "id": "dd9056aa-4fa5-4935-8c82-17850b7112dd",
   "metadata": {},
   "outputs": [],
   "source": [
    "if doplot\n",
    "    fig2 = Figure(size = (800, 800))\n",
    "\n",
    "    for (iii, outputfile) in enumerate(outputfilelist)\n",
    "        NCDataset(outputfile, \"r\") do ds\n",
    "            datasource = ds.attrib[\"data_source\"]\n",
    "            lon = ds[\"LONGITUDE\"][:]\n",
    "            lat = ds[\"LATITUDE\"][:]\n",
    "            ga = GeoAxis(\n",
    "                fig2[1+(iii-1)÷2, 1+(iii-1)%2];\n",
    "                dest = \"+proj=merc\",\n",
    "                title = \"$(datasource) ($(length(lon)) obs.)\",\n",
    "            )\n",
    "            plot!(ga, lon, lat, color = :orange, markersize = 2)\n",
    "            lines!(ga, GeoMakie.coastlines(10), color = :black)\n",
    "            # poly!(ga, land, color=:grey)\n",
    "            xlims!(ga, minlon, maxlon)\n",
    "            ylims!(ga, minlat, maxlat)\n",
    "        end\n",
    "\n",
    "    end\n",
    "\n",
    "    figname2 = joinpath(\n",
    "        figdir,\n",
    "        \"$(regionname)_$(replace(varname, \" \"=>\"_\"))_$(Dates.format(datestart, \"yyyymmdd\"))-$(Dates.format(dateend, \"yyyymmdd\"))_$(Int(mindepth))-$(Int(maxdepth))m_all.png\",\n",
    "    )\n",
    "    save(figname2, fig2)\n",
    "    fig2\n",
    "end"
   ]
  },
  {
   "cell_type": "markdown",
   "id": "83a3e8f5-0601-4e81-8bb4-73b89586f880",
   "metadata": {},
   "source": [
    "## Duplicate removal\n",
    "### Set parameters"
   ]
  },
  {
   "cell_type": "code",
   "execution_count": 11,
   "id": "60f0cdc3-3c24-47e1-8167-5c90bd384189",
   "metadata": {},
   "outputs": [
    {
     "data": {
      "text/plain": [
       "0.01"
      ]
     },
     "execution_count": 11,
     "metadata": {},
     "output_type": "execute_result"
    }
   ],
   "source": [
    "Δlon = 0.01\n",
    "Δlat = 0.01\n",
    "Δdepth = 0.05\n",
    "Δtime = 0.0\n",
    "Δvar = 0.01"
   ]
  },
  {
   "cell_type": "code",
   "execution_count": 12,
   "id": "d749c208-dab8-462d-8d73-b003c57050d3",
   "metadata": {},
   "outputs": [
    {
     "name": "stderr",
     "output_type": "stream",
     "text": [
      "\u001b[36m\u001b[1m[ \u001b[22m\u001b[39m\u001b[36m\u001b[1mInfo: \u001b[22m\u001b[39mWorking on file North_Adriatic_Euro-Argo_TEMP_19600101-20241231_0-1000m.nc\n",
      "\u001b[36m\u001b[1m[ \u001b[22m\u001b[39m\u001b[36m\u001b[1mInfo: \u001b[22m\u001b[39mWorking on file North_Adriatic_CORA-Profile_TEMP_19600101-20241231_0-1000m.nc\n",
      "\u001b[36m\u001b[1m[ \u001b[22m\u001b[39m\u001b[36m\u001b[1mInfo: \u001b[22m\u001b[39mWorking on file North_Adriatic_CORA-Timeseries_TEMP_19600101-20241231_0-1000m.nc\n",
      "\u001b[36m\u001b[1m[ \u001b[22m\u001b[39m\u001b[36m\u001b[1mInfo: \u001b[22m\u001b[39mWorking on file North_Adriatic_World-Ocean-Database_Temperature_19600101-20241231_0-1000m.nc\n",
      "\u001b[36m\u001b[1m[ \u001b[22m\u001b[39m\u001b[36m\u001b[1mInfo: \u001b[22m\u001b[39mWorking on file North_Adriatic_SeaDataNet-CDI-TS_TEMPPR01_19600101-20241231_0-1000m.nc\n"
     ]
    }
   ],
   "source": [
    "# Allocate vectors of vectors\n",
    "nfiles = length(outputfilelist)\n",
    "lonall = Vector{Vector{Float64}}(undef, nfiles)\n",
    "latall = Vector{Vector{Float64}}(undef, nfiles)\n",
    "timesall = Vector{Vector{DateTime}}(undef, nfiles)\n",
    "depthall = Vector{Vector{Float64}}(undef, nfiles)\n",
    "obsall = Vector{Vector{Float64}}(undef, nfiles)\n",
    "obsidall = Vector{Vector{String}}(undef, nfiles)\n",
    "\n",
    "for (iii, datafile) in enumerate(outputfilelist)\n",
    "    @info(\"Working on file $(basename(datafile))\")\n",
    "\n",
    "    # Set the reference date (different for each dataset)\n",
    "    dateref = Dates.DateTime(1950, 1, 1)\n",
    "    if occursin(\"World_Ocean_Database\", basename(datafile))\n",
    "        dateref = Dates.DateTime(1770, 1, 1)\n",
    "    elseif occursin(\"EMODnet Chemistry\", basename(datafile))\n",
    "        dateref = Dates.DateTime(1921, 1, 1)\n",
    "    end\n",
    "\n",
    "    NCDataset(datafile, \"r\") do ds\n",
    "\n",
    "        # Get coordinates\n",
    "        thevar = ds[keys(ds)[1]][:]\n",
    "        goodvalues = findall(.!(ismissing.(thevar)))\n",
    "        lonall[iii] = ds[\"LONGITUDE\"][goodvalues]\n",
    "        latall[iii] = ds[\"LATITUDE\"][goodvalues]\n",
    "        depthall[iii] = ds[\"DEPTH\"][goodvalues]\n",
    "        timesall[iii] = coalesce.(ds[\"datetime\"][goodvalues], NaN)\n",
    "\n",
    "        if typeof(thevar[goodvalues]) <: Vector{Union{Missing,String}}\n",
    "            obsall[iii] = parse.(Float64, thevar[goodvalues])\n",
    "        else\n",
    "            obsall[iii] = thevar[goodvalues]\n",
    "        end\n",
    "    end\n",
    "end"
   ]
  },
  {
   "cell_type": "markdown",
   "id": "e4e09ad8-925b-4810-a16d-c9ee770926bd",
   "metadata": {},
   "source": [
    "### Remove duplicates"
   ]
  },
  {
   "cell_type": "code",
   "execution_count": 13,
   "id": "775ceb62-3acd-4667-963c-c6eb515e74ff",
   "metadata": {},
   "outputs": [
    {
     "name": "stderr",
     "output_type": "stream",
     "text": [
      "\u001b[36m\u001b[1m[ \u001b[22m\u001b[39m\u001b[36m\u001b[1mInfo: \u001b[22m\u001b[39mWorking on dataset #2\n",
      "\u001b[36m\u001b[1m[ \u001b[22m\u001b[39m\u001b[36m\u001b[1mInfo: \u001b[22m\u001b[39m30970\n",
      "\u001b[36m\u001b[1m[ \u001b[22m\u001b[39m\u001b[36m\u001b[1mInfo: \u001b[22m\u001b[39mNumber of possible duplicates: 0\n",
      "\u001b[36m\u001b[1m[ \u001b[22m\u001b[39m\u001b[36m\u001b[1mInfo: \u001b[22m\u001b[39mPercentage of duplicates: 0.0%\n",
      "\u001b[36m\u001b[1m[ \u001b[22m\u001b[39m\u001b[36m\u001b[1mInfo: \u001b[22m\u001b[39mWorking on dataset #3\n",
      "\u001b[36m\u001b[1m[ \u001b[22m\u001b[39m\u001b[36m\u001b[1mInfo: \u001b[22m\u001b[39m461374\n",
      "\u001b[36m\u001b[1m[ \u001b[22m\u001b[39m\u001b[36m\u001b[1mInfo: \u001b[22m\u001b[39mNumber of possible duplicates: 0\n",
      "\u001b[36m\u001b[1m[ \u001b[22m\u001b[39m\u001b[36m\u001b[1mInfo: \u001b[22m\u001b[39mPercentage of duplicates: 0.0%\n",
      "\u001b[36m\u001b[1m[ \u001b[22m\u001b[39m\u001b[36m\u001b[1mInfo: \u001b[22m\u001b[39mWorking on dataset #4\n",
      "\u001b[36m\u001b[1m[ \u001b[22m\u001b[39m\u001b[36m\u001b[1mInfo: \u001b[22m\u001b[39m2105014\n",
      "\u001b[36m\u001b[1m[ \u001b[22m\u001b[39m\u001b[36m\u001b[1mInfo: \u001b[22m\u001b[39mNumber of possible duplicates: 82247\n",
      "\u001b[36m\u001b[1m[ \u001b[22m\u001b[39m\u001b[36m\u001b[1mInfo: \u001b[22m\u001b[39mPercentage of duplicates: 30.1%\n",
      "\u001b[36m\u001b[1m[ \u001b[22m\u001b[39m\u001b[36m\u001b[1mInfo: \u001b[22m\u001b[39mWorking on dataset #5\n",
      "\u001b[36m\u001b[1m[ \u001b[22m\u001b[39m\u001b[36m\u001b[1mInfo: \u001b[22m\u001b[39m2296046\n"
     ]
    },
    {
     "name": "stdout",
     "output_type": "stream",
     "text": [
      " 52.544324 seconds (26.05 M allocations: 19.243 GiB, 7.20% gc time, 0.62% compilation time)\n"
     ]
    },
    {
     "name": "stderr",
     "output_type": "stream",
     "text": [
      "\u001b[36m\u001b[1m[ \u001b[22m\u001b[39m\u001b[36m\u001b[1mInfo: \u001b[22m\u001b[39mNumber of possible duplicates: 0\n",
      "\u001b[36m\u001b[1m[ \u001b[22m\u001b[39m\u001b[36m\u001b[1mInfo: \u001b[22m\u001b[39mPercentage of duplicates: 0.0%\n"
     ]
    }
   ],
   "source": [
    "@time obslon, obslat, obsdepth, obstime, obsval, pct = DIVAndFairEase.merge_datasets2(\n",
    "    lonall,\n",
    "    latall,\n",
    "    depthall,\n",
    "    timesall,\n",
    "    obsall,\n",
    "    Δlon,\n",
    "    Δlat,\n",
    "    Δdepth,\n",
    "    Δtime,\n",
    "    Δvar,\n",
    ");"
   ]
  },
  {
   "cell_type": "code",
   "execution_count": 14,
   "id": "10312923-2f62-4afa-9d22-fe4f49dd9ccb",
   "metadata": {},
   "outputs": [
    {
     "data": {
      "text/plain": [
       "CairoMakie.Screen{IMAGE}\n"
      ]
     },
     "execution_count": 14,
     "metadata": {},
     "output_type": "execute_result"
    }
   ],
   "source": [
    "begin\n",
    "    fig2 = Figure(size = (800, 500))\n",
    "    ga2 = GeoAxis(fig2[1, 1]; dest = \"+proj=merc\", title = \"$(regionname) observations\")\n",
    "\n",
    "    plot!(\n",
    "        ga2,\n",
    "        obslon,\n",
    "        obslat,\n",
    "        color = :orange,\n",
    "        markersize = 5,\n",
    "        label = \"$(length(obslon)) obs.\",\n",
    "    )\n",
    "    lines!(ga2, GeoMakie.coastlines(10), color = :black)\n",
    "    xlims!(ga2, minlon, maxlon)\n",
    "    ylims!(ga2, minlat, maxlat)\n",
    "    fig2[1, 2] = Legend(fig2, ga2, \"Data source\")\n",
    "\n",
    "    figname3 = joinpath(\n",
    "        figdir,\n",
    "        \"$(regionname)_$(replace(varname, \" \"=>\"_\"))_$(Dates.format(datestart, \"yyyymmdd\"))-$(Dates.format(dateend, \"yyyymmdd\"))_$(Int(mindepth))-$(Int(maxdepth))m_dupl.png\",\n",
    "    )\n",
    "    save(figname3, fig2)\n",
    "end"
   ]
  },
  {
   "cell_type": "code",
   "execution_count": 34,
   "id": "5a5a9298-c9c0-4046-b980-e42445a81691",
   "metadata": {},
   "outputs": [
    {
     "data": {
      "text/plain": [
       "3994752-element Vector{String}:\n",
       " \"CMcxBpB4\"\n",
       " \"PWO6PeUl\"\n",
       " \"WRD4q22L\"\n",
       " \"CH0olXOp\"\n",
       " \"xXVBVVwK\"\n",
       " \"PWUwIzWZ\"\n",
       " \"SNc1ARSm\"\n",
       " \"oPm1wo0L\"\n",
       " \"wcUku23s\"\n",
       " \"7mapC4Ay\"\n",
       " \"i8v4naLQ\"\n",
       " \"hngmmmsw\"\n",
       " \"wZj4m9zQ\"\n",
       " ⋮\n",
       " \"YiKNRbLG\"\n",
       " \"EovU9XIs\"\n",
       " \"k4GuXYh1\"\n",
       " \"1tIDsTLr\"\n",
       " \"MDAdQUGv\"\n",
       " \"kNw1XIEB\"\n",
       " \"RBCSt2h2\"\n",
       " \"fb32tTXl\"\n",
       " \"b0BFb2SZ\"\n",
       " \"GwQ8KUxa\"\n",
       " \"10cyy8ja\"\n",
       " \"W1UPWLPb\""
      ]
     },
     "execution_count": 34,
     "metadata": {},
     "output_type": "execute_result"
    }
   ],
   "source": [
    "obsid = [randstring(8) for ii = 1:length(obslon)];"
   ]
  },
  {
   "cell_type": "code",
   "execution_count": 35,
   "id": "fd6839db-7a85-458e-a2a1-774abba38695",
   "metadata": {},
   "outputs": [
    {
     "data": {
      "text/plain": [
       "\"2025-06-02T10:06:00\""
      ]
     },
     "execution_count": 35,
     "metadata": {},
     "output_type": "execute_result"
    }
   ],
   "source": [
    "outputfile = joinpath(outputdir, \"$(regionname)_merged.nc\")\n",
    "isfile(outputfile) ? rm(outputfile) : @debug(\"ok\")\n",
    "DIVAnd.saveobs(outputfile, varname, obsval, (obslon, obslat, obsdepth, obstime), obsid)\n",
    "\n",
    "NCDataset(outputfile, \"a\") do ds\n",
    "    ds.attrib[\"data_source\"] = datasourcelist\n",
    "    ds.attrib[\"date_created\"] = Dates.format(Dates.now(), \"yyyy-mm-ddTHH:MM:SS\")\n",
    "    # Maybe add other attributes\n",
    "end"
   ]
  },
  {
   "cell_type": "markdown",
   "id": "b7f480fa-e4c5-417d-8a2d-ae4fcc756c55",
   "metadata": {},
   "source": [
    "## 3. DIVAnd interpolation"
   ]
  },
  {
   "cell_type": "code",
   "execution_count": 36,
   "id": "79494cec-aea8-4220-ad6c-0164fa3b6a3c",
   "metadata": {},
   "outputs": [
    {
     "name": "stderr",
     "output_type": "stream",
     "text": [
      "\u001b[36m\u001b[1m[ \u001b[22m\u001b[39m\u001b[36m\u001b[1mInfo: \u001b[22m\u001b[39m12 time periods\n"
     ]
    }
   ],
   "source": [
    "regionname = \"North_Adriatic\"\n",
    "dx, dy = 0.05, 0.05\n",
    "lonr = minlon:dx:maxlon\n",
    "latr = minlat:dy:maxlat\n",
    "timerange = [Date(1960, 1, 1), Date(2024, 12, 31)];\n",
    "\n",
    "depthr = [\n",
    "    0.0,\n",
    "    5.0,\n",
    "    10.0,\n",
    "    15.0,\n",
    "    20.0,\n",
    "    25.0,\n",
    "    30.0,\n",
    "    40.0,\n",
    "    50.0,\n",
    "    60,\n",
    "    70,\n",
    "    80,\n",
    "    90,\n",
    "    100,\n",
    "    125,\n",
    "    150,\n",
    "    175,\n",
    "    200,\n",
    "];\n",
    "\n",
    "yearlist = [1960:2024];\n",
    "monthlist = 1:12;\n",
    "\n",
    "TS = DIVAnd.TimeSelectorYearListMonthList(yearlist, monthlist)\n",
    "@info(\"$(length(TS)) time periods\")"
   ]
  },
  {
   "cell_type": "code",
   "execution_count": 37,
   "id": "506b5651-92e4-41f0-9249-77071c291a39",
   "metadata": {},
   "outputs": [
    {
     "name": "stderr",
     "output_type": "stream",
     "text": [
      "\u001b[36m\u001b[1m[ \u001b[22m\u001b[39m\u001b[36m\u001b[1mInfo: \u001b[22m\u001b[39mBathymetry already downloaded\n"
     ]
    },
    {
     "data": {
      "text/plain": [
       "(12.0:0.05:18.0, 43.0:0.05:46.0, Bool[0 0 … 0 0; 0 0 … 0 0; … ; 0 0 … 0 0; 0 0 … 0 0;;; 0 0 … 0 0; 0 0 … 0 0; … ; 0 0 … 0 0; 0 0 … 0 0;;; 0 0 … 0 0; 0 0 … 0 0; … ; 0 0 … 0 0; 0 0 … 0 0;;; … ;;; 0 0 … 0 0; 0 0 … 0 0; … ; 0 0 … 0 0; 0 0 … 0 0;;; 0 0 … 0 0; 0 0 … 0 0; … ; 0 0 … 0 0; 0 0 … 0 0;;; 0 0 … 0 0; 0 0 … 0 0; … ; 0 0 … 0 0; 0 0 … 0 0])"
      ]
     },
     "execution_count": 37,
     "metadata": {},
     "output_type": "execute_result"
    }
   ],
   "source": [
    "begin\n",
    "    datadir = \"../data/\"\n",
    "    bathfile = joinpath(datadir, \"gebco_30sec_4.nc\")\n",
    "    if isfile(bathfile)\n",
    "        @info(\"Bathymetry already downloaded\")\n",
    "    else\n",
    "        Downloads.download(\n",
    "            \"https://dox.uliege.be/index.php/s/RSwm4HPHImdZoQP/download\",\n",
    "            bathfile,\n",
    "        )\n",
    "    end\n",
    "\n",
    "    bx, by, b = load_bath(bathfile, true, lonr, latr)\n",
    "    _, _, mask = load_mask(bathfile, true, lonr, latr, depthr)\n",
    "end"
   ]
  },
  {
   "cell_type": "code",
   "execution_count": 38,
   "id": "e9dc6132-8c0b-4f8d-82f4-381df185ac5d",
   "metadata": {},
   "outputs": [],
   "source": [
    "if doplot\n",
    "    figbathy = GeoMakie.Figure()\n",
    "    ga1 = GeoAxis(figbathy[1, 1]; dest = \"+proj=merc\", title = \"GEBCO bathymetry\")\n",
    "    hm1 = heatmap!(\n",
    "        ga1,\n",
    "        bx,\n",
    "        by,\n",
    "        -b,\n",
    "        interpolate = false,\n",
    "        colorrange = (-400.0, 400),\n",
    "        colormap = :delta,\n",
    "    )\n",
    "    xlims!(ga1, (bx[1], bx[end]))\n",
    "    ylims!(ga1, (by[1], by[end]))\n",
    "    contour!(ga1, bx, by, b, levels = [0.0], color = :black)\n",
    "    Colorbar(figbathy[2, 1], hm1, vertical = false, label = \"(m)\")\n",
    "    figbathy\n",
    "end"
   ]
  },
  {
   "cell_type": "code",
   "execution_count": 39,
   "id": "7b70674f-8ece-46dd-aa44-01f74ed7e261",
   "metadata": {},
   "outputs": [
    {
     "data": {
      "text/plain": [
       "plot_mask"
      ]
     },
     "execution_count": 39,
     "metadata": {},
     "output_type": "execute_result"
    }
   ],
   "source": [
    "\"\"\"\n",
    "\tplot_mask(mask, depth)\n",
    "\n",
    "Plot the land-sea mask at the selected depth\n",
    "\"\"\"\n",
    "function plot_mask(mask, depth)\n",
    "    NN = 1\n",
    "    fig = GeoMakie.Figure()\n",
    "    figtitle = \"Land-sea mask at depth $(depth) m\"\n",
    "    ga = GeoAxis(fig[1, 1]; dest = \"+proj=merc\", title = figtitle)\n",
    "    hm = GeoMakie.heatmap!(ga, bx, by, mask, colormap = Reverse(:binary))\n",
    "    GeoMakie.xlims!(ga, (bx[1], bx[end]))\n",
    "    GeoMakie.ylims!(ga, (by[1], by[end]))\n",
    "    return fig, ga\n",
    "end"
   ]
  },
  {
   "cell_type": "code",
   "execution_count": 40,
   "id": "18e97521-ccc4-48a4-a19a-c1dbfcee2581",
   "metadata": {},
   "outputs": [],
   "source": [
    "if doplot\n",
    "    fig, ga = plot_mask(mask[:, :, 1], depthr[1])\n",
    "    fig\n",
    "end"
   ]
  },
  {
   "cell_type": "code",
   "execution_count": 41,
   "id": "0b14c296-1abe-41a8-b0e1-614f4dbbf6a0",
   "metadata": {},
   "outputs": [],
   "source": [
    "label = DIVAnd.floodfill(mask)\n",
    "\n",
    "if doplot\n",
    "\n",
    "    fig2 = Figure()\n",
    "    ga2 = GeoAxis(fig2[1, 1]; dest = \"+proj=merc\", title = \"Flood fill\")\n",
    "    hm2 = heatmap!(ga2, bx, by, label[:, :, 1], interpolate = false)\n",
    "    xlims!(ga2, (bx[1], bx[end]))\n",
    "    ylims!(ga2, (by[1], by[end]))\n",
    "    Colorbar(fig2[2, 1], hm2, vertical = false)\n",
    "    fig2\n",
    "end"
   ]
  },
  {
   "cell_type": "code",
   "execution_count": 42,
   "id": "c06920bb-624b-459d-b390-1a5c16f4e42f",
   "metadata": {},
   "outputs": [],
   "source": [
    "maskfilled = label .== 1\n",
    "if doplot\n",
    "    fig, ga = plot_mask(maskfilled[:, :, 1], depthr[1])\n",
    "    fig\n",
    "end"
   ]
  },
  {
   "cell_type": "code",
   "execution_count": 43,
   "id": "4f3d438e-073a-418d-bce6-29b710ba6eb2",
   "metadata": {},
   "outputs": [],
   "source": [
    "obsval, obslon, obslat, obsdepth, obstime, obsid = loadobs(Float64, outputfile, varname);"
   ]
  },
  {
   "cell_type": "code",
   "execution_count": 44,
   "id": "278c2090-16e9-4058-a708-cb6a3849eb6a",
   "metadata": {},
   "outputs": [],
   "source": [
    "if doplot\n",
    "    fig5, ga5 = plot_mask(maskfilled[:, :, 1], depthr[1])\n",
    "    ga5.title = \"Observations and land-sea mask\"\n",
    "    plot!(ga5, obslon, obslat, markersize = 2, color = :orange)\n",
    "    fig5\n",
    "end"
   ]
  },
  {
   "cell_type": "code",
   "execution_count": 45,
   "id": "d344c56d-75ed-49b8-8bc6-0b7494c3bb8a",
   "metadata": {},
   "outputs": [],
   "source": [
    "# @time rdiag=1.0./DIVAnd.weight_RtimesOne((obslon,obslat),(0.03,0.03));\n",
    "# @show maximum(rdiag),mean(rdiag)"
   ]
  },
  {
   "cell_type": "code",
   "execution_count": 47,
   "id": "267586a5-448b-42d5-8682-65c3d566ed1c",
   "metadata": {},
   "outputs": [
    {
     "data": {
      "text/plain": [
       "0.1"
      ]
     },
     "execution_count": 47,
     "metadata": {},
     "output_type": "execute_result"
    }
   ],
   "source": [
    "begin\n",
    "    sz = (length(lonr), length(latr), length(depthr))\n",
    "    lenx = fill(100_000.0, sz)   # 100 km\n",
    "    leny = fill(100_000.0, sz)   # 100 km\n",
    "    lenz = fill(25.0, sz)      # 25 m \n",
    "    len = (lenx, leny, lenz)\n",
    "    epsilon2 = 0.1\n",
    "    # epsilon2 = epsilon2 * rdiag;\n",
    "end"
   ]
  },
  {
   "cell_type": "code",
   "execution_count": 48,
   "id": "7631915f-b7b0-4087-9a36-8f6ccd2dc4a0",
   "metadata": {},
   "outputs": [
    {
     "data": {
      "text/plain": [
       "OrderedDict{String, Any} with 19 entries:\n",
       "  \"project\"               => \"FAIR-EASE\"\n",
       "  \"institution_urn\"       => \"SDN:EDMO::1579\"\n",
       "  \"production\"            => \"GHER, ULiège\"\n",
       "  \"Author_e-mail\"         => [\"Charles Troupin <ctroupin@uliege.be\"]\n",
       "  \"source\"                => \"observational data from SeaDataNet and World Ocea…\n",
       "  \"comment\"               => \"Duplicate removal applied to the merged dataset\"\n",
       "  \"parameter_keyword_urn\" => \"SDN:P35::EPC00001\"\n",
       "  \"search_keywords_urn\"   => [\"SDN:P02::PSAL\"]\n",
       "  \"area_keywords_urn\"     => [\"SDN:C19::3_3\"]\n",
       "  \"product_version\"       => \"1.0\"\n",
       "  \"product_code\"          => \"something-to-decide\"\n",
       "  \"bathymetry_source\"     => \"The GEBCO Digital Atlas published by the British …\n",
       "  \"netcdf_standard_name\"  => \"sea_water_temperature\"\n",
       "  \"netcdf_long_name\"      => \"sea water temperature\"\n",
       "  \"netcdf_units\"          => \"1e-3\"\n",
       "  \"abstract\"              => \"...\"\n",
       "  \"acknowledgement\"       => \"...\"\n",
       "  \"documentation\"         => \"https://doi.org/doi_of_doc\"\n",
       "  \"doi\"                   => \"...\""
      ]
     },
     "execution_count": 48,
     "metadata": {},
     "output_type": "execute_result"
    }
   ],
   "source": [
    "begin\n",
    "    metadata = OrderedDict(\n",
    "        # Name of the project (SeaDataCloud, SeaDataNet, EMODNET-chemistry, ...)\n",
    "        \"project\" => \"FAIR-EASE\",\n",
    "\n",
    "        # URN code for the institution EDMO registry,\n",
    "        # e.g. SDN:EDMO::1579\n",
    "        \"institution_urn\" => \"SDN:EDMO::1579\",\n",
    "\n",
    "        # Production group\n",
    "        \"production\" => \"GHER, ULiège\",\n",
    "\n",
    "        # Name and emails from authors\n",
    "        \"Author_e-mail\" => [\"Charles Troupin <ctroupin@uliege.be\"],\n",
    "\n",
    "        # Source of the observation\n",
    "        \"source\" => \"observational data from SeaDataNet and World Ocean Atlas\",\n",
    "\n",
    "        # Additional comment\n",
    "        \"comment\" => \"Duplicate removal applied to the merged dataset\",\n",
    "\n",
    "        # SeaDataNet Vocabulary P35 URN\n",
    "        # http://seadatanet.maris2.nl/v_bodc_vocab_v2/search.asp?lib=p35\n",
    "        # example: SDN:P35::WATERTEMP\n",
    "        \"parameter_keyword_urn\" => \"SDN:P35::EPC00001\",\n",
    "\n",
    "        # List of SeaDataNet Parameter Discovery Vocabulary P02 URNs\n",
    "        # http://seadatanet.maris2.nl/v_bodc_vocab_v2/search.asp?lib=p02\n",
    "        # example: [\"SDN:P02::TEMP\"]\n",
    "        \"search_keywords_urn\" => [\"SDN:P02::PSAL\"],\n",
    "\n",
    "        # List of SeaDataNet Vocabulary C19 area URNs\n",
    "        # SeaVoX salt and fresh water body gazetteer (C19)\n",
    "        # http://seadatanet.maris2.nl/v_bodc_vocab_v2/search.asp?lib=C19\n",
    "        # example: [\"SDN:C19::3_1\"]\n",
    "        \"area_keywords_urn\" => [\"SDN:C19::3_3\"],\n",
    "        \"product_version\" => \"1.0\",\n",
    "        \"product_code\" => \"something-to-decide\",\n",
    "\n",
    "        # bathymetry source acknowledgement\n",
    "        # see, e.g.\n",
    "        # * EMODnet Bathymetry Consortium (2016): EMODnet Digital Bathymetry (DTM).\n",
    "        # https://doi.org/10.12770/c7b53704-999d-4721-b1a3-04ec60c87238\n",
    "        # \n",
    "        # taken from\n",
    "        # http://www.emodnet-bathymetry.eu/data-products/acknowledgement-in-publications\n",
    "        #\n",
    "        # * The GEBCO Digital Atlas published by the British Oceanographic Data Centre on behalf of IOC and IHO, 2003\n",
    "        #\n",
    "        # taken from\n",
    "        # https://www.bodc.ac.uk/projects/data_management/international/gebco/gebco_digital_atlas/copyright_and_attribution/\n",
    "\n",
    "        \"bathymetry_source\" => \"The GEBCO Digital Atlas published by the British Oceanographic Data Centre on behalf of IOC and IHO, 2003\",\n",
    "\n",
    "        # NetCDF CF standard name\n",
    "        # http://cfconventions.org/Data/cf-standard-names/current/build/cf-standard-name-table.html\n",
    "        # example \"standard_name\" = \"sea_water_temperature\",\n",
    "        \"netcdf_standard_name\" => \"sea_water_temperature\",\n",
    "        \"netcdf_long_name\" => \"sea water temperature\",\n",
    "        \"netcdf_units\" => \"1e-3\",\n",
    "\n",
    "        # Abstract for the product\n",
    "        \"abstract\" => \"...\",\n",
    "\n",
    "        # This option provides a place to acknowledge various types of support for the\n",
    "        # project that produced the data\n",
    "        \"acknowledgement\" => \"...\",\n",
    "        \"documentation\" => \"https://doi.org/doi_of_doc\",\n",
    "\n",
    "        # Digital Object Identifier of the data product\n",
    "        \"doi\" => \"...\",\n",
    "    )\n",
    "end"
   ]
  },
  {
   "cell_type": "code",
   "execution_count": 49,
   "id": "39908102-2239-497c-8d5e-531a4db5edf1",
   "metadata": {},
   "outputs": [
    {
     "name": "stderr",
     "output_type": "stream",
     "text": [
      "\u001b[36m\u001b[1m[ \u001b[22m\u001b[39m\u001b[36m\u001b[1mInfo: \u001b[22m\u001b[39mCreating netCDF file ../output/AdriaticV1.nc\n",
      "\u001b[36m\u001b[1m[ \u001b[22m\u001b[39m\u001b[36m\u001b[1mInfo: \u001b[22m\u001b[39mTime step 1 / 12\n",
      "\u001b[36m\u001b[1m[ \u001b[22m\u001b[39m\u001b[36m\u001b[1mInfo: \u001b[22m\u001b[39mscaled correlation length (min,max) in dimension 1: (100000.0, 100000.0)\n",
      "\u001b[36m\u001b[1m[ \u001b[22m\u001b[39m\u001b[36m\u001b[1mInfo: \u001b[22m\u001b[39mscaled correlation length (min,max) in dimension 2: (100000.0, 100000.0)\n",
      "\u001b[36m\u001b[1m[ \u001b[22m\u001b[39m\u001b[36m\u001b[1mInfo: \u001b[22m\u001b[39mscaled correlation length (min,max) in dimension 3: (25.0, 25.0)\n",
      "\u001b[33m\u001b[1m┌ \u001b[22m\u001b[39m\u001b[33m\u001b[1mWarning: \u001b[22m\u001b[39mresolution (17.5) is too coarse for correlation length 25.0 in dimension 3 at indices CartesianIndex(49, 1, 15) (skipping further tests). It is recommended that the resolution is at least 2 times finer than the correlation length.\n",
      "\u001b[33m\u001b[1m└ \u001b[22m\u001b[39m\u001b[90m@ DIVAnd ~/.julia/packages/DIVAnd/4UymR/src/utils.jl:18\u001b[39m\n",
      "\u001b[36m\u001b[1m[ \u001b[22m\u001b[39m\u001b[36m\u001b[1mInfo: \u001b[22m\u001b[39mnumber of windows: 8\n",
      "\u001b[33m\u001b[1m┌ \u001b[22m\u001b[39m\u001b[33m\u001b[1mWarning: \u001b[22m\u001b[39mresolution (17.5) is too coarse for correlation length 25.0 in dimension 3 at indices CartesianIndex(49, 1, 15) (skipping further tests). It is recommended that the resolution is at least 2 times finer than the correlation length.\n",
      "\u001b[33m\u001b[1m└ \u001b[22m\u001b[39m\u001b[90m@ DIVAnd ~/.julia/packages/DIVAnd/4UymR/src/utils.jl:18\u001b[39m\n",
      "\u001b[36m\u001b[1m[ \u001b[22m\u001b[39m\u001b[36m\u001b[1mInfo: \u001b[22m\u001b[39mnumber of windows: 8\n",
      "\u001b[36m\u001b[1m[ \u001b[22m\u001b[39m\u001b[36m\u001b[1mInfo: \u001b[22m\u001b[39mTime step 2 / 12\n",
      "\u001b[36m\u001b[1m[ \u001b[22m\u001b[39m\u001b[36m\u001b[1mInfo: \u001b[22m\u001b[39mscaled correlation length (min,max) in dimension 1: (100000.0, 100000.0)\n",
      "\u001b[36m\u001b[1m[ \u001b[22m\u001b[39m\u001b[36m\u001b[1mInfo: \u001b[22m\u001b[39mscaled correlation length (min,max) in dimension 2: (100000.0, 100000.0)\n",
      "\u001b[36m\u001b[1m[ \u001b[22m\u001b[39m\u001b[36m\u001b[1mInfo: \u001b[22m\u001b[39mscaled correlation length (min,max) in dimension 3: (25.0, 25.0)\n",
      "\u001b[33m\u001b[1m┌ \u001b[22m\u001b[39m\u001b[33m\u001b[1mWarning: \u001b[22m\u001b[39mresolution (17.5) is too coarse for correlation length 25.0 in dimension 3 at indices CartesianIndex(49, 1, 15) (skipping further tests). It is recommended that the resolution is at least 2 times finer than the correlation length.\n",
      "\u001b[33m\u001b[1m└ \u001b[22m\u001b[39m\u001b[90m@ DIVAnd ~/.julia/packages/DIVAnd/4UymR/src/utils.jl:18\u001b[39m\n",
      "\u001b[36m\u001b[1m[ \u001b[22m\u001b[39m\u001b[36m\u001b[1mInfo: \u001b[22m\u001b[39mnumber of windows: 8\n",
      "\u001b[33m\u001b[1m┌ \u001b[22m\u001b[39m\u001b[33m\u001b[1mWarning: \u001b[22m\u001b[39mresolution (17.5) is too coarse for correlation length 25.0 in dimension 3 at indices CartesianIndex(49, 1, 15) (skipping further tests). It is recommended that the resolution is at least 2 times finer than the correlation length.\n",
      "\u001b[33m\u001b[1m└ \u001b[22m\u001b[39m\u001b[90m@ DIVAnd ~/.julia/packages/DIVAnd/4UymR/src/utils.jl:18\u001b[39m\n",
      "\u001b[36m\u001b[1m[ \u001b[22m\u001b[39m\u001b[36m\u001b[1mInfo: \u001b[22m\u001b[39mnumber of windows: 8\n",
      "\u001b[36m\u001b[1m[ \u001b[22m\u001b[39m\u001b[36m\u001b[1mInfo: \u001b[22m\u001b[39mTime step 3 / 12\n",
      "\u001b[36m\u001b[1m[ \u001b[22m\u001b[39m\u001b[36m\u001b[1mInfo: \u001b[22m\u001b[39mscaled correlation length (min,max) in dimension 1: (100000.0, 100000.0)\n",
      "\u001b[36m\u001b[1m[ \u001b[22m\u001b[39m\u001b[36m\u001b[1mInfo: \u001b[22m\u001b[39mscaled correlation length (min,max) in dimension 2: (100000.0, 100000.0)\n",
      "\u001b[36m\u001b[1m[ \u001b[22m\u001b[39m\u001b[36m\u001b[1mInfo: \u001b[22m\u001b[39mscaled correlation length (min,max) in dimension 3: (25.0, 25.0)\n",
      "\u001b[33m\u001b[1m┌ \u001b[22m\u001b[39m\u001b[33m\u001b[1mWarning: \u001b[22m\u001b[39mresolution (17.5) is too coarse for correlation length 25.0 in dimension 3 at indices CartesianIndex(49, 1, 15) (skipping further tests). It is recommended that the resolution is at least 2 times finer than the correlation length.\n",
      "\u001b[33m\u001b[1m└ \u001b[22m\u001b[39m\u001b[90m@ DIVAnd ~/.julia/packages/DIVAnd/4UymR/src/utils.jl:18\u001b[39m\n",
      "\u001b[36m\u001b[1m[ \u001b[22m\u001b[39m\u001b[36m\u001b[1mInfo: \u001b[22m\u001b[39mnumber of windows: 8\n",
      "\u001b[33m\u001b[1m┌ \u001b[22m\u001b[39m\u001b[33m\u001b[1mWarning: \u001b[22m\u001b[39mresolution (17.5) is too coarse for correlation length 25.0 in dimension 3 at indices CartesianIndex(49, 1, 15) (skipping further tests). It is recommended that the resolution is at least 2 times finer than the correlation length.\n",
      "\u001b[33m\u001b[1m└ \u001b[22m\u001b[39m\u001b[90m@ DIVAnd ~/.julia/packages/DIVAnd/4UymR/src/utils.jl:18\u001b[39m\n",
      "\u001b[36m\u001b[1m[ \u001b[22m\u001b[39m\u001b[36m\u001b[1mInfo: \u001b[22m\u001b[39mnumber of windows: 8\n",
      "\u001b[36m\u001b[1m[ \u001b[22m\u001b[39m\u001b[36m\u001b[1mInfo: \u001b[22m\u001b[39mTime step 4 / 12\n",
      "\u001b[36m\u001b[1m[ \u001b[22m\u001b[39m\u001b[36m\u001b[1mInfo: \u001b[22m\u001b[39mscaled correlation length (min,max) in dimension 1: (100000.0, 100000.0)\n",
      "\u001b[36m\u001b[1m[ \u001b[22m\u001b[39m\u001b[36m\u001b[1mInfo: \u001b[22m\u001b[39mscaled correlation length (min,max) in dimension 2: (100000.0, 100000.0)\n",
      "\u001b[36m\u001b[1m[ \u001b[22m\u001b[39m\u001b[36m\u001b[1mInfo: \u001b[22m\u001b[39mscaled correlation length (min,max) in dimension 3: (25.0, 25.0)\n",
      "\u001b[33m\u001b[1m┌ \u001b[22m\u001b[39m\u001b[33m\u001b[1mWarning: \u001b[22m\u001b[39mresolution (17.5) is too coarse for correlation length 25.0 in dimension 3 at indices CartesianIndex(49, 1, 15) (skipping further tests). It is recommended that the resolution is at least 2 times finer than the correlation length.\n",
      "\u001b[33m\u001b[1m└ \u001b[22m\u001b[39m\u001b[90m@ DIVAnd ~/.julia/packages/DIVAnd/4UymR/src/utils.jl:18\u001b[39m\n",
      "\u001b[36m\u001b[1m[ \u001b[22m\u001b[39m\u001b[36m\u001b[1mInfo: \u001b[22m\u001b[39mnumber of windows: 8\n",
      "\u001b[33m\u001b[1m┌ \u001b[22m\u001b[39m\u001b[33m\u001b[1mWarning: \u001b[22m\u001b[39mresolution (17.5) is too coarse for correlation length 25.0 in dimension 3 at indices CartesianIndex(49, 1, 15) (skipping further tests). It is recommended that the resolution is at least 2 times finer than the correlation length.\n",
      "\u001b[33m\u001b[1m└ \u001b[22m\u001b[39m\u001b[90m@ DIVAnd ~/.julia/packages/DIVAnd/4UymR/src/utils.jl:18\u001b[39m\n",
      "\u001b[36m\u001b[1m[ \u001b[22m\u001b[39m\u001b[36m\u001b[1mInfo: \u001b[22m\u001b[39mnumber of windows: 8\n",
      "\u001b[36m\u001b[1m[ \u001b[22m\u001b[39m\u001b[36m\u001b[1mInfo: \u001b[22m\u001b[39mTime step 5 / 12\n",
      "\u001b[36m\u001b[1m[ \u001b[22m\u001b[39m\u001b[36m\u001b[1mInfo: \u001b[22m\u001b[39mscaled correlation length (min,max) in dimension 1: (100000.0, 100000.0)\n",
      "\u001b[36m\u001b[1m[ \u001b[22m\u001b[39m\u001b[36m\u001b[1mInfo: \u001b[22m\u001b[39mscaled correlation length (min,max) in dimension 2: (100000.0, 100000.0)\n",
      "\u001b[36m\u001b[1m[ \u001b[22m\u001b[39m\u001b[36m\u001b[1mInfo: \u001b[22m\u001b[39mscaled correlation length (min,max) in dimension 3: (25.0, 25.0)\n",
      "\u001b[33m\u001b[1m┌ \u001b[22m\u001b[39m\u001b[33m\u001b[1mWarning: \u001b[22m\u001b[39mresolution (17.5) is too coarse for correlation length 25.0 in dimension 3 at indices CartesianIndex(49, 1, 15) (skipping further tests). It is recommended that the resolution is at least 2 times finer than the correlation length.\n",
      "\u001b[33m\u001b[1m└ \u001b[22m\u001b[39m\u001b[90m@ DIVAnd ~/.julia/packages/DIVAnd/4UymR/src/utils.jl:18\u001b[39m\n",
      "\u001b[36m\u001b[1m[ \u001b[22m\u001b[39m\u001b[36m\u001b[1mInfo: \u001b[22m\u001b[39mnumber of windows: 8\n",
      "\u001b[33m\u001b[1m┌ \u001b[22m\u001b[39m\u001b[33m\u001b[1mWarning: \u001b[22m\u001b[39mresolution (17.5) is too coarse for correlation length 25.0 in dimension 3 at indices CartesianIndex(49, 1, 15) (skipping further tests). It is recommended that the resolution is at least 2 times finer than the correlation length.\n",
      "\u001b[33m\u001b[1m└ \u001b[22m\u001b[39m\u001b[90m@ DIVAnd ~/.julia/packages/DIVAnd/4UymR/src/utils.jl:18\u001b[39m\n",
      "\u001b[36m\u001b[1m[ \u001b[22m\u001b[39m\u001b[36m\u001b[1mInfo: \u001b[22m\u001b[39mnumber of windows: 8\n",
      "\u001b[36m\u001b[1m[ \u001b[22m\u001b[39m\u001b[36m\u001b[1mInfo: \u001b[22m\u001b[39mTime step 6 / 12\n",
      "\u001b[36m\u001b[1m[ \u001b[22m\u001b[39m\u001b[36m\u001b[1mInfo: \u001b[22m\u001b[39mscaled correlation length (min,max) in dimension 1: (100000.0, 100000.0)\n",
      "\u001b[36m\u001b[1m[ \u001b[22m\u001b[39m\u001b[36m\u001b[1mInfo: \u001b[22m\u001b[39mscaled correlation length (min,max) in dimension 2: (100000.0, 100000.0)\n",
      "\u001b[36m\u001b[1m[ \u001b[22m\u001b[39m\u001b[36m\u001b[1mInfo: \u001b[22m\u001b[39mscaled correlation length (min,max) in dimension 3: (25.0, 25.0)\n",
      "\u001b[33m\u001b[1m┌ \u001b[22m\u001b[39m\u001b[33m\u001b[1mWarning: \u001b[22m\u001b[39mresolution (17.5) is too coarse for correlation length 25.0 in dimension 3 at indices CartesianIndex(49, 1, 15) (skipping further tests). It is recommended that the resolution is at least 2 times finer than the correlation length.\n",
      "\u001b[33m\u001b[1m└ \u001b[22m\u001b[39m\u001b[90m@ DIVAnd ~/.julia/packages/DIVAnd/4UymR/src/utils.jl:18\u001b[39m\n",
      "\u001b[36m\u001b[1m[ \u001b[22m\u001b[39m\u001b[36m\u001b[1mInfo: \u001b[22m\u001b[39mnumber of windows: 8\n",
      "\u001b[33m\u001b[1m┌ \u001b[22m\u001b[39m\u001b[33m\u001b[1mWarning: \u001b[22m\u001b[39mresolution (17.5) is too coarse for correlation length 25.0 in dimension 3 at indices CartesianIndex(49, 1, 15) (skipping further tests). It is recommended that the resolution is at least 2 times finer than the correlation length.\n",
      "\u001b[33m\u001b[1m└ \u001b[22m\u001b[39m\u001b[90m@ DIVAnd ~/.julia/packages/DIVAnd/4UymR/src/utils.jl:18\u001b[39m\n",
      "\u001b[36m\u001b[1m[ \u001b[22m\u001b[39m\u001b[36m\u001b[1mInfo: \u001b[22m\u001b[39mnumber of windows: 8\n",
      "\u001b[36m\u001b[1m[ \u001b[22m\u001b[39m\u001b[36m\u001b[1mInfo: \u001b[22m\u001b[39mTime step 7 / 12\n",
      "\u001b[36m\u001b[1m[ \u001b[22m\u001b[39m\u001b[36m\u001b[1mInfo: \u001b[22m\u001b[39mscaled correlation length (min,max) in dimension 1: (100000.0, 100000.0)\n",
      "\u001b[36m\u001b[1m[ \u001b[22m\u001b[39m\u001b[36m\u001b[1mInfo: \u001b[22m\u001b[39mscaled correlation length (min,max) in dimension 2: (100000.0, 100000.0)\n",
      "\u001b[36m\u001b[1m[ \u001b[22m\u001b[39m\u001b[36m\u001b[1mInfo: \u001b[22m\u001b[39mscaled correlation length (min,max) in dimension 3: (25.0, 25.0)\n",
      "\u001b[33m\u001b[1m┌ \u001b[22m\u001b[39m\u001b[33m\u001b[1mWarning: \u001b[22m\u001b[39mresolution (17.5) is too coarse for correlation length 25.0 in dimension 3 at indices CartesianIndex(49, 1, 15) (skipping further tests). It is recommended that the resolution is at least 2 times finer than the correlation length.\n",
      "\u001b[33m\u001b[1m└ \u001b[22m\u001b[39m\u001b[90m@ DIVAnd ~/.julia/packages/DIVAnd/4UymR/src/utils.jl:18\u001b[39m\n",
      "\u001b[36m\u001b[1m[ \u001b[22m\u001b[39m\u001b[36m\u001b[1mInfo: \u001b[22m\u001b[39mnumber of windows: 8\n",
      "\u001b[33m\u001b[1m┌ \u001b[22m\u001b[39m\u001b[33m\u001b[1mWarning: \u001b[22m\u001b[39mresolution (17.5) is too coarse for correlation length 25.0 in dimension 3 at indices CartesianIndex(49, 1, 15) (skipping further tests). It is recommended that the resolution is at least 2 times finer than the correlation length.\n",
      "\u001b[33m\u001b[1m└ \u001b[22m\u001b[39m\u001b[90m@ DIVAnd ~/.julia/packages/DIVAnd/4UymR/src/utils.jl:18\u001b[39m\n",
      "\u001b[36m\u001b[1m[ \u001b[22m\u001b[39m\u001b[36m\u001b[1mInfo: \u001b[22m\u001b[39mnumber of windows: 8\n",
      "\u001b[36m\u001b[1m[ \u001b[22m\u001b[39m\u001b[36m\u001b[1mInfo: \u001b[22m\u001b[39mTime step 8 / 12\n",
      "\u001b[36m\u001b[1m[ \u001b[22m\u001b[39m\u001b[36m\u001b[1mInfo: \u001b[22m\u001b[39mscaled correlation length (min,max) in dimension 1: (100000.0, 100000.0)\n",
      "\u001b[36m\u001b[1m[ \u001b[22m\u001b[39m\u001b[36m\u001b[1mInfo: \u001b[22m\u001b[39mscaled correlation length (min,max) in dimension 2: (100000.0, 100000.0)\n",
      "\u001b[36m\u001b[1m[ \u001b[22m\u001b[39m\u001b[36m\u001b[1mInfo: \u001b[22m\u001b[39mscaled correlation length (min,max) in dimension 3: (25.0, 25.0)\n",
      "\u001b[33m\u001b[1m┌ \u001b[22m\u001b[39m\u001b[33m\u001b[1mWarning: \u001b[22m\u001b[39mresolution (17.5) is too coarse for correlation length 25.0 in dimension 3 at indices CartesianIndex(49, 1, 15) (skipping further tests). It is recommended that the resolution is at least 2 times finer than the correlation length.\n",
      "\u001b[33m\u001b[1m└ \u001b[22m\u001b[39m\u001b[90m@ DIVAnd ~/.julia/packages/DIVAnd/4UymR/src/utils.jl:18\u001b[39m\n",
      "\u001b[36m\u001b[1m[ \u001b[22m\u001b[39m\u001b[36m\u001b[1mInfo: \u001b[22m\u001b[39mnumber of windows: 8\n",
      "\u001b[33m\u001b[1m┌ \u001b[22m\u001b[39m\u001b[33m\u001b[1mWarning: \u001b[22m\u001b[39mresolution (17.5) is too coarse for correlation length 25.0 in dimension 3 at indices CartesianIndex(49, 1, 15) (skipping further tests). It is recommended that the resolution is at least 2 times finer than the correlation length.\n",
      "\u001b[33m\u001b[1m└ \u001b[22m\u001b[39m\u001b[90m@ DIVAnd ~/.julia/packages/DIVAnd/4UymR/src/utils.jl:18\u001b[39m\n",
      "\u001b[36m\u001b[1m[ \u001b[22m\u001b[39m\u001b[36m\u001b[1mInfo: \u001b[22m\u001b[39mnumber of windows: 8\n",
      "\u001b[36m\u001b[1m[ \u001b[22m\u001b[39m\u001b[36m\u001b[1mInfo: \u001b[22m\u001b[39mTime step 9 / 12\n",
      "\u001b[36m\u001b[1m[ \u001b[22m\u001b[39m\u001b[36m\u001b[1mInfo: \u001b[22m\u001b[39mscaled correlation length (min,max) in dimension 1: (100000.0, 100000.0)\n",
      "\u001b[36m\u001b[1m[ \u001b[22m\u001b[39m\u001b[36m\u001b[1mInfo: \u001b[22m\u001b[39mscaled correlation length (min,max) in dimension 2: (100000.0, 100000.0)\n",
      "\u001b[36m\u001b[1m[ \u001b[22m\u001b[39m\u001b[36m\u001b[1mInfo: \u001b[22m\u001b[39mscaled correlation length (min,max) in dimension 3: (25.0, 25.0)\n",
      "\u001b[33m\u001b[1m┌ \u001b[22m\u001b[39m\u001b[33m\u001b[1mWarning: \u001b[22m\u001b[39mresolution (17.5) is too coarse for correlation length 25.0 in dimension 3 at indices CartesianIndex(49, 1, 15) (skipping further tests). It is recommended that the resolution is at least 2 times finer than the correlation length.\n",
      "\u001b[33m\u001b[1m└ \u001b[22m\u001b[39m\u001b[90m@ DIVAnd ~/.julia/packages/DIVAnd/4UymR/src/utils.jl:18\u001b[39m\n",
      "\u001b[36m\u001b[1m[ \u001b[22m\u001b[39m\u001b[36m\u001b[1mInfo: \u001b[22m\u001b[39mnumber of windows: 8\n",
      "\u001b[33m\u001b[1m┌ \u001b[22m\u001b[39m\u001b[33m\u001b[1mWarning: \u001b[22m\u001b[39mresolution (17.5) is too coarse for correlation length 25.0 in dimension 3 at indices CartesianIndex(49, 1, 15) (skipping further tests). It is recommended that the resolution is at least 2 times finer than the correlation length.\n",
      "\u001b[33m\u001b[1m└ \u001b[22m\u001b[39m\u001b[90m@ DIVAnd ~/.julia/packages/DIVAnd/4UymR/src/utils.jl:18\u001b[39m\n",
      "\u001b[36m\u001b[1m[ \u001b[22m\u001b[39m\u001b[36m\u001b[1mInfo: \u001b[22m\u001b[39mnumber of windows: 8\n",
      "\u001b[36m\u001b[1m[ \u001b[22m\u001b[39m\u001b[36m\u001b[1mInfo: \u001b[22m\u001b[39mTime step 10 / 12\n",
      "\u001b[36m\u001b[1m[ \u001b[22m\u001b[39m\u001b[36m\u001b[1mInfo: \u001b[22m\u001b[39mscaled correlation length (min,max) in dimension 1: (100000.0, 100000.0)\n",
      "\u001b[36m\u001b[1m[ \u001b[22m\u001b[39m\u001b[36m\u001b[1mInfo: \u001b[22m\u001b[39mscaled correlation length (min,max) in dimension 2: (100000.0, 100000.0)\n",
      "\u001b[36m\u001b[1m[ \u001b[22m\u001b[39m\u001b[36m\u001b[1mInfo: \u001b[22m\u001b[39mscaled correlation length (min,max) in dimension 3: (25.0, 25.0)\n",
      "\u001b[33m\u001b[1m┌ \u001b[22m\u001b[39m\u001b[33m\u001b[1mWarning: \u001b[22m\u001b[39mresolution (17.5) is too coarse for correlation length 25.0 in dimension 3 at indices CartesianIndex(49, 1, 15) (skipping further tests). It is recommended that the resolution is at least 2 times finer than the correlation length.\n",
      "\u001b[33m\u001b[1m└ \u001b[22m\u001b[39m\u001b[90m@ DIVAnd ~/.julia/packages/DIVAnd/4UymR/src/utils.jl:18\u001b[39m\n",
      "\u001b[36m\u001b[1m[ \u001b[22m\u001b[39m\u001b[36m\u001b[1mInfo: \u001b[22m\u001b[39mnumber of windows: 8\n",
      "\u001b[33m\u001b[1m┌ \u001b[22m\u001b[39m\u001b[33m\u001b[1mWarning: \u001b[22m\u001b[39mresolution (17.5) is too coarse for correlation length 25.0 in dimension 3 at indices CartesianIndex(49, 1, 15) (skipping further tests). It is recommended that the resolution is at least 2 times finer than the correlation length.\n",
      "\u001b[33m\u001b[1m└ \u001b[22m\u001b[39m\u001b[90m@ DIVAnd ~/.julia/packages/DIVAnd/4UymR/src/utils.jl:18\u001b[39m\n",
      "\u001b[36m\u001b[1m[ \u001b[22m\u001b[39m\u001b[36m\u001b[1mInfo: \u001b[22m\u001b[39mnumber of windows: 8\n",
      "\u001b[36m\u001b[1m[ \u001b[22m\u001b[39m\u001b[36m\u001b[1mInfo: \u001b[22m\u001b[39mTime step 11 / 12\n",
      "\u001b[36m\u001b[1m[ \u001b[22m\u001b[39m\u001b[36m\u001b[1mInfo: \u001b[22m\u001b[39mscaled correlation length (min,max) in dimension 1: (100000.0, 100000.0)\n",
      "\u001b[36m\u001b[1m[ \u001b[22m\u001b[39m\u001b[36m\u001b[1mInfo: \u001b[22m\u001b[39mscaled correlation length (min,max) in dimension 2: (100000.0, 100000.0)\n",
      "\u001b[36m\u001b[1m[ \u001b[22m\u001b[39m\u001b[36m\u001b[1mInfo: \u001b[22m\u001b[39mscaled correlation length (min,max) in dimension 3: (25.0, 25.0)\n",
      "\u001b[33m\u001b[1m┌ \u001b[22m\u001b[39m\u001b[33m\u001b[1mWarning: \u001b[22m\u001b[39mresolution (17.5) is too coarse for correlation length 25.0 in dimension 3 at indices CartesianIndex(49, 1, 15) (skipping further tests). It is recommended that the resolution is at least 2 times finer than the correlation length.\n",
      "\u001b[33m\u001b[1m└ \u001b[22m\u001b[39m\u001b[90m@ DIVAnd ~/.julia/packages/DIVAnd/4UymR/src/utils.jl:18\u001b[39m\n",
      "\u001b[36m\u001b[1m[ \u001b[22m\u001b[39m\u001b[36m\u001b[1mInfo: \u001b[22m\u001b[39mnumber of windows: 8\n",
      "\u001b[33m\u001b[1m┌ \u001b[22m\u001b[39m\u001b[33m\u001b[1mWarning: \u001b[22m\u001b[39mresolution (17.5) is too coarse for correlation length 25.0 in dimension 3 at indices CartesianIndex(49, 1, 15) (skipping further tests). It is recommended that the resolution is at least 2 times finer than the correlation length.\n",
      "\u001b[33m\u001b[1m└ \u001b[22m\u001b[39m\u001b[90m@ DIVAnd ~/.julia/packages/DIVAnd/4UymR/src/utils.jl:18\u001b[39m\n",
      "\u001b[36m\u001b[1m[ \u001b[22m\u001b[39m\u001b[36m\u001b[1mInfo: \u001b[22m\u001b[39mnumber of windows: 8\n",
      "\u001b[36m\u001b[1m[ \u001b[22m\u001b[39m\u001b[36m\u001b[1mInfo: \u001b[22m\u001b[39mTime step 12 / 12\n",
      "\u001b[36m\u001b[1m[ \u001b[22m\u001b[39m\u001b[36m\u001b[1mInfo: \u001b[22m\u001b[39mscaled correlation length (min,max) in dimension 1: (100000.0, 100000.0)\n",
      "\u001b[36m\u001b[1m[ \u001b[22m\u001b[39m\u001b[36m\u001b[1mInfo: \u001b[22m\u001b[39mscaled correlation length (min,max) in dimension 2: (100000.0, 100000.0)\n",
      "\u001b[36m\u001b[1m[ \u001b[22m\u001b[39m\u001b[36m\u001b[1mInfo: \u001b[22m\u001b[39mscaled correlation length (min,max) in dimension 3: (25.0, 25.0)\n",
      "\u001b[33m\u001b[1m┌ \u001b[22m\u001b[39m\u001b[33m\u001b[1mWarning: \u001b[22m\u001b[39mresolution (17.5) is too coarse for correlation length 25.0 in dimension 3 at indices CartesianIndex(49, 1, 15) (skipping further tests). It is recommended that the resolution is at least 2 times finer than the correlation length.\n",
      "\u001b[33m\u001b[1m└ \u001b[22m\u001b[39m\u001b[90m@ DIVAnd ~/.julia/packages/DIVAnd/4UymR/src/utils.jl:18\u001b[39m\n",
      "\u001b[36m\u001b[1m[ \u001b[22m\u001b[39m\u001b[36m\u001b[1mInfo: \u001b[22m\u001b[39mnumber of windows: 8\n",
      "\u001b[33m\u001b[1m┌ \u001b[22m\u001b[39m\u001b[33m\u001b[1mWarning: \u001b[22m\u001b[39mresolution (17.5) is too coarse for correlation length 25.0 in dimension 3 at indices CartesianIndex(49, 1, 15) (skipping further tests). It is recommended that the resolution is at least 2 times finer than the correlation length.\n",
      "\u001b[33m\u001b[1m└ \u001b[22m\u001b[39m\u001b[90m@ DIVAnd ~/.julia/packages/DIVAnd/4UymR/src/utils.jl:18\u001b[39m\n",
      "\u001b[36m\u001b[1m[ \u001b[22m\u001b[39m\u001b[36m\u001b[1mInfo: \u001b[22m\u001b[39mnumber of windows: 8\n"
     ]
    },
    {
     "name": "stdout",
     "output_type": "stream",
     "text": [
      "116.435359 seconds (112.25 M allocations: 163.431 GiB, 25.29% gc time, 32.34% compilation time)\n"
     ]
    },
    {
     "data": {
      "text/plain": [
       "Dict{Symbol, Any} with 5 entries:\n",
       "  :used               => Bool[1, 1, 1, 1, 1, 1, 1, 1, 1, 1  …  1, 1, 1, 1, 1, 1…\n",
       "  :residuals          => [5.27379e6, -9.261e5, 2.51874e5, 1.37376e6, 4.39711e6,…\n",
       "  :mask               => Bool[0 0 … 0 0; 0 0 … 0 0; … ; 0 0 … 0 0; 0 0 … 0 0;;;…\n",
       "  :factore            => [88.7781 311.795 … 386.583 278.502; 613.528 916.556 … …\n",
       "  :background_profile => [-2.28521e5 -1.46253e5 … -2.80192e5 -2.0427e5; -2.5326…"
      ]
     },
     "execution_count": 49,
     "metadata": {},
     "output_type": "execute_result"
    }
   ],
   "source": [
    "begin\n",
    "    outputfile = joinpath(outputdir, \"$(regionname)_$(varname)\")\n",
    "    isfile(outputfile) ? rm(outputfile) : @debug(\"ok\")\n",
    "\n",
    "    @time dbinfo = diva3d(\n",
    "        (lonr, latr, depthr, TS),\n",
    "        (obslon, obslat, obsdepth, obstime),\n",
    "        obsval,\n",
    "        len,\n",
    "        epsilon2,\n",
    "        outputfile,\n",
    "        \"temperature\",\n",
    "        bathname = bathfile,\n",
    "        mask = maskfilled,\n",
    "        fitcorrlen = false,\n",
    "        niter_e = 2,\n",
    "        surfextend = true,\n",
    "    )\n",
    "\n",
    "end"
   ]
  },
  {
   "cell_type": "code",
   "execution_count": 52,
   "id": "706973d1-2ce4-4bfc-848e-a3598556d201",
   "metadata": {},
   "outputs": [
    {
     "data": {
      "text/plain": [
       "(\"North_Adriatic\", \"sea_water_temperature\")"
      ]
     },
     "execution_count": 52,
     "metadata": {},
     "output_type": "execute_result"
    }
   ],
   "source": []
  },
  {
   "cell_type": "code",
   "execution_count": null,
   "id": "1477f078-946f-40cd-a4a0-927b42adef9f",
   "metadata": {},
   "outputs": [],
   "source": []
  }
 ],
 "metadata": {
  "kernelspec": {
   "display_name": "Julia 1.11.5",
   "language": "julia",
   "name": "julia-1.11"
  },
  "language_info": {
   "file_extension": ".jl",
   "mimetype": "application/julia",
   "name": "julia",
   "version": "1.11.5"
  }
 },
 "nbformat": 4,
 "nbformat_minor": 5
}
