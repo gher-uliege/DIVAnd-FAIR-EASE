{
 "cells": [
  {
   "cell_type": "code",
   "execution_count": 15,
   "id": "72bf04d1",
   "metadata": {},
   "outputs": [],
   "source": [
    "using HTTP\n",
    "using JSON\n",
    "using JSON3\n",
    "using Dates\n",
    "using NCDatasets\n",
    "using OrderedCollections\n",
    "using PyPlot\n",
    "const plt = PyPlot\n",
    "using PyCall\n",
    "mpl = pyimport(\"matplotlib\")\n",
    "mpl.style.use(\"./fairease.mplstyle\")"
   ]
  },
  {
   "cell_type": "markdown",
   "id": "c7a92c27",
   "metadata": {},
   "source": [
    "The API URL kept in `.bashrc`..."
   ]
  },
  {
   "cell_type": "code",
   "execution_count": 2,
   "id": "b949a104",
   "metadata": {},
   "outputs": [
    {
     "data": {
      "text/plain": [
       "\"https://beacon-argo.maris.nl\""
      ]
     },
     "execution_count": 2,
     "metadata": {},
     "output_type": "execute_result"
    }
   ],
   "source": [
    "beaconURL = ENV[\"beaconURL\"]"
   ]
  },
  {
   "cell_type": "markdown",
   "id": "659d4cfa",
   "metadata": {},
   "source": [
    "## Argo parameters and related units"
   ]
  },
  {
   "cell_type": "code",
   "execution_count": 3,
   "id": "b2a1298e",
   "metadata": {},
   "outputs": [
    {
     "data": {
      "text/plain": [
       "4-element Vector{String}:\n",
       " \"degree_Celsius\"\n",
       " \"psu\"\n",
       " \"mg/m3\"\n",
       " \"micromole/kg\""
      ]
     },
     "execution_count": 3,
     "metadata": {},
     "output_type": "execute_result"
    }
   ],
   "source": [
    "parameters = [\"sea_water_temperature\",  \"sea_water_salinity\", \n",
    "        \"mass_concentration_of_chlorophyll_a_in_sea_water\", \"moles_of_nitrate_per_unit_mass_in_sea_water\"]\n",
    "    \n",
    "units = [\"degree_Celsius\", \"psu\", \"mg/m3\", \"micromole/kg\"]"
   ]
  },
  {
   "cell_type": "markdown",
   "id": "9ebe2d12",
   "metadata": {},
   "source": [
    "## Input fields"
   ]
  },
  {
   "cell_type": "code",
   "execution_count": 4,
   "id": "73064a22",
   "metadata": {},
   "outputs": [
    {
     "data": {
      "text/plain": [
       "50.0"
      ]
     },
     "execution_count": 4,
     "metadata": {},
     "output_type": "execute_result"
    }
   ],
   "source": [
    "parameter = \"sea_water_temperature\" #Choose from Argo parameters and related units\n",
    "unit = \"degree_Celsius\" #Choose from Argo parameters and related units --> make sure that it corresponds with the parameter\n",
    "mintemporal = 63*365 #Days since 1950\n",
    "maxtemporal = 72*365 #Days since 1950\n",
    "minlon = 12.27\n",
    "maxlon = 36.69\n",
    "minlat = 28.26\n",
    "maxlat = 47.43\n",
    "regionname = \"$(minlat)_$(minlon)_$(maxlat)_$(maxlon)\" \n",
    "mindepth = 0. #Minimum water depth\n",
    "maxdepth = 50. #Maximum water depth"
   ]
  },
  {
   "cell_type": "markdown",
   "id": "d2b778e6",
   "metadata": {},
   "source": [
    "## Query body based on input fields"
   ]
  },
  {
   "cell_type": "code",
   "execution_count": 6,
   "id": "dfb995c5",
   "metadata": {},
   "outputs": [
    {
     "data": {
      "text/plain": [
       "\"{\\\"query_parameters\\\":[{\\\"data_parameter\\\":\\\"sea_water_temperature\\\",\\\"unit\\\":\\\"degree_Celsius\\\",\\\"skip_fill_values\\\":true,\\\"alias\\\":\\\"sea_water_temperature\\\"},{\\\"data_parameter\\\":\\\"time\\\",\\\"unit\\\":\\\"days since 1950-01-01 00:00:00 UTC\\\",\\\"skip_fill_values\\\":false,\\\"alias\\\":\\\"TEMPORAL\\\"},{\\\"data_parame\"\u001b[93m\u001b[1m ⋯ 326 bytes ⋯ \u001b[22m\u001b[39m\":\\\"TEMPORAL\\\"},\\\"min\\\":22995,\\\"max\\\":26280},{\\\"for_query_parameter\\\":{\\\"alias\\\":\\\"DEPTH\\\"},\\\"min\\\":0.0,\\\"max\\\":50.0},{\\\"for_query_parameter\\\":{\\\"alias\\\":\\\"LONGITUDE\\\"},\\\"min\\\":12.27,\\\"max\\\":36.69},{\\\"for_query_parameter\\\":{\\\"alias\\\":\\\"LATITUDE\\\"},\\\"min\\\":28.26,\\\"max\\\":47.43}],\\\"output\\\":{\\\"format\\\":\\\"netcdf\\\"}}\""
      ]
     },
     "execution_count": 6,
     "metadata": {},
     "output_type": "execute_result"
    }
   ],
   "source": [
    "myquery = prepare_query(parameter, unit, mintemporal, maxtemporal, mindepth, maxdepth, minlon, maxlon, minlat, maxlat)"
   ]
  },
  {
   "cell_type": "markdown",
   "id": "dfbe370b",
   "metadata": {},
   "source": [
    "### Perform request and write into netCDF file"
   ]
  },
  {
   "cell_type": "code",
   "execution_count": 16,
   "id": "7994395c",
   "metadata": {},
   "outputs": [
    {
     "name": "stdout",
     "output_type": "stream",
     "text": [
      "  5.597722 seconds (110.33 k allocations: 133.818 MiB, 0.15% gc time, 0.16% compilation time)\n"
     ]
    },
    {
     "data": {
      "text/plain": [
       "HTTP.Messages.Response:\n",
       "\"\"\"\n",
       "HTTP/1.1 200 OK\r\n",
       "Transfer-Encoding: chunked\r\n",
       "Content-Type: application/x-netcdf\r\n",
       "Content-Encoding: gzip\r\n",
       "Last-Modified: Tue, 09 Apr 2024 13:26:50 GMT\r\n",
       "Accept-Ranges: bytes\r\n",
       "ETag: \"2205cc:71e42ec:6615421a:101fc24\"\r\n",
       "Vary: accept-encoding, Origin, Access-Control-Request-Method, Access-Control-Request-Headers\r\n",
       "content-disposition: attachment; filename=\"beacon_x1DHAN.nc\"\r\n",
       "X-Powered-By: ARR/3.0\r\n",
       "Date: Tue, 09 Apr 2024 13:24:18 GMT\r\n",
       "\r\n",
       "[Message Body was streamed]\"\"\""
      ]
     },
     "execution_count": 16,
     "metadata": {},
     "output_type": "execute_result"
    }
   ],
   "source": [
    "filename = \"Argo_$(parameter)_$(regionname)_$(Int(mintemporal/365+1950))-$(Int(maxtemporal/365+1950)-1)_[$(Int(mindepth))-$(Int(maxdepth))m].nc'\"\n",
    "@time open(filename, \"w\") do io\n",
    "    HTTP.request(\"POST\", \"$(beaconURL)/api/query\", \n",
    "    [\"Content-Type\" => \"application/json\"], myquery,\n",
    "    response_stream=io);\n",
    "end"
   ]
  },
  {
   "cell_type": "markdown",
   "id": "92b476df",
   "metadata": {},
   "source": [
    "### Read content from the netCDF file"
   ]
  },
  {
   "cell_type": "code",
   "execution_count": 8,
   "id": "1ffef032",
   "metadata": {},
   "outputs": [
    {
     "data": {
      "text/plain": [
       "read_netcdf (generic function with 1 method)"
      ]
     },
     "execution_count": 8,
     "metadata": {},
     "output_type": "execute_result"
    }
   ],
   "source": []
  },
  {
   "cell_type": "code",
   "execution_count": 9,
   "id": "84dca7ba",
   "metadata": {},
   "outputs": [],
   "source": [
    "lon, lat, depth, dates, T =  read_netcdf(\"./test.nc\");"
   ]
  },
  {
   "cell_type": "markdown",
   "id": "1180ec5f",
   "metadata": {},
   "source": [
    "## Plot results"
   ]
  },
  {
   "cell_type": "code",
   "execution_count": 10,
   "id": "dd0584d8",
   "metadata": {},
   "outputs": [
    {
     "ename": "LoadError",
     "evalue": "PyError (PyImport_ImportModule\n\nThe Python package mpl_toolkits.basemap.Basemap could not be imported by pyimport. Usually this means\nthat you did not install mpl_toolkits.basemap.Basemap in the Python version being used by PyCall.\n\nPyCall is currently configured to use the Julia-specific Python distribution\ninstalled by the Conda.jl package.  To install the mpl_toolkits.basemap.Basemap module, you can\nuse `pyimport_conda(\"mpl_toolkits.basemap.Basemap\", PKG)`, where PKG is the Anaconda\npackage that contains the module mpl_toolkits.basemap.Basemap, or alternatively you can use the\nConda package directly (via `using Conda` followed by `Conda.add` etcetera).\n\nAlternatively, if you want to use a different Python distribution on your\nsystem, such as a system-wide Python (as opposed to the Julia-specific Python),\nyou can re-configure PyCall with that Python.   As explained in the PyCall\ndocumentation, set ENV[\"PYTHON\"] to the path/name of the python executable\nyou want to use, run Pkg.build(\"PyCall\"), and re-launch Julia.\n\n) <class 'ModuleNotFoundError'>\nModuleNotFoundError(\"No module named 'mpl_toolkits.basemap.Basemap'\")\n",
     "output_type": "error",
     "traceback": [
      "PyError (PyImport_ImportModule\n\nThe Python package mpl_toolkits.basemap.Basemap could not be imported by pyimport. Usually this means\nthat you did not install mpl_toolkits.basemap.Basemap in the Python version being used by PyCall.\n\nPyCall is currently configured to use the Julia-specific Python distribution\ninstalled by the Conda.jl package.  To install the mpl_toolkits.basemap.Basemap module, you can\nuse `pyimport_conda(\"mpl_toolkits.basemap.Basemap\", PKG)`, where PKG is the Anaconda\npackage that contains the module mpl_toolkits.basemap.Basemap, or alternatively you can use the\nConda package directly (via `using Conda` followed by `Conda.add` etcetera).\n\nAlternatively, if you want to use a different Python distribution on your\nsystem, such as a system-wide Python (as opposed to the Julia-specific Python),\nyou can re-configure PyCall with that Python.   As explained in the PyCall\ndocumentation, set ENV[\"PYTHON\"] to the path/name of the python executable\nyou want to use, run Pkg.build(\"PyCall\"), and re-launch Julia.\n\n) <class 'ModuleNotFoundError'>\nModuleNotFoundError(\"No module named 'mpl_toolkits.basemap.Basemap'\")\n",
      "",
      "Stacktrace:",
      " [1] pyimport(name::String)",
      "   @ PyCall ~/.julia/packages/PyCall/1gn3u/src/PyCall.jl:558",
      " [2] top-level scope",
      "   @ In[10]:1"
     ]
    }
   ],
   "source": [
    "pyimport(\"mpl_toolkits.basemap.Basemap\")"
   ]
  },
  {
   "cell_type": "code",
   "execution_count": 11,
   "id": "4c8c257b",
   "metadata": {},
   "outputs": [
    {
     "name": "stderr",
     "output_type": "stream",
     "text": [
      "\u001b[36m\u001b[1m[ \u001b[22m\u001b[39m\u001b[36m\u001b[1mInfo: \u001b[22m\u001b[39mRunning `conda install -y cartopy` in root environment\n"
     ]
    },
    {
     "name": "stdout",
     "output_type": "stream",
     "text": [
      "Collecting package metadata (current_repodata.json): ...working... done\n",
      "Solving environment: ...working... done\n",
      "\n",
      "# All requested packages already installed.\n",
      "\n"
     ]
    },
    {
     "name": "stderr",
     "output_type": "stream",
     "text": [
      "\n",
      "\n",
      "==> WARNING: A newer version of conda exists. <==\n",
      "  current version: 23.9.0\n",
      "  latest version: 24.3.0\n",
      "\n",
      "Please update conda by running\n",
      "\n",
      "    $ conda update -n base -c conda-forge conda\n",
      "\n",
      "Or to minimize the number of packages updated during conda update use\n",
      "\n",
      "     conda install conda=24.3.0\n",
      "\n",
      "\n",
      "\u001b[36m\u001b[1m[ \u001b[22m\u001b[39m\u001b[36m\u001b[1mInfo: \u001b[22m\u001b[39mRunning `conda install -y mpl_toolkits` in root environment\n"
     ]
    },
    {
     "name": "stdout",
     "output_type": "stream",
     "text": [
      "Collecting package metadata (current_repodata.json): ...working... done\n",
      "Solving environment: ...working... unsuccessful initial attempt using frozen solve. Retrying with flexible solve.\n",
      "Collecting package metadata (repodata.json): ...working... done\n",
      "Solving environment: ...working... unsuccessful initial attempt using frozen solve. Retrying with flexible solve.\n"
     ]
    },
    {
     "name": "stderr",
     "output_type": "stream",
     "text": [
      "\n",
      "PackagesNotFoundError: The following packages are not available from current channels:\n",
      "\n",
      "  - mpl_toolkits\n",
      "\n",
      "Current channels:\n",
      "\n",
      "  - https://conda.anaconda.org/conda-forge/linux-64\n",
      "  - https://conda.anaconda.org/conda-forge/noarch\n",
      "\n",
      "To search for alternate channels that may provide the conda package you're\n",
      "looking for, navigate to\n",
      "\n",
      "    https://anaconda.org\n",
      "\n",
      "and use the search bar at the top of the page.\n",
      "\n",
      "\n"
     ]
    },
    {
     "ename": "LoadError",
     "evalue": "failed process: Process(setenv(`\u001b[4m/home/ctroupin/.julia/conda/3/bin/conda\u001b[24m \u001b[4minstall\u001b[24m \u001b[4m-y\u001b[24m \u001b[4mmpl_toolkits\u001b[24m`,[\"_CE_M=\", \"PATH=/home/ctroupin/conda_root/bin:/home/ctroupin/conda_root/condabin:/home/ctroupin/.gems/bin:/home/ctroupin/.local/bin:/home/ctroupin/bin:/usr/local/go/bin:/home/ctroupin/intel/oneapi/compiler/2022.1.0/linux/bin/intel64:/home/ctroupin/.juliaup/bin:/home/ctroupin/.local/bin:/home/ctroupin/bin:/usr/local/sbin:/usr/local/bin:/usr/sbin:/usr/bin:/sbin:/bin:/usr/games:/usr/local/games:/snap/bin:/snap/bin:/home/ctroupin/.rvm/bin:/home/ctroupin/.rvm/bin\", \"QT_ACCESSIBILITY=1\", \"beaconURL=https://beacon-argo.maris.nl\", \"PAPERSIZE=a4\", \"LD_LIBRARY_PATH=/usr/local/lib:/opt/openssl/lib:/home/ctroupin/intel/oneapi/compiler/2022.1.0/linux/bin/intel64:/home/ctroupin/intel/oneapi/compiler/2022.1.0/linux/compiler/lib/intel64_lin:\", \"DBUS_SESSION_BUS_ADDRESS=unix:path=/run/user/1000/bus\", \"GSETTINGS_SCHEMA_DIR_CONDA_BACKUP=\", \"XDG_SESSION_DESKTOP=ubuntu\", \"XDG_SESSION_TYPE=x11\"  …  \"CONDA_PREFIX=/home/ctroupin/.julia/conda/3\", \"LC_NAME=en_GB.UTF-8\", \"VIRTUALENVWRAPPER_WORKON_CD=1\", \"RACEuser=master\", \"LC_IDENTIFICATION=en_GB.UTF-8\", \"PYDEVD_USE_FRAME_EVAL=NO\", \"SSH_AGENT_LAUNCHER=gnome-keyring\", \"WINDOWPATH=2\", \"LS_COLORS=rs=0:di=01;34:ln=01;36:mh=00:pi=40;33:so=01;35:do=01;35:bd=40;33;01:cd=40;33;01:or=40;31;01:mi=00:su=37;41:sg=30;43:ca=30;41:tw=30;42:ow=34;42:st=37;44:ex=01;32:*.tar=01;31:*.tgz=01;31:*.arc=01;31:*.arj=01;31:*.taz=01;31:*.lha=01;31:*.lz4=01;31:*.lzh=01;31:*.lzma=01;31:*.tlz=01;31:*.txz=01;31:*.tzo=01;31:*.t7z=01;31:*.zip=01;31:*.z=01;31:*.dz=01;31:*.gz=01;31:*.lrz=01;31:*.lz=01;31:*.lzo=01;31:*.xz=01;31:*.zst=01;31:*.tzst=01;31:*.bz2=01;31:*.bz=01;31:*.tbz=01;31:*.tbz2=01;31:*.tz=01;31:*.deb=01;31:*.rpm=01;31:*.jar=01;31:*.war=01;31:*.ear=01;31:*.sar=01;31:*.rar=01;31:*.alz=01;31:*.ace=01;31:*.zoo=01;31:*.cpio=01;31:*.7z=01;31:*.rz=01;31:*.cab=01;31:*.wim=01;31:*.swm=01;31:*.dwm=01;31:*.esd=01;31:*.jpg=01;35:*.jpeg=01;35:*.mjpg=01;35:*.mjpeg=01;35:*.gif=01;35:*.bmp=01;35:*.pbm=01;35:*.pgm=01;35:*.ppm=01;35:*.tga=01;35:*.xbm=01;35:*.xpm=01;35:*.tif=01;35:*.tiff=01;35:*.png=01;35:*.svg=01;35:*.svgz=01;35:*.mng=01;35:*.pcx=01;35:*.mov=01;35:*.mpg=01;35:*.mpeg=01;35:*.m2v=01;35:*.mkv=01;35:*.webm=01;35:*.webp=01;35:*.ogm=01;35:*.mp4=01;35:*.m4v=01;35:*.mp4v=01;35:*.vob=01;35:*.qt=01;35:*.nuv=01;35:*.wmv=01;35:*.asf=01;35:*.rm=01;35:*.rmvb=01;35:*.flc=01;35:*.avi=01;35:*.fli=01;35:*.flv=01;35:*.gl=01;35:*.dl=01;35:*.xcf=01;35:*.xwd=01;35:*.yuv=01;35:*.cgm=01;35:*.emf=01;35:*.ogv=01;35:*.ogx=01;35:*.aac=00;36:*.au=00;36:*.flac=00;36:*.m4a=00;36:*.mid=00;36:*.midi=00;36:*.mka=00;36:*.mp3=00;36:*.mpc=00;36:*.ogg=00;36:*.ra=00;36:*.wav=00;36:*.oga=00;36:*.opus=00;36:*.spx=00;36:*.xspf=00;36:\", \"OPENBLAS_MAIN_FREE=1\"]), ProcessExited(1)) [1]\n",
     "output_type": "error",
     "traceback": [
      "failed process: Process(setenv(`\u001b[4m/home/ctroupin/.julia/conda/3/bin/conda\u001b[24m \u001b[4minstall\u001b[24m \u001b[4m-y\u001b[24m \u001b[4mmpl_toolkits\u001b[24m`,[\"_CE_M=\", \"PATH=/home/ctroupin/conda_root/bin:/home/ctroupin/conda_root/condabin:/home/ctroupin/.gems/bin:/home/ctroupin/.local/bin:/home/ctroupin/bin:/usr/local/go/bin:/home/ctroupin/intel/oneapi/compiler/2022.1.0/linux/bin/intel64:/home/ctroupin/.juliaup/bin:/home/ctroupin/.local/bin:/home/ctroupin/bin:/usr/local/sbin:/usr/local/bin:/usr/sbin:/usr/bin:/sbin:/bin:/usr/games:/usr/local/games:/snap/bin:/snap/bin:/home/ctroupin/.rvm/bin:/home/ctroupin/.rvm/bin\", \"QT_ACCESSIBILITY=1\", \"beaconURL=https://beacon-argo.maris.nl\", \"PAPERSIZE=a4\", \"LD_LIBRARY_PATH=/usr/local/lib:/opt/openssl/lib:/home/ctroupin/intel/oneapi/compiler/2022.1.0/linux/bin/intel64:/home/ctroupin/intel/oneapi/compiler/2022.1.0/linux/compiler/lib/intel64_lin:\", \"DBUS_SESSION_BUS_ADDRESS=unix:path=/run/user/1000/bus\", \"GSETTINGS_SCHEMA_DIR_CONDA_BACKUP=\", \"XDG_SESSION_DESKTOP=ubuntu\", \"XDG_SESSION_TYPE=x11\"  …  \"CONDA_PREFIX=/home/ctroupin/.julia/conda/3\", \"LC_NAME=en_GB.UTF-8\", \"VIRTUALENVWRAPPER_WORKON_CD=1\", \"RACEuser=master\", \"LC_IDENTIFICATION=en_GB.UTF-8\", \"PYDEVD_USE_FRAME_EVAL=NO\", \"SSH_AGENT_LAUNCHER=gnome-keyring\", \"WINDOWPATH=2\", \"LS_COLORS=rs=0:di=01;34:ln=01;36:mh=00:pi=40;33:so=01;35:do=01;35:bd=40;33;01:cd=40;33;01:or=40;31;01:mi=00:su=37;41:sg=30;43:ca=30;41:tw=30;42:ow=34;42:st=37;44:ex=01;32:*.tar=01;31:*.tgz=01;31:*.arc=01;31:*.arj=01;31:*.taz=01;31:*.lha=01;31:*.lz4=01;31:*.lzh=01;31:*.lzma=01;31:*.tlz=01;31:*.txz=01;31:*.tzo=01;31:*.t7z=01;31:*.zip=01;31:*.z=01;31:*.dz=01;31:*.gz=01;31:*.lrz=01;31:*.lz=01;31:*.lzo=01;31:*.xz=01;31:*.zst=01;31:*.tzst=01;31:*.bz2=01;31:*.bz=01;31:*.tbz=01;31:*.tbz2=01;31:*.tz=01;31:*.deb=01;31:*.rpm=01;31:*.jar=01;31:*.war=01;31:*.ear=01;31:*.sar=01;31:*.rar=01;31:*.alz=01;31:*.ace=01;31:*.zoo=01;31:*.cpio=01;31:*.7z=01;31:*.rz=01;31:*.cab=01;31:*.wim=01;31:*.swm=01;31:*.dwm=01;31:*.esd=01;31:*.jpg=01;35:*.jpeg=01;35:*.mjpg=01;35:*.mjpeg=01;35:*.gif=01;35:*.bmp=01;35:*.pbm=01;35:*.pgm=01;35:*.ppm=01;35:*.tga=01;35:*.xbm=01;35:*.xpm=01;35:*.tif=01;35:*.tiff=01;35:*.png=01;35:*.svg=01;35:*.svgz=01;35:*.mng=01;35:*.pcx=01;35:*.mov=01;35:*.mpg=01;35:*.mpeg=01;35:*.m2v=01;35:*.mkv=01;35:*.webm=01;35:*.webp=01;35:*.ogm=01;35:*.mp4=01;35:*.m4v=01;35:*.mp4v=01;35:*.vob=01;35:*.qt=01;35:*.nuv=01;35:*.wmv=01;35:*.asf=01;35:*.rm=01;35:*.rmvb=01;35:*.flc=01;35:*.avi=01;35:*.fli=01;35:*.flv=01;35:*.gl=01;35:*.dl=01;35:*.xcf=01;35:*.xwd=01;35:*.yuv=01;35:*.cgm=01;35:*.emf=01;35:*.ogv=01;35:*.ogx=01;35:*.aac=00;36:*.au=00;36:*.flac=00;36:*.m4a=00;36:*.mid=00;36:*.midi=00;36:*.mka=00;36:*.mp3=00;36:*.mpc=00;36:*.ogg=00;36:*.ra=00;36:*.wav=00;36:*.oga=00;36:*.opus=00;36:*.spx=00;36:*.xspf=00;36:\", \"OPENBLAS_MAIN_FREE=1\"]), ProcessExited(1)) [1]\n",
      "",
      "Stacktrace:",
      " [1] pipeline_error",
      "   @ ./process.jl:565 [inlined]",
      " [2] run(::Cmd; wait::Bool)",
      "   @ Base ./process.jl:480",
      " [3] run",
      "   @ ./process.jl:477 [inlined]",
      " [4] runconda(args::Cmd, env::String)",
      "   @ Conda ~/.julia/packages/Conda/sDjAP/src/Conda.jl:182",
      " [5] add(pkg::String, env::String; channel::String, satisfied_skip_solve::Bool, args::Cmd)",
      "   @ Conda ~/.julia/packages/Conda/sDjAP/src/Conda.jl:343",
      " [6] add(pkg::String, env::String)",
      "   @ Conda ~/.julia/packages/Conda/sDjAP/src/Conda.jl:326",
      " [7] top-level scope",
      "   @ In[11]:2"
     ]
    }
   ],
   "source": [
    "using Conda\n",
    "Conda.add(\"cartopy\");\n",
    "Conda.add(\"mpl_toolkits\");\n",
    "\n",
    "ccrs = pyimport(\"cartopy.crs\")\n",
    "cfeature = pyimport(\"cartopy.feature\")\n",
    "coast = cfeature.GSHHSFeature(scale=\"h\")\n",
    "dataproj = ccrs.PlateCarree();"
   ]
  },
  {
   "cell_type": "code",
   "execution_count": 12,
   "id": "0e219f06",
   "metadata": {},
   "outputs": [
    {
     "ename": "LoadError",
     "evalue": "UndefVarError: `ccrs` not defined",
     "output_type": "error",
     "traceback": [
      "UndefVarError: `ccrs` not defined",
      "",
      "Stacktrace:",
      " [1] top-level scope",
      "   @ In[12]:2"
     ]
    }
   ],
   "source": [
    "fig = plt.figure(figsize = (12, 8))\n",
    "ax = plt.subplot(111, projection=ccrs.PlateCarree())\n",
    "ax.set_extent([-20., 45., 30, 65])\n",
    "scat = ax.scatter(lon, lat, s=3, c=T, cmap=plt.cm.RdYlBu_r)\n",
    "gl = ax.gridlines(crs=ccrs.PlateCarree(), draw_labels=true,\n",
    "                  linewidth=.5, color=\"gray\", alpha=0.5, linestyle=\"--\", zorder=3)\n",
    "ax.add_feature(coast, lw=.5, color=\".85\", zorder=4)\n",
    "gl.top_labels = false\n",
    "gl.right_labels = false\n",
    "ax.set_title(\"Argo $(parameter) $(regionname)\\n$(Int(mintemporal/365+1950))-$(Int(maxtemporal/365+1950)-1)\\n[$(mindepth)-$(maxdepth) m]\")\n",
    "\n",
    "cbar = plt.colorbar(scat, shrink=.65)\n",
    "cbar.set_label(\"°C\", rotation=0, ha=\"left\")\n",
    "\n",
    "plt.show()"
   ]
  },
  {
   "cell_type": "code",
   "execution_count": 13,
   "id": "f2b02aac",
   "metadata": {},
   "outputs": [
    {
     "ename": "LoadError",
     "evalue": "PyError (PyImport_ImportModule\n\nThe Python package mpl_toolkits.basemap.Basemap could not be imported by pyimport. Usually this means\nthat you did not install mpl_toolkits.basemap.Basemap in the Python version being used by PyCall.\n\nPyCall is currently configured to use the Julia-specific Python distribution\ninstalled by the Conda.jl package.  To install the mpl_toolkits.basemap.Basemap module, you can\nuse `pyimport_conda(\"mpl_toolkits.basemap.Basemap\", PKG)`, where PKG is the Anaconda\npackage that contains the module mpl_toolkits.basemap.Basemap, or alternatively you can use the\nConda package directly (via `using Conda` followed by `Conda.add` etcetera).\n\nAlternatively, if you want to use a different Python distribution on your\nsystem, such as a system-wide Python (as opposed to the Julia-specific Python),\nyou can re-configure PyCall with that Python.   As explained in the PyCall\ndocumentation, set ENV[\"PYTHON\"] to the path/name of the python executable\nyou want to use, run Pkg.build(\"PyCall\"), and re-launch Julia.\n\n) <class 'ModuleNotFoundError'>\nModuleNotFoundError(\"No module named 'mpl_toolkits.basemap.Basemap'\")\n",
     "output_type": "error",
     "traceback": [
      "PyError (PyImport_ImportModule\n\nThe Python package mpl_toolkits.basemap.Basemap could not be imported by pyimport. Usually this means\nthat you did not install mpl_toolkits.basemap.Basemap in the Python version being used by PyCall.\n\nPyCall is currently configured to use the Julia-specific Python distribution\ninstalled by the Conda.jl package.  To install the mpl_toolkits.basemap.Basemap module, you can\nuse `pyimport_conda(\"mpl_toolkits.basemap.Basemap\", PKG)`, where PKG is the Anaconda\npackage that contains the module mpl_toolkits.basemap.Basemap, or alternatively you can use the\nConda package directly (via `using Conda` followed by `Conda.add` etcetera).\n\nAlternatively, if you want to use a different Python distribution on your\nsystem, such as a system-wide Python (as opposed to the Julia-specific Python),\nyou can re-configure PyCall with that Python.   As explained in the PyCall\ndocumentation, set ENV[\"PYTHON\"] to the path/name of the python executable\nyou want to use, run Pkg.build(\"PyCall\"), and re-launch Julia.\n\n) <class 'ModuleNotFoundError'>\nModuleNotFoundError(\"No module named 'mpl_toolkits.basemap.Basemap'\")\n",
      "",
      "Stacktrace:",
      " [1] pyimport(name::String)",
      "   @ PyCall ~/.julia/packages/PyCall/1gn3u/src/PyCall.jl:558",
      " [2] top-level scope",
      "   @ In[13]:1"
     ]
    }
   ],
   "source": [
    "Basemap = pyimport(\"mpl_toolkits.basemap.Basemap\")\n"
   ]
  },
  {
   "cell_type": "code",
   "execution_count": 14,
   "id": "5c1e3792",
   "metadata": {},
   "outputs": [
    {
     "ename": "LoadError",
     "evalue": "ParseError:\n\u001b[90m# Error @ \u001b[0;0m\u001b]8;;file:///home/ctroupin/Projects/FAIR-EASE/DIVAnd-FAIR-EASE/In[14]#2:27\u001b\\\u001b[90mIn[14]:2:27\u001b[0;0m\u001b]8;;\u001b\\\n# Creating Basemap\nm = Basemap(projection = '\u001b[48;2;120;70;70mcyl\u001b[0;0m', llcrnrlon = -20, llcrnrlat = 30, urcrnrlon = 45, urcrnrlat = 65, resolution = 'i') \n\u001b[90m#                         └─┘ ── \u001b[0;0m\u001b[91mcharacter literal contains multiple characters\u001b[0;0m",
     "output_type": "error",
     "traceback": [
      "ParseError:\n\u001b[90m# Error @ \u001b[0;0m\u001b]8;;file:///home/ctroupin/Projects/FAIR-EASE/DIVAnd-FAIR-EASE/In[14]#2:27\u001b\\\u001b[90mIn[14]:2:27\u001b[0;0m\u001b]8;;\u001b\\\n# Creating Basemap\nm = Basemap(projection = '\u001b[48;2;120;70;70mcyl\u001b[0;0m', llcrnrlon = -20, llcrnrlat = 30, urcrnrlon = 45, urcrnrlat = 65, resolution = 'i') \n\u001b[90m#                         └─┘ ── \u001b[0;0m\u001b[91mcharacter literal contains multiple characters\u001b[0;0m",
      "",
      "Stacktrace:",
      " [1] top-level scope",
      "   @ In[14]:2"
     ]
    }
   ],
   "source": [
    "# Creating Basemap\n",
    "m = Basemap(projection = 'cyl', llcrnrlon = -20, llcrnrlat = 30, urcrnrlon = 45, urcrnrlat = 65, resolution = 'i') \n",
    "m.drawlsmask(land_color = 'Linen', ocean_color = '#CCFFFF'); # can use HTML names or codes for colors\n",
    "m.drawcoastlines()\n",
    "m.drawcountries()\n",
    "\n",
    "# Plot points\n",
    "sc = m.scatter(df['LONGITUDE'], df['LATITUDE'], latlon = True, c = df[f'{parameter}'], cmap = plt.cm.jet)\n",
    "\n",
    "plt.title(f'Argo {parameter} {regionname} {int(mintemporal/365+1950)}-{int(maxtemporal/365+1950)-1} [{mindepth}-{maxdepth}m]', fontsize = 25)\n",
    "\n",
    "# Colorbar positioning\n",
    "ax = plt.gca()\n",
    "divider = make_axes_locatable(ax)\n",
    "cax = divider.append_axes(\"right\", size = \"5%\", pad = 0.05)\n",
    "plt.colorbar(sc, cax = cax, label = f'{parameter} [{unit}]');"
   ]
  }
 ],
 "metadata": {
  "@webio": {
   "lastCommId": null,
   "lastKernelId": null
  },
  "kernelspec": {
   "display_name": "Julia 1.10.2",
   "language": "julia",
   "name": "julia-1.10"
  },
  "language_info": {
   "file_extension": ".jl",
   "mimetype": "application/julia",
   "name": "julia",
   "version": "1.10.2"
  },
  "toc": {
   "base_numbering": 1,
   "nav_menu": {},
   "number_sections": true,
   "sideBar": true,
   "skip_h1_title": false,
   "title_cell": "Table of Contents",
   "title_sidebar": "Contents",
   "toc_cell": false,
   "toc_position": {},
   "toc_section_display": true,
   "toc_window_display": false
  }
 },
 "nbformat": 4,
 "nbformat_minor": 5
}
