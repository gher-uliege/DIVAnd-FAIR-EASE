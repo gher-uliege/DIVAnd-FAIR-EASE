{
 "cells": [
  {
   "cell_type": "code",
   "execution_count": 32,
   "id": "72bf04d1",
   "metadata": {},
   "outputs": [
    {
     "name": "stderr",
     "output_type": "stream",
     "text": [
      "WARNING: replacing module ArgoFairEase.\n"
     ]
    }
   ],
   "source": [
    "using HTTP\n",
    "using JSON\n",
    "using Dates\n",
    "using Printf\n",
    "using PyPlot\n",
    "const plt = PyPlot\n",
    "using PyCall\n",
    "include(\"./ArgoFairEase.jl\")\n",
    "mpl = pyimport(\"matplotlib\")\n",
    "mpl.style.use(\"./fairease.mplstyle\")"
   ]
  },
  {
   "cell_type": "markdown",
   "id": "c7a92c27",
   "metadata": {},
   "source": [
    "The API URL kept in `.bashrc`."
   ]
  },
  {
   "cell_type": "code",
   "execution_count": 2,
   "id": "b949a104",
   "metadata": {},
   "outputs": [],
   "source": [
    "beaconURL = ENV[\"beaconURL\"];"
   ]
  },
  {
   "cell_type": "markdown",
   "id": "659d4cfa",
   "metadata": {},
   "source": [
    "## Argo parameters and related units"
   ]
  },
  {
   "cell_type": "code",
   "execution_count": 3,
   "id": "b2a1298e",
   "metadata": {},
   "outputs": [
    {
     "data": {
      "text/plain": [
       "4-element Vector{String}:\n",
       " \"degree_Celsius\"\n",
       " \"psu\"\n",
       " \"mg/m3\"\n",
       " \"micromole/kg\""
      ]
     },
     "execution_count": 3,
     "metadata": {},
     "output_type": "execute_result"
    }
   ],
   "source": [
    "parameters = [\"sea_water_temperature\",  \"sea_water_salinity\", \n",
    "        \"mass_concentration_of_chlorophyll_a_in_sea_water\", \"moles_of_nitrate_per_unit_mass_in_sea_water\"]\n",
    "    \n",
    "units = [\"degree_Celsius\", \"psu\", \"mg/m3\", \"micromole/kg\"]"
   ]
  },
  {
   "cell_type": "markdown",
   "id": "9ebe2d12",
   "metadata": {},
   "source": [
    "## Input fields"
   ]
  },
  {
   "cell_type": "code",
   "execution_count": 19,
   "id": "73064a22",
   "metadata": {},
   "outputs": [
    {
     "data": {
      "text/plain": [
       "50.0"
      ]
     },
     "execution_count": 19,
     "metadata": {},
     "output_type": "execute_result"
    }
   ],
   "source": [
    "parameter = \"sea_water_temperature\" #Choose from Argo parameters and related units\n",
    "unit = \"degree_Celsius\" #Choose from Argo parameters and related units --> make sure that it corresponds with the parameter\n",
    "datestart = Dates.Date(2020, 1, 1)\n",
    "dateend = Dates.Date(2021, 12, 31)\n",
    "minlon = 12.27\n",
    "maxlon = 36.69\n",
    "minlat = 28.26\n",
    "maxlat = 47.43\n",
    "regionname = \"BlackSea\"\n",
    "mindepth = 0. #Minimum water depth\n",
    "maxdepth = 50. #Maximum water depth"
   ]
  },
  {
   "cell_type": "markdown",
   "id": "d2b778e6",
   "metadata": {},
   "source": [
    "## Query body based on input fields"
   ]
  },
  {
   "cell_type": "code",
   "execution_count": 5,
   "id": "dfb995c5",
   "metadata": {},
   "outputs": [
    {
     "name": "stdout",
     "output_type": "stream",
     "text": [
      "  0.409180 seconds (512.35 k allocations: 35.014 MiB, 2.88% gc time, 99.71% compilation time)\n"
     ]
    }
   ],
   "source": [
    "@time query = ArgoFairEase.prepare_query(parameter, unit, datestart, dateend, \n",
    "    mindepth, maxdepth, minlon, maxlon, minlat, maxlat);"
   ]
  },
  {
   "cell_type": "markdown",
   "id": "dfbe370b",
   "metadata": {},
   "source": [
    "### Perform request and write into netCDF file"
   ]
  },
  {
   "cell_type": "code",
   "execution_count": 6,
   "id": "7994395c",
   "metadata": {},
   "outputs": [
    {
     "name": "stderr",
     "output_type": "stream",
     "text": [
      "\u001b[36m\u001b[1m[ \u001b[22m\u001b[39m\u001b[36m\u001b[1mInfo: \u001b[22m\u001b[39mFile already created\n"
     ]
    }
   ],
   "source": [
    "filename = \"./data/Argo_$(parameter)_$(regionname)_$(Dates.format(datestart, \"yyyymmdd\"))-$(Dates.format(dateend, \"yyyymmdd\"))_$(Int(mindepth))-$(Int(maxdepth))m.nc\";\n",
    "\n",
    "if isfile(filename)\n",
    "    @info(\"File already created\")\n",
    "else\n",
    "    @time open(filename, \"w\") do io\n",
    "        HTTP.request(\"POST\", \"$(beaconURL)/api/query\", \n",
    "        [\"Content-Type\" => \"application/json\"], query,\n",
    "        response_stream=io);\n",
    "    end;\n",
    "end"
   ]
  },
  {
   "cell_type": "markdown",
   "id": "92b476df",
   "metadata": {},
   "source": [
    "### Read content from the netCDF file"
   ]
  },
  {
   "cell_type": "code",
   "execution_count": 7,
   "id": "84dca7ba",
   "metadata": {},
   "outputs": [
    {
     "name": "stdout",
     "output_type": "stream",
     "text": [
      "  1.200398 seconds (1.87 M allocations: 149.294 MiB, 3.62% gc time, 98.16% compilation time)\n"
     ]
    }
   ],
   "source": [
    "@time lon, lat, depth, dates, T =  ArgoFairEase.read_netcdf(filename);"
   ]
  },
  {
   "cell_type": "markdown",
   "id": "df04c56e",
   "metadata": {},
   "source": [
    "## Plot observations"
   ]
  },
  {
   "cell_type": "code",
   "execution_count": 40,
   "id": "49ded78a",
   "metadata": {},
   "outputs": [
    {
     "data": {
      "text/plain": [
       "\"./figures\""
      ]
     },
     "execution_count": 40,
     "metadata": {},
     "output_type": "execute_result"
    }
   ],
   "source": [
    "figdir = \"./figures\"\n",
    "isdir(figdir) ? @debug(\"Directory already created\") : mkpath(figdir)"
   ]
  },
  {
   "cell_type": "markdown",
   "id": "1180ec5f",
   "metadata": {},
   "source": [
    "### With Cartopy"
   ]
  },
  {
   "cell_type": "code",
   "execution_count": 38,
   "id": "4c8c257b",
   "metadata": {},
   "outputs": [
    {
     "name": "stderr",
     "output_type": "stream",
     "text": [
      "\u001b[36m\u001b[1m[ \u001b[22m\u001b[39m\u001b[36m\u001b[1mInfo: \u001b[22m\u001b[39mRunning `conda install -y cartopy` in root environment\n"
     ]
    },
    {
     "name": "stdout",
     "output_type": "stream",
     "text": [
      "Collecting package metadata (current_repodata.json): ...working... done\n",
      "Solving environment: ...working... done\n",
      "\n",
      "# All requested packages already installed.\n",
      "\n"
     ]
    },
    {
     "name": "stderr",
     "output_type": "stream",
     "text": [
      "\n",
      "\n",
      "==> WARNING: A newer version of conda exists. <==\n",
      "  current version: 23.7.4\n",
      "  latest version: 24.3.0\n",
      "\n",
      "Please update conda by running\n",
      "\n",
      "    $ conda update -n base -c conda-forge conda\n",
      "\n",
      "Or to minimize the number of packages updated during conda update use\n",
      "\n",
      "     conda install conda=24.3.0\n",
      "\n",
      "\n",
      "\u001b[36m\u001b[1m[ \u001b[22m\u001b[39m\u001b[36m\u001b[1mInfo: \u001b[22m\u001b[39mRunning `conda install -y basemap` in root environment\n"
     ]
    },
    {
     "name": "stdout",
     "output_type": "stream",
     "text": [
      "Collecting package metadata (current_repodata.json): ...working... done\n",
      "Solving environment: ...working... done\n",
      "\n",
      "# All requested packages already installed.\n",
      "\n"
     ]
    },
    {
     "name": "stderr",
     "output_type": "stream",
     "text": [
      "\n",
      "\n",
      "==> WARNING: A newer version of conda exists. <==\n",
      "  current version: 23.7.4\n",
      "  latest version: 24.3.0\n",
      "\n",
      "Please update conda by running\n",
      "\n",
      "    $ conda update -n base -c conda-forge conda\n",
      "\n",
      "Or to minimize the number of packages updated during conda update use\n",
      "\n",
      "     conda install conda=24.3.0\n",
      "\n",
      "\n"
     ]
    }
   ],
   "source": [
    "using Conda\n",
    "Conda.add(\"cartopy\");\n",
    "Conda.add(\"basemap\");\n",
    "\n",
    "ccrs = pyimport(\"cartopy.crs\")\n",
    "cfeature = pyimport(\"cartopy.feature\")\n",
    "coast = cfeature.GSHHSFeature(scale=\"h\")\n",
    "dataproj = ccrs.PlateCarree();"
   ]
  },
  {
   "cell_type": "code",
   "execution_count": null,
   "id": "0e219f06",
   "metadata": {},
   "outputs": [],
   "source": [
    "fig = plt.figure(figsize = (12, 8))\n",
    "ax = plt.subplot(111, projection=ccrs.PlateCarree())\n",
    "ax.set_extent([-20., 45., 30, 65])\n",
    "scat = ax.scatter(lon, lat, s=3, c=T, cmap=plt.cm.RdYlBu_r)\n",
    "gl = ax.gridlines(crs=ccrs.PlateCarree(), draw_labels=true,\n",
    "                  linewidth=.5, color=\"gray\", alpha=0.5, linestyle=\"--\", zorder=3)\n",
    "ax.add_feature(coast, lw=.5, color=\".85\", zorder=4)\n",
    "gl.top_labels = false\n",
    "gl.right_labels = false\n",
    "ax.set_title(\"Argo_$(parameter)_$(regionname)_$(Dates.format(datestart, \"yyyymmdd\"))-$(Dates.format(dateend, \"yyyymmdd\")) [$(Int(mindepth))-$(Int(maxdepth)) m]\")x.set_title(\"Argo $(parameter) $(regionname)\\n$(Int(mintemporal/365+1950))-$(Int(maxtemporal/365+1950)-1)\\n[$(mindepth)-$(maxdepth) m]\")\n",
    "\n",
    "cbar = plt.colorbar(scat, shrink=.65)\n",
    "cbar.set_label(\"°C\", rotation=0, ha=\"left\")\n",
    "plt.show()"
   ]
  },
  {
   "cell_type": "markdown",
   "id": "7b2d3fdb",
   "metadata": {},
   "source": [
    "### With Basemap"
   ]
  },
  {
   "cell_type": "code",
   "execution_count": null,
   "id": "f2b02aac",
   "metadata": {},
   "outputs": [],
   "source": [
    "basemap = pyimport(\"mpl_toolkits.basemap\")\n",
    "Basemap = basemap.Basemap"
   ]
  },
  {
   "cell_type": "code",
   "execution_count": null,
   "id": "5c1e3792",
   "metadata": {},
   "outputs": [],
   "source": [
    "# Creating Basemap\n",
    "m = Basemap(projection = \"cyl\", llcrnrlon = -20, llcrnrlat = 30, urcrnrlon = 45, urcrnrlat = 65, resolution = 'i') \n",
    "m.drawlsmask(land_color = \"Linen\", ocean_color = \"#CCFFFF\"); # can use HTML names or codes for colors\n",
    "m.drawcoastlines()\n",
    "m.drawcountries()\n",
    "\n",
    "# Plot points\n",
    "sc = m.scatter(lon, lat, latlon=true, c=T, cmap=plt.cm.RdYlBu)\n",
    "\n",
    "ax.set_title(\"Argo_$(parameter)_$(regionname)_$(Dates.format(datestart, \"yyyymmdd\"))-$(Dates.format(dateend, \"yyyymmdd\")) [$(Int(mindepth))-$(Int(maxdepth)) m]\")\n",
    "cbar = plt.colorbar(scat, shrink=.65)\n",
    "cbar.set_label(\"°C\", rotation=0, ha=\"left\")\n",
    "plt.show()"
   ]
  },
  {
   "cell_type": "markdown",
   "id": "5fad26e6",
   "metadata": {},
   "source": [
    "## DIVAnd analysis"
   ]
  },
  {
   "cell_type": "code",
   "execution_count": 12,
   "id": "3495412c",
   "metadata": {},
   "outputs": [],
   "source": [
    "using DIVAnd"
   ]
  },
  {
   "cell_type": "markdown",
   "id": "6c33fd6d",
   "metadata": {},
   "source": [
    "### Set grid"
   ]
  },
  {
   "cell_type": "code",
   "execution_count": 53,
   "id": "046153cd",
   "metadata": {},
   "outputs": [],
   "source": [
    "dx, dy = 0.25, 0.25\n",
    "lonr = minlon:dx:maxlon\n",
    "latr = minlat:dy:maxlat\n",
    "timerange = [datestart, dateend];\n",
    "\n",
    "depthr = [0.,5., 10., 15., 20., 25., 30., 40., 50., 60., \n",
    "    75, 85, 100, 112, 125, 135, 150, 175, 200, 225, 250, \n",
    "    275, 300, 350, 400, 450, 500, 550, 600, 650, 700, 750, \n",
    "    800, 850, 900, 950, 1000, 1050, 1100, 1150, 1200, 1250, \n",
    "    1300, 1350, 1400, 1450, 1500, 1600, 1750, 1850, 2000];\n",
    "depthr = depthr[depthr .<= maxdepth];"
   ]
  },
  {
   "cell_type": "markdown",
   "id": "334ab69a",
   "metadata": {},
   "source": [
    "### Time periods"
   ]
  },
  {
   "cell_type": "code",
   "execution_count": 54,
   "id": "65713d03",
   "metadata": {},
   "outputs": [
    {
     "name": "stdout",
     "output_type": "stream",
     "text": [
      "TS = TimeSelectorYearListMonthList{Vector{UnitRange{Int64}}, Vector{Vector{Int64}}}(UnitRange{Int64}[2020:2021], [[1, 2, 3], [4, 5, 6], [7, 8, 9], [10, 11, 12]])\n"
     ]
    }
   ],
   "source": [
    "yearlist = [Dates.year(datestart):Dates.year(dateend)];\n",
    "monthlist = [[1,2,3],[4,5,6],[7,8,9],[10,11,12]];\n",
    "TS = DIVAnd.TimeSelectorYearListMonthList(yearlist,monthlist);\n",
    "@show TS;"
   ]
  },
  {
   "cell_type": "markdown",
   "id": "d3eb7250",
   "metadata": {},
   "source": [
    "### Analysis parameters"
   ]
  },
  {
   "cell_type": "code",
   "execution_count": 55,
   "id": "43937eb7",
   "metadata": {},
   "outputs": [],
   "source": [
    "sz = (length(lonr), length(latr), length(depthr));\n",
    "lenx = fill(100_000.,sz)   # 100 km\n",
    "leny = fill(100_000.,sz)   # 100 km\n",
    "lenz = fill(5.,sz);      # 25 m \n",
    "len = (lenx, leny, lenz);\n",
    "epsilon2 = 0.1;"
   ]
  },
  {
   "cell_type": "code",
   "execution_count": 56,
   "id": "09f8471f",
   "metadata": {},
   "outputs": [
    {
     "data": {
      "text/plain": [
       "\"./output/Argo_DIVAnd_sea_water_temperature_BlackSea_20200101-20211231_0-50m.nc\""
      ]
     },
     "execution_count": 56,
     "metadata": {},
     "output_type": "execute_result"
    }
   ],
   "source": [
    "outputdir = \"./output/\"\n",
    "isdir(outputdir) ? @debug(\"Directory already exists\") : mkpath(outputdir)\n",
    "outputfile = joinpath(outputdir, \"Argo_DIVAnd_$(parameter)_$(regionname)_$(Dates.format(datestart, \"yyyymmdd\"))-$(Dates.format(dateend, \"yyyymmdd\"))_$(Int(mindepth))-$(Int(maxdepth))m.nc\")"
   ]
  },
  {
   "cell_type": "markdown",
   "id": "fae71a29",
   "metadata": {},
   "source": [
    "### Define helper function to generate plots"
   ]
  },
  {
   "cell_type": "code",
   "execution_count": 42,
   "id": "6a0b2ce0",
   "metadata": {},
   "outputs": [
    {
     "data": {
      "text/plain": [
       "makemap (generic function with 1 method)"
      ]
     },
     "execution_count": 42,
     "metadata": {},
     "output_type": "execute_result"
    }
   ],
   "source": [
    "function makemap(timeindex,sel,fit,erri)\n",
    "    tmp = copy(fit)\n",
    "    nx,ny,nz = size(tmp)\n",
    "    for i in 1:nz\n",
    "        plt.figure()\n",
    "        ax = plt.subplot(111, projection=ccrs.PlateCarree())\n",
    "        ax.set_extend([lonr[1], lonr[end], latr[1], latr[end]])\n",
    "        pcm = ax.pcolormesh(lonr, latr, permutedims(tmp[:,:,i], [2,1]), cmap=plt.cm.RdYlBu_r)\n",
    "        cb = plt.colorbar(pcm, extend=\"both\", orientation=\"vertical\", shrink=0.8)\n",
    "        cb.set_label(\"°C\", rotation=0, ha=\"left\")\n",
    "        gl = ax.gridlines(crs=ccrs.PlateCarree(), draw_labels=true,\n",
    "                  linewidth=.5, color=\"gray\", alpha=0.5, linestyle=\"--\", zorder=3)\n",
    "        ax.add_feature(coast, lw=.5, color=\".85\", zorder=4)\n",
    "        gl.top_labels = false\n",
    "        gl.right_labels = false\n",
    "        \n",
    "        ax.set_title(\"Depth: $(depthr[i]) \\n Time index: $(timeindex)\")\n",
    "        \n",
    "        figname = parameter * @sprintf(\"_%02d\",i) * @sprintf(\"_%03d.png\",timeindex)\n",
    "        plt.savefig(joinpath(figdir, figname));\n",
    "        plt.close_figs()\n",
    "    end\n",
    "end"
   ]
  },
  {
   "cell_type": "markdown",
   "id": "ae72b2ef",
   "metadata": {},
   "source": [
    "### Run analysis"
   ]
  },
  {
   "cell_type": "code",
   "execution_count": 57,
   "id": "f7adc732",
   "metadata": {},
   "outputs": [
    {
     "name": "stderr",
     "output_type": "stream",
     "text": [
      "\u001b[36m\u001b[1m[ \u001b[22m\u001b[39m\u001b[36m\u001b[1mInfo: \u001b[22m\u001b[39mCreating netCDF file ./data/Argo_sea_water_temperature_28.26_12.27_47.43_36.69_20200101-20211231_0-50m.nc\n",
      "\u001b[36m\u001b[1m[ \u001b[22m\u001b[39m\u001b[36m\u001b[1mInfo: \u001b[22m\u001b[39mTime step 1 / 4\n",
      "\u001b[36m\u001b[1m[ \u001b[22m\u001b[39m\u001b[36m\u001b[1mInfo: \u001b[22m\u001b[39mscaled correlation length (min,max) in dimension 1: (100000.0, 100000.0)\n",
      "\u001b[36m\u001b[1m[ \u001b[22m\u001b[39m\u001b[36m\u001b[1mInfo: \u001b[22m\u001b[39mscaled correlation length (min,max) in dimension 2: (100000.0, 100000.0)\n",
      "\u001b[36m\u001b[1m[ \u001b[22m\u001b[39m\u001b[36m\u001b[1mInfo: \u001b[22m\u001b[39mscaled correlation length (min,max) in dimension 3: (5.0, 5.0)\n",
      "\u001b[33m\u001b[1m┌ \u001b[22m\u001b[39m\u001b[33m\u001b[1mWarning: \u001b[22m\u001b[39mresolution (5.0) is too coarse for correlation length 5.0 in dimension 3 at indices CartesianIndex(85, 1, 1) (skipping further tests). It is recommended that the resolution is at least 2 times finer than the correlation length.\n",
      "\u001b[33m\u001b[1m└ \u001b[22m\u001b[39m\u001b[90m@ DIVAnd ~/.julia/packages/DIVAnd/EG6qD/src/utils.jl:18\u001b[39m\n",
      "\u001b[36m\u001b[1m[ \u001b[22m\u001b[39m\u001b[36m\u001b[1mInfo: \u001b[22m\u001b[39mnumber of windows: 3\n",
      "\u001b[33m\u001b[1m┌ \u001b[22m\u001b[39m\u001b[33m\u001b[1mWarning: \u001b[22m\u001b[39mresolution (5.0) is too coarse for correlation length 5.0 in dimension 3 at indices CartesianIndex(85, 1, 1) (skipping further tests). It is recommended that the resolution is at least 2 times finer than the correlation length.\n",
      "\u001b[33m\u001b[1m└ \u001b[22m\u001b[39m\u001b[90m@ DIVAnd ~/.julia/packages/DIVAnd/EG6qD/src/utils.jl:18\u001b[39m\n",
      "\u001b[36m\u001b[1m[ \u001b[22m\u001b[39m\u001b[36m\u001b[1mInfo: \u001b[22m\u001b[39mnumber of windows: 3\n",
      "\u001b[36m\u001b[1m[ \u001b[22m\u001b[39m\u001b[36m\u001b[1mInfo: \u001b[22m\u001b[39mTime step 2 / 4\n",
      "\u001b[36m\u001b[1m[ \u001b[22m\u001b[39m\u001b[36m\u001b[1mInfo: \u001b[22m\u001b[39mscaled correlation length (min,max) in dimension 1: (100000.0, 100000.0)\n",
      "\u001b[36m\u001b[1m[ \u001b[22m\u001b[39m\u001b[36m\u001b[1mInfo: \u001b[22m\u001b[39mscaled correlation length (min,max) in dimension 2: (100000.0, 100000.0)\n",
      "\u001b[36m\u001b[1m[ \u001b[22m\u001b[39m\u001b[36m\u001b[1mInfo: \u001b[22m\u001b[39mscaled correlation length (min,max) in dimension 3: (5.0, 5.0)\n",
      "\u001b[33m\u001b[1m┌ \u001b[22m\u001b[39m\u001b[33m\u001b[1mWarning: \u001b[22m\u001b[39mresolution (5.0) is too coarse for correlation length 5.0 in dimension 3 at indices CartesianIndex(85, 1, 1) (skipping further tests). It is recommended that the resolution is at least 2 times finer than the correlation length.\n",
      "\u001b[33m\u001b[1m└ \u001b[22m\u001b[39m\u001b[90m@ DIVAnd ~/.julia/packages/DIVAnd/EG6qD/src/utils.jl:18\u001b[39m\n",
      "\u001b[36m\u001b[1m[ \u001b[22m\u001b[39m\u001b[36m\u001b[1mInfo: \u001b[22m\u001b[39mnumber of windows: 3\n",
      "\u001b[33m\u001b[1m┌ \u001b[22m\u001b[39m\u001b[33m\u001b[1mWarning: \u001b[22m\u001b[39mresolution (5.0) is too coarse for correlation length 5.0 in dimension 3 at indices CartesianIndex(85, 1, 1) (skipping further tests). It is recommended that the resolution is at least 2 times finer than the correlation length.\n",
      "\u001b[33m\u001b[1m└ \u001b[22m\u001b[39m\u001b[90m@ DIVAnd ~/.julia/packages/DIVAnd/EG6qD/src/utils.jl:18\u001b[39m\n",
      "\u001b[36m\u001b[1m[ \u001b[22m\u001b[39m\u001b[36m\u001b[1mInfo: \u001b[22m\u001b[39mnumber of windows: 3\n",
      "\u001b[36m\u001b[1m[ \u001b[22m\u001b[39m\u001b[36m\u001b[1mInfo: \u001b[22m\u001b[39mTime step 3 / 4\n",
      "\u001b[36m\u001b[1m[ \u001b[22m\u001b[39m\u001b[36m\u001b[1mInfo: \u001b[22m\u001b[39mscaled correlation length (min,max) in dimension 1: (100000.0, 100000.0)\n",
      "\u001b[36m\u001b[1m[ \u001b[22m\u001b[39m\u001b[36m\u001b[1mInfo: \u001b[22m\u001b[39mscaled correlation length (min,max) in dimension 2: (100000.0, 100000.0)\n",
      "\u001b[36m\u001b[1m[ \u001b[22m\u001b[39m\u001b[36m\u001b[1mInfo: \u001b[22m\u001b[39mscaled correlation length (min,max) in dimension 3: (5.0, 5.0)\n",
      "\u001b[33m\u001b[1m┌ \u001b[22m\u001b[39m\u001b[33m\u001b[1mWarning: \u001b[22m\u001b[39mresolution (5.0) is too coarse for correlation length 5.0 in dimension 3 at indices CartesianIndex(85, 1, 1) (skipping further tests). It is recommended that the resolution is at least 2 times finer than the correlation length.\n",
      "\u001b[33m\u001b[1m└ \u001b[22m\u001b[39m\u001b[90m@ DIVAnd ~/.julia/packages/DIVAnd/EG6qD/src/utils.jl:18\u001b[39m\n",
      "\u001b[36m\u001b[1m[ \u001b[22m\u001b[39m\u001b[36m\u001b[1mInfo: \u001b[22m\u001b[39mnumber of windows: 3\n",
      "\u001b[33m\u001b[1m┌ \u001b[22m\u001b[39m\u001b[33m\u001b[1mWarning: \u001b[22m\u001b[39mresolution (5.0) is too coarse for correlation length 5.0 in dimension 3 at indices CartesianIndex(85, 1, 1) (skipping further tests). It is recommended that the resolution is at least 2 times finer than the correlation length.\n",
      "\u001b[33m\u001b[1m└ \u001b[22m\u001b[39m\u001b[90m@ DIVAnd ~/.julia/packages/DIVAnd/EG6qD/src/utils.jl:18\u001b[39m\n",
      "\u001b[36m\u001b[1m[ \u001b[22m\u001b[39m\u001b[36m\u001b[1mInfo: \u001b[22m\u001b[39mnumber of windows: 3\n",
      "\u001b[36m\u001b[1m[ \u001b[22m\u001b[39m\u001b[36m\u001b[1mInfo: \u001b[22m\u001b[39mTime step 4 / 4\n",
      "\u001b[36m\u001b[1m[ \u001b[22m\u001b[39m\u001b[36m\u001b[1mInfo: \u001b[22m\u001b[39mscaled correlation length (min,max) in dimension 1: (100000.0, 100000.0)\n",
      "\u001b[36m\u001b[1m[ \u001b[22m\u001b[39m\u001b[36m\u001b[1mInfo: \u001b[22m\u001b[39mscaled correlation length (min,max) in dimension 2: (100000.0, 100000.0)\n",
      "\u001b[36m\u001b[1m[ \u001b[22m\u001b[39m\u001b[36m\u001b[1mInfo: \u001b[22m\u001b[39mscaled correlation length (min,max) in dimension 3: (5.0, 5.0)\n",
      "\u001b[33m\u001b[1m┌ \u001b[22m\u001b[39m\u001b[33m\u001b[1mWarning: \u001b[22m\u001b[39mresolution (5.0) is too coarse for correlation length 5.0 in dimension 3 at indices CartesianIndex(85, 1, 1) (skipping further tests). It is recommended that the resolution is at least 2 times finer than the correlation length.\n",
      "\u001b[33m\u001b[1m└ \u001b[22m\u001b[39m\u001b[90m@ DIVAnd ~/.julia/packages/DIVAnd/EG6qD/src/utils.jl:18\u001b[39m\n",
      "\u001b[36m\u001b[1m[ \u001b[22m\u001b[39m\u001b[36m\u001b[1mInfo: \u001b[22m\u001b[39mnumber of windows: 3\n",
      "\u001b[33m\u001b[1m┌ \u001b[22m\u001b[39m\u001b[33m\u001b[1mWarning: \u001b[22m\u001b[39mresolution (5.0) is too coarse for correlation length 5.0 in dimension 3 at indices CartesianIndex(85, 1, 1) (skipping further tests). It is recommended that the resolution is at least 2 times finer than the correlation length.\n",
      "\u001b[33m\u001b[1m└ \u001b[22m\u001b[39m\u001b[90m@ DIVAnd ~/.julia/packages/DIVAnd/EG6qD/src/utils.jl:18\u001b[39m\n",
      "\u001b[36m\u001b[1m[ \u001b[22m\u001b[39m\u001b[36m\u001b[1mInfo: \u001b[22m\u001b[39mnumber of windows: 3\n"
     ]
    },
    {
     "name": "stdout",
     "output_type": "stream",
     "text": [
      " 18.618461 seconds (221.59 k allocations: 32.357 GiB, 37.57% gc time, 0.20% compilation time)\n"
     ]
    }
   ],
   "source": [
    "@time dbinfo = diva3d((lonr,latr,depthr,TS),\n",
    "    (lon,lat,depth,dates), T,\n",
    "    len, epsilon2,\n",
    "    filename,parameter,\n",
    "    bathname=\"./data/gebco_30sec_16.nc\",\n",
    "    fitcorrlen = false,\n",
    "    niter_e = 2,\n",
    "    surfextend = true\n",
    "    );"
   ]
  },
  {
   "cell_type": "code",
   "execution_count": 64,
   "id": "a01efaa3",
   "metadata": {},
   "outputs": [],
   "source": [
    "z = [ [lon[i],lat[i]] for i in 1:length(lon) ];\n",
    "unique!(z);"
   ]
  },
  {
   "cell_type": "code",
   "execution_count": 67,
   "id": "9d0d193c",
   "metadata": {},
   "outputs": [
    {
     "data": {
      "text/plain": [
       "\"var geojsonFeature = {\\n\\t    \\\"type\\\": \\\"Feature\\\",\\n\\t    \\\"geometry\\\": {\\n\\t        \\\"type\\\": \\\"MultiPoint\\\",\\n\\t        \\\"coordinates\\\": [[25.561355, 37.78664], [25.622861666666665, 37.971145], [25.557155, 38.069311666666664], [25.390523333333334, 38.487903333333335]]\\n\\t    }\\n\\t};\\n\""
      ]
     },
     "execution_count": 67,
     "metadata": {},
     "output_type": "execute_result"
    }
   ],
   "source": [
    "mystring = \"\"\"var geojsonFeature = {\n",
    "\t    \\\"type\\\": \\\"Feature\\\",\n",
    "\t    \\\"geometry\\\": {\n",
    "\t        \\\"type\": \\\"MultiPoint\\\",\n",
    "\t        \\\"coordinates\\\": $(z[1:4])\n",
    "\t    }\n",
    "\t};\n",
    "\"\"\""
   ]
  },
  {
   "cell_type": "code",
   "execution_count": 68,
   "id": "b115664f",
   "metadata": {},
   "outputs": [
    {
     "data": {
      "text/plain": [
       "264"
      ]
     },
     "execution_count": 68,
     "metadata": {},
     "output_type": "execute_result"
    }
   ],
   "source": [
    "open(\"./okok.txt\", \"w\") do df\n",
    "    write(df, mystring)\n",
    "end"
   ]
  },
  {
   "cell_type": "code",
   "execution_count": null,
   "id": "dabe9ebc",
   "metadata": {},
   "outputs": [],
   "source": []
  }
 ],
 "metadata": {
  "@webio": {
   "lastCommId": null,
   "lastKernelId": null
  },
  "kernelspec": {
   "display_name": "Julia 1.10.2",
   "language": "julia",
   "name": "julia-1.10"
  },
  "language_info": {
   "file_extension": ".jl",
   "mimetype": "application/julia",
   "name": "julia",
   "version": "1.10.2"
  },
  "toc": {
   "base_numbering": 1,
   "nav_menu": {},
   "number_sections": true,
   "sideBar": true,
   "skip_h1_title": false,
   "title_cell": "Table of Contents",
   "title_sidebar": "Contents",
   "toc_cell": false,
   "toc_position": {},
   "toc_section_display": true,
   "toc_window_display": false
  }
 },
 "nbformat": 4,
 "nbformat_minor": 5
}
